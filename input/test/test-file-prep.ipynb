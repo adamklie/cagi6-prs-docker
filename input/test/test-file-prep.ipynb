{
 "cells": [
  {
   "cell_type": "markdown",
   "id": "90a88efe-ebb3-424c-8704-fb4ee189af2c",
   "metadata": {
    "tags": []
   },
   "source": [
    "# Prep All Files for CAGI6-PRS Container"
   ]
  },
  {
   "cell_type": "markdown",
   "id": "2d058003-a667-4b45-9ddc-e47efe48e0e1",
   "metadata": {
    "tags": []
   },
   "source": [
    "**Authorship:**\n",
    "Adam Klie, *09/01/2021*\n",
    "***\n",
    "**Description:**\n",
    "Per title\n",
    "***\n",
    "**TODOs:**\n",
    " - <font color='green'> Done TODO </font>\n",
    " - <font color='orange'> WIP TODO </font>\n",
    " - <font color='red'> Queued TODO </font>\n",
    "***"
   ]
  },
  {
   "cell_type": "markdown",
   "id": "a2a2c4a5-1dac-4dce-8e87-cb83f07de4c3",
   "metadata": {
    "execution": {
     "iopub.execute_input": "2021-09-05T21:21:18.602440Z",
     "iopub.status.busy": "2021-09-05T21:21:18.602151Z",
     "iopub.status.idle": "2021-09-05T21:21:18.606439Z",
     "shell.execute_reply": "2021-09-05T21:21:18.605256Z",
     "shell.execute_reply.started": "2021-09-05T21:21:18.602409Z"
    },
    "tags": [],
    "toc-hr-collapsed": true
   },
   "source": [
    "## Set-up"
   ]
  },
  {
   "cell_type": "code",
   "execution_count": 90,
   "id": "3ebaff6f",
   "metadata": {
    "execution": {
     "iopub.execute_input": "2021-09-30T16:23:39.965718Z",
     "iopub.status.busy": "2021-09-30T16:23:39.965419Z",
     "iopub.status.idle": "2021-09-30T16:23:40.398986Z",
     "shell.execute_reply": "2021-09-30T16:23:40.398275Z",
     "shell.execute_reply.started": "2021-09-30T16:23:39.965685Z"
    },
    "tags": []
   },
   "outputs": [],
   "source": [
    "# The classics\n",
    "import numpy as np\n",
    "import pandas as pd\n",
    "\n",
    "# Other guys\n",
    "import tqdm\n",
    "from pyarrow import feather\n",
    "\n",
    "# Autoreload extension\n",
    "if 'autoreload' not in get_ipython().extension_manager.loaded:\n",
    "    %load_ext autoreload\n",
    "%autoreload 2"
   ]
  },
  {
   "cell_type": "code",
   "execution_count": 15,
   "id": "47f84bdb-a762-40cb-97ca-032eedaf276c",
   "metadata": {
    "execution": {
     "iopub.execute_input": "2021-09-30T15:57:22.658626Z",
     "iopub.status.busy": "2021-09-30T15:57:22.658419Z",
     "iopub.status.idle": "2021-09-30T15:57:24.449309Z",
     "shell.execute_reply": "2021-09-30T15:57:24.448577Z",
     "shell.execute_reply.started": "2021-09-30T15:57:22.658600Z"
    },
    "tags": []
   },
   "outputs": [],
   "source": [
    "bim = pd.read_csv(\"../MGB.bim\", sep=\"\\t\", header=None)"
   ]
  },
  {
   "cell_type": "code",
   "execution_count": 16,
   "id": "6d955fb7-4a85-4b2a-8ba2-c9affe42a2c6",
   "metadata": {
    "execution": {
     "iopub.execute_input": "2021-09-30T15:57:24.450654Z",
     "iopub.status.busy": "2021-09-30T15:57:24.450427Z",
     "iopub.status.idle": "2021-09-30T15:57:24.959468Z",
     "shell.execute_reply": "2021-09-30T15:57:24.958607Z",
     "shell.execute_reply.started": "2021-09-30T15:57:24.450627Z"
    },
    "tags": []
   },
   "outputs": [],
   "source": [
    "fam = pd.read_csv(\"../MGB.fam\", delim_whitespace=True, header=None)"
   ]
  },
  {
   "cell_type": "markdown",
   "id": "a2a79647-12fd-4dab-8674-23bb743565c0",
   "metadata": {
    "tags": []
   },
   "source": [
    "## Step 1 - Make dummy files for testing"
   ]
  },
  {
   "cell_type": "markdown",
   "id": "284ab16d-24ad-40a0-9c1b-673b41dc0d4d",
   "metadata": {
    "tags": [],
    "toc-hr-collapsed": true
   },
   "source": [
    "### Step 1a - Build a dummy bed file from given bim and fam"
   ]
  },
  {
   "cell_type": "markdown",
   "id": "e2261536-92db-4f74-9057-8527204f7044",
   "metadata": {
    "tags": [],
    "toc-hr-collapsed": true
   },
   "source": [
    "#### Make a PED file"
   ]
  },
  {
   "cell_type": "code",
   "execution_count": 4,
   "id": "5cf270df-a754-4af2-b829-b4b731bbf3cb",
   "metadata": {
    "execution": {
     "iopub.execute_input": "2021-09-27T21:02:36.030190Z",
     "iopub.status.busy": "2021-09-27T21:02:36.029923Z",
     "iopub.status.idle": "2021-09-27T21:02:37.220464Z",
     "shell.execute_reply": "2021-09-27T21:02:37.219516Z",
     "shell.execute_reply.started": "2021-09-27T21:02:36.030160Z"
    },
    "tags": []
   },
   "outputs": [
    {
     "data": {
      "text/plain": [
       "((10, 6), (10, 3407714), (10, 3407720))"
      ]
     },
     "execution_count": 4,
     "metadata": {},
     "output_type": "execute_result"
    }
   ],
   "source": [
    "fam.values[:10].shape, np.tile(bim[[4, 5]].values.flatten(), (10, 1)).shape, np.concatenate([fam.values[:10], np.tile(bim[[4, 5]].values.flatten(), (10, 1))], axis=1).shape"
   ]
  },
  {
   "cell_type": "code",
   "execution_count": 5,
   "id": "268e8365-e1dd-48f3-bd35-32b0d05698cc",
   "metadata": {
    "execution": {
     "iopub.execute_input": "2021-09-27T21:02:37.223592Z",
     "iopub.status.busy": "2021-09-27T21:02:37.223232Z",
     "iopub.status.idle": "2021-09-27T21:02:37.508257Z",
     "shell.execute_reply": "2021-09-27T21:02:37.507413Z",
     "shell.execute_reply.started": "2021-09-27T21:02:37.223541Z"
    },
    "tags": []
   },
   "outputs": [],
   "source": [
    "sample_fam = fam.values[:10]"
   ]
  },
  {
   "cell_type": "code",
   "execution_count": 31,
   "id": "23b82e82-e9ac-43e9-b575-ad991b433a06",
   "metadata": {
    "execution": {
     "iopub.execute_input": "2021-09-24T05:46:59.548638Z",
     "iopub.status.busy": "2021-09-24T05:46:59.548325Z",
     "iopub.status.idle": "2021-09-24T05:46:59.975157Z",
     "shell.execute_reply": "2021-09-24T05:46:59.974222Z",
     "shell.execute_reply.started": "2021-09-24T05:46:59.548602Z"
    },
    "tags": []
   },
   "outputs": [],
   "source": [
    "sample_fam[:, 5] = np.random.choice([1, 2], size=10)"
   ]
  },
  {
   "cell_type": "code",
   "execution_count": 33,
   "id": "9034b9ff-b5ea-47d8-a978-d253a8a4997c",
   "metadata": {
    "execution": {
     "iopub.execute_input": "2021-09-24T05:47:14.271558Z",
     "iopub.status.busy": "2021-09-24T05:47:14.271263Z",
     "iopub.status.idle": "2021-09-24T05:47:16.752577Z",
     "shell.execute_reply": "2021-09-24T05:47:16.751897Z",
     "shell.execute_reply.started": "2021-09-24T05:47:14.271526Z"
    },
    "tags": []
   },
   "outputs": [],
   "source": [
    "np.savetxt(\"MGB_10_all/MGB_10_all.ped\", \n",
    "           np.concatenate([sample_fam, np.tile(bim[[4, 5]].values.flatten(), (10, 1))], axis=1),\n",
    "           fmt=\"%s\")"
   ]
  },
  {
   "cell_type": "markdown",
   "id": "8b0baf62-63de-4c67-8aaf-f03c20fa89ec",
   "metadata": {
    "tags": [],
    "toc-hr-collapsed": true
   },
   "source": [
    "#### Make a MAP file"
   ]
  },
  {
   "cell_type": "code",
   "execution_count": 25,
   "id": "15a9e077-94ca-46fb-b933-71e6acdfbe8b",
   "metadata": {
    "execution": {
     "iopub.execute_input": "2021-09-24T05:45:00.447054Z",
     "iopub.status.busy": "2021-09-24T05:45:00.446723Z",
     "iopub.status.idle": "2021-09-24T05:45:03.528462Z",
     "shell.execute_reply": "2021-09-24T05:45:03.527599Z",
     "shell.execute_reply.started": "2021-09-24T05:45:00.447018Z"
    }
   },
   "outputs": [],
   "source": [
    "bim[[0, 1, 2, 3]].to_csv(\n",
    "    \"MGB_10_all/MGB_10_all.map\", sep=\"\\t\", header=None, index=False\n",
    ")"
   ]
  },
  {
   "cell_type": "markdown",
   "id": "cce906e4-e831-4036-ad90-abc732c7e0fc",
   "metadata": {
    "tags": []
   },
   "source": [
    "#### Make a covariates.tsv file"
   ]
  },
  {
   "cell_type": "markdown",
   "id": "238b6422-9dd2-4cee-a8b6-a1cb2e9e7708",
   "metadata": {},
   "source": [
    "1. We will have the “AGE\" and ten PCs (PC1, PC2, .., PC10) in a separate covariate file. The file name is “MGB.covariates.txt\". It is a space-delimited plain text file similar to plink covariate files. The first two columns are FID and IID from the MGB.fam file. The sample order can be different between MGB.fam and MGB-covariates.txt. "
   ]
  },
  {
   "cell_type": "code",
   "execution_count": 58,
   "id": "cf35ff90-a1b6-4319-b4d3-7ba5468f6fdd",
   "metadata": {
    "execution": {
     "iopub.execute_input": "2021-09-28T18:25:09.391398Z",
     "iopub.status.busy": "2021-09-28T18:25:09.391145Z",
     "iopub.status.idle": "2021-09-28T18:25:09.833254Z",
     "shell.execute_reply": "2021-09-28T18:25:09.832444Z",
     "shell.execute_reply.started": "2021-09-28T18:25:09.391367Z"
    },
    "tags": []
   },
   "outputs": [],
   "source": [
    "pcs = np.random.normal(loc=0, scale=3, size=(10, 10))"
   ]
  },
  {
   "cell_type": "code",
   "execution_count": 59,
   "id": "c369dd8d-e4a6-498b-8cf0-a00aeb83ae20",
   "metadata": {
    "execution": {
     "iopub.execute_input": "2021-09-28T18:25:10.398224Z",
     "iopub.status.busy": "2021-09-28T18:25:10.397982Z",
     "iopub.status.idle": "2021-09-28T18:25:10.786306Z",
     "shell.execute_reply": "2021-09-28T18:25:10.785537Z",
     "shell.execute_reply.started": "2021-09-28T18:25:10.398187Z"
    },
    "tags": []
   },
   "outputs": [
    {
     "data": {
      "text/plain": [
       "((10, 10), (10, 2), (10, 1))"
      ]
     },
     "execution_count": 59,
     "metadata": {},
     "output_type": "execute_result"
    }
   ],
   "source": [
    "pcs.shape, sample_fam[:, :2].shape, ages.shape"
   ]
  },
  {
   "cell_type": "code",
   "execution_count": 60,
   "id": "4314afbd-f8f9-4df2-8788-c53f2c42bc2c",
   "metadata": {
    "execution": {
     "iopub.execute_input": "2021-09-28T18:25:11.125040Z",
     "iopub.status.busy": "2021-09-28T18:25:11.124798Z",
     "iopub.status.idle": "2021-09-28T18:25:11.496013Z",
     "shell.execute_reply": "2021-09-28T18:25:11.495177Z",
     "shell.execute_reply.started": "2021-09-28T18:25:11.125015Z"
    },
    "tags": []
   },
   "outputs": [],
   "source": [
    "ages = np.random.normal(loc=50, scale=10, size=(10, 1))"
   ]
  },
  {
   "cell_type": "code",
   "execution_count": 61,
   "id": "a0460dc3-9294-4924-8f98-26f8877ec19c",
   "metadata": {
    "execution": {
     "iopub.execute_input": "2021-09-28T18:25:12.085897Z",
     "iopub.status.busy": "2021-09-28T18:25:12.085683Z",
     "iopub.status.idle": "2021-09-28T18:25:12.447618Z",
     "shell.execute_reply": "2021-09-28T18:25:12.446929Z",
     "shell.execute_reply.started": "2021-09-28T18:25:12.085872Z"
    },
    "tags": []
   },
   "outputs": [],
   "source": [
    "sample_covar = np.concatenate([sample_fam[:, :2], ages, pcs], axis=1)"
   ]
  },
  {
   "cell_type": "code",
   "execution_count": 62,
   "id": "1e182e3e-1583-46ad-9db9-f745b49d48d4",
   "metadata": {
    "execution": {
     "iopub.execute_input": "2021-09-28T18:25:14.065999Z",
     "iopub.status.busy": "2021-09-28T18:25:14.065718Z",
     "iopub.status.idle": "2021-09-28T18:25:14.449968Z",
     "shell.execute_reply": "2021-09-28T18:25:14.448979Z",
     "shell.execute_reply.started": "2021-09-28T18:25:14.065967Z"
    },
    "tags": []
   },
   "outputs": [
    {
     "data": {
      "text/plain": [
       "array(['MGB00001', 'MGB00001', 66.66865714162273, 1.2622905687385135,\n",
       "       0.6632332986461236, -1.3031528057680857, 0.0012940779292404904,\n",
       "       5.708772427155591, -6.319302885969882, 0.45256534112375046,\n",
       "       0.28469001727733156, 3.002453648556721, -4.111321613459907],\n",
       "      dtype=object)"
      ]
     },
     "execution_count": 62,
     "metadata": {},
     "output_type": "execute_result"
    }
   ],
   "source": [
    "sample_covar[0]"
   ]
  },
  {
   "cell_type": "code",
   "execution_count": 63,
   "id": "89e4d6f2-98d4-426b-82cc-20379c3204a4",
   "metadata": {
    "execution": {
     "iopub.execute_input": "2021-09-28T18:25:17.464380Z",
     "iopub.status.busy": "2021-09-28T18:25:17.464117Z",
     "iopub.status.idle": "2021-09-28T18:25:17.842767Z",
     "shell.execute_reply": "2021-09-28T18:25:17.841734Z",
     "shell.execute_reply.started": "2021-09-28T18:25:17.464346Z"
    },
    "tags": []
   },
   "outputs": [],
   "source": [
    "sample_covar_df = pd.DataFrame(sample_covar)"
   ]
  },
  {
   "cell_type": "code",
   "execution_count": 64,
   "id": "292aec13-8080-4c2b-8249-75b4e768d4f3",
   "metadata": {
    "execution": {
     "iopub.execute_input": "2021-09-28T18:25:18.265351Z",
     "iopub.status.busy": "2021-09-28T18:25:18.265150Z",
     "iopub.status.idle": "2021-09-28T18:25:18.763839Z",
     "shell.execute_reply": "2021-09-28T18:25:18.762988Z",
     "shell.execute_reply.started": "2021-09-28T18:25:18.265326Z"
    },
    "tags": []
   },
   "outputs": [],
   "source": [
    "sample_covar_df.columns = [\"FID\", \"IID\", \"AGE\"] + [\"PC{}\".format(i+1) for i in range(10)]"
   ]
  },
  {
   "cell_type": "code",
   "execution_count": 65,
   "id": "fde63baf-3c54-4f23-8e6f-fa1e742d5339",
   "metadata": {
    "execution": {
     "iopub.execute_input": "2021-09-28T18:25:19.196458Z",
     "iopub.status.busy": "2021-09-28T18:25:19.196278Z",
     "iopub.status.idle": "2021-09-28T18:25:19.640527Z",
     "shell.execute_reply": "2021-09-28T18:25:19.639700Z",
     "shell.execute_reply.started": "2021-09-28T18:25:19.196434Z"
    },
    "tags": []
   },
   "outputs": [
    {
     "data": {
      "text/html": [
       "<div>\n",
       "<style scoped>\n",
       "    .dataframe tbody tr th:only-of-type {\n",
       "        vertical-align: middle;\n",
       "    }\n",
       "\n",
       "    .dataframe tbody tr th {\n",
       "        vertical-align: top;\n",
       "    }\n",
       "\n",
       "    .dataframe thead th {\n",
       "        text-align: right;\n",
       "    }\n",
       "</style>\n",
       "<table border=\"1\" class=\"dataframe\">\n",
       "  <thead>\n",
       "    <tr style=\"text-align: right;\">\n",
       "      <th></th>\n",
       "      <th>FID</th>\n",
       "      <th>IID</th>\n",
       "      <th>AGE</th>\n",
       "      <th>PC1</th>\n",
       "      <th>PC2</th>\n",
       "      <th>PC3</th>\n",
       "      <th>PC4</th>\n",
       "      <th>PC5</th>\n",
       "      <th>PC6</th>\n",
       "      <th>PC7</th>\n",
       "      <th>PC8</th>\n",
       "      <th>PC9</th>\n",
       "      <th>PC10</th>\n",
       "    </tr>\n",
       "  </thead>\n",
       "  <tbody>\n",
       "    <tr>\n",
       "      <th>0</th>\n",
       "      <td>MGB00001</td>\n",
       "      <td>MGB00001</td>\n",
       "      <td>66.668657</td>\n",
       "      <td>1.262291</td>\n",
       "      <td>0.663233</td>\n",
       "      <td>-1.303153</td>\n",
       "      <td>0.001294</td>\n",
       "      <td>5.708772</td>\n",
       "      <td>-6.319303</td>\n",
       "      <td>0.452565</td>\n",
       "      <td>0.28469</td>\n",
       "      <td>3.002454</td>\n",
       "      <td>-4.111322</td>\n",
       "    </tr>\n",
       "    <tr>\n",
       "      <th>1</th>\n",
       "      <td>MGB00002</td>\n",
       "      <td>MGB00002</td>\n",
       "      <td>53.190195</td>\n",
       "      <td>3.3063</td>\n",
       "      <td>-1.101641</td>\n",
       "      <td>1.97045</td>\n",
       "      <td>-0.872764</td>\n",
       "      <td>-3.840938</td>\n",
       "      <td>-0.671233</td>\n",
       "      <td>-0.165758</td>\n",
       "      <td>-0.421976</td>\n",
       "      <td>0.860991</td>\n",
       "      <td>-4.696233</td>\n",
       "    </tr>\n",
       "    <tr>\n",
       "      <th>2</th>\n",
       "      <td>MGB00003</td>\n",
       "      <td>MGB00003</td>\n",
       "      <td>38.929525</td>\n",
       "      <td>6.461285</td>\n",
       "      <td>-4.82919</td>\n",
       "      <td>0.6073</td>\n",
       "      <td>2.843771</td>\n",
       "      <td>-5.527301</td>\n",
       "      <td>-3.029981</td>\n",
       "      <td>5.825115</td>\n",
       "      <td>3.742236</td>\n",
       "      <td>6.044946</td>\n",
       "      <td>1.437086</td>\n",
       "    </tr>\n",
       "    <tr>\n",
       "      <th>3</th>\n",
       "      <td>MGB00004</td>\n",
       "      <td>MGB00004</td>\n",
       "      <td>58.494731</td>\n",
       "      <td>3.134901</td>\n",
       "      <td>-0.005092</td>\n",
       "      <td>1.167758</td>\n",
       "      <td>1.454855</td>\n",
       "      <td>3.297935</td>\n",
       "      <td>1.981656</td>\n",
       "      <td>-1.079379</td>\n",
       "      <td>1.793868</td>\n",
       "      <td>0.169963</td>\n",
       "      <td>-0.878017</td>\n",
       "    </tr>\n",
       "    <tr>\n",
       "      <th>4</th>\n",
       "      <td>MGB00005</td>\n",
       "      <td>MGB00005</td>\n",
       "      <td>60.674713</td>\n",
       "      <td>1.273421</td>\n",
       "      <td>1.723451</td>\n",
       "      <td>1.46698</td>\n",
       "      <td>2.157379</td>\n",
       "      <td>0.619361</td>\n",
       "      <td>1.180299</td>\n",
       "      <td>1.433365</td>\n",
       "      <td>4.477744</td>\n",
       "      <td>-4.105312</td>\n",
       "      <td>-0.212373</td>\n",
       "    </tr>\n",
       "  </tbody>\n",
       "</table>\n",
       "</div>"
      ],
      "text/plain": [
       "        FID       IID        AGE       PC1       PC2       PC3       PC4  \\\n",
       "0  MGB00001  MGB00001  66.668657  1.262291  0.663233 -1.303153  0.001294   \n",
       "1  MGB00002  MGB00002  53.190195    3.3063 -1.101641   1.97045 -0.872764   \n",
       "2  MGB00003  MGB00003  38.929525  6.461285  -4.82919    0.6073  2.843771   \n",
       "3  MGB00004  MGB00004  58.494731  3.134901 -0.005092  1.167758  1.454855   \n",
       "4  MGB00005  MGB00005  60.674713  1.273421  1.723451   1.46698  2.157379   \n",
       "\n",
       "        PC5       PC6       PC7       PC8       PC9      PC10  \n",
       "0  5.708772 -6.319303  0.452565   0.28469  3.002454 -4.111322  \n",
       "1 -3.840938 -0.671233 -0.165758 -0.421976  0.860991 -4.696233  \n",
       "2 -5.527301 -3.029981  5.825115  3.742236  6.044946  1.437086  \n",
       "3  3.297935  1.981656 -1.079379  1.793868  0.169963 -0.878017  \n",
       "4  0.619361  1.180299  1.433365  4.477744 -4.105312 -0.212373  "
      ]
     },
     "execution_count": 65,
     "metadata": {},
     "output_type": "execute_result"
    }
   ],
   "source": [
    "sample_covar_df.head()"
   ]
  },
  {
   "cell_type": "code",
   "execution_count": 66,
   "id": "069c4869-ead9-4479-a1b3-4678ea168fc1",
   "metadata": {
    "execution": {
     "iopub.execute_input": "2021-09-28T18:25:29.806865Z",
     "iopub.status.busy": "2021-09-28T18:25:29.806563Z",
     "iopub.status.idle": "2021-09-28T18:25:30.231979Z",
     "shell.execute_reply": "2021-09-28T18:25:30.231206Z",
     "shell.execute_reply.started": "2021-09-28T18:25:29.806831Z"
    },
    "tags": []
   },
   "outputs": [],
   "source": [
    "sample_covar_df.to_csv(\"MGB_10_all/MGB_10_all.covariates.txt\", sep=\" \", index=False)"
   ]
  },
  {
   "cell_type": "code",
   "execution_count": null,
   "id": "4b538592-a2ce-4f8e-be40-d0291cefc3e9",
   "metadata": {},
   "outputs": [],
   "source": []
  },
  {
   "cell_type": "markdown",
   "id": "5a14a767-4839-476a-9e3c-af6077a83eed",
   "metadata": {
    "tags": [],
    "toc-hr-collapsed": true
   },
   "source": [
    "### Step 1b - Make dummy age.summary.tsv file for z-scored age"
   ]
  },
  {
   "cell_type": "code",
   "execution_count": 67,
   "id": "57133e32-ccae-447f-a0c5-6efe888b6ec0",
   "metadata": {
    "execution": {
     "iopub.execute_input": "2021-09-28T18:26:36.283438Z",
     "iopub.status.busy": "2021-09-28T18:26:36.283197Z",
     "iopub.status.idle": "2021-09-28T18:26:36.782747Z",
     "shell.execute_reply": "2021-09-28T18:26:36.781880Z",
     "shell.execute_reply.started": "2021-09-28T18:26:36.283402Z"
    },
    "tags": []
   },
   "outputs": [],
   "source": [
    "age_means = np.random.normal(loc=50, scale=10, size=(4))"
   ]
  },
  {
   "cell_type": "code",
   "execution_count": 68,
   "id": "cbd1a193-5fdc-48e3-b95d-17040cc14386",
   "metadata": {
    "execution": {
     "iopub.execute_input": "2021-09-28T18:26:56.812006Z",
     "iopub.status.busy": "2021-09-28T18:26:56.811703Z",
     "iopub.status.idle": "2021-09-28T18:26:57.263474Z",
     "shell.execute_reply": "2021-09-28T18:26:57.262713Z",
     "shell.execute_reply.started": "2021-09-28T18:26:56.811972Z"
    },
    "tags": []
   },
   "outputs": [],
   "source": [
    "age_stds = np.abs(np.random.normal(loc=0, scale=10, size=(4)))"
   ]
  },
  {
   "cell_type": "code",
   "execution_count": 69,
   "id": "a93e5fe6-2fb5-4ae2-bfd1-597240808c83",
   "metadata": {
    "execution": {
     "iopub.execute_input": "2021-09-28T18:26:58.267740Z",
     "iopub.status.busy": "2021-09-28T18:26:58.267543Z",
     "iopub.status.idle": "2021-09-28T18:26:58.763236Z",
     "shell.execute_reply": "2021-09-28T18:26:58.762557Z",
     "shell.execute_reply.started": "2021-09-28T18:26:58.267715Z"
    },
    "tags": []
   },
   "outputs": [],
   "source": [
    "index = [\"BCA\", \"CAD\", \"IBD\", \"T2D\"]"
   ]
  },
  {
   "cell_type": "code",
   "execution_count": 70,
   "id": "5c0b9b38-58b3-440a-b10c-ba34002a5680",
   "metadata": {
    "execution": {
     "iopub.execute_input": "2021-09-28T18:26:59.262011Z",
     "iopub.status.busy": "2021-09-28T18:26:59.261671Z",
     "iopub.status.idle": "2021-09-28T18:26:59.607391Z",
     "shell.execute_reply": "2021-09-28T18:26:59.606691Z",
     "shell.execute_reply.started": "2021-09-28T18:26:59.261969Z"
    },
    "tags": []
   },
   "outputs": [],
   "source": [
    "pd.DataFrame(index=index, data={\"MEAN\":age_means, \"STD\": age_stds}).to_csv(\"MGB_10_all/age.summary.tsv\", sep=\"\\t\", index=True)"
   ]
  },
  {
   "cell_type": "markdown",
   "id": "234524ab-c00a-40b9-8c6c-a9469cc0ba7b",
   "metadata": {
    "tags": []
   },
   "source": [
    "## Step 2 - Make needed files for actual Docker"
   ]
  },
  {
   "cell_type": "markdown",
   "id": "c13e43ce-ca6d-4e97-b971-50c3f2a1975e",
   "metadata": {
    "tags": [],
    "toc-hr-collapsed": true
   },
   "source": [
    "### Step 2a - Make SNP summary files from feathers and stats"
   ]
  },
  {
   "cell_type": "markdown",
   "id": "8d2cd81b-d39b-4ee3-8e38-c225e66b1b34",
   "metadata": {
    "tags": [],
    "toc-hr-collapsed": true
   },
   "source": [
    "#### BCA"
   ]
  },
  {
   "cell_type": "code",
   "execution_count": 2,
   "id": "45042056-cdf1-4260-bcd5-310b6a8a9854",
   "metadata": {
    "execution": {
     "iopub.execute_input": "2021-09-30T15:49:08.085153Z",
     "iopub.status.busy": "2021-09-30T15:49:08.084921Z",
     "iopub.status.idle": "2021-09-30T15:49:28.275184Z",
     "shell.execute_reply": "2021-09-30T15:49:28.274229Z",
     "shell.execute_reply.started": "2021-09-30T15:49:08.085118Z"
    },
    "tags": []
   },
   "outputs": [
    {
     "data": {
      "text/html": [
       "<div>\n",
       "<style scoped>\n",
       "    .dataframe tbody tr th:only-of-type {\n",
       "        vertical-align: middle;\n",
       "    }\n",
       "\n",
       "    .dataframe tbody tr th {\n",
       "        vertical-align: top;\n",
       "    }\n",
       "\n",
       "    .dataframe thead th {\n",
       "        text-align: right;\n",
       "    }\n",
       "</style>\n",
       "<table border=\"1\" class=\"dataframe\">\n",
       "  <thead>\n",
       "    <tr style=\"text-align: right;\">\n",
       "      <th></th>\n",
       "      <th>index</th>\n",
       "      <th>1000198</th>\n",
       "      <th>1000745</th>\n",
       "      <th>1000752</th>\n",
       "      <th>1000889</th>\n",
       "      <th>1000933</th>\n",
       "      <th>1001179</th>\n",
       "      <th>1001373</th>\n",
       "      <th>1001539</th>\n",
       "      <th>1001624</th>\n",
       "      <th>...</th>\n",
       "      <th>BCAC-99980607</th>\n",
       "      <th>BCAC-99983670</th>\n",
       "      <th>BCAC-99983874</th>\n",
       "      <th>BCAC-99989217</th>\n",
       "      <th>BCAC-99995086</th>\n",
       "      <th>BCAC-99995719</th>\n",
       "      <th>BCAC-99995896</th>\n",
       "      <th>BCAC-99996920</th>\n",
       "      <th>BCAC-99997709</th>\n",
       "      <th>BCAC-99999978</th>\n",
       "    </tr>\n",
       "  </thead>\n",
       "  <tbody>\n",
       "    <tr>\n",
       "      <th>0</th>\n",
       "      <td>rs6692780_C</td>\n",
       "      <td>1.0</td>\n",
       "      <td>1.0</td>\n",
       "      <td>2.0</td>\n",
       "      <td>2.0</td>\n",
       "      <td>2.0</td>\n",
       "      <td>1.0</td>\n",
       "      <td>2.0</td>\n",
       "      <td>2.0</td>\n",
       "      <td>1.0</td>\n",
       "      <td>...</td>\n",
       "      <td>2.0</td>\n",
       "      <td>1.0</td>\n",
       "      <td>1.0</td>\n",
       "      <td>1.0</td>\n",
       "      <td>2.0</td>\n",
       "      <td>2.0</td>\n",
       "      <td>1.0</td>\n",
       "      <td>1.0</td>\n",
       "      <td>2.0</td>\n",
       "      <td>2.0</td>\n",
       "    </tr>\n",
       "    <tr>\n",
       "      <th>1</th>\n",
       "      <td>rs6701289_A</td>\n",
       "      <td>1.0</td>\n",
       "      <td>1.0</td>\n",
       "      <td>2.0</td>\n",
       "      <td>2.0</td>\n",
       "      <td>2.0</td>\n",
       "      <td>1.0</td>\n",
       "      <td>2.0</td>\n",
       "      <td>2.0</td>\n",
       "      <td>1.0</td>\n",
       "      <td>...</td>\n",
       "      <td>2.0</td>\n",
       "      <td>1.0</td>\n",
       "      <td>1.0</td>\n",
       "      <td>1.0</td>\n",
       "      <td>2.0</td>\n",
       "      <td>2.0</td>\n",
       "      <td>1.0</td>\n",
       "      <td>1.0</td>\n",
       "      <td>2.0</td>\n",
       "      <td>2.0</td>\n",
       "    </tr>\n",
       "    <tr>\n",
       "      <th>2</th>\n",
       "      <td>rs6693486_T</td>\n",
       "      <td>1.0</td>\n",
       "      <td>1.0</td>\n",
       "      <td>2.0</td>\n",
       "      <td>2.0</td>\n",
       "      <td>2.0</td>\n",
       "      <td>1.0</td>\n",
       "      <td>2.0</td>\n",
       "      <td>2.0</td>\n",
       "      <td>1.0</td>\n",
       "      <td>...</td>\n",
       "      <td>2.0</td>\n",
       "      <td>1.0</td>\n",
       "      <td>1.0</td>\n",
       "      <td>1.0</td>\n",
       "      <td>2.0</td>\n",
       "      <td>2.0</td>\n",
       "      <td>1.0</td>\n",
       "      <td>1.0</td>\n",
       "      <td>2.0</td>\n",
       "      <td>2.0</td>\n",
       "    </tr>\n",
       "    <tr>\n",
       "      <th>3</th>\n",
       "      <td>rs6656223_A</td>\n",
       "      <td>1.0</td>\n",
       "      <td>1.0</td>\n",
       "      <td>2.0</td>\n",
       "      <td>2.0</td>\n",
       "      <td>2.0</td>\n",
       "      <td>1.0</td>\n",
       "      <td>2.0</td>\n",
       "      <td>2.0</td>\n",
       "      <td>1.0</td>\n",
       "      <td>...</td>\n",
       "      <td>2.0</td>\n",
       "      <td>1.0</td>\n",
       "      <td>1.0</td>\n",
       "      <td>1.0</td>\n",
       "      <td>2.0</td>\n",
       "      <td>2.0</td>\n",
       "      <td>1.0</td>\n",
       "      <td>1.0</td>\n",
       "      <td>2.0</td>\n",
       "      <td>2.0</td>\n",
       "    </tr>\n",
       "    <tr>\n",
       "      <th>4</th>\n",
       "      <td>rs4394703_A</td>\n",
       "      <td>2.0</td>\n",
       "      <td>2.0</td>\n",
       "      <td>2.0</td>\n",
       "      <td>2.0</td>\n",
       "      <td>1.0</td>\n",
       "      <td>1.0</td>\n",
       "      <td>2.0</td>\n",
       "      <td>1.0</td>\n",
       "      <td>1.0</td>\n",
       "      <td>...</td>\n",
       "      <td>2.0</td>\n",
       "      <td>2.0</td>\n",
       "      <td>1.0</td>\n",
       "      <td>2.0</td>\n",
       "      <td>2.0</td>\n",
       "      <td>1.0</td>\n",
       "      <td>2.0</td>\n",
       "      <td>1.0</td>\n",
       "      <td>2.0</td>\n",
       "      <td>2.0</td>\n",
       "    </tr>\n",
       "  </tbody>\n",
       "</table>\n",
       "<p>5 rows × 81760 columns</p>\n",
       "</div>"
      ],
      "text/plain": [
       "         index  1000198  1000745  1000752  1000889  1000933  1001179  1001373  \\\n",
       "0  rs6692780_C      1.0      1.0      2.0      2.0      2.0      1.0      2.0   \n",
       "1  rs6701289_A      1.0      1.0      2.0      2.0      2.0      1.0      2.0   \n",
       "2  rs6693486_T      1.0      1.0      2.0      2.0      2.0      1.0      2.0   \n",
       "3  rs6656223_A      1.0      1.0      2.0      2.0      2.0      1.0      2.0   \n",
       "4  rs4394703_A      2.0      2.0      2.0      2.0      1.0      1.0      2.0   \n",
       "\n",
       "   1001539  1001624  ...  BCAC-99980607  BCAC-99983670  BCAC-99983874  \\\n",
       "0      2.0      1.0  ...            2.0            1.0            1.0   \n",
       "1      2.0      1.0  ...            2.0            1.0            1.0   \n",
       "2      2.0      1.0  ...            2.0            1.0            1.0   \n",
       "3      2.0      1.0  ...            2.0            1.0            1.0   \n",
       "4      1.0      1.0  ...            2.0            2.0            1.0   \n",
       "\n",
       "   BCAC-99989217  BCAC-99995086  BCAC-99995719  BCAC-99995896  BCAC-99996920  \\\n",
       "0            1.0            2.0            2.0            1.0            1.0   \n",
       "1            1.0            2.0            2.0            1.0            1.0   \n",
       "2            1.0            2.0            2.0            1.0            1.0   \n",
       "3            1.0            2.0            2.0            1.0            1.0   \n",
       "4            2.0            2.0            1.0            2.0            1.0   \n",
       "\n",
       "   BCAC-99997709  BCAC-99999978  \n",
       "0            2.0            2.0  \n",
       "1            2.0            2.0  \n",
       "2            2.0            2.0  \n",
       "3            2.0            2.0  \n",
       "4            2.0            2.0  \n",
       "\n",
       "[5 rows x 81760 columns]"
      ]
     },
     "execution_count": 2,
     "metadata": {},
     "output_type": "execute_result"
    }
   ],
   "source": [
    "geno = feather.read_feather(\"../../../cagi6-prs/features/bca_mixed_no_deviant/bca.age.matched.feather\")\n",
    "geno.head()"
   ]
  },
  {
   "cell_type": "code",
   "execution_count": 6,
   "id": "8c820481-64e0-4ec5-8a33-307098eda6c4",
   "metadata": {
    "execution": {
     "iopub.execute_input": "2021-09-30T15:54:40.519841Z",
     "iopub.status.busy": "2021-09-30T15:54:40.519623Z",
     "iopub.status.idle": "2021-09-30T15:54:40.951681Z",
     "shell.execute_reply": "2021-09-30T15:54:40.950875Z",
     "shell.execute_reply.started": "2021-09-30T15:54:40.519792Z"
    },
    "tags": []
   },
   "outputs": [
    {
     "data": {
      "text/plain": [
       "(['rs6692780', 'rs6701289', 'rs6693486', 'rs6656223', 'rs4394703'],\n",
       " ['C', 'A', 'T', 'A', 'A'])"
      ]
     },
     "execution_count": 6,
     "metadata": {},
     "output_type": "execute_result"
    }
   ],
   "source": [
    "snps = [\"_\".join(var.split(\"_\")[:-1]) for var in geno[\"index\"]]\n",
    "alleles = [var.split(\".\")[0][-1] for var in geno[\"index\"]]\n",
    "allele_mp = dict(zip(snps, alleles))\n",
    "snps[:5], alleles[:5]"
   ]
  },
  {
   "cell_type": "code",
   "execution_count": 7,
   "id": "bdd045a3-df1b-466b-b7db-d73ab9daa3ef",
   "metadata": {
    "execution": {
     "iopub.execute_input": "2021-09-30T15:54:42.369665Z",
     "iopub.status.busy": "2021-09-30T15:54:42.369477Z",
     "iopub.status.idle": "2021-09-30T15:54:46.966265Z",
     "shell.execute_reply": "2021-09-30T15:54:46.965479Z",
     "shell.execute_reply.started": "2021-09-30T15:54:42.369641Z"
    },
    "tags": []
   },
   "outputs": [
    {
     "data": {
      "text/html": [
       "<div>\n",
       "<style scoped>\n",
       "    .dataframe tbody tr th:only-of-type {\n",
       "        vertical-align: middle;\n",
       "    }\n",
       "\n",
       "    .dataframe tbody tr th {\n",
       "        vertical-align: top;\n",
       "    }\n",
       "\n",
       "    .dataframe thead th {\n",
       "        text-align: right;\n",
       "    }\n",
       "</style>\n",
       "<table border=\"1\" class=\"dataframe\">\n",
       "  <thead>\n",
       "    <tr style=\"text-align: right;\">\n",
       "      <th></th>\n",
       "      <th>UKB_ID</th>\n",
       "      <th>MGB_ID</th>\n",
       "    </tr>\n",
       "  </thead>\n",
       "  <tbody>\n",
       "    <tr>\n",
       "      <th>233</th>\n",
       "      <td>rs6692780</td>\n",
       "      <td>1:5014583_T_C</td>\n",
       "    </tr>\n",
       "    <tr>\n",
       "      <th>234</th>\n",
       "      <td>rs6701289</td>\n",
       "      <td>1:5014728_G_A</td>\n",
       "    </tr>\n",
       "    <tr>\n",
       "      <th>235</th>\n",
       "      <td>rs6693486</td>\n",
       "      <td>1:5015467_A_T</td>\n",
       "    </tr>\n",
       "    <tr>\n",
       "      <th>236</th>\n",
       "      <td>rs6656223</td>\n",
       "      <td>1:5015844_G_A</td>\n",
       "    </tr>\n",
       "    <tr>\n",
       "      <th>255</th>\n",
       "      <td>rs4394703</td>\n",
       "      <td>1:5231892_C_A</td>\n",
       "    </tr>\n",
       "    <tr>\n",
       "      <th>...</th>\n",
       "      <td>...</td>\n",
       "      <td>...</td>\n",
       "    </tr>\n",
       "    <tr>\n",
       "      <th>1617655</th>\n",
       "      <td>rs532436</td>\n",
       "      <td>9:136149830_G_A</td>\n",
       "    </tr>\n",
       "    <tr>\n",
       "      <th>1617656</th>\n",
       "      <td>rs600038</td>\n",
       "      <td>9:136151806_T_C</td>\n",
       "    </tr>\n",
       "    <tr>\n",
       "      <th>1617663</th>\n",
       "      <td>rs11244061</td>\n",
       "      <td>9:136153981_C_T</td>\n",
       "    </tr>\n",
       "    <tr>\n",
       "      <th>1617665</th>\n",
       "      <td>rs649129</td>\n",
       "      <td>9:136154304_C_T</td>\n",
       "    </tr>\n",
       "    <tr>\n",
       "      <th>1617718</th>\n",
       "      <td>rs17474001</td>\n",
       "      <td>9:136267149_C_T</td>\n",
       "    </tr>\n",
       "  </tbody>\n",
       "</table>\n",
       "<p>24441 rows × 2 columns</p>\n",
       "</div>"
      ],
      "text/plain": [
       "             UKB_ID           MGB_ID\n",
       "233       rs6692780    1:5014583_T_C\n",
       "234       rs6701289    1:5014728_G_A\n",
       "235       rs6693486    1:5015467_A_T\n",
       "236       rs6656223    1:5015844_G_A\n",
       "255       rs4394703    1:5231892_C_A\n",
       "...             ...              ...\n",
       "1617655    rs532436  9:136149830_G_A\n",
       "1617656    rs600038  9:136151806_T_C\n",
       "1617663  rs11244061  9:136153981_C_T\n",
       "1617665    rs649129  9:136154304_C_T\n",
       "1617718  rs17474001  9:136267149_C_T\n",
       "\n",
       "[24441 rows x 2 columns]"
      ]
     },
     "execution_count": 7,
     "metadata": {},
     "output_type": "execute_result"
    }
   ],
   "source": [
    "snp_map = pd.read_csv(\"../../../cagi6-prs/snps/ukb.extracted.intersected.mgb.snps.tsv\", sep=\"\\t\")\n",
    "subset_snp_map = snp_map[snp_map[\"UKB_ID\"].isin(snps)][[\"UKB_ID\", \"MGB_ID\"]]\n",
    "subset_snp_map"
   ]
  },
  {
   "cell_type": "code",
   "execution_count": 8,
   "id": "08679e12-6af6-4921-bf9f-bda91a5698b7",
   "metadata": {
    "execution": {
     "iopub.execute_input": "2021-09-30T15:54:47.991479Z",
     "iopub.status.busy": "2021-09-30T15:54:47.991165Z",
     "iopub.status.idle": "2021-09-30T15:54:48.531997Z",
     "shell.execute_reply": "2021-09-30T15:54:48.531179Z",
     "shell.execute_reply.started": "2021-09-30T15:54:47.991437Z"
    },
    "tags": []
   },
   "outputs": [
    {
     "data": {
      "text/html": [
       "<div>\n",
       "<style scoped>\n",
       "    .dataframe tbody tr th:only-of-type {\n",
       "        vertical-align: middle;\n",
       "    }\n",
       "\n",
       "    .dataframe tbody tr th {\n",
       "        vertical-align: top;\n",
       "    }\n",
       "\n",
       "    .dataframe thead th {\n",
       "        text-align: right;\n",
       "    }\n",
       "</style>\n",
       "<table border=\"1\" class=\"dataframe\">\n",
       "  <thead>\n",
       "    <tr style=\"text-align: right;\">\n",
       "      <th></th>\n",
       "      <th>0</th>\n",
       "      <th>mean</th>\n",
       "      <th>std</th>\n",
       "    </tr>\n",
       "  </thead>\n",
       "  <tbody>\n",
       "    <tr>\n",
       "      <th>0</th>\n",
       "      <td>rs6692780</td>\n",
       "      <td>1.327469</td>\n",
       "      <td>0.669289</td>\n",
       "    </tr>\n",
       "    <tr>\n",
       "      <th>1</th>\n",
       "      <td>rs6701289</td>\n",
       "      <td>1.325825</td>\n",
       "      <td>0.669558</td>\n",
       "    </tr>\n",
       "    <tr>\n",
       "      <th>2</th>\n",
       "      <td>rs6693486</td>\n",
       "      <td>1.325820</td>\n",
       "      <td>0.669546</td>\n",
       "    </tr>\n",
       "    <tr>\n",
       "      <th>3</th>\n",
       "      <td>rs6656223</td>\n",
       "      <td>1.321889</td>\n",
       "      <td>0.670334</td>\n",
       "    </tr>\n",
       "    <tr>\n",
       "      <th>4</th>\n",
       "      <td>rs4394703</td>\n",
       "      <td>1.493254</td>\n",
       "      <td>0.616890</td>\n",
       "    </tr>\n",
       "    <tr>\n",
       "      <th>...</th>\n",
       "      <td>...</td>\n",
       "      <td>...</td>\n",
       "      <td>...</td>\n",
       "    </tr>\n",
       "    <tr>\n",
       "      <th>24436</th>\n",
       "      <td>rs532436</td>\n",
       "      <td>1.608489</td>\n",
       "      <td>0.561703</td>\n",
       "    </tr>\n",
       "    <tr>\n",
       "      <th>24437</th>\n",
       "      <td>rs600038</td>\n",
       "      <td>1.565365</td>\n",
       "      <td>0.583841</td>\n",
       "    </tr>\n",
       "    <tr>\n",
       "      <th>24438</th>\n",
       "      <td>rs11244061</td>\n",
       "      <td>1.760899</td>\n",
       "      <td>0.458790</td>\n",
       "    </tr>\n",
       "    <tr>\n",
       "      <th>24439</th>\n",
       "      <td>rs649129</td>\n",
       "      <td>1.565618</td>\n",
       "      <td>0.583823</td>\n",
       "    </tr>\n",
       "    <tr>\n",
       "      <th>24440</th>\n",
       "      <td>rs17474001</td>\n",
       "      <td>1.709486</td>\n",
       "      <td>0.498620</td>\n",
       "    </tr>\n",
       "  </tbody>\n",
       "</table>\n",
       "<p>24441 rows × 3 columns</p>\n",
       "</div>"
      ],
      "text/plain": [
       "                0      mean       std\n",
       "0       rs6692780  1.327469  0.669289\n",
       "1       rs6701289  1.325825  0.669558\n",
       "2       rs6693486  1.325820  0.669546\n",
       "3       rs6656223  1.321889  0.670334\n",
       "4       rs4394703  1.493254  0.616890\n",
       "...           ...       ...       ...\n",
       "24436    rs532436  1.608489  0.561703\n",
       "24437    rs600038  1.565365  0.583841\n",
       "24438  rs11244061  1.760899  0.458790\n",
       "24439    rs649129  1.565618  0.583823\n",
       "24440  rs17474001  1.709486  0.498620\n",
       "\n",
       "[24441 rows x 3 columns]"
      ]
     },
     "execution_count": 8,
     "metadata": {},
     "output_type": "execute_result"
    }
   ],
   "source": [
    "stats = pd.read_csv(\"../../../cagi6-prs/features/bca_mixed_no_deviant/bca.age.matched.train.stats.tsv\", sep=\"\\t\")\n",
    "subset_stats = stats[stats[\"0\"].isin(snps)]\n",
    "subset_stats"
   ]
  },
  {
   "cell_type": "code",
   "execution_count": 9,
   "id": "de546110-ccd9-4827-9a47-d7dfaadaa9e0",
   "metadata": {
    "execution": {
     "iopub.execute_input": "2021-09-30T15:54:51.471764Z",
     "iopub.status.busy": "2021-09-30T15:54:51.471568Z",
     "iopub.status.idle": "2021-09-30T15:54:51.945465Z",
     "shell.execute_reply": "2021-09-30T15:54:51.944844Z",
     "shell.execute_reply.started": "2021-09-30T15:54:51.471739Z"
    },
    "tags": []
   },
   "outputs": [
    {
     "data": {
      "text/html": [
       "<div>\n",
       "<style scoped>\n",
       "    .dataframe tbody tr th:only-of-type {\n",
       "        vertical-align: middle;\n",
       "    }\n",
       "\n",
       "    .dataframe tbody tr th {\n",
       "        vertical-align: top;\n",
       "    }\n",
       "\n",
       "    .dataframe thead th {\n",
       "        text-align: right;\n",
       "    }\n",
       "</style>\n",
       "<table border=\"1\" class=\"dataframe\">\n",
       "  <thead>\n",
       "    <tr style=\"text-align: right;\">\n",
       "      <th></th>\n",
       "      <th>UKB_ID</th>\n",
       "      <th>MGB_ID</th>\n",
       "      <th>0</th>\n",
       "      <th>mean</th>\n",
       "      <th>std</th>\n",
       "    </tr>\n",
       "  </thead>\n",
       "  <tbody>\n",
       "    <tr>\n",
       "      <th>0</th>\n",
       "      <td>rs6692780</td>\n",
       "      <td>1:5014583_T_C</td>\n",
       "      <td>rs6692780</td>\n",
       "      <td>1.327469</td>\n",
       "      <td>0.669289</td>\n",
       "    </tr>\n",
       "    <tr>\n",
       "      <th>1</th>\n",
       "      <td>rs6701289</td>\n",
       "      <td>1:5014728_G_A</td>\n",
       "      <td>rs6701289</td>\n",
       "      <td>1.325825</td>\n",
       "      <td>0.669558</td>\n",
       "    </tr>\n",
       "    <tr>\n",
       "      <th>2</th>\n",
       "      <td>rs6693486</td>\n",
       "      <td>1:5015467_A_T</td>\n",
       "      <td>rs6693486</td>\n",
       "      <td>1.325820</td>\n",
       "      <td>0.669546</td>\n",
       "    </tr>\n",
       "    <tr>\n",
       "      <th>3</th>\n",
       "      <td>rs6656223</td>\n",
       "      <td>1:5015844_G_A</td>\n",
       "      <td>rs6656223</td>\n",
       "      <td>1.321889</td>\n",
       "      <td>0.670334</td>\n",
       "    </tr>\n",
       "    <tr>\n",
       "      <th>4</th>\n",
       "      <td>rs4394703</td>\n",
       "      <td>1:5231892_C_A</td>\n",
       "      <td>rs4394703</td>\n",
       "      <td>1.493254</td>\n",
       "      <td>0.616890</td>\n",
       "    </tr>\n",
       "    <tr>\n",
       "      <th>...</th>\n",
       "      <td>...</td>\n",
       "      <td>...</td>\n",
       "      <td>...</td>\n",
       "      <td>...</td>\n",
       "      <td>...</td>\n",
       "    </tr>\n",
       "    <tr>\n",
       "      <th>24436</th>\n",
       "      <td>rs532436</td>\n",
       "      <td>9:136149830_G_A</td>\n",
       "      <td>rs532436</td>\n",
       "      <td>1.608489</td>\n",
       "      <td>0.561703</td>\n",
       "    </tr>\n",
       "    <tr>\n",
       "      <th>24437</th>\n",
       "      <td>rs600038</td>\n",
       "      <td>9:136151806_T_C</td>\n",
       "      <td>rs600038</td>\n",
       "      <td>1.565365</td>\n",
       "      <td>0.583841</td>\n",
       "    </tr>\n",
       "    <tr>\n",
       "      <th>24438</th>\n",
       "      <td>rs11244061</td>\n",
       "      <td>9:136153981_C_T</td>\n",
       "      <td>rs11244061</td>\n",
       "      <td>1.760899</td>\n",
       "      <td>0.458790</td>\n",
       "    </tr>\n",
       "    <tr>\n",
       "      <th>24439</th>\n",
       "      <td>rs649129</td>\n",
       "      <td>9:136154304_C_T</td>\n",
       "      <td>rs649129</td>\n",
       "      <td>1.565618</td>\n",
       "      <td>0.583823</td>\n",
       "    </tr>\n",
       "    <tr>\n",
       "      <th>24440</th>\n",
       "      <td>rs17474001</td>\n",
       "      <td>9:136267149_C_T</td>\n",
       "      <td>rs17474001</td>\n",
       "      <td>1.709486</td>\n",
       "      <td>0.498620</td>\n",
       "    </tr>\n",
       "  </tbody>\n",
       "</table>\n",
       "<p>24441 rows × 5 columns</p>\n",
       "</div>"
      ],
      "text/plain": [
       "           UKB_ID           MGB_ID           0      mean       std\n",
       "0       rs6692780    1:5014583_T_C   rs6692780  1.327469  0.669289\n",
       "1       rs6701289    1:5014728_G_A   rs6701289  1.325825  0.669558\n",
       "2       rs6693486    1:5015467_A_T   rs6693486  1.325820  0.669546\n",
       "3       rs6656223    1:5015844_G_A   rs6656223  1.321889  0.670334\n",
       "4       rs4394703    1:5231892_C_A   rs4394703  1.493254  0.616890\n",
       "...           ...              ...         ...       ...       ...\n",
       "24436    rs532436  9:136149830_G_A    rs532436  1.608489  0.561703\n",
       "24437    rs600038  9:136151806_T_C    rs600038  1.565365  0.583841\n",
       "24438  rs11244061  9:136153981_C_T  rs11244061  1.760899  0.458790\n",
       "24439    rs649129  9:136154304_C_T    rs649129  1.565618  0.583823\n",
       "24440  rs17474001  9:136267149_C_T  rs17474001  1.709486  0.498620\n",
       "\n",
       "[24441 rows x 5 columns]"
      ]
     },
     "execution_count": 9,
     "metadata": {},
     "output_type": "execute_result"
    }
   ],
   "source": [
    "summary_df = pd.merge(subset_snp_map, subset_stats, left_on=\"UKB_ID\", right_on=\"0\")\n",
    "summary_df"
   ]
  },
  {
   "cell_type": "code",
   "execution_count": 10,
   "id": "1394c936-7ddb-4966-806d-9f67803e1f38",
   "metadata": {
    "execution": {
     "iopub.execute_input": "2021-09-30T15:54:58.212516Z",
     "iopub.status.busy": "2021-09-30T15:54:58.212312Z",
     "iopub.status.idle": "2021-09-30T15:54:58.776360Z",
     "shell.execute_reply": "2021-09-30T15:54:58.775785Z",
     "shell.execute_reply.started": "2021-09-30T15:54:58.212490Z"
    },
    "tags": []
   },
   "outputs": [
    {
     "data": {
      "text/html": [
       "<div>\n",
       "<style scoped>\n",
       "    .dataframe tbody tr th:only-of-type {\n",
       "        vertical-align: middle;\n",
       "    }\n",
       "\n",
       "    .dataframe tbody tr th {\n",
       "        vertical-align: top;\n",
       "    }\n",
       "\n",
       "    .dataframe thead th {\n",
       "        text-align: right;\n",
       "    }\n",
       "</style>\n",
       "<table border=\"1\" class=\"dataframe\">\n",
       "  <thead>\n",
       "    <tr style=\"text-align: right;\">\n",
       "      <th></th>\n",
       "      <th>index</th>\n",
       "      <th>MGB_ID</th>\n",
       "      <th>0</th>\n",
       "      <th>mean</th>\n",
       "      <th>std</th>\n",
       "    </tr>\n",
       "  </thead>\n",
       "  <tbody>\n",
       "    <tr>\n",
       "      <th>0</th>\n",
       "      <td>rs6692780</td>\n",
       "      <td>1:5014583_T_C</td>\n",
       "      <td>rs6692780</td>\n",
       "      <td>1.327469</td>\n",
       "      <td>0.669289</td>\n",
       "    </tr>\n",
       "    <tr>\n",
       "      <th>1</th>\n",
       "      <td>rs6701289</td>\n",
       "      <td>1:5014728_G_A</td>\n",
       "      <td>rs6701289</td>\n",
       "      <td>1.325825</td>\n",
       "      <td>0.669558</td>\n",
       "    </tr>\n",
       "    <tr>\n",
       "      <th>2</th>\n",
       "      <td>rs6693486</td>\n",
       "      <td>1:5015467_A_T</td>\n",
       "      <td>rs6693486</td>\n",
       "      <td>1.325820</td>\n",
       "      <td>0.669546</td>\n",
       "    </tr>\n",
       "    <tr>\n",
       "      <th>3</th>\n",
       "      <td>rs6656223</td>\n",
       "      <td>1:5015844_G_A</td>\n",
       "      <td>rs6656223</td>\n",
       "      <td>1.321889</td>\n",
       "      <td>0.670334</td>\n",
       "    </tr>\n",
       "    <tr>\n",
       "      <th>4</th>\n",
       "      <td>rs4394703</td>\n",
       "      <td>1:5231892_C_A</td>\n",
       "      <td>rs4394703</td>\n",
       "      <td>1.493254</td>\n",
       "      <td>0.616890</td>\n",
       "    </tr>\n",
       "    <tr>\n",
       "      <th>...</th>\n",
       "      <td>...</td>\n",
       "      <td>...</td>\n",
       "      <td>...</td>\n",
       "      <td>...</td>\n",
       "      <td>...</td>\n",
       "    </tr>\n",
       "    <tr>\n",
       "      <th>24436</th>\n",
       "      <td>rs532436</td>\n",
       "      <td>9:136149830_G_A</td>\n",
       "      <td>rs532436</td>\n",
       "      <td>1.608489</td>\n",
       "      <td>0.561703</td>\n",
       "    </tr>\n",
       "    <tr>\n",
       "      <th>24437</th>\n",
       "      <td>rs600038</td>\n",
       "      <td>9:136151806_T_C</td>\n",
       "      <td>rs600038</td>\n",
       "      <td>1.565365</td>\n",
       "      <td>0.583841</td>\n",
       "    </tr>\n",
       "    <tr>\n",
       "      <th>24438</th>\n",
       "      <td>rs11244061</td>\n",
       "      <td>9:136153981_C_T</td>\n",
       "      <td>rs11244061</td>\n",
       "      <td>1.760899</td>\n",
       "      <td>0.458790</td>\n",
       "    </tr>\n",
       "    <tr>\n",
       "      <th>24439</th>\n",
       "      <td>rs649129</td>\n",
       "      <td>9:136154304_C_T</td>\n",
       "      <td>rs649129</td>\n",
       "      <td>1.565618</td>\n",
       "      <td>0.583823</td>\n",
       "    </tr>\n",
       "    <tr>\n",
       "      <th>24440</th>\n",
       "      <td>rs17474001</td>\n",
       "      <td>9:136267149_C_T</td>\n",
       "      <td>rs17474001</td>\n",
       "      <td>1.709486</td>\n",
       "      <td>0.498620</td>\n",
       "    </tr>\n",
       "  </tbody>\n",
       "</table>\n",
       "<p>24441 rows × 5 columns</p>\n",
       "</div>"
      ],
      "text/plain": [
       "            index           MGB_ID           0      mean       std\n",
       "0       rs6692780    1:5014583_T_C   rs6692780  1.327469  0.669289\n",
       "1       rs6701289    1:5014728_G_A   rs6701289  1.325825  0.669558\n",
       "2       rs6693486    1:5015467_A_T   rs6693486  1.325820  0.669546\n",
       "3       rs6656223    1:5015844_G_A   rs6656223  1.321889  0.670334\n",
       "4       rs4394703    1:5231892_C_A   rs4394703  1.493254  0.616890\n",
       "...           ...              ...         ...       ...       ...\n",
       "24436    rs532436  9:136149830_G_A    rs532436  1.608489  0.561703\n",
       "24437    rs600038  9:136151806_T_C    rs600038  1.565365  0.583841\n",
       "24438  rs11244061  9:136153981_C_T  rs11244061  1.760899  0.458790\n",
       "24439    rs649129  9:136154304_C_T    rs649129  1.565618  0.583823\n",
       "24440  rs17474001  9:136267149_C_T  rs17474001  1.709486  0.498620\n",
       "\n",
       "[24441 rows x 5 columns]"
      ]
     },
     "execution_count": 10,
     "metadata": {},
     "output_type": "execute_result"
    }
   ],
   "source": [
    "summary_df = summary_df.set_index(\"UKB_ID\").loc[pd.Index(snps).drop_duplicates()].reset_index()\n",
    "summary_df"
   ]
  },
  {
   "cell_type": "code",
   "execution_count": 11,
   "id": "43e26f50-965d-47ed-a569-8675064c5bb5",
   "metadata": {
    "execution": {
     "iopub.execute_input": "2021-09-30T15:55:06.251091Z",
     "iopub.status.busy": "2021-09-30T15:55:06.250879Z",
     "iopub.status.idle": "2021-09-30T15:55:06.735138Z",
     "shell.execute_reply": "2021-09-30T15:55:06.734506Z",
     "shell.execute_reply.started": "2021-09-30T15:55:06.251065Z"
    },
    "tags": []
   },
   "outputs": [],
   "source": [
    "summary_df[\"expected_allele\"] = summary_df[\"index\"].map(allele_mp)"
   ]
  },
  {
   "cell_type": "code",
   "execution_count": 12,
   "id": "aa3ff3bc-2b5e-456f-97ae-173312f23272",
   "metadata": {
    "execution": {
     "iopub.execute_input": "2021-09-30T15:55:08.810448Z",
     "iopub.status.busy": "2021-09-30T15:55:08.810244Z",
     "iopub.status.idle": "2021-09-30T15:55:09.240639Z",
     "shell.execute_reply": "2021-09-30T15:55:09.239974Z",
     "shell.execute_reply.started": "2021-09-30T15:55:08.810422Z"
    },
    "tags": []
   },
   "outputs": [],
   "source": [
    "final_df = summary_df[[\"index\", \"MGB_ID\", \"expected_allele\", \"mean\", \"std\"]]"
   ]
  },
  {
   "cell_type": "code",
   "execution_count": 13,
   "id": "1ac3d252-9c67-47df-9146-5c839960bbbb",
   "metadata": {
    "execution": {
     "iopub.execute_input": "2021-09-30T15:55:10.276210Z",
     "iopub.status.busy": "2021-09-30T15:55:10.275893Z",
     "iopub.status.idle": "2021-09-30T15:55:10.715363Z",
     "shell.execute_reply": "2021-09-30T15:55:10.714369Z",
     "shell.execute_reply.started": "2021-09-30T15:55:10.276170Z"
    },
    "tags": []
   },
   "outputs": [],
   "source": [
    "final_df.columns = [\"UKB_ID\", \"MGB_ID\", \"EXPECTED_ALLELE\", \"MEAN\", \"STD\"]"
   ]
  },
  {
   "cell_type": "markdown",
   "id": "a023e54c-840d-4fa7-876e-3248c83afad3",
   "metadata": {},
   "source": [
    "**Sanity checks**"
   ]
  },
  {
   "cell_type": "code",
   "execution_count": 17,
   "id": "e1c91d4f-744f-48d6-a38b-6b79074a50df",
   "metadata": {
    "execution": {
     "iopub.execute_input": "2021-09-30T15:57:31.950028Z",
     "iopub.status.busy": "2021-09-30T15:57:31.949748Z",
     "iopub.status.idle": "2021-09-30T15:57:33.090951Z",
     "shell.execute_reply": "2021-09-30T15:57:33.090171Z",
     "shell.execute_reply.started": "2021-09-30T15:57:31.949999Z"
    },
    "tags": []
   },
   "outputs": [
    {
     "data": {
      "text/plain": [
       "True"
      ]
     },
     "execution_count": 17,
     "metadata": {},
     "output_type": "execute_result"
    }
   ],
   "source": [
    "final_df[\"MGB_ID\"].isin(bim[1]).all()"
   ]
  },
  {
   "cell_type": "code",
   "execution_count": 19,
   "id": "900626bc-6381-4d23-81a4-1be8a4cf778a",
   "metadata": {
    "execution": {
     "iopub.execute_input": "2021-09-30T15:58:07.806351Z",
     "iopub.status.busy": "2021-09-30T15:58:07.806114Z",
     "iopub.status.idle": "2021-09-30T15:58:08.239467Z",
     "shell.execute_reply": "2021-09-30T15:58:08.238676Z",
     "shell.execute_reply.started": "2021-09-30T15:58:07.806324Z"
    },
    "tags": []
   },
   "outputs": [],
   "source": [
    "actual_feather = feather.read_feather(\"MGB_10.bca.zscored.feather\")"
   ]
  },
  {
   "cell_type": "code",
   "execution_count": 24,
   "id": "a9f09b8d-788b-4aa4-beed-3cae54d45f7e",
   "metadata": {
    "execution": {
     "iopub.execute_input": "2021-09-30T15:58:42.265719Z",
     "iopub.status.busy": "2021-09-30T15:58:42.265516Z",
     "iopub.status.idle": "2021-09-30T15:58:42.719860Z",
     "shell.execute_reply": "2021-09-30T15:58:42.719162Z",
     "shell.execute_reply.started": "2021-09-30T15:58:42.265693Z"
    },
    "tags": []
   },
   "outputs": [
    {
     "data": {
      "text/plain": [
       "True"
      ]
     },
     "execution_count": 24,
     "metadata": {},
     "output_type": "execute_result"
    }
   ],
   "source": [
    "(final_df[\"MGB_ID\"] == actual_feather[\"0\"]).all()"
   ]
  },
  {
   "cell_type": "code",
   "execution_count": 29,
   "id": "9083a508-3ddc-456d-aee7-68285651f925",
   "metadata": {
    "execution": {
     "iopub.execute_input": "2021-09-30T16:00:05.968560Z",
     "iopub.status.busy": "2021-09-30T16:00:05.968296Z",
     "iopub.status.idle": "2021-09-30T16:00:06.409030Z",
     "shell.execute_reply": "2021-09-30T16:00:06.408266Z",
     "shell.execute_reply.started": "2021-09-30T16:00:05.968532Z"
    },
    "tags": []
   },
   "outputs": [
    {
     "data": {
      "text/plain": [
       "True"
      ]
     },
     "execution_count": 29,
     "metadata": {},
     "output_type": "execute_result"
    }
   ],
   "source": [
    "(final_df[\"UKB_ID\"] == stats[\"0\"]).all()"
   ]
  },
  {
   "cell_type": "code",
   "execution_count": 31,
   "id": "cfbee054-9533-4f85-aca9-80f0a3bbb824",
   "metadata": {
    "execution": {
     "iopub.execute_input": "2021-09-30T16:00:52.026760Z",
     "iopub.status.busy": "2021-09-30T16:00:52.026556Z",
     "iopub.status.idle": "2021-09-30T16:00:52.448443Z",
     "shell.execute_reply": "2021-09-30T16:00:52.447739Z",
     "shell.execute_reply.started": "2021-09-30T16:00:52.026733Z"
    },
    "tags": []
   },
   "outputs": [
    {
     "data": {
      "text/plain": [
       "True"
      ]
     },
     "execution_count": 31,
     "metadata": {},
     "output_type": "execute_result"
    }
   ],
   "source": [
    "(summary_df[\"index\"] == stats[\"0\"]).all()"
   ]
  },
  {
   "cell_type": "markdown",
   "id": "a2e5b3b1-6fa3-4e70-998d-3437bae65bfa",
   "metadata": {},
   "source": [
    "**Save**"
   ]
  },
  {
   "cell_type": "code",
   "execution_count": 404,
   "id": "846616ed-b0c1-40bf-acff-ac974a6e211d",
   "metadata": {
    "execution": {
     "iopub.execute_input": "2021-09-29T17:50:54.979998Z",
     "iopub.status.busy": "2021-09-29T17:50:54.979634Z",
     "iopub.status.idle": "2021-09-29T17:50:55.678264Z",
     "shell.execute_reply": "2021-09-29T17:50:55.677224Z",
     "shell.execute_reply.started": "2021-09-29T17:50:54.979952Z"
    },
    "tags": []
   },
   "outputs": [],
   "source": [
    "final_df.to_csv(\"bca.summary.tsv\", sep=\"\\t\", index=False)"
   ]
  },
  {
   "cell_type": "code",
   "execution_count": 406,
   "id": "847391e5-3d42-4a4a-b75a-757956b94766",
   "metadata": {
    "execution": {
     "iopub.execute_input": "2021-09-29T17:51:00.478997Z",
     "iopub.status.busy": "2021-09-29T17:51:00.478618Z",
     "iopub.status.idle": "2021-09-29T17:51:01.091977Z",
     "shell.execute_reply": "2021-09-29T17:51:01.091258Z",
     "shell.execute_reply.started": "2021-09-29T17:51:00.478966Z"
    },
    "tags": []
   },
   "outputs": [],
   "source": [
    "final_df[\"MGB_ID\"].to_csv(\"bca.extract.txt\", header=None, index=False)"
   ]
  },
  {
   "cell_type": "markdown",
   "id": "ee58312b-eca8-46ce-89a9-005ace64df2b",
   "metadata": {
    "tags": [],
    "toc-hr-collapsed": true
   },
   "source": [
    "#### CAD"
   ]
  },
  {
   "cell_type": "code",
   "execution_count": 33,
   "id": "0328659b-0a07-4137-9eee-c31e5f5aa74d",
   "metadata": {
    "execution": {
     "iopub.execute_input": "2021-09-30T16:02:08.264515Z",
     "iopub.status.busy": "2021-09-30T16:02:08.264268Z",
     "iopub.status.idle": "2021-09-30T16:02:09.692407Z",
     "shell.execute_reply": "2021-09-30T16:02:09.691730Z",
     "shell.execute_reply.started": "2021-09-30T16:02:08.264488Z"
    },
    "tags": []
   },
   "outputs": [
    {
     "data": {
      "text/html": [
       "<div>\n",
       "<style scoped>\n",
       "    .dataframe tbody tr th:only-of-type {\n",
       "        vertical-align: middle;\n",
       "    }\n",
       "\n",
       "    .dataframe tbody tr th {\n",
       "        vertical-align: top;\n",
       "    }\n",
       "\n",
       "    .dataframe thead th {\n",
       "        text-align: right;\n",
       "    }\n",
       "</style>\n",
       "<table border=\"1\" class=\"dataframe\">\n",
       "  <thead>\n",
       "    <tr style=\"text-align: right;\">\n",
       "      <th></th>\n",
       "      <th>index</th>\n",
       "      <th>2437417</th>\n",
       "      <th>2283331</th>\n",
       "      <th>5568615</th>\n",
       "      <th>4626449</th>\n",
       "      <th>1610609</th>\n",
       "      <th>3617323</th>\n",
       "      <th>2209865</th>\n",
       "      <th>1919537</th>\n",
       "      <th>2067331</th>\n",
       "      <th>...</th>\n",
       "      <th>3420212</th>\n",
       "      <th>1193929</th>\n",
       "      <th>4872319</th>\n",
       "      <th>1838942</th>\n",
       "      <th>3294657</th>\n",
       "      <th>4556083</th>\n",
       "      <th>4620563</th>\n",
       "      <th>4056167</th>\n",
       "      <th>4531036</th>\n",
       "      <th>4174059</th>\n",
       "    </tr>\n",
       "  </thead>\n",
       "  <tbody>\n",
       "    <tr>\n",
       "      <th>0</th>\n",
       "      <td>rs1692584_T</td>\n",
       "      <td>0.0000</td>\n",
       "      <td>0.0196</td>\n",
       "      <td>0.00000</td>\n",
       "      <td>1.0000</td>\n",
       "      <td>1.0</td>\n",
       "      <td>0.0</td>\n",
       "      <td>1.0</td>\n",
       "      <td>1.0</td>\n",
       "      <td>0.0</td>\n",
       "      <td>...</td>\n",
       "      <td>0.0</td>\n",
       "      <td>2.0000</td>\n",
       "      <td>1.0000</td>\n",
       "      <td>1.0</td>\n",
       "      <td>1.0</td>\n",
       "      <td>0.0</td>\n",
       "      <td>1.00000</td>\n",
       "      <td>2.0000</td>\n",
       "      <td>2.0</td>\n",
       "      <td>1.00000</td>\n",
       "    </tr>\n",
       "    <tr>\n",
       "      <th>1</th>\n",
       "      <td>rs1692585_T</td>\n",
       "      <td>0.2078</td>\n",
       "      <td>0.0000</td>\n",
       "      <td>0.26666</td>\n",
       "      <td>1.4745</td>\n",
       "      <td>1.0</td>\n",
       "      <td>0.0</td>\n",
       "      <td>1.0</td>\n",
       "      <td>1.0</td>\n",
       "      <td>0.0</td>\n",
       "      <td>...</td>\n",
       "      <td>0.0</td>\n",
       "      <td>2.0000</td>\n",
       "      <td>1.0000</td>\n",
       "      <td>1.0</td>\n",
       "      <td>1.0</td>\n",
       "      <td>0.0</td>\n",
       "      <td>0.95294</td>\n",
       "      <td>2.0000</td>\n",
       "      <td>2.0</td>\n",
       "      <td>1.08234</td>\n",
       "    </tr>\n",
       "    <tr>\n",
       "      <th>2</th>\n",
       "      <td>rs76282923_T</td>\n",
       "      <td>2.0000</td>\n",
       "      <td>2.0000</td>\n",
       "      <td>2.00000</td>\n",
       "      <td>1.0000</td>\n",
       "      <td>2.0</td>\n",
       "      <td>2.0</td>\n",
       "      <td>2.0</td>\n",
       "      <td>2.0</td>\n",
       "      <td>2.0</td>\n",
       "      <td>...</td>\n",
       "      <td>2.0</td>\n",
       "      <td>2.0000</td>\n",
       "      <td>2.0000</td>\n",
       "      <td>2.0</td>\n",
       "      <td>2.0</td>\n",
       "      <td>2.0</td>\n",
       "      <td>2.00000</td>\n",
       "      <td>2.0000</td>\n",
       "      <td>1.0</td>\n",
       "      <td>2.00000</td>\n",
       "    </tr>\n",
       "    <tr>\n",
       "      <th>3</th>\n",
       "      <td>rs142707962_T</td>\n",
       "      <td>2.0000</td>\n",
       "      <td>2.0000</td>\n",
       "      <td>2.00000</td>\n",
       "      <td>1.0000</td>\n",
       "      <td>2.0</td>\n",
       "      <td>2.0</td>\n",
       "      <td>2.0</td>\n",
       "      <td>2.0</td>\n",
       "      <td>2.0</td>\n",
       "      <td>...</td>\n",
       "      <td>2.0</td>\n",
       "      <td>2.0000</td>\n",
       "      <td>2.0000</td>\n",
       "      <td>2.0</td>\n",
       "      <td>2.0</td>\n",
       "      <td>2.0</td>\n",
       "      <td>2.00000</td>\n",
       "      <td>2.0000</td>\n",
       "      <td>1.0</td>\n",
       "      <td>2.00000</td>\n",
       "    </tr>\n",
       "    <tr>\n",
       "      <th>4</th>\n",
       "      <td>rs74590598_G</td>\n",
       "      <td>2.0000</td>\n",
       "      <td>2.0000</td>\n",
       "      <td>2.00000</td>\n",
       "      <td>1.0000</td>\n",
       "      <td>2.0</td>\n",
       "      <td>2.0</td>\n",
       "      <td>2.0</td>\n",
       "      <td>2.0</td>\n",
       "      <td>2.0</td>\n",
       "      <td>...</td>\n",
       "      <td>2.0</td>\n",
       "      <td>2.0000</td>\n",
       "      <td>2.0000</td>\n",
       "      <td>2.0</td>\n",
       "      <td>2.0</td>\n",
       "      <td>2.0</td>\n",
       "      <td>2.00000</td>\n",
       "      <td>2.0000</td>\n",
       "      <td>1.0</td>\n",
       "      <td>2.00000</td>\n",
       "    </tr>\n",
       "    <tr>\n",
       "      <th>...</th>\n",
       "      <td>...</td>\n",
       "      <td>...</td>\n",
       "      <td>...</td>\n",
       "      <td>...</td>\n",
       "      <td>...</td>\n",
       "      <td>...</td>\n",
       "      <td>...</td>\n",
       "      <td>...</td>\n",
       "      <td>...</td>\n",
       "      <td>...</td>\n",
       "      <td>...</td>\n",
       "      <td>...</td>\n",
       "      <td>...</td>\n",
       "      <td>...</td>\n",
       "      <td>...</td>\n",
       "      <td>...</td>\n",
       "      <td>...</td>\n",
       "      <td>...</td>\n",
       "      <td>...</td>\n",
       "      <td>...</td>\n",
       "      <td>...</td>\n",
       "    </tr>\n",
       "    <tr>\n",
       "      <th>7464</th>\n",
       "      <td>rs559723_A</td>\n",
       "      <td>0.0000</td>\n",
       "      <td>2.0000</td>\n",
       "      <td>0.00000</td>\n",
       "      <td>1.0000</td>\n",
       "      <td>0.0</td>\n",
       "      <td>0.0</td>\n",
       "      <td>1.0</td>\n",
       "      <td>1.0</td>\n",
       "      <td>0.0</td>\n",
       "      <td>...</td>\n",
       "      <td>0.0</td>\n",
       "      <td>0.0000</td>\n",
       "      <td>0.0000</td>\n",
       "      <td>0.0</td>\n",
       "      <td>0.0</td>\n",
       "      <td>0.0</td>\n",
       "      <td>0.00000</td>\n",
       "      <td>1.0000</td>\n",
       "      <td>1.0</td>\n",
       "      <td>1.00000</td>\n",
       "    </tr>\n",
       "    <tr>\n",
       "      <th>7465</th>\n",
       "      <td>rs600038_T</td>\n",
       "      <td>1.0000</td>\n",
       "      <td>2.0000</td>\n",
       "      <td>2.00000</td>\n",
       "      <td>2.0000</td>\n",
       "      <td>0.0</td>\n",
       "      <td>2.0</td>\n",
       "      <td>2.0</td>\n",
       "      <td>2.0</td>\n",
       "      <td>2.0</td>\n",
       "      <td>...</td>\n",
       "      <td>1.0</td>\n",
       "      <td>1.0000</td>\n",
       "      <td>0.0000</td>\n",
       "      <td>1.0</td>\n",
       "      <td>2.0</td>\n",
       "      <td>2.0</td>\n",
       "      <td>1.00000</td>\n",
       "      <td>1.0000</td>\n",
       "      <td>1.0</td>\n",
       "      <td>2.00000</td>\n",
       "    </tr>\n",
       "    <tr>\n",
       "      <th>7466</th>\n",
       "      <td>rs11244061_C</td>\n",
       "      <td>1.0000</td>\n",
       "      <td>2.0000</td>\n",
       "      <td>2.00000</td>\n",
       "      <td>2.0000</td>\n",
       "      <td>1.0</td>\n",
       "      <td>2.0</td>\n",
       "      <td>2.0</td>\n",
       "      <td>2.0</td>\n",
       "      <td>2.0</td>\n",
       "      <td>...</td>\n",
       "      <td>1.0</td>\n",
       "      <td>2.0000</td>\n",
       "      <td>1.0000</td>\n",
       "      <td>2.0</td>\n",
       "      <td>2.0</td>\n",
       "      <td>2.0</td>\n",
       "      <td>2.00000</td>\n",
       "      <td>1.0039</td>\n",
       "      <td>1.0</td>\n",
       "      <td>2.00000</td>\n",
       "    </tr>\n",
       "    <tr>\n",
       "      <th>7467</th>\n",
       "      <td>rs649129_C</td>\n",
       "      <td>1.0000</td>\n",
       "      <td>2.0000</td>\n",
       "      <td>2.00000</td>\n",
       "      <td>2.0000</td>\n",
       "      <td>0.0</td>\n",
       "      <td>2.0</td>\n",
       "      <td>2.0</td>\n",
       "      <td>2.0</td>\n",
       "      <td>2.0</td>\n",
       "      <td>...</td>\n",
       "      <td>1.0</td>\n",
       "      <td>1.0039</td>\n",
       "      <td>0.0079</td>\n",
       "      <td>1.0</td>\n",
       "      <td>2.0</td>\n",
       "      <td>2.0</td>\n",
       "      <td>1.00000</td>\n",
       "      <td>1.0000</td>\n",
       "      <td>1.0</td>\n",
       "      <td>2.00000</td>\n",
       "    </tr>\n",
       "    <tr>\n",
       "      <th>7468</th>\n",
       "      <td>rs17474001_C</td>\n",
       "      <td>1.0000</td>\n",
       "      <td>2.0000</td>\n",
       "      <td>2.00000</td>\n",
       "      <td>2.0000</td>\n",
       "      <td>1.0</td>\n",
       "      <td>2.0</td>\n",
       "      <td>2.0</td>\n",
       "      <td>2.0</td>\n",
       "      <td>2.0</td>\n",
       "      <td>...</td>\n",
       "      <td>1.0</td>\n",
       "      <td>2.0000</td>\n",
       "      <td>2.0000</td>\n",
       "      <td>2.0</td>\n",
       "      <td>2.0</td>\n",
       "      <td>2.0</td>\n",
       "      <td>2.00000</td>\n",
       "      <td>1.0039</td>\n",
       "      <td>1.0</td>\n",
       "      <td>2.00000</td>\n",
       "    </tr>\n",
       "  </tbody>\n",
       "</table>\n",
       "<p>7469 rows × 5757 columns</p>\n",
       "</div>"
      ],
      "text/plain": [
       "              index  2437417  2283331  5568615  4626449  1610609  3617323  \\\n",
       "0       rs1692584_T   0.0000   0.0196  0.00000   1.0000      1.0      0.0   \n",
       "1       rs1692585_T   0.2078   0.0000  0.26666   1.4745      1.0      0.0   \n",
       "2      rs76282923_T   2.0000   2.0000  2.00000   1.0000      2.0      2.0   \n",
       "3     rs142707962_T   2.0000   2.0000  2.00000   1.0000      2.0      2.0   \n",
       "4      rs74590598_G   2.0000   2.0000  2.00000   1.0000      2.0      2.0   \n",
       "...             ...      ...      ...      ...      ...      ...      ...   \n",
       "7464     rs559723_A   0.0000   2.0000  0.00000   1.0000      0.0      0.0   \n",
       "7465     rs600038_T   1.0000   2.0000  2.00000   2.0000      0.0      2.0   \n",
       "7466   rs11244061_C   1.0000   2.0000  2.00000   2.0000      1.0      2.0   \n",
       "7467     rs649129_C   1.0000   2.0000  2.00000   2.0000      0.0      2.0   \n",
       "7468   rs17474001_C   1.0000   2.0000  2.00000   2.0000      1.0      2.0   \n",
       "\n",
       "      2209865  1919537  2067331  ...  3420212  1193929  4872319  1838942  \\\n",
       "0         1.0      1.0      0.0  ...      0.0   2.0000   1.0000      1.0   \n",
       "1         1.0      1.0      0.0  ...      0.0   2.0000   1.0000      1.0   \n",
       "2         2.0      2.0      2.0  ...      2.0   2.0000   2.0000      2.0   \n",
       "3         2.0      2.0      2.0  ...      2.0   2.0000   2.0000      2.0   \n",
       "4         2.0      2.0      2.0  ...      2.0   2.0000   2.0000      2.0   \n",
       "...       ...      ...      ...  ...      ...      ...      ...      ...   \n",
       "7464      1.0      1.0      0.0  ...      0.0   0.0000   0.0000      0.0   \n",
       "7465      2.0      2.0      2.0  ...      1.0   1.0000   0.0000      1.0   \n",
       "7466      2.0      2.0      2.0  ...      1.0   2.0000   1.0000      2.0   \n",
       "7467      2.0      2.0      2.0  ...      1.0   1.0039   0.0079      1.0   \n",
       "7468      2.0      2.0      2.0  ...      1.0   2.0000   2.0000      2.0   \n",
       "\n",
       "      3294657  4556083  4620563  4056167  4531036  4174059  \n",
       "0         1.0      0.0  1.00000   2.0000      2.0  1.00000  \n",
       "1         1.0      0.0  0.95294   2.0000      2.0  1.08234  \n",
       "2         2.0      2.0  2.00000   2.0000      1.0  2.00000  \n",
       "3         2.0      2.0  2.00000   2.0000      1.0  2.00000  \n",
       "4         2.0      2.0  2.00000   2.0000      1.0  2.00000  \n",
       "...       ...      ...      ...      ...      ...      ...  \n",
       "7464      0.0      0.0  0.00000   1.0000      1.0  1.00000  \n",
       "7465      2.0      2.0  1.00000   1.0000      1.0  2.00000  \n",
       "7466      2.0      2.0  2.00000   1.0039      1.0  2.00000  \n",
       "7467      2.0      2.0  1.00000   1.0000      1.0  2.00000  \n",
       "7468      2.0      2.0  2.00000   1.0039      1.0  2.00000  \n",
       "\n",
       "[7469 rows x 5757 columns]"
      ]
     },
     "execution_count": 33,
     "metadata": {},
     "output_type": "execute_result"
    }
   ],
   "source": [
    "geno = feather.read_feather(\"../../../cagi6-prs/features/baseline_snps_no_deviant-baseline_plus_samples/cad_age_matched/cad.age.matched.feather\")\n",
    "geno"
   ]
  },
  {
   "cell_type": "code",
   "execution_count": 34,
   "id": "161e9628-32af-43f0-953e-9948fa738c48",
   "metadata": {
    "execution": {
     "iopub.execute_input": "2021-09-30T16:02:26.808078Z",
     "iopub.status.busy": "2021-09-30T16:02:26.807841Z",
     "iopub.status.idle": "2021-09-30T16:02:27.198534Z",
     "shell.execute_reply": "2021-09-30T16:02:27.197870Z",
     "shell.execute_reply.started": "2021-09-30T16:02:26.808050Z"
    },
    "tags": []
   },
   "outputs": [
    {
     "data": {
      "text/html": [
       "<div>\n",
       "<style scoped>\n",
       "    .dataframe tbody tr th:only-of-type {\n",
       "        vertical-align: middle;\n",
       "    }\n",
       "\n",
       "    .dataframe tbody tr th {\n",
       "        vertical-align: top;\n",
       "    }\n",
       "\n",
       "    .dataframe thead th {\n",
       "        text-align: right;\n",
       "    }\n",
       "</style>\n",
       "<table border=\"1\" class=\"dataframe\">\n",
       "  <thead>\n",
       "    <tr style=\"text-align: right;\">\n",
       "      <th></th>\n",
       "      <th>index</th>\n",
       "      <th>2437417</th>\n",
       "      <th>2283331</th>\n",
       "      <th>5568615</th>\n",
       "      <th>4626449</th>\n",
       "      <th>1610609</th>\n",
       "      <th>3617323</th>\n",
       "      <th>2209865</th>\n",
       "      <th>1919537</th>\n",
       "      <th>2067331</th>\n",
       "      <th>...</th>\n",
       "      <th>3420212</th>\n",
       "      <th>1193929</th>\n",
       "      <th>4872319</th>\n",
       "      <th>1838942</th>\n",
       "      <th>3294657</th>\n",
       "      <th>4556083</th>\n",
       "      <th>4620563</th>\n",
       "      <th>4056167</th>\n",
       "      <th>4531036</th>\n",
       "      <th>4174059</th>\n",
       "    </tr>\n",
       "  </thead>\n",
       "  <tbody>\n",
       "    <tr>\n",
       "      <th>219</th>\n",
       "      <td>rs12142712_A</td>\n",
       "      <td>2.0</td>\n",
       "      <td>2.0</td>\n",
       "      <td>2.0</td>\n",
       "      <td>2.0</td>\n",
       "      <td>2.0</td>\n",
       "      <td>1.0</td>\n",
       "      <td>2.0</td>\n",
       "      <td>2.0</td>\n",
       "      <td>2.0</td>\n",
       "      <td>...</td>\n",
       "      <td>2.0</td>\n",
       "      <td>2.0</td>\n",
       "      <td>2.0</td>\n",
       "      <td>0.0</td>\n",
       "      <td>1.0</td>\n",
       "      <td>2.0</td>\n",
       "      <td>2.0</td>\n",
       "      <td>2.0</td>\n",
       "      <td>2.0</td>\n",
       "      <td>2.0</td>\n",
       "    </tr>\n",
       "    <tr>\n",
       "      <th>220</th>\n",
       "      <td>rs12142712_A.1</td>\n",
       "      <td>2.0</td>\n",
       "      <td>2.0</td>\n",
       "      <td>2.0</td>\n",
       "      <td>2.0</td>\n",
       "      <td>2.0</td>\n",
       "      <td>2.0</td>\n",
       "      <td>2.0</td>\n",
       "      <td>2.0</td>\n",
       "      <td>2.0</td>\n",
       "      <td>...</td>\n",
       "      <td>2.0</td>\n",
       "      <td>2.0</td>\n",
       "      <td>2.0</td>\n",
       "      <td>2.0</td>\n",
       "      <td>2.0</td>\n",
       "      <td>2.0</td>\n",
       "      <td>2.0</td>\n",
       "      <td>2.0</td>\n",
       "      <td>2.0</td>\n",
       "      <td>2.0</td>\n",
       "    </tr>\n",
       "  </tbody>\n",
       "</table>\n",
       "<p>2 rows × 5757 columns</p>\n",
       "</div>"
      ],
      "text/plain": [
       "              index  2437417  2283331  5568615  4626449  1610609  3617323  \\\n",
       "219    rs12142712_A      2.0      2.0      2.0      2.0      2.0      1.0   \n",
       "220  rs12142712_A.1      2.0      2.0      2.0      2.0      2.0      2.0   \n",
       "\n",
       "     2209865  1919537  2067331  ...  3420212  1193929  4872319  1838942  \\\n",
       "219      2.0      2.0      2.0  ...      2.0      2.0      2.0      0.0   \n",
       "220      2.0      2.0      2.0  ...      2.0      2.0      2.0      2.0   \n",
       "\n",
       "     3294657  4556083  4620563  4056167  4531036  4174059  \n",
       "219      1.0      2.0      2.0      2.0      2.0      2.0  \n",
       "220      2.0      2.0      2.0      2.0      2.0      2.0  \n",
       "\n",
       "[2 rows x 5757 columns]"
      ]
     },
     "execution_count": 34,
     "metadata": {},
     "output_type": "execute_result"
    }
   ],
   "source": [
    "geno[geno[\"index\"].str.contains(\"rs12142712\")] "
   ]
  },
  {
   "cell_type": "code",
   "execution_count": 35,
   "id": "b572d44c-843d-4584-945c-9ad2e111dc2c",
   "metadata": {
    "execution": {
     "iopub.execute_input": "2021-09-30T16:02:38.807729Z",
     "iopub.status.busy": "2021-09-30T16:02:38.807514Z",
     "iopub.status.idle": "2021-09-30T16:02:39.894787Z",
     "shell.execute_reply": "2021-09-30T16:02:39.893967Z",
     "shell.execute_reply.started": "2021-09-30T16:02:38.807704Z"
    },
    "tags": []
   },
   "outputs": [
    {
     "data": {
      "text/html": [
       "<div>\n",
       "<style scoped>\n",
       "    .dataframe tbody tr th:only-of-type {\n",
       "        vertical-align: middle;\n",
       "    }\n",
       "\n",
       "    .dataframe tbody tr th {\n",
       "        vertical-align: top;\n",
       "    }\n",
       "\n",
       "    .dataframe thead th {\n",
       "        text-align: right;\n",
       "    }\n",
       "</style>\n",
       "<table border=\"1\" class=\"dataframe\">\n",
       "  <thead>\n",
       "    <tr style=\"text-align: right;\">\n",
       "      <th></th>\n",
       "      <th>CHROM</th>\n",
       "      <th>POS</th>\n",
       "      <th>VARIANT</th>\n",
       "      <th>ALT_VARIANT</th>\n",
       "      <th>UKB_ID</th>\n",
       "      <th>UKB_REF</th>\n",
       "      <th>UKB_ALT</th>\n",
       "      <th>MGB_ID</th>\n",
       "      <th>MGB_A1</th>\n",
       "      <th>MGB_A2</th>\n",
       "    </tr>\n",
       "  </thead>\n",
       "  <tbody>\n",
       "    <tr>\n",
       "      <th>436805</th>\n",
       "      <td>1</td>\n",
       "      <td>197572672</td>\n",
       "      <td>1:197572672:A:G</td>\n",
       "      <td>1:197572672:G:A</td>\n",
       "      <td>rs12142712</td>\n",
       "      <td>A</td>\n",
       "      <td>G</td>\n",
       "      <td>1:197572672_A_G</td>\n",
       "      <td>G</td>\n",
       "      <td>A</td>\n",
       "    </tr>\n",
       "  </tbody>\n",
       "</table>\n",
       "</div>"
      ],
      "text/plain": [
       "        CHROM        POS          VARIANT      ALT_VARIANT      UKB_ID  \\\n",
       "436805      1  197572672  1:197572672:A:G  1:197572672:G:A  rs12142712   \n",
       "\n",
       "       UKB_REF UKB_ALT           MGB_ID MGB_A1 MGB_A2  \n",
       "436805       A       G  1:197572672_A_G      G      A  "
      ]
     },
     "execution_count": 35,
     "metadata": {},
     "output_type": "execute_result"
    }
   ],
   "source": [
    "snp_map[snp_map[\"UKB_ID\"].str.contains(\"rs12142712\")]"
   ]
  },
  {
   "cell_type": "code",
   "execution_count": 36,
   "id": "a26be5af-7f37-4621-94d1-91812648d790",
   "metadata": {
    "execution": {
     "iopub.execute_input": "2021-09-30T16:02:43.302351Z",
     "iopub.status.busy": "2021-09-30T16:02:43.302153Z",
     "iopub.status.idle": "2021-09-30T16:02:43.702683Z",
     "shell.execute_reply": "2021-09-30T16:02:43.701994Z",
     "shell.execute_reply.started": "2021-09-30T16:02:43.302325Z"
    },
    "tags": []
   },
   "outputs": [
    {
     "data": {
      "text/plain": [
       "(['rs1692584', 'rs1692585', 'rs76282923', 'rs142707962', 'rs74590598'],\n",
       " ['T', 'T', 'T', 'T', 'G'])"
      ]
     },
     "execution_count": 36,
     "metadata": {},
     "output_type": "execute_result"
    }
   ],
   "source": [
    "snps = [\"_\".join(var.split(\"_\")[:-1]) for var in geno[\"index\"]]\n",
    "alleles = [var.split(\".\")[0][-1] for var in geno[\"index\"]]\n",
    "allele_mp = dict(zip(snps, alleles))\n",
    "snps[:5], alleles[:5]"
   ]
  },
  {
   "cell_type": "code",
   "execution_count": 37,
   "id": "7953569a-6418-4de1-a7a0-cf46554ada1e",
   "metadata": {
    "execution": {
     "iopub.execute_input": "2021-09-30T16:02:44.548924Z",
     "iopub.status.busy": "2021-09-30T16:02:44.548688Z",
     "iopub.status.idle": "2021-09-30T16:02:48.565429Z",
     "shell.execute_reply": "2021-09-30T16:02:48.564780Z",
     "shell.execute_reply.started": "2021-09-30T16:02:44.548896Z"
    },
    "tags": []
   },
   "outputs": [
    {
     "data": {
      "text/html": [
       "<div>\n",
       "<style scoped>\n",
       "    .dataframe tbody tr th:only-of-type {\n",
       "        vertical-align: middle;\n",
       "    }\n",
       "\n",
       "    .dataframe tbody tr th {\n",
       "        vertical-align: top;\n",
       "    }\n",
       "\n",
       "    .dataframe thead th {\n",
       "        text-align: right;\n",
       "    }\n",
       "</style>\n",
       "<table border=\"1\" class=\"dataframe\">\n",
       "  <thead>\n",
       "    <tr style=\"text-align: right;\">\n",
       "      <th></th>\n",
       "      <th>UKB_ID</th>\n",
       "      <th>MGB_ID</th>\n",
       "    </tr>\n",
       "  </thead>\n",
       "  <tbody>\n",
       "    <tr>\n",
       "      <th>4595</th>\n",
       "      <td>rs2184104</td>\n",
       "      <td>1:56912222_T_C</td>\n",
       "    </tr>\n",
       "    <tr>\n",
       "      <th>4596</th>\n",
       "      <td>rs6693179</td>\n",
       "      <td>1:56914602_G_A</td>\n",
       "    </tr>\n",
       "    <tr>\n",
       "      <th>4597</th>\n",
       "      <td>rs6684929</td>\n",
       "      <td>1:56914738_T_C</td>\n",
       "    </tr>\n",
       "    <tr>\n",
       "      <th>4598</th>\n",
       "      <td>rs6421496</td>\n",
       "      <td>1:56915593_C_T</td>\n",
       "    </tr>\n",
       "    <tr>\n",
       "      <th>4599</th>\n",
       "      <td>rs1889145</td>\n",
       "      <td>1:56915820_G_A</td>\n",
       "    </tr>\n",
       "    <tr>\n",
       "      <th>...</th>\n",
       "      <td>...</td>\n",
       "      <td>...</td>\n",
       "    </tr>\n",
       "    <tr>\n",
       "      <th>1617655</th>\n",
       "      <td>rs532436</td>\n",
       "      <td>9:136149830_G_A</td>\n",
       "    </tr>\n",
       "    <tr>\n",
       "      <th>1617656</th>\n",
       "      <td>rs600038</td>\n",
       "      <td>9:136151806_T_C</td>\n",
       "    </tr>\n",
       "    <tr>\n",
       "      <th>1617663</th>\n",
       "      <td>rs11244061</td>\n",
       "      <td>9:136153981_C_T</td>\n",
       "    </tr>\n",
       "    <tr>\n",
       "      <th>1617665</th>\n",
       "      <td>rs649129</td>\n",
       "      <td>9:136154304_C_T</td>\n",
       "    </tr>\n",
       "    <tr>\n",
       "      <th>1617718</th>\n",
       "      <td>rs17474001</td>\n",
       "      <td>9:136267149_C_T</td>\n",
       "    </tr>\n",
       "  </tbody>\n",
       "</table>\n",
       "<p>7451 rows × 2 columns</p>\n",
       "</div>"
      ],
      "text/plain": [
       "             UKB_ID           MGB_ID\n",
       "4595      rs2184104   1:56912222_T_C\n",
       "4596      rs6693179   1:56914602_G_A\n",
       "4597      rs6684929   1:56914738_T_C\n",
       "4598      rs6421496   1:56915593_C_T\n",
       "4599      rs1889145   1:56915820_G_A\n",
       "...             ...              ...\n",
       "1617655    rs532436  9:136149830_G_A\n",
       "1617656    rs600038  9:136151806_T_C\n",
       "1617663  rs11244061  9:136153981_C_T\n",
       "1617665    rs649129  9:136154304_C_T\n",
       "1617718  rs17474001  9:136267149_C_T\n",
       "\n",
       "[7451 rows x 2 columns]"
      ]
     },
     "execution_count": 37,
     "metadata": {},
     "output_type": "execute_result"
    }
   ],
   "source": [
    "snp_map = pd.read_csv(\"../../../cagi6-prs/snps/ukb.extracted.intersected.mgb.snps.tsv\", sep=\"\\t\")\n",
    "subset_snp_map = snp_map[snp_map[\"UKB_ID\"].isin(snps)][[\"UKB_ID\", \"MGB_ID\"]]\n",
    "subset_snp_map"
   ]
  },
  {
   "cell_type": "code",
   "execution_count": 38,
   "id": "302c0025-a566-4984-be1a-54881f12b752",
   "metadata": {
    "execution": {
     "iopub.execute_input": "2021-09-30T16:02:49.019833Z",
     "iopub.status.busy": "2021-09-30T16:02:49.019585Z",
     "iopub.status.idle": "2021-09-30T16:02:49.389588Z",
     "shell.execute_reply": "2021-09-30T16:02:49.388883Z",
     "shell.execute_reply.started": "2021-09-30T16:02:49.019779Z"
    },
    "tags": []
   },
   "outputs": [
    {
     "data": {
      "text/html": [
       "<div>\n",
       "<style scoped>\n",
       "    .dataframe tbody tr th:only-of-type {\n",
       "        vertical-align: middle;\n",
       "    }\n",
       "\n",
       "    .dataframe tbody tr th {\n",
       "        vertical-align: top;\n",
       "    }\n",
       "\n",
       "    .dataframe thead th {\n",
       "        text-align: right;\n",
       "    }\n",
       "</style>\n",
       "<table border=\"1\" class=\"dataframe\">\n",
       "  <thead>\n",
       "    <tr style=\"text-align: right;\">\n",
       "      <th></th>\n",
       "      <th>0</th>\n",
       "      <th>mean</th>\n",
       "      <th>std</th>\n",
       "    </tr>\n",
       "  </thead>\n",
       "  <tbody>\n",
       "    <tr>\n",
       "      <th>0</th>\n",
       "      <td>rs1692584</td>\n",
       "      <td>1.234933</td>\n",
       "      <td>0.677531</td>\n",
       "    </tr>\n",
       "    <tr>\n",
       "      <th>1</th>\n",
       "      <td>rs1692585</td>\n",
       "      <td>1.247089</td>\n",
       "      <td>0.670771</td>\n",
       "    </tr>\n",
       "    <tr>\n",
       "      <th>2</th>\n",
       "      <td>rs76282923</td>\n",
       "      <td>1.901087</td>\n",
       "      <td>0.306297</td>\n",
       "    </tr>\n",
       "    <tr>\n",
       "      <th>3</th>\n",
       "      <td>rs142707962</td>\n",
       "      <td>1.901117</td>\n",
       "      <td>0.306254</td>\n",
       "    </tr>\n",
       "    <tr>\n",
       "      <th>4</th>\n",
       "      <td>rs74590598</td>\n",
       "      <td>1.901464</td>\n",
       "      <td>0.305765</td>\n",
       "    </tr>\n",
       "    <tr>\n",
       "      <th>...</th>\n",
       "      <td>...</td>\n",
       "      <td>...</td>\n",
       "      <td>...</td>\n",
       "    </tr>\n",
       "    <tr>\n",
       "      <th>7464</th>\n",
       "      <td>rs559723</td>\n",
       "      <td>0.974722</td>\n",
       "      <td>0.703103</td>\n",
       "    </tr>\n",
       "    <tr>\n",
       "      <th>7465</th>\n",
       "      <td>rs600038</td>\n",
       "      <td>1.573194</td>\n",
       "      <td>0.577394</td>\n",
       "    </tr>\n",
       "    <tr>\n",
       "      <th>7466</th>\n",
       "      <td>rs11244061</td>\n",
       "      <td>1.769694</td>\n",
       "      <td>0.451291</td>\n",
       "    </tr>\n",
       "    <tr>\n",
       "      <th>7467</th>\n",
       "      <td>rs649129</td>\n",
       "      <td>1.573252</td>\n",
       "      <td>0.577947</td>\n",
       "    </tr>\n",
       "    <tr>\n",
       "      <th>7468</th>\n",
       "      <td>rs17474001</td>\n",
       "      <td>1.727162</td>\n",
       "      <td>0.478773</td>\n",
       "    </tr>\n",
       "  </tbody>\n",
       "</table>\n",
       "<p>7469 rows × 3 columns</p>\n",
       "</div>"
      ],
      "text/plain": [
       "                0      mean       std\n",
       "0       rs1692584  1.234933  0.677531\n",
       "1       rs1692585  1.247089  0.670771\n",
       "2      rs76282923  1.901087  0.306297\n",
       "3     rs142707962  1.901117  0.306254\n",
       "4      rs74590598  1.901464  0.305765\n",
       "...           ...       ...       ...\n",
       "7464     rs559723  0.974722  0.703103\n",
       "7465     rs600038  1.573194  0.577394\n",
       "7466   rs11244061  1.769694  0.451291\n",
       "7467     rs649129  1.573252  0.577947\n",
       "7468   rs17474001  1.727162  0.478773\n",
       "\n",
       "[7469 rows x 3 columns]"
      ]
     },
     "execution_count": 38,
     "metadata": {},
     "output_type": "execute_result"
    }
   ],
   "source": [
    "stats = pd.read_csv(\"../../../cagi6-prs/features/baseline_snps_no_deviant-baseline_plus_samples/cad_age_matched/cad.age.matched.train.stats.tsv\", sep=\"\\t\")\n",
    "subset_stats = stats[stats[\"0\"].isin(snps)]\n",
    "subset_stats"
   ]
  },
  {
   "cell_type": "code",
   "execution_count": 39,
   "id": "e45f6a7a-17bf-464d-9ce3-83ef8d5371ab",
   "metadata": {
    "execution": {
     "iopub.execute_input": "2021-09-30T16:02:52.806210Z",
     "iopub.status.busy": "2021-09-30T16:02:52.806012Z",
     "iopub.status.idle": "2021-09-30T16:02:53.209995Z",
     "shell.execute_reply": "2021-09-30T16:02:53.209131Z",
     "shell.execute_reply.started": "2021-09-30T16:02:52.806185Z"
    },
    "tags": []
   },
   "outputs": [
    {
     "data": {
      "text/html": [
       "<div>\n",
       "<style scoped>\n",
       "    .dataframe tbody tr th:only-of-type {\n",
       "        vertical-align: middle;\n",
       "    }\n",
       "\n",
       "    .dataframe tbody tr th {\n",
       "        vertical-align: top;\n",
       "    }\n",
       "\n",
       "    .dataframe thead th {\n",
       "        text-align: right;\n",
       "    }\n",
       "</style>\n",
       "<table border=\"1\" class=\"dataframe\">\n",
       "  <thead>\n",
       "    <tr style=\"text-align: right;\">\n",
       "      <th></th>\n",
       "      <th>UKB_ID</th>\n",
       "      <th>MGB_ID</th>\n",
       "      <th>0</th>\n",
       "      <th>mean</th>\n",
       "      <th>std</th>\n",
       "    </tr>\n",
       "  </thead>\n",
       "  <tbody>\n",
       "    <tr>\n",
       "      <th>0</th>\n",
       "      <td>rs2184104</td>\n",
       "      <td>1:56912222_T_C</td>\n",
       "      <td>rs2184104</td>\n",
       "      <td>0.443815</td>\n",
       "      <td>0.587821</td>\n",
       "    </tr>\n",
       "    <tr>\n",
       "      <th>1</th>\n",
       "      <td>rs6693179</td>\n",
       "      <td>1:56914602_G_A</td>\n",
       "      <td>rs6693179</td>\n",
       "      <td>0.443409</td>\n",
       "      <td>0.587740</td>\n",
       "    </tr>\n",
       "    <tr>\n",
       "      <th>2</th>\n",
       "      <td>rs6684929</td>\n",
       "      <td>1:56914738_T_C</td>\n",
       "      <td>rs6684929</td>\n",
       "      <td>0.443407</td>\n",
       "      <td>0.587745</td>\n",
       "    </tr>\n",
       "    <tr>\n",
       "      <th>3</th>\n",
       "      <td>rs6421496</td>\n",
       "      <td>1:56915593_C_T</td>\n",
       "      <td>rs6421496</td>\n",
       "      <td>0.215563</td>\n",
       "      <td>0.433631</td>\n",
       "    </tr>\n",
       "    <tr>\n",
       "      <th>4</th>\n",
       "      <td>rs1889145</td>\n",
       "      <td>1:56915820_G_A</td>\n",
       "      <td>rs1889145</td>\n",
       "      <td>0.443433</td>\n",
       "      <td>0.587718</td>\n",
       "    </tr>\n",
       "    <tr>\n",
       "      <th>...</th>\n",
       "      <td>...</td>\n",
       "      <td>...</td>\n",
       "      <td>...</td>\n",
       "      <td>...</td>\n",
       "      <td>...</td>\n",
       "    </tr>\n",
       "    <tr>\n",
       "      <th>7464</th>\n",
       "      <td>rs532436</td>\n",
       "      <td>9:136149830_G_A</td>\n",
       "      <td>rs532436</td>\n",
       "      <td>1.617514</td>\n",
       "      <td>0.554517</td>\n",
       "    </tr>\n",
       "    <tr>\n",
       "      <th>7465</th>\n",
       "      <td>rs600038</td>\n",
       "      <td>9:136151806_T_C</td>\n",
       "      <td>rs600038</td>\n",
       "      <td>1.573194</td>\n",
       "      <td>0.577394</td>\n",
       "    </tr>\n",
       "    <tr>\n",
       "      <th>7466</th>\n",
       "      <td>rs11244061</td>\n",
       "      <td>9:136153981_C_T</td>\n",
       "      <td>rs11244061</td>\n",
       "      <td>1.769694</td>\n",
       "      <td>0.451291</td>\n",
       "    </tr>\n",
       "    <tr>\n",
       "      <th>7467</th>\n",
       "      <td>rs649129</td>\n",
       "      <td>9:136154304_C_T</td>\n",
       "      <td>rs649129</td>\n",
       "      <td>1.573252</td>\n",
       "      <td>0.577947</td>\n",
       "    </tr>\n",
       "    <tr>\n",
       "      <th>7468</th>\n",
       "      <td>rs17474001</td>\n",
       "      <td>9:136267149_C_T</td>\n",
       "      <td>rs17474001</td>\n",
       "      <td>1.727162</td>\n",
       "      <td>0.478773</td>\n",
       "    </tr>\n",
       "  </tbody>\n",
       "</table>\n",
       "<p>7469 rows × 5 columns</p>\n",
       "</div>"
      ],
      "text/plain": [
       "          UKB_ID           MGB_ID           0      mean       std\n",
       "0      rs2184104   1:56912222_T_C   rs2184104  0.443815  0.587821\n",
       "1      rs6693179   1:56914602_G_A   rs6693179  0.443409  0.587740\n",
       "2      rs6684929   1:56914738_T_C   rs6684929  0.443407  0.587745\n",
       "3      rs6421496   1:56915593_C_T   rs6421496  0.215563  0.433631\n",
       "4      rs1889145   1:56915820_G_A   rs1889145  0.443433  0.587718\n",
       "...          ...              ...         ...       ...       ...\n",
       "7464    rs532436  9:136149830_G_A    rs532436  1.617514  0.554517\n",
       "7465    rs600038  9:136151806_T_C    rs600038  1.573194  0.577394\n",
       "7466  rs11244061  9:136153981_C_T  rs11244061  1.769694  0.451291\n",
       "7467    rs649129  9:136154304_C_T    rs649129  1.573252  0.577947\n",
       "7468  rs17474001  9:136267149_C_T  rs17474001  1.727162  0.478773\n",
       "\n",
       "[7469 rows x 5 columns]"
      ]
     },
     "execution_count": 39,
     "metadata": {},
     "output_type": "execute_result"
    }
   ],
   "source": [
    "summary_df = pd.merge(subset_snp_map, subset_stats, left_on=\"UKB_ID\", right_on=\"0\")\n",
    "summary_df"
   ]
  },
  {
   "cell_type": "code",
   "execution_count": 40,
   "id": "e69fad72-bce2-4af8-8c6f-43aaacdc4e6b",
   "metadata": {
    "execution": {
     "iopub.execute_input": "2021-09-30T16:02:58.637743Z",
     "iopub.status.busy": "2021-09-30T16:02:58.637546Z",
     "iopub.status.idle": "2021-09-30T16:02:59.012982Z",
     "shell.execute_reply": "2021-09-30T16:02:59.012321Z",
     "shell.execute_reply.started": "2021-09-30T16:02:58.637718Z"
    },
    "tags": []
   },
   "outputs": [
    {
     "data": {
      "text/html": [
       "<div>\n",
       "<style scoped>\n",
       "    .dataframe tbody tr th:only-of-type {\n",
       "        vertical-align: middle;\n",
       "    }\n",
       "\n",
       "    .dataframe tbody tr th {\n",
       "        vertical-align: top;\n",
       "    }\n",
       "\n",
       "    .dataframe thead th {\n",
       "        text-align: right;\n",
       "    }\n",
       "</style>\n",
       "<table border=\"1\" class=\"dataframe\">\n",
       "  <thead>\n",
       "    <tr style=\"text-align: right;\">\n",
       "      <th></th>\n",
       "      <th>UKB_ID</th>\n",
       "      <th>MGB_ID</th>\n",
       "      <th>0</th>\n",
       "      <th>mean</th>\n",
       "      <th>std</th>\n",
       "    </tr>\n",
       "  </thead>\n",
       "  <tbody>\n",
       "    <tr>\n",
       "      <th>0</th>\n",
       "      <td>rs1692584</td>\n",
       "      <td>1:2172917_T_C</td>\n",
       "      <td>rs1692584</td>\n",
       "      <td>1.234933</td>\n",
       "      <td>0.677531</td>\n",
       "    </tr>\n",
       "    <tr>\n",
       "      <th>1</th>\n",
       "      <td>rs1692585</td>\n",
       "      <td>1:2172919_T_C</td>\n",
       "      <td>rs1692585</td>\n",
       "      <td>1.247089</td>\n",
       "      <td>0.670771</td>\n",
       "    </tr>\n",
       "    <tr>\n",
       "      <th>2</th>\n",
       "      <td>rs76282923</td>\n",
       "      <td>1:14612626_T_C</td>\n",
       "      <td>rs76282923</td>\n",
       "      <td>1.901087</td>\n",
       "      <td>0.306297</td>\n",
       "    </tr>\n",
       "    <tr>\n",
       "      <th>3</th>\n",
       "      <td>rs142707962</td>\n",
       "      <td>1:14615321_T_C</td>\n",
       "      <td>rs142707962</td>\n",
       "      <td>1.901117</td>\n",
       "      <td>0.306254</td>\n",
       "    </tr>\n",
       "    <tr>\n",
       "      <th>4</th>\n",
       "      <td>rs74590598</td>\n",
       "      <td>1:14620817_G_C</td>\n",
       "      <td>rs74590598</td>\n",
       "      <td>1.901464</td>\n",
       "      <td>0.305765</td>\n",
       "    </tr>\n",
       "    <tr>\n",
       "      <th>...</th>\n",
       "      <td>...</td>\n",
       "      <td>...</td>\n",
       "      <td>...</td>\n",
       "      <td>...</td>\n",
       "      <td>...</td>\n",
       "    </tr>\n",
       "    <tr>\n",
       "      <th>7464</th>\n",
       "      <td>rs559723</td>\n",
       "      <td>9:136150484_A_G</td>\n",
       "      <td>rs559723</td>\n",
       "      <td>0.974722</td>\n",
       "      <td>0.703103</td>\n",
       "    </tr>\n",
       "    <tr>\n",
       "      <th>7465</th>\n",
       "      <td>rs600038</td>\n",
       "      <td>9:136151806_T_C</td>\n",
       "      <td>rs600038</td>\n",
       "      <td>1.573194</td>\n",
       "      <td>0.577394</td>\n",
       "    </tr>\n",
       "    <tr>\n",
       "      <th>7466</th>\n",
       "      <td>rs11244061</td>\n",
       "      <td>9:136153981_C_T</td>\n",
       "      <td>rs11244061</td>\n",
       "      <td>1.769694</td>\n",
       "      <td>0.451291</td>\n",
       "    </tr>\n",
       "    <tr>\n",
       "      <th>7467</th>\n",
       "      <td>rs649129</td>\n",
       "      <td>9:136154304_C_T</td>\n",
       "      <td>rs649129</td>\n",
       "      <td>1.573252</td>\n",
       "      <td>0.577947</td>\n",
       "    </tr>\n",
       "    <tr>\n",
       "      <th>7468</th>\n",
       "      <td>rs17474001</td>\n",
       "      <td>9:136267149_C_T</td>\n",
       "      <td>rs17474001</td>\n",
       "      <td>1.727162</td>\n",
       "      <td>0.478773</td>\n",
       "    </tr>\n",
       "  </tbody>\n",
       "</table>\n",
       "<p>7469 rows × 5 columns</p>\n",
       "</div>"
      ],
      "text/plain": [
       "           UKB_ID           MGB_ID            0      mean       std\n",
       "0       rs1692584    1:2172917_T_C    rs1692584  1.234933  0.677531\n",
       "1       rs1692585    1:2172919_T_C    rs1692585  1.247089  0.670771\n",
       "2      rs76282923   1:14612626_T_C   rs76282923  1.901087  0.306297\n",
       "3     rs142707962   1:14615321_T_C  rs142707962  1.901117  0.306254\n",
       "4      rs74590598   1:14620817_G_C   rs74590598  1.901464  0.305765\n",
       "...           ...              ...          ...       ...       ...\n",
       "7464     rs559723  9:136150484_A_G     rs559723  0.974722  0.703103\n",
       "7465     rs600038  9:136151806_T_C     rs600038  1.573194  0.577394\n",
       "7466   rs11244061  9:136153981_C_T   rs11244061  1.769694  0.451291\n",
       "7467     rs649129  9:136154304_C_T     rs649129  1.573252  0.577947\n",
       "7468   rs17474001  9:136267149_C_T   rs17474001  1.727162  0.478773\n",
       "\n",
       "[7469 rows x 5 columns]"
      ]
     },
     "execution_count": 40,
     "metadata": {},
     "output_type": "execute_result"
    }
   ],
   "source": [
    "summary_df = summary_df.set_index(\"UKB_ID\").loc[pd.Index(snps).drop_duplicates()].reset_index()\n",
    "summary_df"
   ]
  },
  {
   "cell_type": "code",
   "execution_count": 41,
   "id": "6ab1596c-a55b-4913-aeae-eb8f762232bc",
   "metadata": {
    "execution": {
     "iopub.execute_input": "2021-09-30T16:03:02.603611Z",
     "iopub.status.busy": "2021-09-30T16:03:02.603397Z",
     "iopub.status.idle": "2021-09-30T16:03:02.978387Z",
     "shell.execute_reply": "2021-09-30T16:03:02.977679Z",
     "shell.execute_reply.started": "2021-09-30T16:03:02.603585Z"
    },
    "tags": []
   },
   "outputs": [],
   "source": [
    "summary_df[\"expected_allele\"] = summary_df[\"UKB_ID\"].map(allele_mp)"
   ]
  },
  {
   "cell_type": "code",
   "execution_count": 42,
   "id": "be3ec79a-9811-4193-867c-a7a64f0a285b",
   "metadata": {
    "execution": {
     "iopub.execute_input": "2021-09-30T16:03:03.391678Z",
     "iopub.status.busy": "2021-09-30T16:03:03.391455Z",
     "iopub.status.idle": "2021-09-30T16:03:03.707206Z",
     "shell.execute_reply": "2021-09-30T16:03:03.706286Z",
     "shell.execute_reply.started": "2021-09-30T16:03:03.391651Z"
    },
    "tags": []
   },
   "outputs": [],
   "source": [
    "final_df = summary_df[[\"UKB_ID\", \"MGB_ID\", \"expected_allele\", \"mean\", \"std\"]]"
   ]
  },
  {
   "cell_type": "code",
   "execution_count": 43,
   "id": "7a4c12de-e8f8-41bf-993a-86ba92a1cc37",
   "metadata": {
    "execution": {
     "iopub.execute_input": "2021-09-30T16:03:04.229131Z",
     "iopub.status.busy": "2021-09-30T16:03:04.228939Z",
     "iopub.status.idle": "2021-09-30T16:03:04.539298Z",
     "shell.execute_reply": "2021-09-30T16:03:04.538535Z",
     "shell.execute_reply.started": "2021-09-30T16:03:04.229107Z"
    },
    "tags": []
   },
   "outputs": [],
   "source": [
    "final_df.columns = [\"UKB_ID\", \"MGB_ID\", \"EXPECTED_ALLELE\", \"MEAN\", \"STD\"]"
   ]
  },
  {
   "cell_type": "markdown",
   "id": "90a1f45e-43d2-4e40-ba7a-5d515c09cf73",
   "metadata": {},
   "source": [
    "**Sanity checks**"
   ]
  },
  {
   "cell_type": "code",
   "execution_count": 44,
   "id": "dcef097b-33fe-4507-a355-20efc3890b10",
   "metadata": {
    "execution": {
     "iopub.execute_input": "2021-09-30T16:03:08.996511Z",
     "iopub.status.busy": "2021-09-30T16:03:08.996309Z",
     "iopub.status.idle": "2021-09-30T16:03:09.990801Z",
     "shell.execute_reply": "2021-09-30T16:03:09.990035Z",
     "shell.execute_reply.started": "2021-09-30T16:03:08.996486Z"
    },
    "tags": []
   },
   "outputs": [
    {
     "data": {
      "text/plain": [
       "True"
      ]
     },
     "execution_count": 44,
     "metadata": {},
     "output_type": "execute_result"
    }
   ],
   "source": [
    "final_df[\"MGB_ID\"].isin(bim[1]).all()"
   ]
  },
  {
   "cell_type": "code",
   "execution_count": 46,
   "id": "22668a95-d575-4d5d-bf1c-ac71f2808ae3",
   "metadata": {
    "execution": {
     "iopub.execute_input": "2021-09-30T16:03:15.048401Z",
     "iopub.status.busy": "2021-09-30T16:03:15.048210Z",
     "iopub.status.idle": "2021-09-30T16:03:15.397586Z",
     "shell.execute_reply": "2021-09-30T16:03:15.396877Z",
     "shell.execute_reply.started": "2021-09-30T16:03:15.048376Z"
    },
    "tags": []
   },
   "outputs": [],
   "source": [
    "actual_feather = feather.read_feather(\"MGB_10.cad.zscored.feather\")"
   ]
  },
  {
   "cell_type": "code",
   "execution_count": 47,
   "id": "162307dd-c7d8-4915-a8b7-5cfea503d0df",
   "metadata": {
    "execution": {
     "iopub.execute_input": "2021-09-30T16:03:16.332031Z",
     "iopub.status.busy": "2021-09-30T16:03:16.331797Z",
     "iopub.status.idle": "2021-09-30T16:03:16.688972Z",
     "shell.execute_reply": "2021-09-30T16:03:16.687987Z",
     "shell.execute_reply.started": "2021-09-30T16:03:16.332004Z"
    },
    "tags": []
   },
   "outputs": [
    {
     "data": {
      "text/plain": [
       "True"
      ]
     },
     "execution_count": 47,
     "metadata": {},
     "output_type": "execute_result"
    }
   ],
   "source": [
    "(final_df[\"MGB_ID\"] == actual_feather[\"0\"]).all()"
   ]
  },
  {
   "cell_type": "code",
   "execution_count": 48,
   "id": "b1c4358b-36de-4833-9474-426ef7f32913",
   "metadata": {
    "execution": {
     "iopub.execute_input": "2021-09-30T16:03:18.593881Z",
     "iopub.status.busy": "2021-09-30T16:03:18.593676Z",
     "iopub.status.idle": "2021-09-30T16:03:18.911360Z",
     "shell.execute_reply": "2021-09-30T16:03:18.910579Z",
     "shell.execute_reply.started": "2021-09-30T16:03:18.593855Z"
    },
    "tags": []
   },
   "outputs": [
    {
     "data": {
      "text/plain": [
       "True"
      ]
     },
     "execution_count": 48,
     "metadata": {},
     "output_type": "execute_result"
    }
   ],
   "source": [
    "(final_df[\"UKB_ID\"] == stats[\"0\"]).all()"
   ]
  },
  {
   "cell_type": "code",
   "execution_count": 50,
   "id": "98d6a754-90f2-428e-9110-0691aa973b11",
   "metadata": {
    "execution": {
     "iopub.execute_input": "2021-09-30T16:03:29.638567Z",
     "iopub.status.busy": "2021-09-30T16:03:29.638230Z",
     "iopub.status.idle": "2021-09-30T16:03:30.047953Z",
     "shell.execute_reply": "2021-09-30T16:03:30.047014Z",
     "shell.execute_reply.started": "2021-09-30T16:03:29.638520Z"
    },
    "tags": []
   },
   "outputs": [
    {
     "data": {
      "text/plain": [
       "True"
      ]
     },
     "execution_count": 50,
     "metadata": {},
     "output_type": "execute_result"
    }
   ],
   "source": [
    "(summary_df[\"UKB_ID\"] == stats[\"0\"]).all()"
   ]
  },
  {
   "cell_type": "markdown",
   "id": "73f68402-58d8-481c-8eb5-4936889bd8d1",
   "metadata": {},
   "source": [
    "**Save**"
   ]
  },
  {
   "cell_type": "code",
   "execution_count": 419,
   "id": "5755b4cb-0822-4606-9dfb-d2c6a900751b",
   "metadata": {
    "execution": {
     "iopub.execute_input": "2021-09-29T17:56:28.829874Z",
     "iopub.status.busy": "2021-09-29T17:56:28.829590Z",
     "iopub.status.idle": "2021-09-29T17:56:29.398643Z",
     "shell.execute_reply": "2021-09-29T17:56:29.397804Z",
     "shell.execute_reply.started": "2021-09-29T17:56:28.829842Z"
    },
    "tags": []
   },
   "outputs": [],
   "source": [
    "final_df.to_csv(\"cad.summary.tsv\", sep=\"\\t\", index=False)"
   ]
  },
  {
   "cell_type": "code",
   "execution_count": 420,
   "id": "ef149d58-a7f7-4290-af4e-c77e191c22d5",
   "metadata": {
    "execution": {
     "iopub.execute_input": "2021-09-29T17:56:30.311950Z",
     "iopub.status.busy": "2021-09-29T17:56:30.311645Z",
     "iopub.status.idle": "2021-09-29T17:56:31.689265Z",
     "shell.execute_reply": "2021-09-29T17:56:31.688524Z",
     "shell.execute_reply.started": "2021-09-29T17:56:30.311917Z"
    },
    "tags": []
   },
   "outputs": [
    {
     "data": {
      "text/plain": [
       "True"
      ]
     },
     "execution_count": 420,
     "metadata": {},
     "output_type": "execute_result"
    }
   ],
   "source": [
    "final_df[\"MGB_ID\"].isin(bim[1]).all()"
   ]
  },
  {
   "cell_type": "code",
   "execution_count": 421,
   "id": "5c33a30c-367f-4767-9dad-ccfc4607355b",
   "metadata": {
    "execution": {
     "iopub.execute_input": "2021-09-29T17:56:32.600955Z",
     "iopub.status.busy": "2021-09-29T17:56:32.600593Z",
     "iopub.status.idle": "2021-09-29T17:56:33.210307Z",
     "shell.execute_reply": "2021-09-29T17:56:33.209547Z",
     "shell.execute_reply.started": "2021-09-29T17:56:32.600908Z"
    },
    "tags": []
   },
   "outputs": [],
   "source": [
    "final_df[\"MGB_ID\"].to_csv(\"cad.extract.txt\", header=None, index=False)"
   ]
  },
  {
   "cell_type": "markdown",
   "id": "deeff3e3-fbe2-4492-8c69-6cacc38b6cd6",
   "metadata": {
    "tags": [],
    "toc-hr-collapsed": true
   },
   "source": [
    "#### IBD"
   ]
  },
  {
   "cell_type": "code",
   "execution_count": 51,
   "id": "e0e71b65-9fa7-4ef9-8e83-5b942761e944",
   "metadata": {
    "execution": {
     "iopub.execute_input": "2021-09-30T16:03:53.041766Z",
     "iopub.status.busy": "2021-09-30T16:03:53.041524Z",
     "iopub.status.idle": "2021-09-30T16:03:55.515715Z",
     "shell.execute_reply": "2021-09-30T16:03:55.515021Z",
     "shell.execute_reply.started": "2021-09-30T16:03:53.041738Z"
    },
    "tags": []
   },
   "outputs": [],
   "source": [
    "geno = feather.read_feather(\"../../../cagi6-prs/features/baseline_snps_no_deviant-baseline_plus_samples/ibd_age_matched/ibd.age.matched.feather\")"
   ]
  },
  {
   "cell_type": "code",
   "execution_count": 52,
   "id": "e50aa4f4-e226-497a-a1aa-4e63165e1a04",
   "metadata": {
    "execution": {
     "iopub.execute_input": "2021-09-30T16:03:56.576517Z",
     "iopub.status.busy": "2021-09-30T16:03:56.576218Z",
     "iopub.status.idle": "2021-09-30T16:03:56.976099Z",
     "shell.execute_reply": "2021-09-30T16:03:56.975373Z",
     "shell.execute_reply.started": "2021-09-30T16:03:56.576477Z"
    },
    "tags": []
   },
   "outputs": [],
   "source": [
    "snps = [\"_\".join(var.split(\"_\")[:-1]) for var in geno[\"index\"]]\n",
    "alleles = [var.split(\".\")[0][-1] for var in geno[\"index\"]]\n",
    "allele_mp = dict(zip(snps, alleles))"
   ]
  },
  {
   "cell_type": "code",
   "execution_count": 54,
   "id": "9e88e290-b5c1-47cf-902f-566702f3b2b4",
   "metadata": {
    "execution": {
     "iopub.execute_input": "2021-09-30T16:04:05.932925Z",
     "iopub.status.busy": "2021-09-30T16:04:05.932708Z",
     "iopub.status.idle": "2021-09-30T16:04:10.056975Z",
     "shell.execute_reply": "2021-09-30T16:04:10.056115Z",
     "shell.execute_reply.started": "2021-09-30T16:04:05.932899Z"
    },
    "tags": []
   },
   "outputs": [
    {
     "data": {
      "text/html": [
       "<div>\n",
       "<style scoped>\n",
       "    .dataframe tbody tr th:only-of-type {\n",
       "        vertical-align: middle;\n",
       "    }\n",
       "\n",
       "    .dataframe tbody tr th {\n",
       "        vertical-align: top;\n",
       "    }\n",
       "\n",
       "    .dataframe thead th {\n",
       "        text-align: right;\n",
       "    }\n",
       "</style>\n",
       "<table border=\"1\" class=\"dataframe\">\n",
       "  <thead>\n",
       "    <tr style=\"text-align: right;\">\n",
       "      <th></th>\n",
       "      <th>UKB_ID</th>\n",
       "      <th>MGB_ID</th>\n",
       "    </tr>\n",
       "  </thead>\n",
       "  <tbody>\n",
       "    <tr>\n",
       "      <th>1</th>\n",
       "      <td>rs2748983</td>\n",
       "      <td>1:1860087_C_T</td>\n",
       "    </tr>\n",
       "    <tr>\n",
       "      <th>3</th>\n",
       "      <td>rs3121830</td>\n",
       "      <td>1:1864526_C_T</td>\n",
       "    </tr>\n",
       "    <tr>\n",
       "      <th>4</th>\n",
       "      <td>rs2803316</td>\n",
       "      <td>1:1865298_A_G</td>\n",
       "    </tr>\n",
       "    <tr>\n",
       "      <th>5</th>\n",
       "      <td>rs3121831</td>\n",
       "      <td>1:1866004_G_A</td>\n",
       "    </tr>\n",
       "    <tr>\n",
       "      <th>7</th>\n",
       "      <td>rs2803322</td>\n",
       "      <td>1:1868066_C_G</td>\n",
       "    </tr>\n",
       "    <tr>\n",
       "      <th>...</th>\n",
       "      <td>...</td>\n",
       "      <td>...</td>\n",
       "    </tr>\n",
       "    <tr>\n",
       "      <th>1618412</th>\n",
       "      <td>rs1130640</td>\n",
       "      <td>9:139317979_C_T</td>\n",
       "    </tr>\n",
       "    <tr>\n",
       "      <th>1618413</th>\n",
       "      <td>rs10747043</td>\n",
       "      <td>9:139318310_G_A</td>\n",
       "    </tr>\n",
       "    <tr>\n",
       "      <th>1618414</th>\n",
       "      <td>rs10870171</td>\n",
       "      <td>9:139318530_C_T</td>\n",
       "    </tr>\n",
       "    <tr>\n",
       "      <th>1618415</th>\n",
       "      <td>rs10747044</td>\n",
       "      <td>9:139319129_G_T</td>\n",
       "    </tr>\n",
       "    <tr>\n",
       "      <th>1618416</th>\n",
       "      <td>rs10870172</td>\n",
       "      <td>9:139319469_G_A</td>\n",
       "    </tr>\n",
       "  </tbody>\n",
       "</table>\n",
       "<p>13135 rows × 2 columns</p>\n",
       "</div>"
      ],
      "text/plain": [
       "             UKB_ID           MGB_ID\n",
       "1         rs2748983    1:1860087_C_T\n",
       "3         rs3121830    1:1864526_C_T\n",
       "4         rs2803316    1:1865298_A_G\n",
       "5         rs3121831    1:1866004_G_A\n",
       "7         rs2803322    1:1868066_C_G\n",
       "...             ...              ...\n",
       "1618412   rs1130640  9:139317979_C_T\n",
       "1618413  rs10747043  9:139318310_G_A\n",
       "1618414  rs10870171  9:139318530_C_T\n",
       "1618415  rs10747044  9:139319129_G_T\n",
       "1618416  rs10870172  9:139319469_G_A\n",
       "\n",
       "[13135 rows x 2 columns]"
      ]
     },
     "execution_count": 54,
     "metadata": {},
     "output_type": "execute_result"
    }
   ],
   "source": [
    "snp_map = pd.read_csv(\"../../../cagi6-prs/snps/ukb.extracted.intersected.mgb.snps.tsv\", sep=\"\\t\")\n",
    "subset_snp_map = snp_map[snp_map[\"UKB_ID\"].isin(snps)][[\"UKB_ID\", \"MGB_ID\"]]\n",
    "subset_snp_map"
   ]
  },
  {
   "cell_type": "code",
   "execution_count": 55,
   "id": "74faaa7f-d052-4871-888a-61a1aa2e8890",
   "metadata": {
    "execution": {
     "iopub.execute_input": "2021-09-30T16:04:24.243839Z",
     "iopub.status.busy": "2021-09-30T16:04:24.243598Z",
     "iopub.status.idle": "2021-09-30T16:04:24.712611Z",
     "shell.execute_reply": "2021-09-30T16:04:24.711955Z",
     "shell.execute_reply.started": "2021-09-30T16:04:24.243787Z"
    },
    "tags": []
   },
   "outputs": [
    {
     "data": {
      "text/html": [
       "<div>\n",
       "<style scoped>\n",
       "    .dataframe tbody tr th:only-of-type {\n",
       "        vertical-align: middle;\n",
       "    }\n",
       "\n",
       "    .dataframe tbody tr th {\n",
       "        vertical-align: top;\n",
       "    }\n",
       "\n",
       "    .dataframe thead th {\n",
       "        text-align: right;\n",
       "    }\n",
       "</style>\n",
       "<table border=\"1\" class=\"dataframe\">\n",
       "  <thead>\n",
       "    <tr style=\"text-align: right;\">\n",
       "      <th></th>\n",
       "      <th>0</th>\n",
       "      <th>mean</th>\n",
       "      <th>std</th>\n",
       "    </tr>\n",
       "  </thead>\n",
       "  <tbody>\n",
       "    <tr>\n",
       "      <th>0</th>\n",
       "      <td>rs4648827</td>\n",
       "      <td>1.465251</td>\n",
       "      <td>0.621988</td>\n",
       "    </tr>\n",
       "    <tr>\n",
       "      <th>1</th>\n",
       "      <td>rs6603809</td>\n",
       "      <td>1.464785</td>\n",
       "      <td>0.624073</td>\n",
       "    </tr>\n",
       "    <tr>\n",
       "      <th>2</th>\n",
       "      <td>rs742359</td>\n",
       "      <td>1.457913</td>\n",
       "      <td>0.625642</td>\n",
       "    </tr>\n",
       "    <tr>\n",
       "      <th>3</th>\n",
       "      <td>rs4648727</td>\n",
       "      <td>1.122482</td>\n",
       "      <td>0.697143</td>\n",
       "    </tr>\n",
       "    <tr>\n",
       "      <th>4</th>\n",
       "      <td>rs6681938</td>\n",
       "      <td>1.389553</td>\n",
       "      <td>0.645701</td>\n",
       "    </tr>\n",
       "    <tr>\n",
       "      <th>...</th>\n",
       "      <td>...</td>\n",
       "      <td>...</td>\n",
       "      <td>...</td>\n",
       "    </tr>\n",
       "    <tr>\n",
       "      <th>13170</th>\n",
       "      <td>rs1130640</td>\n",
       "      <td>1.483059</td>\n",
       "      <td>0.623002</td>\n",
       "    </tr>\n",
       "    <tr>\n",
       "      <th>13171</th>\n",
       "      <td>rs10747043</td>\n",
       "      <td>1.425462</td>\n",
       "      <td>0.642939</td>\n",
       "    </tr>\n",
       "    <tr>\n",
       "      <th>13172</th>\n",
       "      <td>rs10870171</td>\n",
       "      <td>1.425471</td>\n",
       "      <td>0.642822</td>\n",
       "    </tr>\n",
       "    <tr>\n",
       "      <th>13173</th>\n",
       "      <td>rs10747044</td>\n",
       "      <td>1.425117</td>\n",
       "      <td>0.642796</td>\n",
       "    </tr>\n",
       "    <tr>\n",
       "      <th>13174</th>\n",
       "      <td>rs10870172</td>\n",
       "      <td>1.487508</td>\n",
       "      <td>0.619761</td>\n",
       "    </tr>\n",
       "  </tbody>\n",
       "</table>\n",
       "<p>13175 rows × 3 columns</p>\n",
       "</div>"
      ],
      "text/plain": [
       "                0      mean       std\n",
       "0       rs4648827  1.465251  0.621988\n",
       "1       rs6603809  1.464785  0.624073\n",
       "2        rs742359  1.457913  0.625642\n",
       "3       rs4648727  1.122482  0.697143\n",
       "4       rs6681938  1.389553  0.645701\n",
       "...           ...       ...       ...\n",
       "13170   rs1130640  1.483059  0.623002\n",
       "13171  rs10747043  1.425462  0.642939\n",
       "13172  rs10870171  1.425471  0.642822\n",
       "13173  rs10747044  1.425117  0.642796\n",
       "13174  rs10870172  1.487508  0.619761\n",
       "\n",
       "[13175 rows x 3 columns]"
      ]
     },
     "execution_count": 55,
     "metadata": {},
     "output_type": "execute_result"
    }
   ],
   "source": [
    "stats = pd.read_csv(\"../../../cagi6-prs/features/baseline_snps_no_deviant-baseline_plus_samples/ibd_age_matched/ibd.age.matched.train.stats.tsv\", sep=\"\\t\")\n",
    "subset_stats = stats[stats[\"0\"].isin(snps)]\n",
    "subset_stats"
   ]
  },
  {
   "cell_type": "code",
   "execution_count": 56,
   "id": "33c40696-f4b7-479a-8dd2-86a1b9a033b5",
   "metadata": {
    "execution": {
     "iopub.execute_input": "2021-09-30T16:04:27.807299Z",
     "iopub.status.busy": "2021-09-30T16:04:27.807089Z",
     "iopub.status.idle": "2021-09-30T16:04:28.179246Z",
     "shell.execute_reply": "2021-09-30T16:04:28.178585Z",
     "shell.execute_reply.started": "2021-09-30T16:04:27.807275Z"
    },
    "tags": []
   },
   "outputs": [],
   "source": [
    "summary_df = pd.merge(subset_snp_map, subset_stats, left_on=\"UKB_ID\", right_on=\"0\").drop_duplicates(\"UKB_ID\")"
   ]
  },
  {
   "cell_type": "code",
   "execution_count": 57,
   "id": "72437447-7c66-464b-b362-f99f0d9dd351",
   "metadata": {
    "execution": {
     "iopub.execute_input": "2021-09-30T16:04:29.856355Z",
     "iopub.status.busy": "2021-09-30T16:04:29.856157Z",
     "iopub.status.idle": "2021-09-30T16:04:30.250544Z",
     "shell.execute_reply": "2021-09-30T16:04:30.249873Z",
     "shell.execute_reply.started": "2021-09-30T16:04:29.856329Z"
    },
    "tags": []
   },
   "outputs": [],
   "source": [
    "summary_df = summary_df.set_index(\"UKB_ID\").loc[pd.Index(snps)].reset_index()"
   ]
  },
  {
   "cell_type": "code",
   "execution_count": 58,
   "id": "e774eb57-c9ea-4e71-b492-b815c9026fba",
   "metadata": {
    "execution": {
     "iopub.execute_input": "2021-09-30T16:04:30.711323Z",
     "iopub.status.busy": "2021-09-30T16:04:30.711131Z",
     "iopub.status.idle": "2021-09-30T16:04:31.055335Z",
     "shell.execute_reply": "2021-09-30T16:04:31.054680Z",
     "shell.execute_reply.started": "2021-09-30T16:04:30.711298Z"
    },
    "tags": []
   },
   "outputs": [],
   "source": [
    "summary_df[\"expected_allele\"] = summary_df[\"index\"].map(allele_mp)"
   ]
  },
  {
   "cell_type": "code",
   "execution_count": 59,
   "id": "13f6c1fc-bc6c-471e-ab0a-57cc17bf7c91",
   "metadata": {
    "execution": {
     "iopub.execute_input": "2021-09-30T16:04:31.056724Z",
     "iopub.status.busy": "2021-09-30T16:04:31.056470Z",
     "iopub.status.idle": "2021-09-30T16:04:31.395769Z",
     "shell.execute_reply": "2021-09-30T16:04:31.395144Z",
     "shell.execute_reply.started": "2021-09-30T16:04:31.056697Z"
    },
    "tags": []
   },
   "outputs": [],
   "source": [
    "final_df = summary_df[[\"index\", \"MGB_ID\", \"expected_allele\", \"mean\", \"std\"]]"
   ]
  },
  {
   "cell_type": "code",
   "execution_count": 60,
   "id": "851d5b52-9118-42c6-b488-e6eaca7f556b",
   "metadata": {
    "execution": {
     "iopub.execute_input": "2021-09-30T16:04:31.819430Z",
     "iopub.status.busy": "2021-09-30T16:04:31.819230Z",
     "iopub.status.idle": "2021-09-30T16:04:32.142409Z",
     "shell.execute_reply": "2021-09-30T16:04:32.141608Z",
     "shell.execute_reply.started": "2021-09-30T16:04:31.819405Z"
    },
    "tags": []
   },
   "outputs": [],
   "source": [
    "final_df.columns = [\"UKB_ID\", \"MGB_ID\", \"EXPECTED_ALLELE\", \"MEAN\", \"STD\"]"
   ]
  },
  {
   "cell_type": "markdown",
   "id": "948d994f-a9ab-4363-9ca9-5be3ddb15441",
   "metadata": {},
   "source": [
    "**Sanity checks**"
   ]
  },
  {
   "cell_type": "code",
   "execution_count": 61,
   "id": "11c396f0-8153-4ca9-aeda-abf59c5a015b",
   "metadata": {
    "execution": {
     "iopub.execute_input": "2021-09-30T16:04:35.078636Z",
     "iopub.status.busy": "2021-09-30T16:04:35.078433Z",
     "iopub.status.idle": "2021-09-30T16:04:36.138019Z",
     "shell.execute_reply": "2021-09-30T16:04:36.137155Z",
     "shell.execute_reply.started": "2021-09-30T16:04:35.078610Z"
    },
    "tags": []
   },
   "outputs": [
    {
     "data": {
      "text/plain": [
       "True"
      ]
     },
     "execution_count": 61,
     "metadata": {},
     "output_type": "execute_result"
    }
   ],
   "source": [
    "final_df[\"MGB_ID\"].isin(bim[1]).all()"
   ]
  },
  {
   "cell_type": "code",
   "execution_count": 64,
   "id": "f3ec76c6-d939-4471-92c2-b1bbb5dfadc3",
   "metadata": {
    "execution": {
     "iopub.execute_input": "2021-09-30T16:04:45.409319Z",
     "iopub.status.busy": "2021-09-30T16:04:45.409113Z",
     "iopub.status.idle": "2021-09-30T16:04:45.821010Z",
     "shell.execute_reply": "2021-09-30T16:04:45.820357Z",
     "shell.execute_reply.started": "2021-09-30T16:04:45.409295Z"
    },
    "tags": []
   },
   "outputs": [],
   "source": [
    "actual_feather = feather.read_feather(\"MGB_10.ibd.zscored.feather\")"
   ]
  },
  {
   "cell_type": "code",
   "execution_count": 65,
   "id": "1ca33ad4-8738-4b2c-95a7-f6889283c8fc",
   "metadata": {
    "execution": {
     "iopub.execute_input": "2021-09-30T16:04:45.822712Z",
     "iopub.status.busy": "2021-09-30T16:04:45.822373Z",
     "iopub.status.idle": "2021-09-30T16:04:46.149454Z",
     "shell.execute_reply": "2021-09-30T16:04:46.148728Z",
     "shell.execute_reply.started": "2021-09-30T16:04:45.822661Z"
    },
    "tags": []
   },
   "outputs": [
    {
     "data": {
      "text/plain": [
       "True"
      ]
     },
     "execution_count": 65,
     "metadata": {},
     "output_type": "execute_result"
    }
   ],
   "source": [
    "(final_df[\"MGB_ID\"] == actual_feather[\"0\"]).all()"
   ]
  },
  {
   "cell_type": "code",
   "execution_count": 66,
   "id": "71f07b58-9630-4ef0-b02c-d471589d3eed",
   "metadata": {
    "execution": {
     "iopub.execute_input": "2021-09-30T16:04:47.037163Z",
     "iopub.status.busy": "2021-09-30T16:04:47.036923Z",
     "iopub.status.idle": "2021-09-30T16:04:47.361876Z",
     "shell.execute_reply": "2021-09-30T16:04:47.361166Z",
     "shell.execute_reply.started": "2021-09-30T16:04:47.037138Z"
    },
    "tags": []
   },
   "outputs": [
    {
     "data": {
      "text/plain": [
       "True"
      ]
     },
     "execution_count": 66,
     "metadata": {},
     "output_type": "execute_result"
    }
   ],
   "source": [
    "(final_df[\"UKB_ID\"] == stats[\"0\"]).all()"
   ]
  },
  {
   "cell_type": "code",
   "execution_count": 67,
   "id": "e56ddce9-4598-43d7-9987-ddc6f92f60f7",
   "metadata": {
    "execution": {
     "iopub.execute_input": "2021-09-30T16:04:48.043024Z",
     "iopub.status.busy": "2021-09-30T16:04:48.042826Z",
     "iopub.status.idle": "2021-09-30T16:04:48.401336Z",
     "shell.execute_reply": "2021-09-30T16:04:48.400601Z",
     "shell.execute_reply.started": "2021-09-30T16:04:48.042999Z"
    },
    "tags": []
   },
   "outputs": [
    {
     "data": {
      "text/plain": [
       "True"
      ]
     },
     "execution_count": 67,
     "metadata": {},
     "output_type": "execute_result"
    }
   ],
   "source": [
    "(summary_df[\"index\"] == stats[\"0\"]).all()"
   ]
  },
  {
   "cell_type": "markdown",
   "id": "7716b0fc-170d-401c-a290-e92cc4f711ef",
   "metadata": {},
   "source": [
    "**Save**"
   ]
  },
  {
   "cell_type": "code",
   "execution_count": 659,
   "id": "0f14f7c8-935d-4b93-b2c0-a58dacc5dad6",
   "metadata": {
    "execution": {
     "iopub.execute_input": "2021-09-29T19:04:23.198611Z",
     "iopub.status.busy": "2021-09-29T19:04:23.198330Z",
     "iopub.status.idle": "2021-09-29T19:04:23.605003Z",
     "shell.execute_reply": "2021-09-29T19:04:23.604164Z",
     "shell.execute_reply.started": "2021-09-29T19:04:23.198577Z"
    },
    "tags": []
   },
   "outputs": [],
   "source": [
    "final_df.to_csv(\"ibd.summary.tsv\", sep=\"\\t\", index=False)"
   ]
  },
  {
   "cell_type": "code",
   "execution_count": 660,
   "id": "30bed729-b9fb-4a17-8d62-48a9e96aebf0",
   "metadata": {
    "execution": {
     "iopub.execute_input": "2021-09-29T19:04:24.124842Z",
     "iopub.status.busy": "2021-09-29T19:04:24.124600Z",
     "iopub.status.idle": "2021-09-29T19:04:25.145286Z",
     "shell.execute_reply": "2021-09-29T19:04:25.144325Z",
     "shell.execute_reply.started": "2021-09-29T19:04:24.124799Z"
    },
    "tags": []
   },
   "outputs": [
    {
     "data": {
      "text/plain": [
       "True"
      ]
     },
     "execution_count": 660,
     "metadata": {},
     "output_type": "execute_result"
    }
   ],
   "source": [
    "final_df[\"MGB_ID\"].isin(bim[1]).all()"
   ]
  },
  {
   "cell_type": "code",
   "execution_count": 661,
   "id": "ba0d9358-2bfd-4df0-b7bb-682ba6432505",
   "metadata": {
    "execution": {
     "iopub.execute_input": "2021-09-29T19:04:25.146858Z",
     "iopub.status.busy": "2021-09-29T19:04:25.146545Z",
     "iopub.status.idle": "2021-09-29T19:04:25.520658Z",
     "shell.execute_reply": "2021-09-29T19:04:25.519887Z",
     "shell.execute_reply.started": "2021-09-29T19:04:25.146826Z"
    },
    "tags": []
   },
   "outputs": [],
   "source": [
    "final_df[\"MGB_ID\"].to_csv(\"ibd.extract.txt\", header=None, index=False)"
   ]
  },
  {
   "cell_type": "code",
   "execution_count": 662,
   "id": "216980a3-4486-47f9-a324-173a00e2f534",
   "metadata": {
    "execution": {
     "iopub.execute_input": "2021-09-29T19:04:25.521950Z",
     "iopub.status.busy": "2021-09-29T19:04:25.521706Z",
     "iopub.status.idle": "2021-09-29T19:04:25.899067Z",
     "shell.execute_reply": "2021-09-29T19:04:25.898204Z",
     "shell.execute_reply.started": "2021-09-29T19:04:25.521920Z"
    },
    "tags": []
   },
   "outputs": [
    {
     "data": {
      "text/html": [
       "<div>\n",
       "<style scoped>\n",
       "    .dataframe tbody tr th:only-of-type {\n",
       "        vertical-align: middle;\n",
       "    }\n",
       "\n",
       "    .dataframe tbody tr th {\n",
       "        vertical-align: top;\n",
       "    }\n",
       "\n",
       "    .dataframe thead th {\n",
       "        text-align: right;\n",
       "    }\n",
       "</style>\n",
       "<table border=\"1\" class=\"dataframe\">\n",
       "  <thead>\n",
       "    <tr style=\"text-align: right;\">\n",
       "      <th></th>\n",
       "      <th>index</th>\n",
       "      <th>3581610</th>\n",
       "      <th>2354527</th>\n",
       "      <th>4202089</th>\n",
       "      <th>2760159</th>\n",
       "      <th>3255707</th>\n",
       "      <th>2874909</th>\n",
       "      <th>5666210</th>\n",
       "      <th>5311838</th>\n",
       "      <th>2440028</th>\n",
       "      <th>...</th>\n",
       "      <th>4240432</th>\n",
       "      <th>2186161</th>\n",
       "      <th>4672889</th>\n",
       "      <th>3592212</th>\n",
       "      <th>5654809</th>\n",
       "      <th>2499270</th>\n",
       "      <th>1286390</th>\n",
       "      <th>4134497</th>\n",
       "      <th>3794449</th>\n",
       "      <th>1472707</th>\n",
       "    </tr>\n",
       "  </thead>\n",
       "  <tbody>\n",
       "    <tr>\n",
       "      <th>0</th>\n",
       "      <td>rs4648827_C</td>\n",
       "      <td>1.0</td>\n",
       "      <td>2.0</td>\n",
       "      <td>2.0000</td>\n",
       "      <td>2.0</td>\n",
       "      <td>1.0</td>\n",
       "      <td>1.0</td>\n",
       "      <td>1.0039</td>\n",
       "      <td>2.0000</td>\n",
       "      <td>2.0</td>\n",
       "      <td>...</td>\n",
       "      <td>1.0000</td>\n",
       "      <td>2.0</td>\n",
       "      <td>1.0</td>\n",
       "      <td>2.0000</td>\n",
       "      <td>2.0</td>\n",
       "      <td>0.0</td>\n",
       "      <td>1.0000</td>\n",
       "      <td>1.0157</td>\n",
       "      <td>2.0</td>\n",
       "      <td>1.0</td>\n",
       "    </tr>\n",
       "    <tr>\n",
       "      <th>1</th>\n",
       "      <td>rs6603809_G</td>\n",
       "      <td>1.0</td>\n",
       "      <td>2.0</td>\n",
       "      <td>2.0000</td>\n",
       "      <td>2.0</td>\n",
       "      <td>1.0</td>\n",
       "      <td>1.0</td>\n",
       "      <td>1.0000</td>\n",
       "      <td>2.0000</td>\n",
       "      <td>2.0</td>\n",
       "      <td>...</td>\n",
       "      <td>1.0000</td>\n",
       "      <td>2.0</td>\n",
       "      <td>1.0</td>\n",
       "      <td>2.0000</td>\n",
       "      <td>2.0</td>\n",
       "      <td>0.0</td>\n",
       "      <td>1.0000</td>\n",
       "      <td>1.0000</td>\n",
       "      <td>2.0</td>\n",
       "      <td>1.0</td>\n",
       "    </tr>\n",
       "    <tr>\n",
       "      <th>2</th>\n",
       "      <td>rs742359_C</td>\n",
       "      <td>1.0</td>\n",
       "      <td>2.0</td>\n",
       "      <td>2.0000</td>\n",
       "      <td>2.0</td>\n",
       "      <td>1.0</td>\n",
       "      <td>1.0</td>\n",
       "      <td>1.0000</td>\n",
       "      <td>2.0000</td>\n",
       "      <td>2.0</td>\n",
       "      <td>...</td>\n",
       "      <td>1.0000</td>\n",
       "      <td>2.0</td>\n",
       "      <td>1.0</td>\n",
       "      <td>1.9922</td>\n",
       "      <td>2.0</td>\n",
       "      <td>0.0</td>\n",
       "      <td>1.0000</td>\n",
       "      <td>1.0000</td>\n",
       "      <td>2.0</td>\n",
       "      <td>1.0</td>\n",
       "    </tr>\n",
       "    <tr>\n",
       "      <th>3</th>\n",
       "      <td>rs4648727_C</td>\n",
       "      <td>1.0</td>\n",
       "      <td>2.0</td>\n",
       "      <td>2.0000</td>\n",
       "      <td>2.0</td>\n",
       "      <td>1.0</td>\n",
       "      <td>1.0</td>\n",
       "      <td>1.0000</td>\n",
       "      <td>1.0000</td>\n",
       "      <td>2.0</td>\n",
       "      <td>...</td>\n",
       "      <td>1.0000</td>\n",
       "      <td>2.0</td>\n",
       "      <td>1.0</td>\n",
       "      <td>2.0000</td>\n",
       "      <td>2.0</td>\n",
       "      <td>0.0</td>\n",
       "      <td>1.0000</td>\n",
       "      <td>1.0000</td>\n",
       "      <td>1.0</td>\n",
       "      <td>0.0</td>\n",
       "    </tr>\n",
       "    <tr>\n",
       "      <th>4</th>\n",
       "      <td>rs6681938_T</td>\n",
       "      <td>2.0</td>\n",
       "      <td>2.0</td>\n",
       "      <td>1.0039</td>\n",
       "      <td>1.0</td>\n",
       "      <td>1.0</td>\n",
       "      <td>1.0</td>\n",
       "      <td>1.0000</td>\n",
       "      <td>1.0000</td>\n",
       "      <td>1.0</td>\n",
       "      <td>...</td>\n",
       "      <td>1.0039</td>\n",
       "      <td>1.0</td>\n",
       "      <td>2.0</td>\n",
       "      <td>1.0941</td>\n",
       "      <td>1.0</td>\n",
       "      <td>2.0</td>\n",
       "      <td>1.0196</td>\n",
       "      <td>1.0039</td>\n",
       "      <td>1.0</td>\n",
       "      <td>2.0</td>\n",
       "    </tr>\n",
       "    <tr>\n",
       "      <th>...</th>\n",
       "      <td>...</td>\n",
       "      <td>...</td>\n",
       "      <td>...</td>\n",
       "      <td>...</td>\n",
       "      <td>...</td>\n",
       "      <td>...</td>\n",
       "      <td>...</td>\n",
       "      <td>...</td>\n",
       "      <td>...</td>\n",
       "      <td>...</td>\n",
       "      <td>...</td>\n",
       "      <td>...</td>\n",
       "      <td>...</td>\n",
       "      <td>...</td>\n",
       "      <td>...</td>\n",
       "      <td>...</td>\n",
       "      <td>...</td>\n",
       "      <td>...</td>\n",
       "      <td>...</td>\n",
       "      <td>...</td>\n",
       "      <td>...</td>\n",
       "    </tr>\n",
       "    <tr>\n",
       "      <th>13170</th>\n",
       "      <td>rs1130640_C</td>\n",
       "      <td>2.0</td>\n",
       "      <td>2.0</td>\n",
       "      <td>1.0000</td>\n",
       "      <td>2.0</td>\n",
       "      <td>2.0</td>\n",
       "      <td>2.0</td>\n",
       "      <td>1.0000</td>\n",
       "      <td>2.0000</td>\n",
       "      <td>2.0</td>\n",
       "      <td>...</td>\n",
       "      <td>1.0000</td>\n",
       "      <td>2.0</td>\n",
       "      <td>1.0</td>\n",
       "      <td>1.0000</td>\n",
       "      <td>2.0</td>\n",
       "      <td>1.0</td>\n",
       "      <td>2.0000</td>\n",
       "      <td>2.0000</td>\n",
       "      <td>1.0</td>\n",
       "      <td>2.0</td>\n",
       "    </tr>\n",
       "    <tr>\n",
       "      <th>13171</th>\n",
       "      <td>rs10747043_G</td>\n",
       "      <td>2.0</td>\n",
       "      <td>2.0</td>\n",
       "      <td>1.0000</td>\n",
       "      <td>2.0</td>\n",
       "      <td>2.0</td>\n",
       "      <td>2.0</td>\n",
       "      <td>1.0000</td>\n",
       "      <td>2.0000</td>\n",
       "      <td>2.0</td>\n",
       "      <td>...</td>\n",
       "      <td>1.0000</td>\n",
       "      <td>2.0</td>\n",
       "      <td>0.0</td>\n",
       "      <td>1.0000</td>\n",
       "      <td>2.0</td>\n",
       "      <td>1.0</td>\n",
       "      <td>2.0000</td>\n",
       "      <td>1.0000</td>\n",
       "      <td>1.0</td>\n",
       "      <td>1.0</td>\n",
       "    </tr>\n",
       "    <tr>\n",
       "      <th>13172</th>\n",
       "      <td>rs10870171_C</td>\n",
       "      <td>2.0</td>\n",
       "      <td>2.0</td>\n",
       "      <td>1.0000</td>\n",
       "      <td>2.0</td>\n",
       "      <td>2.0</td>\n",
       "      <td>2.0</td>\n",
       "      <td>1.0000</td>\n",
       "      <td>2.0000</td>\n",
       "      <td>2.0</td>\n",
       "      <td>...</td>\n",
       "      <td>1.0000</td>\n",
       "      <td>2.0</td>\n",
       "      <td>0.0</td>\n",
       "      <td>1.0000</td>\n",
       "      <td>2.0</td>\n",
       "      <td>1.0</td>\n",
       "      <td>2.0000</td>\n",
       "      <td>1.0000</td>\n",
       "      <td>1.0</td>\n",
       "      <td>1.0</td>\n",
       "    </tr>\n",
       "    <tr>\n",
       "      <th>13173</th>\n",
       "      <td>rs10747044_G</td>\n",
       "      <td>2.0</td>\n",
       "      <td>2.0</td>\n",
       "      <td>1.0000</td>\n",
       "      <td>2.0</td>\n",
       "      <td>2.0</td>\n",
       "      <td>2.0</td>\n",
       "      <td>1.0000</td>\n",
       "      <td>1.9961</td>\n",
       "      <td>2.0</td>\n",
       "      <td>...</td>\n",
       "      <td>1.0000</td>\n",
       "      <td>2.0</td>\n",
       "      <td>0.0</td>\n",
       "      <td>1.0000</td>\n",
       "      <td>2.0</td>\n",
       "      <td>1.0</td>\n",
       "      <td>2.0000</td>\n",
       "      <td>1.0000</td>\n",
       "      <td>1.0</td>\n",
       "      <td>1.0</td>\n",
       "    </tr>\n",
       "    <tr>\n",
       "      <th>13174</th>\n",
       "      <td>rs10870172_G</td>\n",
       "      <td>2.0</td>\n",
       "      <td>2.0</td>\n",
       "      <td>1.0000</td>\n",
       "      <td>2.0</td>\n",
       "      <td>2.0</td>\n",
       "      <td>2.0</td>\n",
       "      <td>1.0000</td>\n",
       "      <td>1.9961</td>\n",
       "      <td>2.0</td>\n",
       "      <td>...</td>\n",
       "      <td>1.0000</td>\n",
       "      <td>2.0</td>\n",
       "      <td>1.0</td>\n",
       "      <td>1.0000</td>\n",
       "      <td>2.0</td>\n",
       "      <td>1.0</td>\n",
       "      <td>2.0000</td>\n",
       "      <td>2.0000</td>\n",
       "      <td>1.0</td>\n",
       "      <td>2.0</td>\n",
       "    </tr>\n",
       "  </tbody>\n",
       "</table>\n",
       "<p>13175 rows × 9715 columns</p>\n",
       "</div>"
      ],
      "text/plain": [
       "              index  3581610  2354527  4202089  2760159  3255707  2874909  \\\n",
       "0       rs4648827_C      1.0      2.0   2.0000      2.0      1.0      1.0   \n",
       "1       rs6603809_G      1.0      2.0   2.0000      2.0      1.0      1.0   \n",
       "2        rs742359_C      1.0      2.0   2.0000      2.0      1.0      1.0   \n",
       "3       rs4648727_C      1.0      2.0   2.0000      2.0      1.0      1.0   \n",
       "4       rs6681938_T      2.0      2.0   1.0039      1.0      1.0      1.0   \n",
       "...             ...      ...      ...      ...      ...      ...      ...   \n",
       "13170   rs1130640_C      2.0      2.0   1.0000      2.0      2.0      2.0   \n",
       "13171  rs10747043_G      2.0      2.0   1.0000      2.0      2.0      2.0   \n",
       "13172  rs10870171_C      2.0      2.0   1.0000      2.0      2.0      2.0   \n",
       "13173  rs10747044_G      2.0      2.0   1.0000      2.0      2.0      2.0   \n",
       "13174  rs10870172_G      2.0      2.0   1.0000      2.0      2.0      2.0   \n",
       "\n",
       "       5666210  5311838  2440028  ...  4240432  2186161  4672889  3592212  \\\n",
       "0       1.0039   2.0000      2.0  ...   1.0000      2.0      1.0   2.0000   \n",
       "1       1.0000   2.0000      2.0  ...   1.0000      2.0      1.0   2.0000   \n",
       "2       1.0000   2.0000      2.0  ...   1.0000      2.0      1.0   1.9922   \n",
       "3       1.0000   1.0000      2.0  ...   1.0000      2.0      1.0   2.0000   \n",
       "4       1.0000   1.0000      1.0  ...   1.0039      1.0      2.0   1.0941   \n",
       "...        ...      ...      ...  ...      ...      ...      ...      ...   \n",
       "13170   1.0000   2.0000      2.0  ...   1.0000      2.0      1.0   1.0000   \n",
       "13171   1.0000   2.0000      2.0  ...   1.0000      2.0      0.0   1.0000   \n",
       "13172   1.0000   2.0000      2.0  ...   1.0000      2.0      0.0   1.0000   \n",
       "13173   1.0000   1.9961      2.0  ...   1.0000      2.0      0.0   1.0000   \n",
       "13174   1.0000   1.9961      2.0  ...   1.0000      2.0      1.0   1.0000   \n",
       "\n",
       "       5654809  2499270  1286390  4134497  3794449  1472707  \n",
       "0          2.0      0.0   1.0000   1.0157      2.0      1.0  \n",
       "1          2.0      0.0   1.0000   1.0000      2.0      1.0  \n",
       "2          2.0      0.0   1.0000   1.0000      2.0      1.0  \n",
       "3          2.0      0.0   1.0000   1.0000      1.0      0.0  \n",
       "4          1.0      2.0   1.0196   1.0039      1.0      2.0  \n",
       "...        ...      ...      ...      ...      ...      ...  \n",
       "13170      2.0      1.0   2.0000   2.0000      1.0      2.0  \n",
       "13171      2.0      1.0   2.0000   1.0000      1.0      1.0  \n",
       "13172      2.0      1.0   2.0000   1.0000      1.0      1.0  \n",
       "13173      2.0      1.0   2.0000   1.0000      1.0      1.0  \n",
       "13174      2.0      1.0   2.0000   2.0000      1.0      2.0  \n",
       "\n",
       "[13175 rows x 9715 columns]"
      ]
     },
     "execution_count": 662,
     "metadata": {},
     "output_type": "execute_result"
    }
   ],
   "source": [
    "geno"
   ]
  },
  {
   "cell_type": "code",
   "execution_count": 668,
   "id": "83574e03-42c3-4fe4-8045-9b6c27c5a407",
   "metadata": {
    "execution": {
     "iopub.execute_input": "2021-09-29T19:04:59.829724Z",
     "iopub.status.busy": "2021-09-29T19:04:59.829443Z",
     "iopub.status.idle": "2021-09-29T19:05:00.211740Z",
     "shell.execute_reply": "2021-09-29T19:05:00.210960Z",
     "shell.execute_reply.started": "2021-09-29T19:04:59.829693Z"
    },
    "tags": []
   },
   "outputs": [
    {
     "data": {
      "text/plain": [
       "True"
      ]
     },
     "execution_count": 668,
     "metadata": {},
     "output_type": "execute_result"
    }
   ],
   "source": [
    "(final_df[\"UKB_ID\"] == snps).all()"
   ]
  },
  {
   "cell_type": "code",
   "execution_count": null,
   "id": "3f126c5e-4f7a-44f6-bcdc-5cf954bf2126",
   "metadata": {},
   "outputs": [],
   "source": []
  },
  {
   "cell_type": "markdown",
   "id": "5e283f51-49da-46dd-94a5-0933d5750a48",
   "metadata": {
    "tags": [],
    "toc-hr-collapsed": true
   },
   "source": [
    "#### T2D"
   ]
  },
  {
   "cell_type": "code",
   "execution_count": 68,
   "id": "db417f77-a6ce-449f-9feb-981ec0cb66c4",
   "metadata": {
    "execution": {
     "iopub.execute_input": "2021-09-30T16:05:03.340473Z",
     "iopub.status.busy": "2021-09-30T16:05:03.340257Z",
     "iopub.status.idle": "2021-09-30T16:05:07.933521Z",
     "shell.execute_reply": "2021-09-30T16:05:07.932855Z",
     "shell.execute_reply.started": "2021-09-30T16:05:03.340445Z"
    },
    "tags": []
   },
   "outputs": [
    {
     "data": {
      "text/html": [
       "<div>\n",
       "<style scoped>\n",
       "    .dataframe tbody tr th:only-of-type {\n",
       "        vertical-align: middle;\n",
       "    }\n",
       "\n",
       "    .dataframe tbody tr th {\n",
       "        vertical-align: top;\n",
       "    }\n",
       "\n",
       "    .dataframe thead th {\n",
       "        text-align: right;\n",
       "    }\n",
       "</style>\n",
       "<table border=\"1\" class=\"dataframe\">\n",
       "  <thead>\n",
       "    <tr style=\"text-align: right;\">\n",
       "      <th></th>\n",
       "      <th>index</th>\n",
       "      <th>2390912</th>\n",
       "      <th>4497935</th>\n",
       "      <th>2439435</th>\n",
       "      <th>3156276</th>\n",
       "      <th>5595263</th>\n",
       "      <th>2365645</th>\n",
       "      <th>1541814</th>\n",
       "      <th>1940466</th>\n",
       "      <th>4445773</th>\n",
       "      <th>...</th>\n",
       "      <th>5128738</th>\n",
       "      <th>2749635</th>\n",
       "      <th>2465958</th>\n",
       "      <th>2668039</th>\n",
       "      <th>2510487</th>\n",
       "      <th>1810779</th>\n",
       "      <th>4104408</th>\n",
       "      <th>2874016</th>\n",
       "      <th>5798474</th>\n",
       "      <th>1990762</th>\n",
       "    </tr>\n",
       "  </thead>\n",
       "  <tbody>\n",
       "    <tr>\n",
       "      <th>0</th>\n",
       "      <td>rs2032562_T</td>\n",
       "      <td>2.0</td>\n",
       "      <td>0.0</td>\n",
       "      <td>0.0</td>\n",
       "      <td>2.0</td>\n",
       "      <td>0.0000</td>\n",
       "      <td>1.0</td>\n",
       "      <td>1.0</td>\n",
       "      <td>0.0000</td>\n",
       "      <td>0.0000</td>\n",
       "      <td>...</td>\n",
       "      <td>1.0</td>\n",
       "      <td>0.0</td>\n",
       "      <td>1.0</td>\n",
       "      <td>1.0</td>\n",
       "      <td>1.0000</td>\n",
       "      <td>0.0000</td>\n",
       "      <td>1.0</td>\n",
       "      <td>1.0</td>\n",
       "      <td>0.0</td>\n",
       "      <td>0.0</td>\n",
       "    </tr>\n",
       "    <tr>\n",
       "      <th>1</th>\n",
       "      <td>rs10864313_T</td>\n",
       "      <td>2.0</td>\n",
       "      <td>0.0</td>\n",
       "      <td>0.0</td>\n",
       "      <td>2.0</td>\n",
       "      <td>0.0000</td>\n",
       "      <td>1.0</td>\n",
       "      <td>1.0</td>\n",
       "      <td>0.0000</td>\n",
       "      <td>0.0000</td>\n",
       "      <td>...</td>\n",
       "      <td>1.0</td>\n",
       "      <td>0.0</td>\n",
       "      <td>1.0</td>\n",
       "      <td>1.0</td>\n",
       "      <td>1.0000</td>\n",
       "      <td>0.0000</td>\n",
       "      <td>1.0</td>\n",
       "      <td>1.0</td>\n",
       "      <td>0.0</td>\n",
       "      <td>0.0</td>\n",
       "    </tr>\n",
       "    <tr>\n",
       "      <th>2</th>\n",
       "      <td>rs4908693_C</td>\n",
       "      <td>2.0</td>\n",
       "      <td>0.0</td>\n",
       "      <td>0.0</td>\n",
       "      <td>2.0</td>\n",
       "      <td>0.0000</td>\n",
       "      <td>1.0</td>\n",
       "      <td>1.0</td>\n",
       "      <td>0.0000</td>\n",
       "      <td>0.6588</td>\n",
       "      <td>...</td>\n",
       "      <td>1.0</td>\n",
       "      <td>0.0</td>\n",
       "      <td>1.0</td>\n",
       "      <td>1.0</td>\n",
       "      <td>1.0000</td>\n",
       "      <td>0.0000</td>\n",
       "      <td>1.0</td>\n",
       "      <td>1.0</td>\n",
       "      <td>0.0</td>\n",
       "      <td>0.0</td>\n",
       "    </tr>\n",
       "    <tr>\n",
       "      <th>3</th>\n",
       "      <td>rs11121016_A</td>\n",
       "      <td>2.0</td>\n",
       "      <td>0.0</td>\n",
       "      <td>0.0</td>\n",
       "      <td>2.0</td>\n",
       "      <td>0.0000</td>\n",
       "      <td>1.0</td>\n",
       "      <td>1.0</td>\n",
       "      <td>0.0000</td>\n",
       "      <td>0.0000</td>\n",
       "      <td>...</td>\n",
       "      <td>1.0</td>\n",
       "      <td>0.0</td>\n",
       "      <td>1.0</td>\n",
       "      <td>1.0</td>\n",
       "      <td>1.0000</td>\n",
       "      <td>0.0000</td>\n",
       "      <td>1.0</td>\n",
       "      <td>1.0</td>\n",
       "      <td>0.0</td>\n",
       "      <td>0.0</td>\n",
       "    </tr>\n",
       "    <tr>\n",
       "      <th>4</th>\n",
       "      <td>rs11121018_T</td>\n",
       "      <td>2.0</td>\n",
       "      <td>0.0</td>\n",
       "      <td>0.0</td>\n",
       "      <td>2.0</td>\n",
       "      <td>0.0000</td>\n",
       "      <td>1.0</td>\n",
       "      <td>1.0</td>\n",
       "      <td>0.0000</td>\n",
       "      <td>0.0000</td>\n",
       "      <td>...</td>\n",
       "      <td>1.0</td>\n",
       "      <td>0.0</td>\n",
       "      <td>1.0</td>\n",
       "      <td>1.0</td>\n",
       "      <td>1.0000</td>\n",
       "      <td>0.0000</td>\n",
       "      <td>1.0</td>\n",
       "      <td>1.0</td>\n",
       "      <td>0.0</td>\n",
       "      <td>0.0</td>\n",
       "    </tr>\n",
       "    <tr>\n",
       "      <th>...</th>\n",
       "      <td>...</td>\n",
       "      <td>...</td>\n",
       "      <td>...</td>\n",
       "      <td>...</td>\n",
       "      <td>...</td>\n",
       "      <td>...</td>\n",
       "      <td>...</td>\n",
       "      <td>...</td>\n",
       "      <td>...</td>\n",
       "      <td>...</td>\n",
       "      <td>...</td>\n",
       "      <td>...</td>\n",
       "      <td>...</td>\n",
       "      <td>...</td>\n",
       "      <td>...</td>\n",
       "      <td>...</td>\n",
       "      <td>...</td>\n",
       "      <td>...</td>\n",
       "      <td>...</td>\n",
       "      <td>...</td>\n",
       "      <td>...</td>\n",
       "    </tr>\n",
       "    <tr>\n",
       "      <th>6281</th>\n",
       "      <td>rs8176645_T</td>\n",
       "      <td>2.0</td>\n",
       "      <td>2.0</td>\n",
       "      <td>2.0</td>\n",
       "      <td>1.0</td>\n",
       "      <td>1.0039</td>\n",
       "      <td>0.0</td>\n",
       "      <td>2.0</td>\n",
       "      <td>1.1961</td>\n",
       "      <td>2.0000</td>\n",
       "      <td>...</td>\n",
       "      <td>2.0</td>\n",
       "      <td>2.0</td>\n",
       "      <td>2.0</td>\n",
       "      <td>1.0</td>\n",
       "      <td>1.3333</td>\n",
       "      <td>1.3176</td>\n",
       "      <td>2.0</td>\n",
       "      <td>1.0</td>\n",
       "      <td>2.0</td>\n",
       "      <td>1.0</td>\n",
       "    </tr>\n",
       "    <tr>\n",
       "      <th>6282</th>\n",
       "      <td>rs529565_T</td>\n",
       "      <td>2.0</td>\n",
       "      <td>2.0</td>\n",
       "      <td>2.0</td>\n",
       "      <td>1.0</td>\n",
       "      <td>2.0000</td>\n",
       "      <td>0.0</td>\n",
       "      <td>2.0</td>\n",
       "      <td>1.0000</td>\n",
       "      <td>2.0000</td>\n",
       "      <td>...</td>\n",
       "      <td>2.0</td>\n",
       "      <td>2.0</td>\n",
       "      <td>2.0</td>\n",
       "      <td>2.0</td>\n",
       "      <td>1.0000</td>\n",
       "      <td>1.0000</td>\n",
       "      <td>2.0</td>\n",
       "      <td>2.0</td>\n",
       "      <td>2.0</td>\n",
       "      <td>1.0</td>\n",
       "    </tr>\n",
       "    <tr>\n",
       "      <th>6283</th>\n",
       "      <td>rs532436_G</td>\n",
       "      <td>2.0</td>\n",
       "      <td>2.0</td>\n",
       "      <td>2.0</td>\n",
       "      <td>1.0</td>\n",
       "      <td>2.0000</td>\n",
       "      <td>0.0</td>\n",
       "      <td>2.0</td>\n",
       "      <td>2.0000</td>\n",
       "      <td>2.0000</td>\n",
       "      <td>...</td>\n",
       "      <td>2.0</td>\n",
       "      <td>2.0</td>\n",
       "      <td>2.0</td>\n",
       "      <td>2.0</td>\n",
       "      <td>1.0000</td>\n",
       "      <td>2.0000</td>\n",
       "      <td>2.0</td>\n",
       "      <td>2.0</td>\n",
       "      <td>2.0</td>\n",
       "      <td>1.0</td>\n",
       "    </tr>\n",
       "    <tr>\n",
       "      <th>6284</th>\n",
       "      <td>rs600038_T</td>\n",
       "      <td>2.0</td>\n",
       "      <td>1.0</td>\n",
       "      <td>2.0</td>\n",
       "      <td>1.0</td>\n",
       "      <td>1.0000</td>\n",
       "      <td>0.0</td>\n",
       "      <td>2.0</td>\n",
       "      <td>2.0000</td>\n",
       "      <td>1.0000</td>\n",
       "      <td>...</td>\n",
       "      <td>2.0</td>\n",
       "      <td>2.0</td>\n",
       "      <td>2.0</td>\n",
       "      <td>1.0</td>\n",
       "      <td>1.0000</td>\n",
       "      <td>2.0000</td>\n",
       "      <td>2.0</td>\n",
       "      <td>1.0</td>\n",
       "      <td>2.0</td>\n",
       "      <td>1.0</td>\n",
       "    </tr>\n",
       "    <tr>\n",
       "      <th>6285</th>\n",
       "      <td>rs649129_C</td>\n",
       "      <td>2.0</td>\n",
       "      <td>1.0</td>\n",
       "      <td>2.0</td>\n",
       "      <td>1.0</td>\n",
       "      <td>1.0000</td>\n",
       "      <td>0.0</td>\n",
       "      <td>2.0</td>\n",
       "      <td>2.0000</td>\n",
       "      <td>1.0000</td>\n",
       "      <td>...</td>\n",
       "      <td>2.0</td>\n",
       "      <td>2.0</td>\n",
       "      <td>2.0</td>\n",
       "      <td>1.0</td>\n",
       "      <td>1.0000</td>\n",
       "      <td>2.0000</td>\n",
       "      <td>2.0</td>\n",
       "      <td>1.0</td>\n",
       "      <td>2.0</td>\n",
       "      <td>1.0</td>\n",
       "    </tr>\n",
       "  </tbody>\n",
       "</table>\n",
       "<p>6286 rows × 34311 columns</p>\n",
       "</div>"
      ],
      "text/plain": [
       "             index  2390912  4497935  2439435  3156276  5595263  2365645  \\\n",
       "0      rs2032562_T      2.0      0.0      0.0      2.0   0.0000      1.0   \n",
       "1     rs10864313_T      2.0      0.0      0.0      2.0   0.0000      1.0   \n",
       "2      rs4908693_C      2.0      0.0      0.0      2.0   0.0000      1.0   \n",
       "3     rs11121016_A      2.0      0.0      0.0      2.0   0.0000      1.0   \n",
       "4     rs11121018_T      2.0      0.0      0.0      2.0   0.0000      1.0   \n",
       "...            ...      ...      ...      ...      ...      ...      ...   \n",
       "6281   rs8176645_T      2.0      2.0      2.0      1.0   1.0039      0.0   \n",
       "6282    rs529565_T      2.0      2.0      2.0      1.0   2.0000      0.0   \n",
       "6283    rs532436_G      2.0      2.0      2.0      1.0   2.0000      0.0   \n",
       "6284    rs600038_T      2.0      1.0      2.0      1.0   1.0000      0.0   \n",
       "6285    rs649129_C      2.0      1.0      2.0      1.0   1.0000      0.0   \n",
       "\n",
       "      1541814  1940466  4445773  ...  5128738  2749635  2465958  2668039  \\\n",
       "0         1.0   0.0000   0.0000  ...      1.0      0.0      1.0      1.0   \n",
       "1         1.0   0.0000   0.0000  ...      1.0      0.0      1.0      1.0   \n",
       "2         1.0   0.0000   0.6588  ...      1.0      0.0      1.0      1.0   \n",
       "3         1.0   0.0000   0.0000  ...      1.0      0.0      1.0      1.0   \n",
       "4         1.0   0.0000   0.0000  ...      1.0      0.0      1.0      1.0   \n",
       "...       ...      ...      ...  ...      ...      ...      ...      ...   \n",
       "6281      2.0   1.1961   2.0000  ...      2.0      2.0      2.0      1.0   \n",
       "6282      2.0   1.0000   2.0000  ...      2.0      2.0      2.0      2.0   \n",
       "6283      2.0   2.0000   2.0000  ...      2.0      2.0      2.0      2.0   \n",
       "6284      2.0   2.0000   1.0000  ...      2.0      2.0      2.0      1.0   \n",
       "6285      2.0   2.0000   1.0000  ...      2.0      2.0      2.0      1.0   \n",
       "\n",
       "      2510487  1810779  4104408  2874016  5798474  1990762  \n",
       "0      1.0000   0.0000      1.0      1.0      0.0      0.0  \n",
       "1      1.0000   0.0000      1.0      1.0      0.0      0.0  \n",
       "2      1.0000   0.0000      1.0      1.0      0.0      0.0  \n",
       "3      1.0000   0.0000      1.0      1.0      0.0      0.0  \n",
       "4      1.0000   0.0000      1.0      1.0      0.0      0.0  \n",
       "...       ...      ...      ...      ...      ...      ...  \n",
       "6281   1.3333   1.3176      2.0      1.0      2.0      1.0  \n",
       "6282   1.0000   1.0000      2.0      2.0      2.0      1.0  \n",
       "6283   1.0000   2.0000      2.0      2.0      2.0      1.0  \n",
       "6284   1.0000   2.0000      2.0      1.0      2.0      1.0  \n",
       "6285   1.0000   2.0000      2.0      1.0      2.0      1.0  \n",
       "\n",
       "[6286 rows x 34311 columns]"
      ]
     },
     "execution_count": 68,
     "metadata": {},
     "output_type": "execute_result"
    }
   ],
   "source": [
    "geno = feather.read_feather(\"../../../cagi6-prs/features/baseline_snps_no_deviant-baseline_plus_samples/t2d_age_matched/t2d.age.matched.feather\")\n",
    "geno"
   ]
  },
  {
   "cell_type": "code",
   "execution_count": 69,
   "id": "9a72d01b-1ec9-4e71-9002-c09218e25c39",
   "metadata": {
    "execution": {
     "iopub.execute_input": "2021-09-30T16:05:10.197897Z",
     "iopub.status.busy": "2021-09-30T16:05:10.197686Z",
     "iopub.status.idle": "2021-09-30T16:05:10.805646Z",
     "shell.execute_reply": "2021-09-30T16:05:10.804850Z",
     "shell.execute_reply.started": "2021-09-30T16:05:10.197870Z"
    },
    "tags": []
   },
   "outputs": [],
   "source": [
    "snps = [\"_\".join(var.split(\"_\")[:-1]) for var in geno[\"index\"]]\n",
    "alleles = [var.split(\".\")[0][-1] for var in geno[\"index\"]]\n",
    "allele_mp = dict(zip(snps, alleles))"
   ]
  },
  {
   "cell_type": "code",
   "execution_count": 70,
   "id": "61e41df4-16bb-48cf-a1ca-9dc3b6a08aae",
   "metadata": {
    "execution": {
     "iopub.execute_input": "2021-09-30T16:05:14.176577Z",
     "iopub.status.busy": "2021-09-30T16:05:14.176383Z",
     "iopub.status.idle": "2021-09-30T16:05:18.451760Z",
     "shell.execute_reply": "2021-09-30T16:05:18.450879Z",
     "shell.execute_reply.started": "2021-09-30T16:05:14.176551Z"
    },
    "tags": []
   },
   "outputs": [
    {
     "data": {
      "text/html": [
       "<div>\n",
       "<style scoped>\n",
       "    .dataframe tbody tr th:only-of-type {\n",
       "        vertical-align: middle;\n",
       "    }\n",
       "\n",
       "    .dataframe tbody tr th {\n",
       "        vertical-align: top;\n",
       "    }\n",
       "\n",
       "    .dataframe thead th {\n",
       "        text-align: right;\n",
       "    }\n",
       "</style>\n",
       "<table border=\"1\" class=\"dataframe\">\n",
       "  <thead>\n",
       "    <tr style=\"text-align: right;\">\n",
       "      <th></th>\n",
       "      <th>UKB_ID</th>\n",
       "      <th>MGB_ID</th>\n",
       "    </tr>\n",
       "  </thead>\n",
       "  <tbody>\n",
       "    <tr>\n",
       "      <th>513</th>\n",
       "      <td>rs2032562</td>\n",
       "      <td>1:7801167_T_G</td>\n",
       "    </tr>\n",
       "    <tr>\n",
       "      <th>514</th>\n",
       "      <td>rs10864313</td>\n",
       "      <td>1:7801880_T_G</td>\n",
       "    </tr>\n",
       "    <tr>\n",
       "      <th>515</th>\n",
       "      <td>rs4908693</td>\n",
       "      <td>1:7803892_C_T</td>\n",
       "    </tr>\n",
       "    <tr>\n",
       "      <th>516</th>\n",
       "      <td>rs11121016</td>\n",
       "      <td>1:7804515_A_G</td>\n",
       "    </tr>\n",
       "    <tr>\n",
       "      <th>517</th>\n",
       "      <td>rs11121018</td>\n",
       "      <td>1:7807394_T_C</td>\n",
       "    </tr>\n",
       "    <tr>\n",
       "      <th>...</th>\n",
       "      <td>...</td>\n",
       "      <td>...</td>\n",
       "    </tr>\n",
       "    <tr>\n",
       "      <th>1617651</th>\n",
       "      <td>rs8176645</td>\n",
       "      <td>9:136149098_T_A</td>\n",
       "    </tr>\n",
       "    <tr>\n",
       "      <th>1617653</th>\n",
       "      <td>rs529565</td>\n",
       "      <td>9:136149500_T_C</td>\n",
       "    </tr>\n",
       "    <tr>\n",
       "      <th>1617655</th>\n",
       "      <td>rs532436</td>\n",
       "      <td>9:136149830_G_A</td>\n",
       "    </tr>\n",
       "    <tr>\n",
       "      <th>1617656</th>\n",
       "      <td>rs600038</td>\n",
       "      <td>9:136151806_T_C</td>\n",
       "    </tr>\n",
       "    <tr>\n",
       "      <th>1617665</th>\n",
       "      <td>rs649129</td>\n",
       "      <td>9:136154304_C_T</td>\n",
       "    </tr>\n",
       "  </tbody>\n",
       "</table>\n",
       "<p>6274 rows × 2 columns</p>\n",
       "</div>"
      ],
      "text/plain": [
       "             UKB_ID           MGB_ID\n",
       "513       rs2032562    1:7801167_T_G\n",
       "514      rs10864313    1:7801880_T_G\n",
       "515       rs4908693    1:7803892_C_T\n",
       "516      rs11121016    1:7804515_A_G\n",
       "517      rs11121018    1:7807394_T_C\n",
       "...             ...              ...\n",
       "1617651   rs8176645  9:136149098_T_A\n",
       "1617653    rs529565  9:136149500_T_C\n",
       "1617655    rs532436  9:136149830_G_A\n",
       "1617656    rs600038  9:136151806_T_C\n",
       "1617665    rs649129  9:136154304_C_T\n",
       "\n",
       "[6274 rows x 2 columns]"
      ]
     },
     "execution_count": 70,
     "metadata": {},
     "output_type": "execute_result"
    }
   ],
   "source": [
    "snp_map = pd.read_csv(\"../../../cagi6-prs/snps/ukb.extracted.intersected.mgb.snps.tsv\", sep=\"\\t\")\n",
    "subset_snp_map = snp_map[snp_map[\"UKB_ID\"].isin(snps)][[\"UKB_ID\", \"MGB_ID\"]]\n",
    "subset_snp_map"
   ]
  },
  {
   "cell_type": "code",
   "execution_count": 71,
   "id": "50763bc4-544f-47b0-aadf-554eef6d06f3",
   "metadata": {
    "execution": {
     "iopub.execute_input": "2021-09-30T16:05:30.497727Z",
     "iopub.status.busy": "2021-09-30T16:05:30.497433Z",
     "iopub.status.idle": "2021-09-30T16:05:31.056197Z",
     "shell.execute_reply": "2021-09-30T16:05:31.055270Z",
     "shell.execute_reply.started": "2021-09-30T16:05:30.497697Z"
    },
    "tags": []
   },
   "outputs": [
    {
     "data": {
      "text/html": [
       "<div>\n",
       "<style scoped>\n",
       "    .dataframe tbody tr th:only-of-type {\n",
       "        vertical-align: middle;\n",
       "    }\n",
       "\n",
       "    .dataframe tbody tr th {\n",
       "        vertical-align: top;\n",
       "    }\n",
       "\n",
       "    .dataframe thead th {\n",
       "        text-align: right;\n",
       "    }\n",
       "</style>\n",
       "<table border=\"1\" class=\"dataframe\">\n",
       "  <thead>\n",
       "    <tr style=\"text-align: right;\">\n",
       "      <th></th>\n",
       "      <th>0</th>\n",
       "      <th>mean</th>\n",
       "      <th>std</th>\n",
       "    </tr>\n",
       "  </thead>\n",
       "  <tbody>\n",
       "    <tr>\n",
       "      <th>0</th>\n",
       "      <td>rs2032562</td>\n",
       "      <td>0.559089</td>\n",
       "      <td>0.632914</td>\n",
       "    </tr>\n",
       "    <tr>\n",
       "      <th>1</th>\n",
       "      <td>rs10864313</td>\n",
       "      <td>0.559158</td>\n",
       "      <td>0.632983</td>\n",
       "    </tr>\n",
       "    <tr>\n",
       "      <th>2</th>\n",
       "      <td>rs4908693</td>\n",
       "      <td>0.559035</td>\n",
       "      <td>0.632656</td>\n",
       "    </tr>\n",
       "    <tr>\n",
       "      <th>3</th>\n",
       "      <td>rs11121016</td>\n",
       "      <td>0.558671</td>\n",
       "      <td>0.633194</td>\n",
       "    </tr>\n",
       "    <tr>\n",
       "      <th>4</th>\n",
       "      <td>rs11121018</td>\n",
       "      <td>0.558363</td>\n",
       "      <td>0.633092</td>\n",
       "    </tr>\n",
       "    <tr>\n",
       "      <th>...</th>\n",
       "      <td>...</td>\n",
       "      <td>...</td>\n",
       "      <td>...</td>\n",
       "    </tr>\n",
       "    <tr>\n",
       "      <th>6281</th>\n",
       "      <td>rs8176645</td>\n",
       "      <td>1.477631</td>\n",
       "      <td>0.570210</td>\n",
       "    </tr>\n",
       "    <tr>\n",
       "      <th>6282</th>\n",
       "      <td>rs529565</td>\n",
       "      <td>1.356116</td>\n",
       "      <td>0.659504</td>\n",
       "    </tr>\n",
       "    <tr>\n",
       "      <th>6283</th>\n",
       "      <td>rs532436</td>\n",
       "      <td>1.619826</td>\n",
       "      <td>0.554665</td>\n",
       "    </tr>\n",
       "    <tr>\n",
       "      <th>6284</th>\n",
       "      <td>rs600038</td>\n",
       "      <td>1.575347</td>\n",
       "      <td>0.577725</td>\n",
       "    </tr>\n",
       "    <tr>\n",
       "      <th>6285</th>\n",
       "      <td>rs649129</td>\n",
       "      <td>1.575768</td>\n",
       "      <td>0.577631</td>\n",
       "    </tr>\n",
       "  </tbody>\n",
       "</table>\n",
       "<p>6286 rows × 3 columns</p>\n",
       "</div>"
      ],
      "text/plain": [
       "               0      mean       std\n",
       "0      rs2032562  0.559089  0.632914\n",
       "1     rs10864313  0.559158  0.632983\n",
       "2      rs4908693  0.559035  0.632656\n",
       "3     rs11121016  0.558671  0.633194\n",
       "4     rs11121018  0.558363  0.633092\n",
       "...          ...       ...       ...\n",
       "6281   rs8176645  1.477631  0.570210\n",
       "6282    rs529565  1.356116  0.659504\n",
       "6283    rs532436  1.619826  0.554665\n",
       "6284    rs600038  1.575347  0.577725\n",
       "6285    rs649129  1.575768  0.577631\n",
       "\n",
       "[6286 rows x 3 columns]"
      ]
     },
     "execution_count": 71,
     "metadata": {},
     "output_type": "execute_result"
    }
   ],
   "source": [
    "stats = pd.read_csv(\"../../../cagi6-prs/features/baseline_snps_no_deviant-baseline_plus_samples/t2d_age_matched/t2d.age.matched.train.stats.tsv\", sep=\"\\t\")\n",
    "subset_stats = stats[stats[\"0\"].isin(snps)]\n",
    "subset_stats"
   ]
  },
  {
   "cell_type": "code",
   "execution_count": 72,
   "id": "717fb6e7-3e42-4d36-8891-866a0b8ee854",
   "metadata": {
    "execution": {
     "iopub.execute_input": "2021-09-30T16:05:34.575851Z",
     "iopub.status.busy": "2021-09-30T16:05:34.575613Z",
     "iopub.status.idle": "2021-09-30T16:05:35.185179Z",
     "shell.execute_reply": "2021-09-30T16:05:35.184576Z",
     "shell.execute_reply.started": "2021-09-30T16:05:34.575796Z"
    },
    "tags": []
   },
   "outputs": [],
   "source": [
    "summary_df = pd.merge(subset_snp_map, subset_stats, left_on=\"UKB_ID\", right_on=\"0\").drop_duplicates(\"UKB_ID\")"
   ]
  },
  {
   "cell_type": "code",
   "execution_count": 73,
   "id": "91d83ef6-836e-4126-b3bc-c06788f3430e",
   "metadata": {
    "execution": {
     "iopub.execute_input": "2021-09-30T16:05:35.186338Z",
     "iopub.status.busy": "2021-09-30T16:05:35.186129Z",
     "iopub.status.idle": "2021-09-30T16:05:35.594733Z",
     "shell.execute_reply": "2021-09-30T16:05:35.594015Z",
     "shell.execute_reply.started": "2021-09-30T16:05:35.186312Z"
    },
    "tags": []
   },
   "outputs": [],
   "source": [
    "summary_df = summary_df.set_index(\"UKB_ID\").loc[pd.Index(snps)].reset_index()"
   ]
  },
  {
   "cell_type": "code",
   "execution_count": 74,
   "id": "2efddc2a-029d-4bba-a7d4-4e97ff11b332",
   "metadata": {
    "execution": {
     "iopub.execute_input": "2021-09-30T16:05:36.940250Z",
     "iopub.status.busy": "2021-09-30T16:05:36.940018Z",
     "iopub.status.idle": "2021-09-30T16:05:37.370431Z",
     "shell.execute_reply": "2021-09-30T16:05:37.369718Z",
     "shell.execute_reply.started": "2021-09-30T16:05:36.940224Z"
    },
    "tags": []
   },
   "outputs": [],
   "source": [
    "summary_df[\"expected_allele\"] = summary_df[\"index\"].map(allele_mp)"
   ]
  },
  {
   "cell_type": "code",
   "execution_count": 75,
   "id": "ff89c8be-37d4-4759-ac24-8ad5a65a35ef",
   "metadata": {
    "execution": {
     "iopub.execute_input": "2021-09-30T16:05:38.078512Z",
     "iopub.status.busy": "2021-09-30T16:05:38.078173Z",
     "iopub.status.idle": "2021-09-30T16:05:38.531883Z",
     "shell.execute_reply": "2021-09-30T16:05:38.531181Z",
     "shell.execute_reply.started": "2021-09-30T16:05:38.078455Z"
    },
    "tags": []
   },
   "outputs": [],
   "source": [
    "final_df = summary_df[[\"index\", \"MGB_ID\", \"expected_allele\", \"mean\", \"std\"]]"
   ]
  },
  {
   "cell_type": "code",
   "execution_count": 76,
   "id": "88845190-1478-4776-9a15-8af7b26821aa",
   "metadata": {
    "execution": {
     "iopub.execute_input": "2021-09-30T16:05:39.201893Z",
     "iopub.status.busy": "2021-09-30T16:05:39.201681Z",
     "iopub.status.idle": "2021-09-30T16:05:39.700081Z",
     "shell.execute_reply": "2021-09-30T16:05:39.699095Z",
     "shell.execute_reply.started": "2021-09-30T16:05:39.201867Z"
    },
    "tags": []
   },
   "outputs": [],
   "source": [
    "final_df.columns = [\"UKB_ID\", \"MGB_ID\", \"EXPECTED_ALLELE\", \"MEAN\", \"STD\"]"
   ]
  },
  {
   "cell_type": "markdown",
   "id": "ef05f7c1-3b5e-4e95-8f03-1b4fa18ee00b",
   "metadata": {},
   "source": [
    "**Sanity checks**"
   ]
  },
  {
   "cell_type": "code",
   "execution_count": 77,
   "id": "a5878d73-e042-4ce2-9c8e-23199c34f355",
   "metadata": {
    "execution": {
     "iopub.execute_input": "2021-09-30T16:05:44.607777Z",
     "iopub.status.busy": "2021-09-30T16:05:44.607572Z",
     "iopub.status.idle": "2021-09-30T16:05:45.643308Z",
     "shell.execute_reply": "2021-09-30T16:05:45.642506Z",
     "shell.execute_reply.started": "2021-09-30T16:05:44.607751Z"
    },
    "tags": []
   },
   "outputs": [
    {
     "data": {
      "text/plain": [
       "True"
      ]
     },
     "execution_count": 77,
     "metadata": {},
     "output_type": "execute_result"
    }
   ],
   "source": [
    "final_df[\"MGB_ID\"].isin(bim[1]).all()"
   ]
  },
  {
   "cell_type": "code",
   "execution_count": 78,
   "id": "c464521d-cd0b-4814-8d05-7a1eb826382f",
   "metadata": {
    "execution": {
     "iopub.execute_input": "2021-09-30T16:05:48.917396Z",
     "iopub.status.busy": "2021-09-30T16:05:48.917195Z",
     "iopub.status.idle": "2021-09-30T16:05:49.393528Z",
     "shell.execute_reply": "2021-09-30T16:05:49.392793Z",
     "shell.execute_reply.started": "2021-09-30T16:05:48.917370Z"
    },
    "tags": []
   },
   "outputs": [],
   "source": [
    "actual_feather = feather.read_feather(\"MGB_10.t2d.zscored.feather\")"
   ]
  },
  {
   "cell_type": "code",
   "execution_count": 79,
   "id": "83473d8e-1724-4a28-9709-9e8bd9116537",
   "metadata": {
    "execution": {
     "iopub.execute_input": "2021-09-30T16:05:50.928707Z",
     "iopub.status.busy": "2021-09-30T16:05:50.928410Z",
     "iopub.status.idle": "2021-09-30T16:05:51.530674Z",
     "shell.execute_reply": "2021-09-30T16:05:51.529736Z",
     "shell.execute_reply.started": "2021-09-30T16:05:50.928666Z"
    },
    "tags": []
   },
   "outputs": [
    {
     "data": {
      "text/plain": [
       "True"
      ]
     },
     "execution_count": 79,
     "metadata": {},
     "output_type": "execute_result"
    }
   ],
   "source": [
    "(final_df[\"MGB_ID\"] == actual_feather[\"0\"]).all()"
   ]
  },
  {
   "cell_type": "code",
   "execution_count": 80,
   "id": "cf4b5627-208e-4edf-8b11-92ea9416be8c",
   "metadata": {
    "execution": {
     "iopub.execute_input": "2021-09-30T16:05:52.334528Z",
     "iopub.status.busy": "2021-09-30T16:05:52.334321Z",
     "iopub.status.idle": "2021-09-30T16:05:52.741592Z",
     "shell.execute_reply": "2021-09-30T16:05:52.740858Z",
     "shell.execute_reply.started": "2021-09-30T16:05:52.334502Z"
    },
    "tags": []
   },
   "outputs": [
    {
     "data": {
      "text/plain": [
       "True"
      ]
     },
     "execution_count": 80,
     "metadata": {},
     "output_type": "execute_result"
    }
   ],
   "source": [
    "(final_df[\"UKB_ID\"] == stats[\"0\"]).all()"
   ]
  },
  {
   "cell_type": "code",
   "execution_count": 81,
   "id": "66ecf0aa-3a4c-43e5-ad93-74176cc0f7d3",
   "metadata": {
    "execution": {
     "iopub.execute_input": "2021-09-30T16:05:52.743104Z",
     "iopub.status.busy": "2021-09-30T16:05:52.742861Z",
     "iopub.status.idle": "2021-09-30T16:05:53.363009Z",
     "shell.execute_reply": "2021-09-30T16:05:53.362096Z",
     "shell.execute_reply.started": "2021-09-30T16:05:52.743043Z"
    },
    "tags": []
   },
   "outputs": [
    {
     "data": {
      "text/plain": [
       "True"
      ]
     },
     "execution_count": 81,
     "metadata": {},
     "output_type": "execute_result"
    }
   ],
   "source": [
    "(summary_df[\"index\"] == stats[\"0\"]).all()"
   ]
  },
  {
   "cell_type": "code",
   "execution_count": 82,
   "id": "58caf711-3b82-4357-9c24-b2292fda6166",
   "metadata": {
    "execution": {
     "iopub.execute_input": "2021-09-30T16:06:11.211320Z",
     "iopub.status.busy": "2021-09-30T16:06:11.211066Z",
     "iopub.status.idle": "2021-09-30T16:06:11.731983Z",
     "shell.execute_reply": "2021-09-30T16:06:11.731271Z",
     "shell.execute_reply.started": "2021-09-30T16:06:11.211293Z"
    },
    "tags": []
   },
   "outputs": [
    {
     "data": {
      "text/plain": [
       "True"
      ]
     },
     "execution_count": 82,
     "metadata": {},
     "output_type": "execute_result"
    }
   ],
   "source": [
    "(final_df[\"UKB_ID\"] == snps).all()"
   ]
  },
  {
   "cell_type": "markdown",
   "id": "ffed0fb5-afec-4801-aca7-cbace73ad445",
   "metadata": {},
   "source": [
    "**Save**"
   ]
  },
  {
   "cell_type": "code",
   "execution_count": 532,
   "id": "969bea39-eaaa-402a-a337-18fee753833a",
   "metadata": {
    "execution": {
     "iopub.execute_input": "2021-09-29T18:15:23.929868Z",
     "iopub.status.busy": "2021-09-29T18:15:23.929517Z",
     "iopub.status.idle": "2021-09-29T18:15:24.518003Z",
     "shell.execute_reply": "2021-09-29T18:15:24.517230Z",
     "shell.execute_reply.started": "2021-09-29T18:15:23.929821Z"
    },
    "tags": []
   },
   "outputs": [],
   "source": [
    "final_df.to_csv(\"t2d.summary.tsv\", sep=\"\\t\", index=False)"
   ]
  },
  {
   "cell_type": "code",
   "execution_count": 533,
   "id": "9e6ae919-ec6a-45d8-b338-1014e5e5348d",
   "metadata": {
    "execution": {
     "iopub.execute_input": "2021-09-29T18:15:24.519263Z",
     "iopub.status.busy": "2021-09-29T18:15:24.519040Z",
     "iopub.status.idle": "2021-09-29T18:15:25.342917Z",
     "shell.execute_reply": "2021-09-29T18:15:25.342178Z",
     "shell.execute_reply.started": "2021-09-29T18:15:24.519233Z"
    },
    "tags": []
   },
   "outputs": [
    {
     "data": {
      "text/plain": [
       "(6286, 5)"
      ]
     },
     "execution_count": 533,
     "metadata": {},
     "output_type": "execute_result"
    }
   ],
   "source": [
    "final_df.shape"
   ]
  },
  {
   "cell_type": "code",
   "execution_count": 534,
   "id": "e54c7101-a563-4e73-a771-336248d3324f",
   "metadata": {
    "execution": {
     "iopub.execute_input": "2021-09-29T18:15:25.344686Z",
     "iopub.status.busy": "2021-09-29T18:15:25.344458Z",
     "iopub.status.idle": "2021-09-29T18:15:26.684208Z",
     "shell.execute_reply": "2021-09-29T18:15:26.683444Z",
     "shell.execute_reply.started": "2021-09-29T18:15:25.344657Z"
    },
    "tags": []
   },
   "outputs": [
    {
     "data": {
      "text/plain": [
       "True"
      ]
     },
     "execution_count": 534,
     "metadata": {},
     "output_type": "execute_result"
    }
   ],
   "source": [
    "final_df[\"MGB_ID\"].isin(bim[1]).all()"
   ]
  },
  {
   "cell_type": "code",
   "execution_count": 535,
   "id": "172cb29f-1622-4bc3-8b96-3ef1df435e1e",
   "metadata": {
    "execution": {
     "iopub.execute_input": "2021-09-29T18:15:27.788374Z",
     "iopub.status.busy": "2021-09-29T18:15:27.788157Z",
     "iopub.status.idle": "2021-09-29T18:15:28.349557Z",
     "shell.execute_reply": "2021-09-29T18:15:28.348751Z",
     "shell.execute_reply.started": "2021-09-29T18:15:27.788346Z"
    },
    "tags": []
   },
   "outputs": [],
   "source": [
    "final_df[\"MGB_ID\"].to_csv(\"t2d.extract.txt\", header=None, index=False)"
   ]
  },
  {
   "cell_type": "markdown",
   "id": "14f5d50f-af20-4d28-9e7a-d515f9e4d8c3",
   "metadata": {
    "tags": [],
    "toc-hr-collapsed": true
   },
   "source": [
    "### Step 2b - Make an age summary file"
   ]
  },
  {
   "cell_type": "code",
   "execution_count": 83,
   "id": "5ec261d8-001a-49eb-8847-d3eee8448bb1",
   "metadata": {
    "execution": {
     "iopub.execute_input": "2021-09-30T16:21:39.411400Z",
     "iopub.status.busy": "2021-09-30T16:21:39.411110Z",
     "iopub.status.idle": "2021-09-30T16:21:42.646461Z",
     "shell.execute_reply": "2021-09-30T16:21:42.645630Z",
     "shell.execute_reply.started": "2021-09-30T16:21:39.411366Z"
    },
    "tags": []
   },
   "outputs": [],
   "source": [
    "age_df = pd.DataFrame(index=[\"BCA\", \"CAD\", \"IBD\", \"T2D\"], columns=[\"MEAN\", \"STD\"])"
   ]
  },
  {
   "cell_type": "code",
   "execution_count": 84,
   "id": "fcfb8a3f-90f3-46fe-8857-984475299ef8",
   "metadata": {
    "execution": {
     "iopub.execute_input": "2021-09-30T16:21:42.648094Z",
     "iopub.status.busy": "2021-09-30T16:21:42.647803Z",
     "iopub.status.idle": "2021-09-30T16:21:46.421045Z",
     "shell.execute_reply": "2021-09-30T16:21:46.420280Z",
     "shell.execute_reply.started": "2021-09-30T16:21:42.648054Z"
    },
    "tags": []
   },
   "outputs": [],
   "source": [
    "# bca\n",
    "bca_tsv = pd.read_csv(\"/cellar/shared/carterlab/projects/InSNPtion/cagi6-prs/features/bca_mixed_no_deviant/bca.age.matched.zage.tsv\", sep=\"\\t\")\n",
    "bca_age = bca_tsv[bca_tsv[\"TRAIN\"] == 1][\"AGE\"]\n",
    "bca_age_mean, bca_age_std = bca_age.mean(), bca_age.std()\n",
    "age_df.loc[\"BCA\"] = [bca_age_mean, bca_age_std]"
   ]
  },
  {
   "cell_type": "code",
   "execution_count": 85,
   "id": "151c578d-c780-498e-8dc7-820d653334f6",
   "metadata": {
    "execution": {
     "iopub.execute_input": "2021-09-30T16:21:49.963277Z",
     "iopub.status.busy": "2021-09-30T16:21:49.963005Z",
     "iopub.status.idle": "2021-09-30T16:21:50.635553Z",
     "shell.execute_reply": "2021-09-30T16:21:50.634944Z",
     "shell.execute_reply.started": "2021-09-30T16:21:49.963248Z"
    },
    "tags": []
   },
   "outputs": [],
   "source": [
    "# cad\n",
    "cad_tsv = pd.read_csv(\"/cellar/shared/carterlab/projects/InSNPtion/cagi6-prs/features/baseline_snps_no_deviant-baseline_plus_samples/cad_age_matched/cad.age.matched.zage.tsv\", sep=\"\\t\")\n",
    "cad_age = cad_tsv[cad_tsv[\"TRAIN\"] == 1][\"AGE\"]\n",
    "cad_age_mean, cad_age_std = cad_age.mean(), cad_age.std()\n",
    "age_df.loc[\"CAD\"] = [cad_age_mean, cad_age_std]"
   ]
  },
  {
   "cell_type": "code",
   "execution_count": 86,
   "id": "beaa1a2d-e3df-4e6c-a7ea-3ff2365613d2",
   "metadata": {
    "execution": {
     "iopub.execute_input": "2021-09-30T16:21:50.637286Z",
     "iopub.status.busy": "2021-09-30T16:21:50.637059Z",
     "iopub.status.idle": "2021-09-30T16:21:51.424782Z",
     "shell.execute_reply": "2021-09-30T16:21:51.424083Z",
     "shell.execute_reply.started": "2021-09-30T16:21:50.637258Z"
    },
    "tags": []
   },
   "outputs": [],
   "source": [
    "# ibd\n",
    "ibd_tsv = pd.read_csv(\"/cellar/shared/carterlab/projects/InSNPtion/cagi6-prs/features/baseline_snps_no_deviant-baseline_plus_samples/ibd_age_matched/ibd.age.matched.zage.tsv\", sep=\"\\t\")\n",
    "ibd_age = ibd_tsv[ibd_tsv[\"TRAIN\"] == 1][\"AGE\"]\n",
    "ibd_age_mean, ibd_age_std = ibd_age.mean(), ibd_age.std()\n",
    "age_df.loc[\"IBD\"] = [ibd_age_mean, ibd_age_std]"
   ]
  },
  {
   "cell_type": "code",
   "execution_count": 87,
   "id": "024344e4-28c3-4c4c-ae29-5d4731273e94",
   "metadata": {
    "execution": {
     "iopub.execute_input": "2021-09-30T16:21:51.426602Z",
     "iopub.status.busy": "2021-09-30T16:21:51.426290Z",
     "iopub.status.idle": "2021-09-30T16:21:52.263785Z",
     "shell.execute_reply": "2021-09-30T16:21:52.263107Z",
     "shell.execute_reply.started": "2021-09-30T16:21:51.426559Z"
    },
    "tags": []
   },
   "outputs": [],
   "source": [
    "# t2d\n",
    "t2d_tsv = pd.read_csv(\"/cellar/shared/carterlab/projects/InSNPtion/cagi6-prs/features/baseline_snps_no_deviant-baseline_plus_samples/t2d_age_matched/t2d.age.matched.zage.tsv\", sep=\"\\t\")\n",
    "t2d_age = t2d_tsv[t2d_tsv[\"TRAIN\"] == 1][\"AGE\"]\n",
    "t2d_age_mean, t2d_age_std = t2d_age.mean(), t2d_age.std()\n",
    "age_df.loc[\"T2D\"] = [t2d_age_mean, t2d_age_std]"
   ]
  },
  {
   "cell_type": "code",
   "execution_count": 88,
   "id": "4f964a20-df94-4ef0-9a54-316351f0cd49",
   "metadata": {
    "execution": {
     "iopub.execute_input": "2021-09-30T16:21:52.264963Z",
     "iopub.status.busy": "2021-09-30T16:21:52.264742Z",
     "iopub.status.idle": "2021-09-30T16:21:52.816055Z",
     "shell.execute_reply": "2021-09-30T16:21:52.815373Z",
     "shell.execute_reply.started": "2021-09-30T16:21:52.264937Z"
    },
    "tags": []
   },
   "outputs": [
    {
     "data": {
      "text/html": [
       "<div>\n",
       "<style scoped>\n",
       "    .dataframe tbody tr th:only-of-type {\n",
       "        vertical-align: middle;\n",
       "    }\n",
       "\n",
       "    .dataframe tbody tr th {\n",
       "        vertical-align: top;\n",
       "    }\n",
       "\n",
       "    .dataframe thead th {\n",
       "        text-align: right;\n",
       "    }\n",
       "</style>\n",
       "<table border=\"1\" class=\"dataframe\">\n",
       "  <thead>\n",
       "    <tr style=\"text-align: right;\">\n",
       "      <th></th>\n",
       "      <th>MEAN</th>\n",
       "      <th>STD</th>\n",
       "    </tr>\n",
       "  </thead>\n",
       "  <tbody>\n",
       "    <tr>\n",
       "      <th>BCA</th>\n",
       "      <td>60.205014</td>\n",
       "      <td>9.961745</td>\n",
       "    </tr>\n",
       "    <tr>\n",
       "      <th>CAD</th>\n",
       "      <td>59.85252</td>\n",
       "      <td>6.374422</td>\n",
       "    </tr>\n",
       "    <tr>\n",
       "      <th>IBD</th>\n",
       "      <td>57.272552</td>\n",
       "      <td>7.832338</td>\n",
       "    </tr>\n",
       "    <tr>\n",
       "      <th>T2D</th>\n",
       "      <td>60.522807</td>\n",
       "      <td>6.395605</td>\n",
       "    </tr>\n",
       "  </tbody>\n",
       "</table>\n",
       "</div>"
      ],
      "text/plain": [
       "          MEAN       STD\n",
       "BCA  60.205014  9.961745\n",
       "CAD   59.85252  6.374422\n",
       "IBD  57.272552  7.832338\n",
       "T2D  60.522807  6.395605"
      ]
     },
     "execution_count": 88,
     "metadata": {},
     "output_type": "execute_result"
    }
   ],
   "source": [
    "age_df.head()"
   ]
  },
  {
   "cell_type": "code",
   "execution_count": 89,
   "id": "c5d6151e-6b5a-42d9-a965-b47cdb8c54e4",
   "metadata": {
    "execution": {
     "iopub.execute_input": "2021-09-30T16:22:06.522375Z",
     "iopub.status.busy": "2021-09-30T16:22:06.522084Z",
     "iopub.status.idle": "2021-09-30T16:22:07.048006Z",
     "shell.execute_reply": "2021-09-30T16:22:07.047307Z",
     "shell.execute_reply.started": "2021-09-30T16:22:06.522339Z"
    },
    "tags": []
   },
   "outputs": [],
   "source": [
    "age_df.to_csv(\"age.summary.tsv\", sep=\"\\t\", index=True)"
   ]
  },
  {
   "cell_type": "markdown",
   "id": "733176a5-4585-453d-afba-974b1b3259a0",
   "metadata": {
    "tags": []
   },
   "source": [
    "## Step 3 - Test scripts for prepping files"
   ]
  },
  {
   "cell_type": "markdown",
   "id": "945550e2-0b82-4cf9-8109-c3a614946fa7",
   "metadata": {
    "tags": [],
    "toc-hr-collapsed": true
   },
   "source": [
    "### Step 3a - Build a feather file from raw and double check it matches model allele\n",
    "Basis for `make-feather-for-loader.py` script"
   ]
  },
  {
   "cell_type": "code",
   "execution_count": 28,
   "id": "434de644-b46c-4644-b75f-cba31decbe7d",
   "metadata": {
    "execution": {
     "iopub.execute_input": "2021-09-24T15:52:55.584996Z",
     "iopub.status.busy": "2021-09-24T15:52:55.584689Z",
     "iopub.status.idle": "2021-09-24T15:52:56.323473Z",
     "shell.execute_reply": "2021-09-24T15:52:56.322761Z",
     "shell.execute_reply.started": "2021-09-24T15:52:55.584963Z"
    },
    "tags": []
   },
   "outputs": [],
   "source": [
    "raw = pd.read_csv(\"MGB_10_all/MGB_10_all.raw\", delim_whitespace=True)"
   ]
  },
  {
   "cell_type": "code",
   "execution_count": 30,
   "id": "0e310d3e-ab48-40ad-8b29-1aea8af90b47",
   "metadata": {
    "execution": {
     "iopub.execute_input": "2021-09-24T15:53:03.140198Z",
     "iopub.status.busy": "2021-09-24T15:53:03.139933Z",
     "iopub.status.idle": "2021-09-24T15:53:03.679247Z",
     "shell.execute_reply": "2021-09-24T15:53:03.678462Z",
     "shell.execute_reply.started": "2021-09-24T15:53:03.140164Z"
    },
    "tags": []
   },
   "outputs": [],
   "source": [
    "IIDs = raw[\"IID\"]"
   ]
  },
  {
   "cell_type": "code",
   "execution_count": 31,
   "id": "007a43d8-4f55-4a8d-9fad-60d4c86e8d08",
   "metadata": {
    "execution": {
     "iopub.execute_input": "2021-09-24T15:53:07.014888Z",
     "iopub.status.busy": "2021-09-24T15:53:07.014618Z",
     "iopub.status.idle": "2021-09-24T15:53:07.414614Z",
     "shell.execute_reply": "2021-09-24T15:53:07.413982Z",
     "shell.execute_reply.started": "2021-09-24T15:53:07.014854Z"
    },
    "tags": []
   },
   "outputs": [],
   "source": [
    "raw = raw.iloc[:, 6:].T\n",
    "raw.columns = IIDs\n",
    "raw.index.name = \"0\""
   ]
  },
  {
   "cell_type": "code",
   "execution_count": 33,
   "id": "dae3dfb4-b2bc-49b2-9fa0-23b8a23dccfe",
   "metadata": {
    "execution": {
     "iopub.execute_input": "2021-09-24T15:53:48.048330Z",
     "iopub.status.busy": "2021-09-24T15:53:48.048033Z",
     "iopub.status.idle": "2021-09-24T15:53:48.522898Z",
     "shell.execute_reply": "2021-09-24T15:53:48.522105Z",
     "shell.execute_reply.started": "2021-09-24T15:53:48.048297Z"
    }
   },
   "outputs": [],
   "source": [
    "summary = pd.read_csv(\"MGB_10_all/ibd.age.old.summary.tsv\", sep=\"\\t\")"
   ]
  },
  {
   "cell_type": "code",
   "execution_count": 37,
   "id": "9f7a7c56-4fd7-4304-a161-60cf937ad60f",
   "metadata": {
    "execution": {
     "iopub.execute_input": "2021-09-24T15:55:42.648498Z",
     "iopub.status.busy": "2021-09-24T15:55:42.648188Z",
     "iopub.status.idle": "2021-09-24T15:55:43.336049Z",
     "shell.execute_reply": "2021-09-24T15:55:43.335187Z",
     "shell.execute_reply.started": "2021-09-24T15:55:42.648463Z"
    },
    "tags": []
   },
   "outputs": [],
   "source": [
    "snps = [\"_\".join(var.split(\"_\")[:-1]) for var in raw.index]\n",
    "alleles = [var[-1] for var in raw.index]\n",
    "#allele_mp = dict(zip(snps, alleles))"
   ]
  },
  {
   "cell_type": "code",
   "execution_count": 46,
   "id": "e367c80b-4d19-4357-af4e-dee37d46becb",
   "metadata": {
    "execution": {
     "iopub.execute_input": "2021-09-24T15:59:58.041544Z",
     "iopub.status.busy": "2021-09-24T15:59:58.041303Z",
     "iopub.status.idle": "2021-09-24T15:59:58.651134Z",
     "shell.execute_reply": "2021-09-24T15:59:58.650162Z",
     "shell.execute_reply.started": "2021-09-24T15:59:58.041513Z"
    },
    "tags": []
   },
   "outputs": [],
   "source": [
    "raw_summary = pd.DataFrame({\"INDEX\":raw.index, \"MGB_ID\":snps, \"ACTUAL_ALLELE\":alleles})"
   ]
  },
  {
   "cell_type": "code",
   "execution_count": 53,
   "id": "4e01baed-c9ce-44f6-8f66-cad1a05c01ba",
   "metadata": {
    "execution": {
     "iopub.execute_input": "2021-09-24T17:13:24.586919Z",
     "iopub.status.busy": "2021-09-24T17:13:24.586625Z",
     "iopub.status.idle": "2021-09-24T17:13:25.113287Z",
     "shell.execute_reply": "2021-09-24T17:13:25.112174Z",
     "shell.execute_reply.started": "2021-09-24T17:13:24.586886Z"
    },
    "tags": []
   },
   "outputs": [],
   "source": [
    "merged_summary = pd.merge(raw_summary, summary, on=\"MGB_ID\").set_index(\"INDEX\")"
   ]
  },
  {
   "cell_type": "code",
   "execution_count": 58,
   "id": "b38620c2-e2f9-4f28-a4a6-363dc1e9d533",
   "metadata": {
    "execution": {
     "iopub.execute_input": "2021-09-24T17:14:08.500343Z",
     "iopub.status.busy": "2021-09-24T17:14:08.500005Z",
     "iopub.status.idle": "2021-09-24T17:14:08.941198Z",
     "shell.execute_reply": "2021-09-24T17:14:08.940398Z",
     "shell.execute_reply.started": "2021-09-24T17:14:08.500305Z"
    },
    "tags": []
   },
   "outputs": [],
   "source": [
    "ordered_merged_summary = merged_summary.loc[raw.index]"
   ]
  },
  {
   "cell_type": "code",
   "execution_count": 65,
   "id": "fc5e0a03-b034-49f0-b862-9928271996b3",
   "metadata": {
    "execution": {
     "iopub.execute_input": "2021-09-24T17:16:17.391737Z",
     "iopub.status.busy": "2021-09-24T17:16:17.391486Z",
     "iopub.status.idle": "2021-09-24T17:16:17.929456Z",
     "shell.execute_reply": "2021-09-24T17:16:17.928744Z",
     "shell.execute_reply.started": "2021-09-24T17:16:17.391705Z"
    },
    "tags": []
   },
   "outputs": [],
   "source": [
    "mismatched_pos = np.where(ordered_merged_summary[\"ACTUAL_ALLELE\"] != ordered_merged_summary[\"EXPECTED_ALLELE\"])[0]"
   ]
  },
  {
   "cell_type": "code",
   "execution_count": 70,
   "id": "f4525a28-5e45-4ff7-83da-cf0f97d8d5b8",
   "metadata": {
    "execution": {
     "iopub.execute_input": "2021-09-24T17:17:05.559422Z",
     "iopub.status.busy": "2021-09-24T17:17:05.559159Z",
     "iopub.status.idle": "2021-09-24T17:17:06.071931Z",
     "shell.execute_reply": "2021-09-24T17:17:06.071227Z",
     "shell.execute_reply.started": "2021-09-24T17:17:05.559389Z"
    },
    "tags": []
   },
   "outputs": [],
   "source": [
    "raw.iloc[mismatched_pos, :] = 2 - raw.iloc[mismatched_pos, :]"
   ]
  },
  {
   "cell_type": "code",
   "execution_count": 74,
   "id": "45e9914e-2418-4e07-bb0d-cb4262f15cdb",
   "metadata": {
    "execution": {
     "iopub.execute_input": "2021-09-24T17:18:31.797425Z",
     "iopub.status.busy": "2021-09-24T17:18:31.797192Z",
     "iopub.status.idle": "2021-09-24T17:18:32.282205Z",
     "shell.execute_reply": "2021-09-24T17:18:32.281508Z",
     "shell.execute_reply.started": "2021-09-24T17:18:31.797394Z"
    }
   },
   "outputs": [],
   "source": [
    "zraw = raw.subtract(ordered_merged_summary[\"MEAN\"].values, axis=\"index\")\n",
    "zraw = zraw.div(ordered_merged_summary[\"STD\"].values, axis=\"index\")"
   ]
  },
  {
   "cell_type": "code",
   "execution_count": 76,
   "id": "a0159b6c-43fc-43e5-b399-d12fff6d83e0",
   "metadata": {
    "execution": {
     "iopub.execute_input": "2021-09-24T17:28:26.458506Z",
     "iopub.status.busy": "2021-09-24T17:28:26.458258Z",
     "iopub.status.idle": "2021-09-24T17:28:26.914755Z",
     "shell.execute_reply": "2021-09-24T17:28:26.914050Z",
     "shell.execute_reply.started": "2021-09-24T17:28:26.458473Z"
    }
   },
   "outputs": [
    {
     "data": {
      "text/html": [
       "<div>\n",
       "<style scoped>\n",
       "    .dataframe tbody tr th:only-of-type {\n",
       "        vertical-align: middle;\n",
       "    }\n",
       "\n",
       "    .dataframe tbody tr th {\n",
       "        vertical-align: top;\n",
       "    }\n",
       "\n",
       "    .dataframe thead th {\n",
       "        text-align: right;\n",
       "    }\n",
       "</style>\n",
       "<table border=\"1\" class=\"dataframe\">\n",
       "  <thead>\n",
       "    <tr style=\"text-align: right;\">\n",
       "      <th></th>\n",
       "      <th>0</th>\n",
       "      <th>MGB00001</th>\n",
       "      <th>MGB00002</th>\n",
       "      <th>MGB00003</th>\n",
       "      <th>MGB00004</th>\n",
       "      <th>MGB00005</th>\n",
       "      <th>MGB00006</th>\n",
       "      <th>MGB00007</th>\n",
       "      <th>MGB00008</th>\n",
       "      <th>MGB00009</th>\n",
       "      <th>MGB00010</th>\n",
       "    </tr>\n",
       "  </thead>\n",
       "  <tbody>\n",
       "    <tr>\n",
       "      <th>0</th>\n",
       "      <td>1:1776269_C_A_C</td>\n",
       "      <td>-0.175405</td>\n",
       "      <td>-0.175405</td>\n",
       "      <td>-0.175405</td>\n",
       "      <td>-0.175405</td>\n",
       "      <td>-0.175405</td>\n",
       "      <td>-0.175405</td>\n",
       "      <td>-0.175405</td>\n",
       "      <td>-0.175405</td>\n",
       "      <td>-0.175405</td>\n",
       "      <td>-0.175405</td>\n",
       "    </tr>\n",
       "    <tr>\n",
       "      <th>1</th>\n",
       "      <td>1:1781220_T_C_T</td>\n",
       "      <td>-0.584103</td>\n",
       "      <td>-0.584103</td>\n",
       "      <td>-0.584103</td>\n",
       "      <td>-0.584103</td>\n",
       "      <td>-0.584103</td>\n",
       "      <td>-0.584103</td>\n",
       "      <td>-0.584103</td>\n",
       "      <td>-0.584103</td>\n",
       "      <td>-0.584103</td>\n",
       "      <td>-0.584103</td>\n",
       "    </tr>\n",
       "    <tr>\n",
       "      <th>2</th>\n",
       "      <td>1:1796616_G_A_G</td>\n",
       "      <td>-0.596522</td>\n",
       "      <td>-0.596522</td>\n",
       "      <td>-0.596522</td>\n",
       "      <td>-0.596522</td>\n",
       "      <td>-0.596522</td>\n",
       "      <td>-0.596522</td>\n",
       "      <td>-0.596522</td>\n",
       "      <td>-0.596522</td>\n",
       "      <td>-0.596522</td>\n",
       "      <td>-0.596522</td>\n",
       "    </tr>\n",
       "    <tr>\n",
       "      <th>3</th>\n",
       "      <td>1:1860087_C_T_T</td>\n",
       "      <td>0.138641</td>\n",
       "      <td>0.138641</td>\n",
       "      <td>0.138641</td>\n",
       "      <td>0.138641</td>\n",
       "      <td>0.138641</td>\n",
       "      <td>0.138641</td>\n",
       "      <td>0.138641</td>\n",
       "      <td>0.138641</td>\n",
       "      <td>0.138641</td>\n",
       "      <td>0.138641</td>\n",
       "    </tr>\n",
       "    <tr>\n",
       "      <th>4</th>\n",
       "      <td>1:1864526_C_T_T</td>\n",
       "      <td>0.144202</td>\n",
       "      <td>0.144202</td>\n",
       "      <td>0.144202</td>\n",
       "      <td>0.144202</td>\n",
       "      <td>0.144202</td>\n",
       "      <td>0.144202</td>\n",
       "      <td>0.144202</td>\n",
       "      <td>0.144202</td>\n",
       "      <td>0.144202</td>\n",
       "      <td>0.144202</td>\n",
       "    </tr>\n",
       "    <tr>\n",
       "      <th>...</th>\n",
       "      <td>...</td>\n",
       "      <td>...</td>\n",
       "      <td>...</td>\n",
       "      <td>...</td>\n",
       "      <td>...</td>\n",
       "      <td>...</td>\n",
       "      <td>...</td>\n",
       "      <td>...</td>\n",
       "      <td>...</td>\n",
       "      <td>...</td>\n",
       "      <td>...</td>\n",
       "    </tr>\n",
       "    <tr>\n",
       "      <th>5719</th>\n",
       "      <td>22:39774525_A_G_G</td>\n",
       "      <td>0.572654</td>\n",
       "      <td>0.572654</td>\n",
       "      <td>0.572654</td>\n",
       "      <td>0.572654</td>\n",
       "      <td>0.572654</td>\n",
       "      <td>0.572654</td>\n",
       "      <td>0.572654</td>\n",
       "      <td>0.572654</td>\n",
       "      <td>0.572654</td>\n",
       "      <td>0.572654</td>\n",
       "    </tr>\n",
       "    <tr>\n",
       "      <th>5720</th>\n",
       "      <td>22:43561675_T_G_G</td>\n",
       "      <td>0.463974</td>\n",
       "      <td>0.463974</td>\n",
       "      <td>0.463974</td>\n",
       "      <td>0.463974</td>\n",
       "      <td>0.463974</td>\n",
       "      <td>0.463974</td>\n",
       "      <td>0.463974</td>\n",
       "      <td>0.463974</td>\n",
       "      <td>0.463974</td>\n",
       "      <td>0.463974</td>\n",
       "    </tr>\n",
       "    <tr>\n",
       "      <th>5721</th>\n",
       "      <td>22:43561982_C_T_T</td>\n",
       "      <td>0.463861</td>\n",
       "      <td>0.463861</td>\n",
       "      <td>0.463861</td>\n",
       "      <td>0.463861</td>\n",
       "      <td>0.463861</td>\n",
       "      <td>0.463861</td>\n",
       "      <td>0.463861</td>\n",
       "      <td>0.463861</td>\n",
       "      <td>0.463861</td>\n",
       "      <td>0.463861</td>\n",
       "    </tr>\n",
       "    <tr>\n",
       "      <th>5722</th>\n",
       "      <td>22:43562306_A_G_G</td>\n",
       "      <td>0.474088</td>\n",
       "      <td>0.474088</td>\n",
       "      <td>0.474088</td>\n",
       "      <td>0.474088</td>\n",
       "      <td>0.474088</td>\n",
       "      <td>0.474088</td>\n",
       "      <td>0.474088</td>\n",
       "      <td>0.474088</td>\n",
       "      <td>0.474088</td>\n",
       "      <td>0.474088</td>\n",
       "    </tr>\n",
       "    <tr>\n",
       "      <th>5723</th>\n",
       "      <td>22:50428839_T_C_C</td>\n",
       "      <td>-0.025420</td>\n",
       "      <td>-0.025420</td>\n",
       "      <td>-0.025420</td>\n",
       "      <td>-0.025420</td>\n",
       "      <td>-0.025420</td>\n",
       "      <td>-0.025420</td>\n",
       "      <td>-0.025420</td>\n",
       "      <td>-0.025420</td>\n",
       "      <td>-0.025420</td>\n",
       "      <td>-0.025420</td>\n",
       "    </tr>\n",
       "  </tbody>\n",
       "</table>\n",
       "<p>5724 rows × 11 columns</p>\n",
       "</div>"
      ],
      "text/plain": [
       "                      0  MGB00001  MGB00002  MGB00003  MGB00004  MGB00005  \\\n",
       "0       1:1776269_C_A_C -0.175405 -0.175405 -0.175405 -0.175405 -0.175405   \n",
       "1       1:1781220_T_C_T -0.584103 -0.584103 -0.584103 -0.584103 -0.584103   \n",
       "2       1:1796616_G_A_G -0.596522 -0.596522 -0.596522 -0.596522 -0.596522   \n",
       "3       1:1860087_C_T_T  0.138641  0.138641  0.138641  0.138641  0.138641   \n",
       "4       1:1864526_C_T_T  0.144202  0.144202  0.144202  0.144202  0.144202   \n",
       "...                 ...       ...       ...       ...       ...       ...   \n",
       "5719  22:39774525_A_G_G  0.572654  0.572654  0.572654  0.572654  0.572654   \n",
       "5720  22:43561675_T_G_G  0.463974  0.463974  0.463974  0.463974  0.463974   \n",
       "5721  22:43561982_C_T_T  0.463861  0.463861  0.463861  0.463861  0.463861   \n",
       "5722  22:43562306_A_G_G  0.474088  0.474088  0.474088  0.474088  0.474088   \n",
       "5723  22:50428839_T_C_C -0.025420 -0.025420 -0.025420 -0.025420 -0.025420   \n",
       "\n",
       "      MGB00006  MGB00007  MGB00008  MGB00009  MGB00010  \n",
       "0    -0.175405 -0.175405 -0.175405 -0.175405 -0.175405  \n",
       "1    -0.584103 -0.584103 -0.584103 -0.584103 -0.584103  \n",
       "2    -0.596522 -0.596522 -0.596522 -0.596522 -0.596522  \n",
       "3     0.138641  0.138641  0.138641  0.138641  0.138641  \n",
       "4     0.144202  0.144202  0.144202  0.144202  0.144202  \n",
       "...        ...       ...       ...       ...       ...  \n",
       "5719  0.572654  0.572654  0.572654  0.572654  0.572654  \n",
       "5720  0.463974  0.463974  0.463974  0.463974  0.463974  \n",
       "5721  0.463861  0.463861  0.463861  0.463861  0.463861  \n",
       "5722  0.474088  0.474088  0.474088  0.474088  0.474088  \n",
       "5723 -0.025420 -0.025420 -0.025420 -0.025420 -0.025420  \n",
       "\n",
       "[5724 rows x 11 columns]"
      ]
     },
     "execution_count": 76,
     "metadata": {},
     "output_type": "execute_result"
    }
   ],
   "source": [
    "feather.read_feather(\"MGB_10_all/MGB_10_all.zscored.feather\")"
   ]
  },
  {
   "cell_type": "markdown",
   "id": "b2578d5c-e44d-405c-b3e7-80ef62c378fb",
   "metadata": {},
   "source": [
    "#### 100x1000"
   ]
  },
  {
   "cell_type": "code",
   "execution_count": 151,
   "id": "2e25d352-9258-439f-878d-021afe227351",
   "metadata": {
    "execution": {
     "iopub.execute_input": "2021-09-22T06:30:32.666617Z",
     "iopub.status.busy": "2021-09-22T06:30:32.666223Z",
     "iopub.status.idle": "2021-09-22T06:30:33.527765Z",
     "shell.execute_reply": "2021-09-22T06:30:33.527040Z",
     "shell.execute_reply.started": "2021-09-22T06:30:32.666570Z"
    },
    "tags": []
   },
   "outputs": [],
   "source": [
    "feather.write_feather(raw.reset_index(), \"MGB_100_1000.feather\")"
   ]
  },
  {
   "cell_type": "code",
   "execution_count": 152,
   "id": "f3d5e04b-0abd-45be-a4d2-fc30bcd4fa65",
   "metadata": {
    "execution": {
     "iopub.execute_input": "2021-09-22T06:30:34.037442Z",
     "iopub.status.busy": "2021-09-22T06:30:34.037092Z",
     "iopub.status.idle": "2021-09-22T06:30:34.959861Z",
     "shell.execute_reply": "2021-09-22T06:30:34.958973Z",
     "shell.execute_reply.started": "2021-09-22T06:30:34.037396Z"
    },
    "tags": []
   },
   "outputs": [
    {
     "data": {
      "text/html": [
       "<div>\n",
       "<style scoped>\n",
       "    .dataframe tbody tr th:only-of-type {\n",
       "        vertical-align: middle;\n",
       "    }\n",
       "\n",
       "    .dataframe tbody tr th {\n",
       "        vertical-align: top;\n",
       "    }\n",
       "\n",
       "    .dataframe thead th {\n",
       "        text-align: right;\n",
       "    }\n",
       "</style>\n",
       "<table border=\"1\" class=\"dataframe\">\n",
       "  <thead>\n",
       "    <tr style=\"text-align: right;\">\n",
       "      <th></th>\n",
       "      <th>0</th>\n",
       "      <th>MGB00001</th>\n",
       "      <th>MGB00002</th>\n",
       "      <th>MGB00003</th>\n",
       "      <th>MGB00004</th>\n",
       "      <th>MGB00005</th>\n",
       "      <th>MGB00006</th>\n",
       "      <th>MGB00007</th>\n",
       "      <th>MGB00008</th>\n",
       "      <th>MGB00009</th>\n",
       "      <th>...</th>\n",
       "      <th>MGB00091</th>\n",
       "      <th>MGB00092</th>\n",
       "      <th>MGB00093</th>\n",
       "      <th>MGB00094</th>\n",
       "      <th>MGB00095</th>\n",
       "      <th>MGB00096</th>\n",
       "      <th>MGB00097</th>\n",
       "      <th>MGB00098</th>\n",
       "      <th>MGB00099</th>\n",
       "      <th>MGB00100</th>\n",
       "    </tr>\n",
       "  </thead>\n",
       "  <tbody>\n",
       "    <tr>\n",
       "      <th>0</th>\n",
       "      <td>rs3131972_A</td>\n",
       "      <td>1</td>\n",
       "      <td>0</td>\n",
       "      <td>0</td>\n",
       "      <td>2</td>\n",
       "      <td>1</td>\n",
       "      <td>2</td>\n",
       "      <td>1</td>\n",
       "      <td>2</td>\n",
       "      <td>0</td>\n",
       "      <td>...</td>\n",
       "      <td>1</td>\n",
       "      <td>1</td>\n",
       "      <td>1</td>\n",
       "      <td>2</td>\n",
       "      <td>1</td>\n",
       "      <td>0</td>\n",
       "      <td>1</td>\n",
       "      <td>1</td>\n",
       "      <td>0</td>\n",
       "      <td>1</td>\n",
       "    </tr>\n",
       "    <tr>\n",
       "      <th>1</th>\n",
       "      <td>1:840327_G_A_A</td>\n",
       "      <td>1</td>\n",
       "      <td>1</td>\n",
       "      <td>0</td>\n",
       "      <td>1</td>\n",
       "      <td>0</td>\n",
       "      <td>0</td>\n",
       "      <td>2</td>\n",
       "      <td>2</td>\n",
       "      <td>1</td>\n",
       "      <td>...</td>\n",
       "      <td>2</td>\n",
       "      <td>1</td>\n",
       "      <td>0</td>\n",
       "      <td>0</td>\n",
       "      <td>1</td>\n",
       "      <td>2</td>\n",
       "      <td>0</td>\n",
       "      <td>2</td>\n",
       "      <td>0</td>\n",
       "      <td>2</td>\n",
       "    </tr>\n",
       "    <tr>\n",
       "      <th>2</th>\n",
       "      <td>rs4970382_T</td>\n",
       "      <td>2</td>\n",
       "      <td>1</td>\n",
       "      <td>2</td>\n",
       "      <td>1</td>\n",
       "      <td>0</td>\n",
       "      <td>1</td>\n",
       "      <td>2</td>\n",
       "      <td>1</td>\n",
       "      <td>0</td>\n",
       "      <td>...</td>\n",
       "      <td>1</td>\n",
       "      <td>1</td>\n",
       "      <td>1</td>\n",
       "      <td>2</td>\n",
       "      <td>0</td>\n",
       "      <td>1</td>\n",
       "      <td>1</td>\n",
       "      <td>1</td>\n",
       "      <td>1</td>\n",
       "      <td>1</td>\n",
       "    </tr>\n",
       "    <tr>\n",
       "      <th>3</th>\n",
       "      <td>1:846808_C_T_C</td>\n",
       "      <td>1</td>\n",
       "      <td>0</td>\n",
       "      <td>1</td>\n",
       "      <td>0</td>\n",
       "      <td>1</td>\n",
       "      <td>0</td>\n",
       "      <td>0</td>\n",
       "      <td>1</td>\n",
       "      <td>2</td>\n",
       "      <td>...</td>\n",
       "      <td>0</td>\n",
       "      <td>1</td>\n",
       "      <td>0</td>\n",
       "      <td>1</td>\n",
       "      <td>1</td>\n",
       "      <td>1</td>\n",
       "      <td>0</td>\n",
       "      <td>1</td>\n",
       "      <td>0</td>\n",
       "      <td>1</td>\n",
       "    </tr>\n",
       "    <tr>\n",
       "      <th>4</th>\n",
       "      <td>Affx-15447216_C</td>\n",
       "      <td>0</td>\n",
       "      <td>1</td>\n",
       "      <td>0</td>\n",
       "      <td>2</td>\n",
       "      <td>2</td>\n",
       "      <td>1</td>\n",
       "      <td>1</td>\n",
       "      <td>0</td>\n",
       "      <td>1</td>\n",
       "      <td>...</td>\n",
       "      <td>1</td>\n",
       "      <td>1</td>\n",
       "      <td>0</td>\n",
       "      <td>2</td>\n",
       "      <td>2</td>\n",
       "      <td>1</td>\n",
       "      <td>1</td>\n",
       "      <td>1</td>\n",
       "      <td>0</td>\n",
       "      <td>0</td>\n",
       "    </tr>\n",
       "    <tr>\n",
       "      <th>...</th>\n",
       "      <td>...</td>\n",
       "      <td>...</td>\n",
       "      <td>...</td>\n",
       "      <td>...</td>\n",
       "      <td>...</td>\n",
       "      <td>...</td>\n",
       "      <td>...</td>\n",
       "      <td>...</td>\n",
       "      <td>...</td>\n",
       "      <td>...</td>\n",
       "      <td>...</td>\n",
       "      <td>...</td>\n",
       "      <td>...</td>\n",
       "      <td>...</td>\n",
       "      <td>...</td>\n",
       "      <td>...</td>\n",
       "      <td>...</td>\n",
       "      <td>...</td>\n",
       "      <td>...</td>\n",
       "      <td>...</td>\n",
       "      <td>...</td>\n",
       "    </tr>\n",
       "    <tr>\n",
       "      <th>995</th>\n",
       "      <td>1:4496256_C_T_T</td>\n",
       "      <td>2</td>\n",
       "      <td>2</td>\n",
       "      <td>0</td>\n",
       "      <td>1</td>\n",
       "      <td>1</td>\n",
       "      <td>1</td>\n",
       "      <td>0</td>\n",
       "      <td>1</td>\n",
       "      <td>1</td>\n",
       "      <td>...</td>\n",
       "      <td>0</td>\n",
       "      <td>2</td>\n",
       "      <td>1</td>\n",
       "      <td>2</td>\n",
       "      <td>1</td>\n",
       "      <td>1</td>\n",
       "      <td>0</td>\n",
       "      <td>1</td>\n",
       "      <td>1</td>\n",
       "      <td>0</td>\n",
       "    </tr>\n",
       "    <tr>\n",
       "      <th>996</th>\n",
       "      <td>1:4496659_C_T_T</td>\n",
       "      <td>0</td>\n",
       "      <td>1</td>\n",
       "      <td>0</td>\n",
       "      <td>2</td>\n",
       "      <td>0</td>\n",
       "      <td>2</td>\n",
       "      <td>0</td>\n",
       "      <td>1</td>\n",
       "      <td>1</td>\n",
       "      <td>...</td>\n",
       "      <td>2</td>\n",
       "      <td>0</td>\n",
       "      <td>0</td>\n",
       "      <td>1</td>\n",
       "      <td>1</td>\n",
       "      <td>0</td>\n",
       "      <td>1</td>\n",
       "      <td>1</td>\n",
       "      <td>1</td>\n",
       "      <td>0</td>\n",
       "    </tr>\n",
       "    <tr>\n",
       "      <th>997</th>\n",
       "      <td>1:4497097_G_A_A</td>\n",
       "      <td>1</td>\n",
       "      <td>1</td>\n",
       "      <td>1</td>\n",
       "      <td>1</td>\n",
       "      <td>1</td>\n",
       "      <td>1</td>\n",
       "      <td>0</td>\n",
       "      <td>2</td>\n",
       "      <td>2</td>\n",
       "      <td>...</td>\n",
       "      <td>0</td>\n",
       "      <td>1</td>\n",
       "      <td>2</td>\n",
       "      <td>0</td>\n",
       "      <td>2</td>\n",
       "      <td>0</td>\n",
       "      <td>0</td>\n",
       "      <td>1</td>\n",
       "      <td>1</td>\n",
       "      <td>2</td>\n",
       "    </tr>\n",
       "    <tr>\n",
       "      <th>998</th>\n",
       "      <td>1:4497118_C_T_C</td>\n",
       "      <td>1</td>\n",
       "      <td>0</td>\n",
       "      <td>2</td>\n",
       "      <td>0</td>\n",
       "      <td>1</td>\n",
       "      <td>1</td>\n",
       "      <td>1</td>\n",
       "      <td>0</td>\n",
       "      <td>1</td>\n",
       "      <td>...</td>\n",
       "      <td>2</td>\n",
       "      <td>1</td>\n",
       "      <td>1</td>\n",
       "      <td>2</td>\n",
       "      <td>0</td>\n",
       "      <td>0</td>\n",
       "      <td>2</td>\n",
       "      <td>1</td>\n",
       "      <td>1</td>\n",
       "      <td>1</td>\n",
       "    </tr>\n",
       "    <tr>\n",
       "      <th>999</th>\n",
       "      <td>1:4497217_C_T_T</td>\n",
       "      <td>2</td>\n",
       "      <td>1</td>\n",
       "      <td>1</td>\n",
       "      <td>2</td>\n",
       "      <td>1</td>\n",
       "      <td>0</td>\n",
       "      <td>1</td>\n",
       "      <td>1</td>\n",
       "      <td>1</td>\n",
       "      <td>...</td>\n",
       "      <td>1</td>\n",
       "      <td>1</td>\n",
       "      <td>1</td>\n",
       "      <td>0</td>\n",
       "      <td>1</td>\n",
       "      <td>2</td>\n",
       "      <td>0</td>\n",
       "      <td>1</td>\n",
       "      <td>0</td>\n",
       "      <td>1</td>\n",
       "    </tr>\n",
       "  </tbody>\n",
       "</table>\n",
       "<p>1000 rows × 101 columns</p>\n",
       "</div>"
      ],
      "text/plain": [
       "                   0  MGB00001  MGB00002  MGB00003  MGB00004  MGB00005  \\\n",
       "0        rs3131972_A         1         0         0         2         1   \n",
       "1     1:840327_G_A_A         1         1         0         1         0   \n",
       "2        rs4970382_T         2         1         2         1         0   \n",
       "3     1:846808_C_T_C         1         0         1         0         1   \n",
       "4    Affx-15447216_C         0         1         0         2         2   \n",
       "..               ...       ...       ...       ...       ...       ...   \n",
       "995  1:4496256_C_T_T         2         2         0         1         1   \n",
       "996  1:4496659_C_T_T         0         1         0         2         0   \n",
       "997  1:4497097_G_A_A         1         1         1         1         1   \n",
       "998  1:4497118_C_T_C         1         0         2         0         1   \n",
       "999  1:4497217_C_T_T         2         1         1         2         1   \n",
       "\n",
       "     MGB00006  MGB00007  MGB00008  MGB00009  ...  MGB00091  MGB00092  \\\n",
       "0           2         1         2         0  ...         1         1   \n",
       "1           0         2         2         1  ...         2         1   \n",
       "2           1         2         1         0  ...         1         1   \n",
       "3           0         0         1         2  ...         0         1   \n",
       "4           1         1         0         1  ...         1         1   \n",
       "..        ...       ...       ...       ...  ...       ...       ...   \n",
       "995         1         0         1         1  ...         0         2   \n",
       "996         2         0         1         1  ...         2         0   \n",
       "997         1         0         2         2  ...         0         1   \n",
       "998         1         1         0         1  ...         2         1   \n",
       "999         0         1         1         1  ...         1         1   \n",
       "\n",
       "     MGB00093  MGB00094  MGB00095  MGB00096  MGB00097  MGB00098  MGB00099  \\\n",
       "0           1         2         1         0         1         1         0   \n",
       "1           0         0         1         2         0         2         0   \n",
       "2           1         2         0         1         1         1         1   \n",
       "3           0         1         1         1         0         1         0   \n",
       "4           0         2         2         1         1         1         0   \n",
       "..        ...       ...       ...       ...       ...       ...       ...   \n",
       "995         1         2         1         1         0         1         1   \n",
       "996         0         1         1         0         1         1         1   \n",
       "997         2         0         2         0         0         1         1   \n",
       "998         1         2         0         0         2         1         1   \n",
       "999         1         0         1         2         0         1         0   \n",
       "\n",
       "     MGB00100  \n",
       "0           1  \n",
       "1           2  \n",
       "2           1  \n",
       "3           1  \n",
       "4           0  \n",
       "..        ...  \n",
       "995         0  \n",
       "996         0  \n",
       "997         2  \n",
       "998         1  \n",
       "999         1  \n",
       "\n",
       "[1000 rows x 101 columns]"
      ]
     },
     "execution_count": 152,
     "metadata": {},
     "output_type": "execute_result"
    }
   ],
   "source": [
    "feather.read_feather(\"MGB_100_1000.feather\")"
   ]
  },
  {
   "cell_type": "code",
   "execution_count": 193,
   "id": "fee0d24c-1ca8-45d7-8aa4-fc4080ffe501",
   "metadata": {
    "execution": {
     "iopub.execute_input": "2021-09-22T17:17:25.501323Z",
     "iopub.status.busy": "2021-09-22T17:17:25.501054Z",
     "iopub.status.idle": "2021-09-22T17:17:26.173301Z",
     "shell.execute_reply": "2021-09-22T17:17:26.172617Z",
     "shell.execute_reply.started": "2021-09-22T17:17:25.501292Z"
    },
    "tags": []
   },
   "outputs": [],
   "source": [
    "stats = pd.DataFrame(data={\"0\": raw.index[:1000], \"mean\": np.random.normal(size=1000), \"std\": np.random.normal(size=1000)})"
   ]
  },
  {
   "cell_type": "code",
   "execution_count": 194,
   "id": "4a529a65-6e22-440f-b08a-fd9654c4f5f1",
   "metadata": {
    "execution": {
     "iopub.execute_input": "2021-09-22T17:18:26.872163Z",
     "iopub.status.busy": "2021-09-22T17:18:26.871754Z",
     "iopub.status.idle": "2021-09-22T17:18:27.776260Z",
     "shell.execute_reply": "2021-09-22T17:18:27.775394Z",
     "shell.execute_reply.started": "2021-09-22T17:18:26.872117Z"
    }
   },
   "outputs": [],
   "source": [
    "stats.to_csv(\"MGB_100_1000.stats.tsv\", sep=\"\\t\", index=False)"
   ]
  },
  {
   "cell_type": "code",
   "execution_count": 198,
   "id": "738b7adb-2758-4909-b1d9-0da77c5328a9",
   "metadata": {
    "execution": {
     "iopub.execute_input": "2021-09-22T17:19:46.900097Z",
     "iopub.status.busy": "2021-09-22T17:19:46.899846Z",
     "iopub.status.idle": "2021-09-22T17:19:47.580477Z",
     "shell.execute_reply": "2021-09-22T17:19:47.579891Z",
     "shell.execute_reply.started": "2021-09-22T17:19:46.900066Z"
    },
    "tags": []
   },
   "outputs": [],
   "source": [
    "raw = feather.read_feather(\"MGB_100_1000.feather\").set_index(\"0\")"
   ]
  },
  {
   "cell_type": "code",
   "execution_count": 226,
   "id": "82ba71a2-4074-4f98-a0de-bd173eea8d20",
   "metadata": {
    "execution": {
     "iopub.execute_input": "2021-09-22T17:38:10.373140Z",
     "iopub.status.busy": "2021-09-22T17:38:10.372804Z",
     "iopub.status.idle": "2021-09-22T17:38:10.976064Z",
     "shell.execute_reply": "2021-09-22T17:38:10.975401Z",
     "shell.execute_reply.started": "2021-09-22T17:38:10.373104Z"
    },
    "tags": []
   },
   "outputs": [],
   "source": [
    "zraw = raw.subtract(stats[\"mean\"].values, axis=\"index\")\n",
    "zraw = zraw.div(stats[\"std\"].values, axis=\"index\")"
   ]
  },
  {
   "cell_type": "code",
   "execution_count": 236,
   "id": "298fcb47-270a-4830-b1a4-4450c8152c7e",
   "metadata": {
    "execution": {
     "iopub.execute_input": "2021-09-22T17:40:35.403986Z",
     "iopub.status.busy": "2021-09-22T17:40:35.403671Z",
     "iopub.status.idle": "2021-09-22T17:40:36.077091Z",
     "shell.execute_reply": "2021-09-22T17:40:36.076400Z",
     "shell.execute_reply.started": "2021-09-22T17:40:35.403952Z"
    },
    "tags": []
   },
   "outputs": [],
   "source": [
    "feather.write_feather(zraw.reset_index(), \"MGB_100_1000.zscored.feather\")"
   ]
  },
  {
   "cell_type": "code",
   "execution_count": 238,
   "id": "11726af2-ad60-41fd-8530-a08017e7d544",
   "metadata": {
    "execution": {
     "iopub.execute_input": "2021-09-22T17:53:54.941372Z",
     "iopub.status.busy": "2021-09-22T17:53:54.941089Z",
     "iopub.status.idle": "2021-09-22T17:53:55.608698Z",
     "shell.execute_reply": "2021-09-22T17:53:55.607947Z",
     "shell.execute_reply.started": "2021-09-22T17:53:54.941327Z"
    }
   },
   "outputs": [
    {
     "data": {
      "text/html": [
       "<div>\n",
       "<style scoped>\n",
       "    .dataframe tbody tr th:only-of-type {\n",
       "        vertical-align: middle;\n",
       "    }\n",
       "\n",
       "    .dataframe tbody tr th {\n",
       "        vertical-align: top;\n",
       "    }\n",
       "\n",
       "    .dataframe thead th {\n",
       "        text-align: right;\n",
       "    }\n",
       "</style>\n",
       "<table border=\"1\" class=\"dataframe\">\n",
       "  <thead>\n",
       "    <tr style=\"text-align: right;\">\n",
       "      <th></th>\n",
       "      <th>MGB00001</th>\n",
       "      <th>MGB00002</th>\n",
       "      <th>MGB00003</th>\n",
       "      <th>MGB00004</th>\n",
       "      <th>MGB00005</th>\n",
       "      <th>MGB00006</th>\n",
       "      <th>MGB00007</th>\n",
       "      <th>MGB00008</th>\n",
       "      <th>MGB00009</th>\n",
       "      <th>MGB00010</th>\n",
       "      <th>...</th>\n",
       "      <th>MGB00091</th>\n",
       "      <th>MGB00092</th>\n",
       "      <th>MGB00093</th>\n",
       "      <th>MGB00094</th>\n",
       "      <th>MGB00095</th>\n",
       "      <th>MGB00096</th>\n",
       "      <th>MGB00097</th>\n",
       "      <th>MGB00098</th>\n",
       "      <th>MGB00099</th>\n",
       "      <th>MGB00100</th>\n",
       "    </tr>\n",
       "    <tr>\n",
       "      <th>0</th>\n",
       "      <th></th>\n",
       "      <th></th>\n",
       "      <th></th>\n",
       "      <th></th>\n",
       "      <th></th>\n",
       "      <th></th>\n",
       "      <th></th>\n",
       "      <th></th>\n",
       "      <th></th>\n",
       "      <th></th>\n",
       "      <th></th>\n",
       "      <th></th>\n",
       "      <th></th>\n",
       "      <th></th>\n",
       "      <th></th>\n",
       "      <th></th>\n",
       "      <th></th>\n",
       "      <th></th>\n",
       "      <th></th>\n",
       "      <th></th>\n",
       "      <th></th>\n",
       "    </tr>\n",
       "  </thead>\n",
       "  <tbody>\n",
       "    <tr>\n",
       "      <th>rs3131972_A</th>\n",
       "      <td>-0.435274</td>\n",
       "      <td>0.145781</td>\n",
       "      <td>0.145781</td>\n",
       "      <td>-1.016330</td>\n",
       "      <td>-0.435274</td>\n",
       "      <td>-1.016330</td>\n",
       "      <td>-0.435274</td>\n",
       "      <td>-1.016330</td>\n",
       "      <td>0.145781</td>\n",
       "      <td>-1.016330</td>\n",
       "      <td>...</td>\n",
       "      <td>-0.435274</td>\n",
       "      <td>-0.435274</td>\n",
       "      <td>-0.435274</td>\n",
       "      <td>-1.016330</td>\n",
       "      <td>-0.435274</td>\n",
       "      <td>0.145781</td>\n",
       "      <td>-0.435274</td>\n",
       "      <td>-0.435274</td>\n",
       "      <td>0.145781</td>\n",
       "      <td>-0.435274</td>\n",
       "    </tr>\n",
       "    <tr>\n",
       "      <th>1:840327_G_A_A</th>\n",
       "      <td>3.971477</td>\n",
       "      <td>3.971477</td>\n",
       "      <td>0.743766</td>\n",
       "      <td>3.971477</td>\n",
       "      <td>0.743766</td>\n",
       "      <td>0.743766</td>\n",
       "      <td>7.199187</td>\n",
       "      <td>7.199187</td>\n",
       "      <td>3.971477</td>\n",
       "      <td>7.199187</td>\n",
       "      <td>...</td>\n",
       "      <td>7.199187</td>\n",
       "      <td>3.971477</td>\n",
       "      <td>0.743766</td>\n",
       "      <td>0.743766</td>\n",
       "      <td>3.971477</td>\n",
       "      <td>7.199187</td>\n",
       "      <td>0.743766</td>\n",
       "      <td>7.199187</td>\n",
       "      <td>0.743766</td>\n",
       "      <td>7.199187</td>\n",
       "    </tr>\n",
       "    <tr>\n",
       "      <th>rs4970382_T</th>\n",
       "      <td>-3.526750</td>\n",
       "      <td>-2.746769</td>\n",
       "      <td>-3.526750</td>\n",
       "      <td>-2.746769</td>\n",
       "      <td>-1.966788</td>\n",
       "      <td>-2.746769</td>\n",
       "      <td>-3.526750</td>\n",
       "      <td>-2.746769</td>\n",
       "      <td>-1.966788</td>\n",
       "      <td>-3.526750</td>\n",
       "      <td>...</td>\n",
       "      <td>-2.746769</td>\n",
       "      <td>-2.746769</td>\n",
       "      <td>-2.746769</td>\n",
       "      <td>-3.526750</td>\n",
       "      <td>-1.966788</td>\n",
       "      <td>-2.746769</td>\n",
       "      <td>-2.746769</td>\n",
       "      <td>-2.746769</td>\n",
       "      <td>-2.746769</td>\n",
       "      <td>-2.746769</td>\n",
       "    </tr>\n",
       "    <tr>\n",
       "      <th>1:846808_C_T_C</th>\n",
       "      <td>2.722384</td>\n",
       "      <td>1.299216</td>\n",
       "      <td>2.722384</td>\n",
       "      <td>1.299216</td>\n",
       "      <td>2.722384</td>\n",
       "      <td>1.299216</td>\n",
       "      <td>1.299216</td>\n",
       "      <td>2.722384</td>\n",
       "      <td>4.145552</td>\n",
       "      <td>2.722384</td>\n",
       "      <td>...</td>\n",
       "      <td>1.299216</td>\n",
       "      <td>2.722384</td>\n",
       "      <td>1.299216</td>\n",
       "      <td>2.722384</td>\n",
       "      <td>2.722384</td>\n",
       "      <td>2.722384</td>\n",
       "      <td>1.299216</td>\n",
       "      <td>2.722384</td>\n",
       "      <td>1.299216</td>\n",
       "      <td>2.722384</td>\n",
       "    </tr>\n",
       "    <tr>\n",
       "      <th>Affx-15447216_C</th>\n",
       "      <td>5.412217</td>\n",
       "      <td>1.196706</td>\n",
       "      <td>5.412217</td>\n",
       "      <td>-3.018806</td>\n",
       "      <td>-3.018806</td>\n",
       "      <td>1.196706</td>\n",
       "      <td>1.196706</td>\n",
       "      <td>5.412217</td>\n",
       "      <td>1.196706</td>\n",
       "      <td>1.196706</td>\n",
       "      <td>...</td>\n",
       "      <td>1.196706</td>\n",
       "      <td>1.196706</td>\n",
       "      <td>5.412217</td>\n",
       "      <td>-3.018806</td>\n",
       "      <td>-3.018806</td>\n",
       "      <td>1.196706</td>\n",
       "      <td>1.196706</td>\n",
       "      <td>1.196706</td>\n",
       "      <td>5.412217</td>\n",
       "      <td>5.412217</td>\n",
       "    </tr>\n",
       "    <tr>\n",
       "      <th>...</th>\n",
       "      <td>...</td>\n",
       "      <td>...</td>\n",
       "      <td>...</td>\n",
       "      <td>...</td>\n",
       "      <td>...</td>\n",
       "      <td>...</td>\n",
       "      <td>...</td>\n",
       "      <td>...</td>\n",
       "      <td>...</td>\n",
       "      <td>...</td>\n",
       "      <td>...</td>\n",
       "      <td>...</td>\n",
       "      <td>...</td>\n",
       "      <td>...</td>\n",
       "      <td>...</td>\n",
       "      <td>...</td>\n",
       "      <td>...</td>\n",
       "      <td>...</td>\n",
       "      <td>...</td>\n",
       "      <td>...</td>\n",
       "      <td>...</td>\n",
       "    </tr>\n",
       "    <tr>\n",
       "      <th>1:4496256_C_T_T</th>\n",
       "      <td>-1.126842</td>\n",
       "      <td>-1.126842</td>\n",
       "      <td>0.850135</td>\n",
       "      <td>-0.138353</td>\n",
       "      <td>-0.138353</td>\n",
       "      <td>-0.138353</td>\n",
       "      <td>0.850135</td>\n",
       "      <td>-0.138353</td>\n",
       "      <td>-0.138353</td>\n",
       "      <td>-0.138353</td>\n",
       "      <td>...</td>\n",
       "      <td>0.850135</td>\n",
       "      <td>-1.126842</td>\n",
       "      <td>-0.138353</td>\n",
       "      <td>-1.126842</td>\n",
       "      <td>-0.138353</td>\n",
       "      <td>-0.138353</td>\n",
       "      <td>0.850135</td>\n",
       "      <td>-0.138353</td>\n",
       "      <td>-0.138353</td>\n",
       "      <td>0.850135</td>\n",
       "    </tr>\n",
       "    <tr>\n",
       "      <th>1:4496659_C_T_T</th>\n",
       "      <td>-2.201933</td>\n",
       "      <td>-4.277609</td>\n",
       "      <td>-2.201933</td>\n",
       "      <td>-6.353284</td>\n",
       "      <td>-2.201933</td>\n",
       "      <td>-6.353284</td>\n",
       "      <td>-2.201933</td>\n",
       "      <td>-4.277609</td>\n",
       "      <td>-4.277609</td>\n",
       "      <td>-2.201933</td>\n",
       "      <td>...</td>\n",
       "      <td>-6.353284</td>\n",
       "      <td>-2.201933</td>\n",
       "      <td>-2.201933</td>\n",
       "      <td>-4.277609</td>\n",
       "      <td>-4.277609</td>\n",
       "      <td>-2.201933</td>\n",
       "      <td>-4.277609</td>\n",
       "      <td>-4.277609</td>\n",
       "      <td>-4.277609</td>\n",
       "      <td>-2.201933</td>\n",
       "    </tr>\n",
       "    <tr>\n",
       "      <th>1:4497097_G_A_A</th>\n",
       "      <td>-0.295714</td>\n",
       "      <td>-0.295714</td>\n",
       "      <td>-0.295714</td>\n",
       "      <td>-0.295714</td>\n",
       "      <td>-0.295714</td>\n",
       "      <td>-0.295714</td>\n",
       "      <td>0.356939</td>\n",
       "      <td>-0.948368</td>\n",
       "      <td>-0.948368</td>\n",
       "      <td>0.356939</td>\n",
       "      <td>...</td>\n",
       "      <td>0.356939</td>\n",
       "      <td>-0.295714</td>\n",
       "      <td>-0.948368</td>\n",
       "      <td>0.356939</td>\n",
       "      <td>-0.948368</td>\n",
       "      <td>0.356939</td>\n",
       "      <td>0.356939</td>\n",
       "      <td>-0.295714</td>\n",
       "      <td>-0.295714</td>\n",
       "      <td>-0.948368</td>\n",
       "    </tr>\n",
       "    <tr>\n",
       "      <th>1:4497118_C_T_C</th>\n",
       "      <td>-11.307576</td>\n",
       "      <td>-20.985076</td>\n",
       "      <td>-1.630075</td>\n",
       "      <td>-20.985076</td>\n",
       "      <td>-11.307576</td>\n",
       "      <td>-11.307576</td>\n",
       "      <td>-11.307576</td>\n",
       "      <td>-20.985076</td>\n",
       "      <td>-11.307576</td>\n",
       "      <td>-20.985076</td>\n",
       "      <td>...</td>\n",
       "      <td>-1.630075</td>\n",
       "      <td>-11.307576</td>\n",
       "      <td>-11.307576</td>\n",
       "      <td>-1.630075</td>\n",
       "      <td>-20.985076</td>\n",
       "      <td>-20.985076</td>\n",
       "      <td>-1.630075</td>\n",
       "      <td>-11.307576</td>\n",
       "      <td>-11.307576</td>\n",
       "      <td>-11.307576</td>\n",
       "    </tr>\n",
       "    <tr>\n",
       "      <th>1:4497217_C_T_T</th>\n",
       "      <td>-2.608389</td>\n",
       "      <td>-1.265667</td>\n",
       "      <td>-1.265667</td>\n",
       "      <td>-2.608389</td>\n",
       "      <td>-1.265667</td>\n",
       "      <td>0.077056</td>\n",
       "      <td>-1.265667</td>\n",
       "      <td>-1.265667</td>\n",
       "      <td>-1.265667</td>\n",
       "      <td>0.077056</td>\n",
       "      <td>...</td>\n",
       "      <td>-1.265667</td>\n",
       "      <td>-1.265667</td>\n",
       "      <td>-1.265667</td>\n",
       "      <td>0.077056</td>\n",
       "      <td>-1.265667</td>\n",
       "      <td>-2.608389</td>\n",
       "      <td>0.077056</td>\n",
       "      <td>-1.265667</td>\n",
       "      <td>0.077056</td>\n",
       "      <td>-1.265667</td>\n",
       "    </tr>\n",
       "  </tbody>\n",
       "</table>\n",
       "<p>1000 rows × 100 columns</p>\n",
       "</div>"
      ],
      "text/plain": [
       "                  MGB00001   MGB00002  MGB00003   MGB00004   MGB00005  \\\n",
       "0                                                                       \n",
       "rs3131972_A      -0.435274   0.145781  0.145781  -1.016330  -0.435274   \n",
       "1:840327_G_A_A    3.971477   3.971477  0.743766   3.971477   0.743766   \n",
       "rs4970382_T      -3.526750  -2.746769 -3.526750  -2.746769  -1.966788   \n",
       "1:846808_C_T_C    2.722384   1.299216  2.722384   1.299216   2.722384   \n",
       "Affx-15447216_C   5.412217   1.196706  5.412217  -3.018806  -3.018806   \n",
       "...                    ...        ...       ...        ...        ...   \n",
       "1:4496256_C_T_T  -1.126842  -1.126842  0.850135  -0.138353  -0.138353   \n",
       "1:4496659_C_T_T  -2.201933  -4.277609 -2.201933  -6.353284  -2.201933   \n",
       "1:4497097_G_A_A  -0.295714  -0.295714 -0.295714  -0.295714  -0.295714   \n",
       "1:4497118_C_T_C -11.307576 -20.985076 -1.630075 -20.985076 -11.307576   \n",
       "1:4497217_C_T_T  -2.608389  -1.265667 -1.265667  -2.608389  -1.265667   \n",
       "\n",
       "                  MGB00006   MGB00007   MGB00008   MGB00009   MGB00010  ...  \\\n",
       "0                                                                       ...   \n",
       "rs3131972_A      -1.016330  -0.435274  -1.016330   0.145781  -1.016330  ...   \n",
       "1:840327_G_A_A    0.743766   7.199187   7.199187   3.971477   7.199187  ...   \n",
       "rs4970382_T      -2.746769  -3.526750  -2.746769  -1.966788  -3.526750  ...   \n",
       "1:846808_C_T_C    1.299216   1.299216   2.722384   4.145552   2.722384  ...   \n",
       "Affx-15447216_C   1.196706   1.196706   5.412217   1.196706   1.196706  ...   \n",
       "...                    ...        ...        ...        ...        ...  ...   \n",
       "1:4496256_C_T_T  -0.138353   0.850135  -0.138353  -0.138353  -0.138353  ...   \n",
       "1:4496659_C_T_T  -6.353284  -2.201933  -4.277609  -4.277609  -2.201933  ...   \n",
       "1:4497097_G_A_A  -0.295714   0.356939  -0.948368  -0.948368   0.356939  ...   \n",
       "1:4497118_C_T_C -11.307576 -11.307576 -20.985076 -11.307576 -20.985076  ...   \n",
       "1:4497217_C_T_T   0.077056  -1.265667  -1.265667  -1.265667   0.077056  ...   \n",
       "\n",
       "                 MGB00091   MGB00092   MGB00093  MGB00094   MGB00095  \\\n",
       "0                                                                      \n",
       "rs3131972_A     -0.435274  -0.435274  -0.435274 -1.016330  -0.435274   \n",
       "1:840327_G_A_A   7.199187   3.971477   0.743766  0.743766   3.971477   \n",
       "rs4970382_T     -2.746769  -2.746769  -2.746769 -3.526750  -1.966788   \n",
       "1:846808_C_T_C   1.299216   2.722384   1.299216  2.722384   2.722384   \n",
       "Affx-15447216_C  1.196706   1.196706   5.412217 -3.018806  -3.018806   \n",
       "...                   ...        ...        ...       ...        ...   \n",
       "1:4496256_C_T_T  0.850135  -1.126842  -0.138353 -1.126842  -0.138353   \n",
       "1:4496659_C_T_T -6.353284  -2.201933  -2.201933 -4.277609  -4.277609   \n",
       "1:4497097_G_A_A  0.356939  -0.295714  -0.948368  0.356939  -0.948368   \n",
       "1:4497118_C_T_C -1.630075 -11.307576 -11.307576 -1.630075 -20.985076   \n",
       "1:4497217_C_T_T -1.265667  -1.265667  -1.265667  0.077056  -1.265667   \n",
       "\n",
       "                  MGB00096  MGB00097   MGB00098   MGB00099   MGB00100  \n",
       "0                                                                      \n",
       "rs3131972_A       0.145781 -0.435274  -0.435274   0.145781  -0.435274  \n",
       "1:840327_G_A_A    7.199187  0.743766   7.199187   0.743766   7.199187  \n",
       "rs4970382_T      -2.746769 -2.746769  -2.746769  -2.746769  -2.746769  \n",
       "1:846808_C_T_C    2.722384  1.299216   2.722384   1.299216   2.722384  \n",
       "Affx-15447216_C   1.196706  1.196706   1.196706   5.412217   5.412217  \n",
       "...                    ...       ...        ...        ...        ...  \n",
       "1:4496256_C_T_T  -0.138353  0.850135  -0.138353  -0.138353   0.850135  \n",
       "1:4496659_C_T_T  -2.201933 -4.277609  -4.277609  -4.277609  -2.201933  \n",
       "1:4497097_G_A_A   0.356939  0.356939  -0.295714  -0.295714  -0.948368  \n",
       "1:4497118_C_T_C -20.985076 -1.630075 -11.307576 -11.307576 -11.307576  \n",
       "1:4497217_C_T_T  -2.608389  0.077056  -1.265667   0.077056  -1.265667  \n",
       "\n",
       "[1000 rows x 100 columns]"
      ]
     },
     "execution_count": 238,
     "metadata": {},
     "output_type": "execute_result"
    }
   ],
   "source": [
    "zraw"
   ]
  },
  {
   "cell_type": "code",
   "execution_count": 237,
   "id": "a22addd8-fc5e-4590-9caa-c5c58d9ce5cf",
   "metadata": {
    "execution": {
     "iopub.execute_input": "2021-09-22T17:53:44.945354Z",
     "iopub.status.busy": "2021-09-22T17:53:44.945083Z",
     "iopub.status.idle": "2021-09-22T17:53:45.865989Z",
     "shell.execute_reply": "2021-09-22T17:53:45.865233Z",
     "shell.execute_reply.started": "2021-09-22T17:53:44.945321Z"
    }
   },
   "outputs": [
    {
     "data": {
      "text/html": [
       "<div>\n",
       "<style scoped>\n",
       "    .dataframe tbody tr th:only-of-type {\n",
       "        vertical-align: middle;\n",
       "    }\n",
       "\n",
       "    .dataframe tbody tr th {\n",
       "        vertical-align: top;\n",
       "    }\n",
       "\n",
       "    .dataframe thead th {\n",
       "        text-align: right;\n",
       "    }\n",
       "</style>\n",
       "<table border=\"1\" class=\"dataframe\">\n",
       "  <thead>\n",
       "    <tr style=\"text-align: right;\">\n",
       "      <th></th>\n",
       "      <th>0</th>\n",
       "      <th>MGB00001</th>\n",
       "      <th>MGB00002</th>\n",
       "      <th>MGB00003</th>\n",
       "      <th>MGB00004</th>\n",
       "      <th>MGB00005</th>\n",
       "      <th>MGB00006</th>\n",
       "      <th>MGB00007</th>\n",
       "      <th>MGB00008</th>\n",
       "      <th>MGB00009</th>\n",
       "      <th>...</th>\n",
       "      <th>MGB00091</th>\n",
       "      <th>MGB00092</th>\n",
       "      <th>MGB00093</th>\n",
       "      <th>MGB00094</th>\n",
       "      <th>MGB00095</th>\n",
       "      <th>MGB00096</th>\n",
       "      <th>MGB00097</th>\n",
       "      <th>MGB00098</th>\n",
       "      <th>MGB00099</th>\n",
       "      <th>MGB00100</th>\n",
       "    </tr>\n",
       "  </thead>\n",
       "  <tbody>\n",
       "    <tr>\n",
       "      <th>0</th>\n",
       "      <td>rs3131972_A</td>\n",
       "      <td>-0.435274</td>\n",
       "      <td>0.145781</td>\n",
       "      <td>0.145781</td>\n",
       "      <td>-1.016330</td>\n",
       "      <td>-0.435274</td>\n",
       "      <td>-1.016330</td>\n",
       "      <td>-0.435274</td>\n",
       "      <td>-1.016330</td>\n",
       "      <td>0.145781</td>\n",
       "      <td>...</td>\n",
       "      <td>-0.435274</td>\n",
       "      <td>-0.435274</td>\n",
       "      <td>-0.435274</td>\n",
       "      <td>-1.016330</td>\n",
       "      <td>-0.435274</td>\n",
       "      <td>0.145781</td>\n",
       "      <td>-0.435274</td>\n",
       "      <td>-0.435274</td>\n",
       "      <td>0.145781</td>\n",
       "      <td>-0.435274</td>\n",
       "    </tr>\n",
       "    <tr>\n",
       "      <th>1</th>\n",
       "      <td>1:840327_G_A_A</td>\n",
       "      <td>3.971477</td>\n",
       "      <td>3.971477</td>\n",
       "      <td>0.743766</td>\n",
       "      <td>3.971477</td>\n",
       "      <td>0.743766</td>\n",
       "      <td>0.743766</td>\n",
       "      <td>7.199187</td>\n",
       "      <td>7.199187</td>\n",
       "      <td>3.971477</td>\n",
       "      <td>...</td>\n",
       "      <td>7.199187</td>\n",
       "      <td>3.971477</td>\n",
       "      <td>0.743766</td>\n",
       "      <td>0.743766</td>\n",
       "      <td>3.971477</td>\n",
       "      <td>7.199187</td>\n",
       "      <td>0.743766</td>\n",
       "      <td>7.199187</td>\n",
       "      <td>0.743766</td>\n",
       "      <td>7.199187</td>\n",
       "    </tr>\n",
       "    <tr>\n",
       "      <th>2</th>\n",
       "      <td>rs4970382_T</td>\n",
       "      <td>-3.526750</td>\n",
       "      <td>-2.746769</td>\n",
       "      <td>-3.526750</td>\n",
       "      <td>-2.746769</td>\n",
       "      <td>-1.966788</td>\n",
       "      <td>-2.746769</td>\n",
       "      <td>-3.526750</td>\n",
       "      <td>-2.746769</td>\n",
       "      <td>-1.966788</td>\n",
       "      <td>...</td>\n",
       "      <td>-2.746769</td>\n",
       "      <td>-2.746769</td>\n",
       "      <td>-2.746769</td>\n",
       "      <td>-3.526750</td>\n",
       "      <td>-1.966788</td>\n",
       "      <td>-2.746769</td>\n",
       "      <td>-2.746769</td>\n",
       "      <td>-2.746769</td>\n",
       "      <td>-2.746769</td>\n",
       "      <td>-2.746769</td>\n",
       "    </tr>\n",
       "    <tr>\n",
       "      <th>3</th>\n",
       "      <td>1:846808_C_T_C</td>\n",
       "      <td>2.722384</td>\n",
       "      <td>1.299216</td>\n",
       "      <td>2.722384</td>\n",
       "      <td>1.299216</td>\n",
       "      <td>2.722384</td>\n",
       "      <td>1.299216</td>\n",
       "      <td>1.299216</td>\n",
       "      <td>2.722384</td>\n",
       "      <td>4.145552</td>\n",
       "      <td>...</td>\n",
       "      <td>1.299216</td>\n",
       "      <td>2.722384</td>\n",
       "      <td>1.299216</td>\n",
       "      <td>2.722384</td>\n",
       "      <td>2.722384</td>\n",
       "      <td>2.722384</td>\n",
       "      <td>1.299216</td>\n",
       "      <td>2.722384</td>\n",
       "      <td>1.299216</td>\n",
       "      <td>2.722384</td>\n",
       "    </tr>\n",
       "    <tr>\n",
       "      <th>4</th>\n",
       "      <td>Affx-15447216_C</td>\n",
       "      <td>5.412217</td>\n",
       "      <td>1.196706</td>\n",
       "      <td>5.412217</td>\n",
       "      <td>-3.018806</td>\n",
       "      <td>-3.018806</td>\n",
       "      <td>1.196706</td>\n",
       "      <td>1.196706</td>\n",
       "      <td>5.412217</td>\n",
       "      <td>1.196706</td>\n",
       "      <td>...</td>\n",
       "      <td>1.196706</td>\n",
       "      <td>1.196706</td>\n",
       "      <td>5.412217</td>\n",
       "      <td>-3.018806</td>\n",
       "      <td>-3.018806</td>\n",
       "      <td>1.196706</td>\n",
       "      <td>1.196706</td>\n",
       "      <td>1.196706</td>\n",
       "      <td>5.412217</td>\n",
       "      <td>5.412217</td>\n",
       "    </tr>\n",
       "    <tr>\n",
       "      <th>...</th>\n",
       "      <td>...</td>\n",
       "      <td>...</td>\n",
       "      <td>...</td>\n",
       "      <td>...</td>\n",
       "      <td>...</td>\n",
       "      <td>...</td>\n",
       "      <td>...</td>\n",
       "      <td>...</td>\n",
       "      <td>...</td>\n",
       "      <td>...</td>\n",
       "      <td>...</td>\n",
       "      <td>...</td>\n",
       "      <td>...</td>\n",
       "      <td>...</td>\n",
       "      <td>...</td>\n",
       "      <td>...</td>\n",
       "      <td>...</td>\n",
       "      <td>...</td>\n",
       "      <td>...</td>\n",
       "      <td>...</td>\n",
       "      <td>...</td>\n",
       "    </tr>\n",
       "    <tr>\n",
       "      <th>995</th>\n",
       "      <td>1:4496256_C_T_T</td>\n",
       "      <td>-1.126842</td>\n",
       "      <td>-1.126842</td>\n",
       "      <td>0.850135</td>\n",
       "      <td>-0.138353</td>\n",
       "      <td>-0.138353</td>\n",
       "      <td>-0.138353</td>\n",
       "      <td>0.850135</td>\n",
       "      <td>-0.138353</td>\n",
       "      <td>-0.138353</td>\n",
       "      <td>...</td>\n",
       "      <td>0.850135</td>\n",
       "      <td>-1.126842</td>\n",
       "      <td>-0.138353</td>\n",
       "      <td>-1.126842</td>\n",
       "      <td>-0.138353</td>\n",
       "      <td>-0.138353</td>\n",
       "      <td>0.850135</td>\n",
       "      <td>-0.138353</td>\n",
       "      <td>-0.138353</td>\n",
       "      <td>0.850135</td>\n",
       "    </tr>\n",
       "    <tr>\n",
       "      <th>996</th>\n",
       "      <td>1:4496659_C_T_T</td>\n",
       "      <td>-2.201933</td>\n",
       "      <td>-4.277609</td>\n",
       "      <td>-2.201933</td>\n",
       "      <td>-6.353284</td>\n",
       "      <td>-2.201933</td>\n",
       "      <td>-6.353284</td>\n",
       "      <td>-2.201933</td>\n",
       "      <td>-4.277609</td>\n",
       "      <td>-4.277609</td>\n",
       "      <td>...</td>\n",
       "      <td>-6.353284</td>\n",
       "      <td>-2.201933</td>\n",
       "      <td>-2.201933</td>\n",
       "      <td>-4.277609</td>\n",
       "      <td>-4.277609</td>\n",
       "      <td>-2.201933</td>\n",
       "      <td>-4.277609</td>\n",
       "      <td>-4.277609</td>\n",
       "      <td>-4.277609</td>\n",
       "      <td>-2.201933</td>\n",
       "    </tr>\n",
       "    <tr>\n",
       "      <th>997</th>\n",
       "      <td>1:4497097_G_A_A</td>\n",
       "      <td>-0.295714</td>\n",
       "      <td>-0.295714</td>\n",
       "      <td>-0.295714</td>\n",
       "      <td>-0.295714</td>\n",
       "      <td>-0.295714</td>\n",
       "      <td>-0.295714</td>\n",
       "      <td>0.356939</td>\n",
       "      <td>-0.948368</td>\n",
       "      <td>-0.948368</td>\n",
       "      <td>...</td>\n",
       "      <td>0.356939</td>\n",
       "      <td>-0.295714</td>\n",
       "      <td>-0.948368</td>\n",
       "      <td>0.356939</td>\n",
       "      <td>-0.948368</td>\n",
       "      <td>0.356939</td>\n",
       "      <td>0.356939</td>\n",
       "      <td>-0.295714</td>\n",
       "      <td>-0.295714</td>\n",
       "      <td>-0.948368</td>\n",
       "    </tr>\n",
       "    <tr>\n",
       "      <th>998</th>\n",
       "      <td>1:4497118_C_T_C</td>\n",
       "      <td>-11.307576</td>\n",
       "      <td>-20.985076</td>\n",
       "      <td>-1.630075</td>\n",
       "      <td>-20.985076</td>\n",
       "      <td>-11.307576</td>\n",
       "      <td>-11.307576</td>\n",
       "      <td>-11.307576</td>\n",
       "      <td>-20.985076</td>\n",
       "      <td>-11.307576</td>\n",
       "      <td>...</td>\n",
       "      <td>-1.630075</td>\n",
       "      <td>-11.307576</td>\n",
       "      <td>-11.307576</td>\n",
       "      <td>-1.630075</td>\n",
       "      <td>-20.985076</td>\n",
       "      <td>-20.985076</td>\n",
       "      <td>-1.630075</td>\n",
       "      <td>-11.307576</td>\n",
       "      <td>-11.307576</td>\n",
       "      <td>-11.307576</td>\n",
       "    </tr>\n",
       "    <tr>\n",
       "      <th>999</th>\n",
       "      <td>1:4497217_C_T_T</td>\n",
       "      <td>-2.608389</td>\n",
       "      <td>-1.265667</td>\n",
       "      <td>-1.265667</td>\n",
       "      <td>-2.608389</td>\n",
       "      <td>-1.265667</td>\n",
       "      <td>0.077056</td>\n",
       "      <td>-1.265667</td>\n",
       "      <td>-1.265667</td>\n",
       "      <td>-1.265667</td>\n",
       "      <td>...</td>\n",
       "      <td>-1.265667</td>\n",
       "      <td>-1.265667</td>\n",
       "      <td>-1.265667</td>\n",
       "      <td>0.077056</td>\n",
       "      <td>-1.265667</td>\n",
       "      <td>-2.608389</td>\n",
       "      <td>0.077056</td>\n",
       "      <td>-1.265667</td>\n",
       "      <td>0.077056</td>\n",
       "      <td>-1.265667</td>\n",
       "    </tr>\n",
       "  </tbody>\n",
       "</table>\n",
       "<p>1000 rows × 101 columns</p>\n",
       "</div>"
      ],
      "text/plain": [
       "                   0   MGB00001   MGB00002  MGB00003   MGB00004   MGB00005  \\\n",
       "0        rs3131972_A  -0.435274   0.145781  0.145781  -1.016330  -0.435274   \n",
       "1     1:840327_G_A_A   3.971477   3.971477  0.743766   3.971477   0.743766   \n",
       "2        rs4970382_T  -3.526750  -2.746769 -3.526750  -2.746769  -1.966788   \n",
       "3     1:846808_C_T_C   2.722384   1.299216  2.722384   1.299216   2.722384   \n",
       "4    Affx-15447216_C   5.412217   1.196706  5.412217  -3.018806  -3.018806   \n",
       "..               ...        ...        ...       ...        ...        ...   \n",
       "995  1:4496256_C_T_T  -1.126842  -1.126842  0.850135  -0.138353  -0.138353   \n",
       "996  1:4496659_C_T_T  -2.201933  -4.277609 -2.201933  -6.353284  -2.201933   \n",
       "997  1:4497097_G_A_A  -0.295714  -0.295714 -0.295714  -0.295714  -0.295714   \n",
       "998  1:4497118_C_T_C -11.307576 -20.985076 -1.630075 -20.985076 -11.307576   \n",
       "999  1:4497217_C_T_T  -2.608389  -1.265667 -1.265667  -2.608389  -1.265667   \n",
       "\n",
       "      MGB00006   MGB00007   MGB00008   MGB00009  ...  MGB00091   MGB00092  \\\n",
       "0    -1.016330  -0.435274  -1.016330   0.145781  ... -0.435274  -0.435274   \n",
       "1     0.743766   7.199187   7.199187   3.971477  ...  7.199187   3.971477   \n",
       "2    -2.746769  -3.526750  -2.746769  -1.966788  ... -2.746769  -2.746769   \n",
       "3     1.299216   1.299216   2.722384   4.145552  ...  1.299216   2.722384   \n",
       "4     1.196706   1.196706   5.412217   1.196706  ...  1.196706   1.196706   \n",
       "..         ...        ...        ...        ...  ...       ...        ...   \n",
       "995  -0.138353   0.850135  -0.138353  -0.138353  ...  0.850135  -1.126842   \n",
       "996  -6.353284  -2.201933  -4.277609  -4.277609  ... -6.353284  -2.201933   \n",
       "997  -0.295714   0.356939  -0.948368  -0.948368  ...  0.356939  -0.295714   \n",
       "998 -11.307576 -11.307576 -20.985076 -11.307576  ... -1.630075 -11.307576   \n",
       "999   0.077056  -1.265667  -1.265667  -1.265667  ... -1.265667  -1.265667   \n",
       "\n",
       "      MGB00093  MGB00094   MGB00095   MGB00096  MGB00097   MGB00098  \\\n",
       "0    -0.435274 -1.016330  -0.435274   0.145781 -0.435274  -0.435274   \n",
       "1     0.743766  0.743766   3.971477   7.199187  0.743766   7.199187   \n",
       "2    -2.746769 -3.526750  -1.966788  -2.746769 -2.746769  -2.746769   \n",
       "3     1.299216  2.722384   2.722384   2.722384  1.299216   2.722384   \n",
       "4     5.412217 -3.018806  -3.018806   1.196706  1.196706   1.196706   \n",
       "..         ...       ...        ...        ...       ...        ...   \n",
       "995  -0.138353 -1.126842  -0.138353  -0.138353  0.850135  -0.138353   \n",
       "996  -2.201933 -4.277609  -4.277609  -2.201933 -4.277609  -4.277609   \n",
       "997  -0.948368  0.356939  -0.948368   0.356939  0.356939  -0.295714   \n",
       "998 -11.307576 -1.630075 -20.985076 -20.985076 -1.630075 -11.307576   \n",
       "999  -1.265667  0.077056  -1.265667  -2.608389  0.077056  -1.265667   \n",
       "\n",
       "      MGB00099   MGB00100  \n",
       "0     0.145781  -0.435274  \n",
       "1     0.743766   7.199187  \n",
       "2    -2.746769  -2.746769  \n",
       "3     1.299216   2.722384  \n",
       "4     5.412217   5.412217  \n",
       "..         ...        ...  \n",
       "995  -0.138353   0.850135  \n",
       "996  -4.277609  -2.201933  \n",
       "997  -0.295714  -0.948368  \n",
       "998 -11.307576 -11.307576  \n",
       "999   0.077056  -1.265667  \n",
       "\n",
       "[1000 rows x 101 columns]"
      ]
     },
     "execution_count": 237,
     "metadata": {},
     "output_type": "execute_result"
    }
   ],
   "source": [
    "feather.read_feather(\"../../test.zscored.feather\")"
   ]
  },
  {
   "cell_type": "markdown",
   "id": "6b5c0b13-8470-4df9-84cd-fa260c23dae9",
   "metadata": {
    "tags": [],
    "toc-hr-collapsed": true
   },
   "source": [
    "### Step 3b - Phenotype files for dataloading\n",
    "Build a tsv and an ids file for dataloading. Basis for `make-pheno-for-loader.py` script"
   ]
  },
  {
   "cell_type": "code",
   "execution_count": 130,
   "id": "bde712d5-246f-4e9f-8017-5b17e887bc76",
   "metadata": {
    "execution": {
     "iopub.execute_input": "2021-09-22T06:27:12.221864Z",
     "iopub.status.busy": "2021-09-22T06:27:12.221594Z",
     "iopub.status.idle": "2021-09-22T06:27:12.599016Z",
     "shell.execute_reply": "2021-09-22T06:27:12.598269Z",
     "shell.execute_reply.started": "2021-09-22T06:27:12.221834Z"
    }
   },
   "outputs": [],
   "source": [
    "tsv = fam.iloc[:100, :].copy()"
   ]
  },
  {
   "cell_type": "code",
   "execution_count": 131,
   "id": "10af867c-5469-45f3-af20-06a03e92840a",
   "metadata": {
    "execution": {
     "iopub.execute_input": "2021-09-22T06:27:13.877310Z",
     "iopub.status.busy": "2021-09-22T06:27:13.877075Z",
     "iopub.status.idle": "2021-09-22T06:27:14.345150Z",
     "shell.execute_reply": "2021-09-22T06:27:14.344465Z",
     "shell.execute_reply.started": "2021-09-22T06:27:13.877282Z"
    },
    "tags": []
   },
   "outputs": [],
   "source": [
    "tsv.columns = [\"FID\", \"IID\", \"PAT\", \"MAT\", \"SEX\", \"PHENOTYPE\"]"
   ]
  },
  {
   "cell_type": "code",
   "execution_count": 132,
   "id": "39be05c8-d7d9-48c1-a64e-ccb8d63115b1",
   "metadata": {
    "execution": {
     "iopub.execute_input": "2021-09-22T06:27:14.781508Z",
     "iopub.status.busy": "2021-09-22T06:27:14.781301Z",
     "iopub.status.idle": "2021-09-22T06:27:15.052346Z",
     "shell.execute_reply": "2021-09-22T06:27:15.051346Z",
     "shell.execute_reply.started": "2021-09-22T06:27:14.781481Z"
    },
    "tags": []
   },
   "outputs": [],
   "source": [
    "tsv[\"AGE\"] = -9"
   ]
  },
  {
   "cell_type": "code",
   "execution_count": 133,
   "id": "43fd8ced-4ec5-4cc6-8e1f-c1eb49da1f9c",
   "metadata": {
    "execution": {
     "iopub.execute_input": "2021-09-22T06:27:15.053796Z",
     "iopub.status.busy": "2021-09-22T06:27:15.053563Z",
     "iopub.status.idle": "2021-09-22T06:27:15.321518Z",
     "shell.execute_reply": "2021-09-22T06:27:15.320843Z",
     "shell.execute_reply.started": "2021-09-22T06:27:15.053768Z"
    },
    "tags": []
   },
   "outputs": [],
   "source": [
    "tsv[\"FH\"] = -9"
   ]
  },
  {
   "cell_type": "code",
   "execution_count": 134,
   "id": "8e044d54-a00c-4c29-87cb-1d769911a7f3",
   "metadata": {
    "execution": {
     "iopub.execute_input": "2021-09-22T06:27:15.790503Z",
     "iopub.status.busy": "2021-09-22T06:27:15.790297Z",
     "iopub.status.idle": "2021-09-22T06:27:16.265206Z",
     "shell.execute_reply": "2021-09-22T06:27:16.264437Z",
     "shell.execute_reply.started": "2021-09-22T06:27:15.790476Z"
    },
    "tags": []
   },
   "outputs": [],
   "source": [
    "tsv[\"ETH\"] = \"EUR\""
   ]
  },
  {
   "cell_type": "code",
   "execution_count": 161,
   "id": "53876735-8aca-4408-8761-c6433980826c",
   "metadata": {
    "execution": {
     "iopub.execute_input": "2021-09-22T06:33:51.686599Z",
     "iopub.status.busy": "2021-09-22T06:33:51.686338Z",
     "iopub.status.idle": "2021-09-22T06:33:52.368187Z",
     "shell.execute_reply": "2021-09-22T06:33:52.367364Z",
     "shell.execute_reply.started": "2021-09-22T06:33:51.686570Z"
    },
    "tags": []
   },
   "outputs": [],
   "source": [
    "tsv.to_csv(\"MGB_100_1000.tsv\", sep=\"\\t\")"
   ]
  },
  {
   "cell_type": "code",
   "execution_count": 138,
   "id": "234f5634-094a-4b2e-96b0-df5c7cd181e9",
   "metadata": {
    "execution": {
     "iopub.execute_input": "2021-09-22T06:27:47.920542Z",
     "iopub.status.busy": "2021-09-22T06:27:47.920270Z",
     "iopub.status.idle": "2021-09-22T06:27:48.225039Z",
     "shell.execute_reply": "2021-09-22T06:27:48.224031Z",
     "shell.execute_reply.started": "2021-09-22T06:27:47.920511Z"
    },
    "tags": []
   },
   "outputs": [],
   "source": [
    "ids = tsv[\"IID\"].values"
   ]
  },
  {
   "cell_type": "code",
   "execution_count": 139,
   "id": "720231e5-0932-4230-b5e9-56fa7d9b40c1",
   "metadata": {
    "execution": {
     "iopub.execute_input": "2021-09-22T06:28:12.282469Z",
     "iopub.status.busy": "2021-09-22T06:28:12.282199Z",
     "iopub.status.idle": "2021-09-22T06:28:12.583717Z",
     "shell.execute_reply": "2021-09-22T06:28:12.583056Z",
     "shell.execute_reply.started": "2021-09-22T06:28:12.282438Z"
    }
   },
   "outputs": [],
   "source": [
    "np.savetxt(\"MGB_100_1000.ids.txt\", ids, fmt=\"%s\")"
   ]
  },
  {
   "cell_type": "markdown",
   "id": "b0d3c9b3-2f1c-47df-9e52-decbf0296ab8",
   "metadata": {
    "tags": [],
    "toc-hr-collapsed": true
   },
   "source": [
    "### Step 3c - Test dataloading"
   ]
  },
  {
   "cell_type": "code",
   "execution_count": 71,
   "id": "87f19991-cd73-4020-a6af-74fa39cbd7ee",
   "metadata": {
    "execution": {
     "iopub.execute_input": "2021-09-28T18:31:51.608581Z",
     "iopub.status.busy": "2021-09-28T18:31:51.608329Z",
     "iopub.status.idle": "2021-09-28T18:31:52.281847Z",
     "shell.execute_reply": "2021-09-28T18:31:52.280908Z",
     "shell.execute_reply.started": "2021-09-28T18:31:51.608548Z"
    },
    "tags": []
   },
   "outputs": [],
   "source": [
    "import sys"
   ]
  },
  {
   "cell_type": "code",
   "execution_count": 72,
   "id": "57bd8fa5-4e7c-4d13-98e8-8236862a7ad5",
   "metadata": {
    "execution": {
     "iopub.execute_input": "2021-09-28T18:32:16.646047Z",
     "iopub.status.busy": "2021-09-28T18:32:16.645748Z",
     "iopub.status.idle": "2021-09-28T18:32:17.354104Z",
     "shell.execute_reply": "2021-09-28T18:32:17.353204Z",
     "shell.execute_reply.started": "2021-09-28T18:32:16.646013Z"
    },
    "tags": []
   },
   "outputs": [],
   "source": [
    "sys.path.append(\"/cellar/users/aklie/projects/InSNPtion/cagi6-prs-docker/ThisIsTheGoodPartPecker_ThisIsWhereTheJobGetsFun_AskAndYouShallReceive/\")"
   ]
  },
  {
   "cell_type": "code",
   "execution_count": 73,
   "id": "e93e26da-f6d6-46c5-aea0-9ae5b9ad5f80",
   "metadata": {
    "execution": {
     "iopub.execute_input": "2021-09-28T18:32:21.528560Z",
     "iopub.status.busy": "2021-09-28T18:32:21.528295Z",
     "iopub.status.idle": "2021-09-28T18:33:03.643625Z",
     "shell.execute_reply": "2021-09-28T18:33:03.642787Z",
     "shell.execute_reply.started": "2021-09-28T18:32:21.528526Z"
    },
    "tags": []
   },
   "outputs": [],
   "source": [
    "import SNPAndClinicalLoader"
   ]
  },
  {
   "cell_type": "code",
   "execution_count": 85,
   "id": "49d25a88-0ada-416d-9f5c-c7beca30e99c",
   "metadata": {
    "execution": {
     "iopub.execute_input": "2021-09-28T18:38:27.116892Z",
     "iopub.status.busy": "2021-09-28T18:38:27.116577Z",
     "iopub.status.idle": "2021-09-28T18:38:28.016317Z",
     "shell.execute_reply": "2021-09-28T18:38:28.015655Z",
     "shell.execute_reply.started": "2021-09-28T18:38:27.116856Z"
    },
    "tags": []
   },
   "outputs": [],
   "source": [
    "feath = feather.read_feather(\"MGB_10_all/MGB_10_all.bca.zscored.feather\")\n",
    "feath = feath.set_index(\"0\")"
   ]
  },
  {
   "cell_type": "code",
   "execution_count": 86,
   "id": "66c3fb19-938c-4e19-aa37-e9ab81b31b28",
   "metadata": {
    "execution": {
     "iopub.execute_input": "2021-09-28T18:38:28.672487Z",
     "iopub.status.busy": "2021-09-28T18:38:28.672258Z",
     "iopub.status.idle": "2021-09-28T18:38:29.385905Z",
     "shell.execute_reply": "2021-09-28T18:38:29.385320Z",
     "shell.execute_reply.started": "2021-09-28T18:38:28.672463Z"
    },
    "tags": []
   },
   "outputs": [],
   "source": [
    "loader = SNPAndClinicalLoader.get_loader(\n",
    "    ids_file=\"MGB_10_all/MGB_10_all.ids.txt\",\n",
    "    genotype_file=feath,\n",
    "    phenotype_file=\"MGB_10_all/MGB_10_all.bca.tsv\",\n",
    "    disease_column=\"PHENOTYPE\",\n",
    "    batch_size=10,\n",
    "    shuffle=True,\n",
    "    num_workers=2,\n",
    ")"
   ]
  },
  {
   "cell_type": "code",
   "execution_count": 90,
   "id": "e19b49e6-b8e3-4a92-b8e8-5ec9911f6377",
   "metadata": {
    "execution": {
     "iopub.execute_input": "2021-09-28T18:39:13.266516Z",
     "iopub.status.busy": "2021-09-28T18:39:13.266268Z",
     "iopub.status.idle": "2021-09-28T18:39:14.276659Z",
     "shell.execute_reply": "2021-09-28T18:39:14.275894Z",
     "shell.execute_reply.started": "2021-09-28T18:39:13.266485Z"
    },
    "tags": []
   },
   "outputs": [
    {
     "name": "stdout",
     "output_type": "stream",
     "text": [
      "0\n"
     ]
    }
   ],
   "source": [
    "for batch_num, (snp, pheno, eth, fh, sex, age) in enumerate(loader):\n",
    "    print(batch_num)"
   ]
  },
  {
   "cell_type": "code",
   "execution_count": 92,
   "id": "3074446e-101b-4e8f-ac22-c7288d80ce94",
   "metadata": {
    "execution": {
     "iopub.execute_input": "2021-09-28T18:40:31.549483Z",
     "iopub.status.busy": "2021-09-28T18:40:31.549247Z",
     "iopub.status.idle": "2021-09-28T18:40:32.288165Z",
     "shell.execute_reply": "2021-09-28T18:40:32.287485Z",
     "shell.execute_reply.started": "2021-09-28T18:40:31.549453Z"
    },
    "tags": []
   },
   "outputs": [
    {
     "data": {
      "text/plain": [
       "(torch.Size([10, 12034]),\n",
       " torch.Size([10, 1]),\n",
       " torch.Size([10, 1]),\n",
       " torch.Size([10, 1]),\n",
       " torch.Size([10, 1]),\n",
       " torch.Size([10, 1]))"
      ]
     },
     "execution_count": 92,
     "metadata": {},
     "output_type": "execute_result"
    }
   ],
   "source": [
    "snp.size(), pheno.size(), eth.size(), fh.size(), sex.size(), age.size()"
   ]
  },
  {
   "cell_type": "code",
   "execution_count": 97,
   "id": "b95ec761-63ff-43d3-8e57-c3ae2b02ae83",
   "metadata": {
    "execution": {
     "iopub.execute_input": "2021-09-28T18:43:51.113375Z",
     "iopub.status.busy": "2021-09-28T18:43:51.113095Z",
     "iopub.status.idle": "2021-09-28T18:43:51.948320Z",
     "shell.execute_reply": "2021-09-28T18:43:51.947639Z",
     "shell.execute_reply.started": "2021-09-28T18:43:51.113342Z"
    },
    "tags": []
   },
   "outputs": [
    {
     "data": {
      "text/plain": [
       "(tensor([ 0.4628,  0.4584,  0.4585,  ..., -1.2344, -1.2725, -1.8072]),\n",
       " tensor([0]),\n",
       " tensor([0.]),\n",
       " tensor([-9]),\n",
       " tensor([2]),\n",
       " tensor([1.2881], dtype=torch.float64))"
      ]
     },
     "execution_count": 97,
     "metadata": {},
     "output_type": "execute_result"
    }
   ],
   "source": [
    "snp[0], pheno[0], eth[0], fh[0], sex[0], age[0]"
   ]
  },
  {
   "cell_type": "code",
   "execution_count": 104,
   "id": "fcf7681d-d09d-4de4-902b-974f16c5335a",
   "metadata": {
    "execution": {
     "iopub.execute_input": "2021-09-28T18:44:58.114523Z",
     "iopub.status.busy": "2021-09-28T18:44:58.114246Z",
     "iopub.status.idle": "2021-09-28T18:44:58.825902Z",
     "shell.execute_reply": "2021-09-28T18:44:58.824973Z",
     "shell.execute_reply.started": "2021-09-28T18:44:58.114489Z"
    },
    "tags": []
   },
   "outputs": [
    {
     "data": {
      "text/plain": [
       "(array([0.9720436], dtype=float32), array([10]))"
      ]
     },
     "execution_count": 104,
     "metadata": {},
     "output_type": "execute_result"
    }
   ],
   "source": [
    "np.unique(snp[:, 1000], return_counts=True)"
   ]
  },
  {
   "cell_type": "markdown",
   "id": "a23a9292-9b59-462e-9f04-4667b7c1f4d6",
   "metadata": {
    "execution": {
     "iopub.execute_input": "2021-09-08T17:29:42.314098Z",
     "iopub.status.busy": "2021-09-08T17:29:42.313838Z",
     "iopub.status.idle": "2021-09-08T17:29:42.903968Z",
     "shell.execute_reply": "2021-09-08T17:29:42.903216Z",
     "shell.execute_reply.started": "2021-09-08T17:29:42.314069Z"
    },
    "tags": [],
    "toc-hr-collapsed": true
   },
   "source": [
    "# Scratch\n",
    "Place for old or testing code"
   ]
  },
  {
   "cell_type": "markdown",
   "id": "527c0488-e8ce-41b0-9e79-5b566b3e4132",
   "metadata": {
    "tags": [],
    "toc-hr-collapsed": true
   },
   "source": [
    "## Building other test sets"
   ]
  },
  {
   "cell_type": "markdown",
   "id": "2d569f89-d49b-4038-820a-fc6ecb69dcda",
   "metadata": {
    "tags": []
   },
   "source": [
    "### 100 x 1000"
   ]
  },
  {
   "cell_type": "markdown",
   "id": "0cbded52-4d9e-4e93-8ba2-81e25d2cd342",
   "metadata": {
    "tags": [],
    "toc-hr-collapsed": true
   },
   "source": [
    "#### PED"
   ]
  },
  {
   "cell_type": "code",
   "execution_count": 96,
   "id": "216789ba-f707-452e-8d25-08492d86f4fd",
   "metadata": {
    "execution": {
     "iopub.execute_input": "2021-09-24T17:58:27.498505Z",
     "iopub.status.busy": "2021-09-24T17:58:27.498300Z",
     "iopub.status.idle": "2021-09-24T17:58:34.390483Z",
     "shell.execute_reply": "2021-09-24T17:58:34.389512Z",
     "shell.execute_reply.started": "2021-09-24T17:58:27.498478Z"
    },
    "tags": []
   },
   "outputs": [
    {
     "name": "stderr",
     "output_type": "stream",
     "text": [
      "100it [00:06, 15.61it/s]\n"
     ]
    }
   ],
   "source": [
    "# Run this to generate a 100 individual by 1000 SNP simulated test set\n",
    "ped = []\n",
    "for i, (row, ind) in tqdm.tqdm(enumerate(fam.iloc[:100, :].iterrows())):\n",
    "    rand_genotype = np.concatenate(\n",
    "        np.stack(bim.iloc[:1000, :][[4, 5]].apply(np.random.choice, size=2, axis=1))\n",
    "    )\n",
    "    ped.append((list(ind.values) + list(rand_genotype)))\n",
    "ped = np.array(ped)"
   ]
  },
  {
   "cell_type": "code",
   "execution_count": 97,
   "id": "c81e9a37-ade6-4054-b65d-647e9c1685ed",
   "metadata": {
    "execution": {
     "iopub.execute_input": "2021-09-24T17:58:34.392729Z",
     "iopub.status.busy": "2021-09-24T17:58:34.392400Z",
     "iopub.status.idle": "2021-09-24T17:58:35.034260Z",
     "shell.execute_reply": "2021-09-24T17:58:35.033661Z",
     "shell.execute_reply.started": "2021-09-24T17:58:34.392687Z"
    },
    "tags": []
   },
   "outputs": [],
   "source": [
    "ped[:, 5] = np.random.choice([1, 2], size=100)"
   ]
  },
  {
   "cell_type": "code",
   "execution_count": 98,
   "id": "2b1d0ccb-77c3-495c-b03c-c183ba7979c8",
   "metadata": {
    "execution": {
     "iopub.execute_input": "2021-09-24T17:58:35.572791Z",
     "iopub.status.busy": "2021-09-24T17:58:35.572505Z",
     "iopub.status.idle": "2021-09-24T17:58:36.058306Z",
     "shell.execute_reply": "2021-09-24T17:58:36.057689Z",
     "shell.execute_reply.started": "2021-09-24T17:58:35.572754Z"
    },
    "tags": []
   },
   "outputs": [],
   "source": [
    "np.savetxt(\"MGB_100_1000/MGB_100_1000.ped\", ped, delimiter=\" \", fmt=\"%s\")"
   ]
  },
  {
   "cell_type": "markdown",
   "id": "38b2690b-bc38-4185-ae85-9661ef85b1f9",
   "metadata": {
    "tags": [],
    "toc-hr-collapsed": true
   },
   "source": [
    "#### BIM"
   ]
  },
  {
   "cell_type": "code",
   "execution_count": 99,
   "id": "8ee4577a-deb8-44e8-8edc-b6fcd45f92f4",
   "metadata": {
    "execution": {
     "iopub.execute_input": "2021-09-24T17:58:36.059446Z",
     "iopub.status.busy": "2021-09-24T17:58:36.059268Z",
     "iopub.status.idle": "2021-09-24T17:58:36.723818Z",
     "shell.execute_reply": "2021-09-24T17:58:36.723118Z",
     "shell.execute_reply.started": "2021-09-24T17:58:36.059422Z"
    },
    "tags": []
   },
   "outputs": [],
   "source": [
    "bim[[0, 1, 2, 3]].iloc[:1000, :].to_csv(\n",
    "    \"MGB_100_1000/MGB_100_1000.map\", sep=\"\\t\", header=None, index=False\n",
    ")"
   ]
  },
  {
   "cell_type": "markdown",
   "id": "4ecf8450-3a6f-407d-97b8-afdbdad999d4",
   "metadata": {
    "tags": [],
    "toc-hr-collapsed": true
   },
   "source": [
    "### Full set"
   ]
  },
  {
   "cell_type": "code",
   "execution_count": 20,
   "id": "19d8cad6-7f44-460f-af6f-79611166cb15",
   "metadata": {
    "execution": {
     "iopub.execute_input": "2021-09-24T05:36:37.272380Z",
     "iopub.status.busy": "2021-09-24T05:36:37.272031Z",
     "iopub.status.idle": "2021-09-24T05:37:57.852915Z",
     "shell.execute_reply": "2021-09-24T05:37:57.852036Z",
     "shell.execute_reply.started": "2021-09-24T05:36:37.272345Z"
    },
    "tags": []
   },
   "outputs": [
    {
     "name": "stdout",
     "output_type": "stream",
     "text": [
      "0 100\n",
      "100 200\n",
      "200 300\n",
      "300 400\n"
     ]
    }
   ],
   "source": [
    "num = 100\n",
    "for i in range(int(len(fam)/num)+1):\n",
    "    start = num*i\n",
    "    end = num*(i+1)\n",
    "    if end > len(fam):\n",
    "        end = len(fam)\n",
    "    print(start, end)\n",
    "    np.savetxt(\"full/MGB_{}_{}.ped\".format(start, end), np.concatenate([fam.values[start:end], np.tile(bim[[4, 5]].values.flatten(), (num, 1))], axis=1), fmt=\"%s\")\n",
    "    if i == 3:\n",
    "        break"
   ]
  },
  {
   "cell_type": "markdown",
   "id": "ef0233e0-d9d2-4e51-aac0-cdc9cf2b85c7",
   "metadata": {
    "tags": [],
    "toc-hr-collapsed": true
   },
   "source": [
    "## Dataloading tests"
   ]
  },
  {
   "cell_type": "code",
   "execution_count": 595,
   "id": "f531757d-d2fd-4621-949a-42f14ad43168",
   "metadata": {
    "execution": {
     "iopub.execute_input": "2021-09-29T18:49:06.137009Z",
     "iopub.status.busy": "2021-09-29T18:49:06.136710Z",
     "iopub.status.idle": "2021-09-29T18:49:07.224981Z",
     "shell.execute_reply": "2021-09-29T18:49:07.224203Z",
     "shell.execute_reply.started": "2021-09-29T18:49:06.136978Z"
    },
    "tags": []
   },
   "outputs": [
    {
     "name": "stdout",
     "output_type": "stream",
     "text": [
      "Loading raw file from MGB_10.cad.raw...\n"
     ]
    }
   ],
   "source": [
    "#Step 1: Load raw and save intermediate data structures\n",
    "print(\"Loading raw file from {}...\".format(\"MGB_10.cad.raw\"))\n",
    "raw = pd.read_csv(\"MGB_10.cad.raw\", delim_whitespace=True)\n",
    "IIDs = raw[\"IID\"]\n",
    "raw = raw.iloc[:, 6:].T\n",
    "raw.columns = IIDs\n",
    "snps = [\"_\".join(var.split(\"_\")[:-1]) for var in raw.index]\n",
    "raw.index.name = \"0\"\n",
    "alleles = [var[-1] for var in raw.index]\n",
    "raw.index = snps\n",
    "raw_summary = pd.DataFrame({\"INDEX\":raw.index, \"MGB_ID\":snps, \"ACTUAL_ALLELE\":alleles})"
   ]
  },
  {
   "cell_type": "code",
   "execution_count": 597,
   "id": "250a4e93-e412-4111-9c58-8b10646f4cb5",
   "metadata": {
    "execution": {
     "iopub.execute_input": "2021-09-29T18:49:11.060750Z",
     "iopub.status.busy": "2021-09-29T18:49:11.060470Z",
     "iopub.status.idle": "2021-09-29T18:49:11.592606Z",
     "shell.execute_reply": "2021-09-29T18:49:11.591822Z",
     "shell.execute_reply.started": "2021-09-29T18:49:11.060719Z"
    },
    "tags": []
   },
   "outputs": [
    {
     "name": "stdout",
     "output_type": "stream",
     "text": [
      "Loading SNP summary file from cad.summary.tsv...\n"
     ]
    }
   ],
   "source": [
    "#Step 2: Load summary file for SNPs\n",
    "print(\"Loading SNP summary file from {}...\".format(\"cad.summary.tsv\"))\n",
    "summary = pd.read_csv(\"cad.summary.tsv\", sep=\"\\t\")"
   ]
  },
  {
   "cell_type": "code",
   "execution_count": 598,
   "id": "44930a86-e48d-4001-a741-1bcd1a98efe3",
   "metadata": {
    "execution": {
     "iopub.execute_input": "2021-09-29T18:49:11.594768Z",
     "iopub.status.busy": "2021-09-29T18:49:11.594427Z",
     "iopub.status.idle": "2021-09-29T18:49:11.975999Z",
     "shell.execute_reply": "2021-09-29T18:49:11.975155Z",
     "shell.execute_reply.started": "2021-09-29T18:49:11.594723Z"
    },
    "tags": []
   },
   "outputs": [
    {
     "data": {
      "text/plain": [
       "7451"
      ]
     },
     "execution_count": 598,
     "metadata": {},
     "output_type": "execute_result"
    }
   ],
   "source": [
    "len(snps)"
   ]
  },
  {
   "cell_type": "code",
   "execution_count": 599,
   "id": "14c1c1fd-bf9a-4963-bc4e-d2645e276236",
   "metadata": {
    "execution": {
     "iopub.execute_input": "2021-09-29T18:49:12.794456Z",
     "iopub.status.busy": "2021-09-29T18:49:12.794237Z",
     "iopub.status.idle": "2021-09-29T18:49:13.397861Z",
     "shell.execute_reply": "2021-09-29T18:49:13.396759Z",
     "shell.execute_reply.started": "2021-09-29T18:49:12.794426Z"
    },
    "tags": []
   },
   "outputs": [
    {
     "data": {
      "text/html": [
       "<div>\n",
       "<style scoped>\n",
       "    .dataframe tbody tr th:only-of-type {\n",
       "        vertical-align: middle;\n",
       "    }\n",
       "\n",
       "    .dataframe tbody tr th {\n",
       "        vertical-align: top;\n",
       "    }\n",
       "\n",
       "    .dataframe thead th {\n",
       "        text-align: right;\n",
       "    }\n",
       "</style>\n",
       "<table border=\"1\" class=\"dataframe\">\n",
       "  <thead>\n",
       "    <tr style=\"text-align: right;\">\n",
       "      <th></th>\n",
       "      <th>UKB_ID</th>\n",
       "      <th>MGB_ID</th>\n",
       "      <th>EXPECTED_ALLELE</th>\n",
       "      <th>MEAN</th>\n",
       "      <th>STD</th>\n",
       "    </tr>\n",
       "  </thead>\n",
       "  <tbody>\n",
       "    <tr>\n",
       "      <th>0</th>\n",
       "      <td>rs1692584</td>\n",
       "      <td>1:2172917_T_C</td>\n",
       "      <td>T</td>\n",
       "      <td>1.234933</td>\n",
       "      <td>0.677531</td>\n",
       "    </tr>\n",
       "    <tr>\n",
       "      <th>1</th>\n",
       "      <td>rs1692585</td>\n",
       "      <td>1:2172919_T_C</td>\n",
       "      <td>T</td>\n",
       "      <td>1.247089</td>\n",
       "      <td>0.670771</td>\n",
       "    </tr>\n",
       "    <tr>\n",
       "      <th>2</th>\n",
       "      <td>rs76282923</td>\n",
       "      <td>1:14612626_T_C</td>\n",
       "      <td>T</td>\n",
       "      <td>1.901087</td>\n",
       "      <td>0.306297</td>\n",
       "    </tr>\n",
       "    <tr>\n",
       "      <th>3</th>\n",
       "      <td>rs142707962</td>\n",
       "      <td>1:14615321_T_C</td>\n",
       "      <td>T</td>\n",
       "      <td>1.901117</td>\n",
       "      <td>0.306254</td>\n",
       "    </tr>\n",
       "    <tr>\n",
       "      <th>4</th>\n",
       "      <td>rs74590598</td>\n",
       "      <td>1:14620817_G_C</td>\n",
       "      <td>G</td>\n",
       "      <td>1.901464</td>\n",
       "      <td>0.305765</td>\n",
       "    </tr>\n",
       "    <tr>\n",
       "      <th>...</th>\n",
       "      <td>...</td>\n",
       "      <td>...</td>\n",
       "      <td>...</td>\n",
       "      <td>...</td>\n",
       "      <td>...</td>\n",
       "    </tr>\n",
       "    <tr>\n",
       "      <th>7464</th>\n",
       "      <td>rs559723</td>\n",
       "      <td>9:136150484_A_G</td>\n",
       "      <td>A</td>\n",
       "      <td>0.974722</td>\n",
       "      <td>0.703103</td>\n",
       "    </tr>\n",
       "    <tr>\n",
       "      <th>7465</th>\n",
       "      <td>rs600038</td>\n",
       "      <td>9:136151806_T_C</td>\n",
       "      <td>T</td>\n",
       "      <td>1.573194</td>\n",
       "      <td>0.577394</td>\n",
       "    </tr>\n",
       "    <tr>\n",
       "      <th>7466</th>\n",
       "      <td>rs11244061</td>\n",
       "      <td>9:136153981_C_T</td>\n",
       "      <td>C</td>\n",
       "      <td>1.769694</td>\n",
       "      <td>0.451291</td>\n",
       "    </tr>\n",
       "    <tr>\n",
       "      <th>7467</th>\n",
       "      <td>rs649129</td>\n",
       "      <td>9:136154304_C_T</td>\n",
       "      <td>C</td>\n",
       "      <td>1.573252</td>\n",
       "      <td>0.577947</td>\n",
       "    </tr>\n",
       "    <tr>\n",
       "      <th>7468</th>\n",
       "      <td>rs17474001</td>\n",
       "      <td>9:136267149_C_T</td>\n",
       "      <td>C</td>\n",
       "      <td>1.727162</td>\n",
       "      <td>0.478773</td>\n",
       "    </tr>\n",
       "  </tbody>\n",
       "</table>\n",
       "<p>7469 rows × 5 columns</p>\n",
       "</div>"
      ],
      "text/plain": [
       "           UKB_ID           MGB_ID EXPECTED_ALLELE      MEAN       STD\n",
       "0       rs1692584    1:2172917_T_C               T  1.234933  0.677531\n",
       "1       rs1692585    1:2172919_T_C               T  1.247089  0.670771\n",
       "2      rs76282923   1:14612626_T_C               T  1.901087  0.306297\n",
       "3     rs142707962   1:14615321_T_C               T  1.901117  0.306254\n",
       "4      rs74590598   1:14620817_G_C               G  1.901464  0.305765\n",
       "...           ...              ...             ...       ...       ...\n",
       "7464     rs559723  9:136150484_A_G               A  0.974722  0.703103\n",
       "7465     rs600038  9:136151806_T_C               T  1.573194  0.577394\n",
       "7466   rs11244061  9:136153981_C_T               C  1.769694  0.451291\n",
       "7467     rs649129  9:136154304_C_T               C  1.573252  0.577947\n",
       "7468   rs17474001  9:136267149_C_T               C  1.727162  0.478773\n",
       "\n",
       "[7469 rows x 5 columns]"
      ]
     },
     "execution_count": 599,
     "metadata": {},
     "output_type": "execute_result"
    }
   ],
   "source": [
    "summary"
   ]
  },
  {
   "cell_type": "code",
   "execution_count": 600,
   "id": "f7df5286-3cd5-42f7-a80f-d923c3445402",
   "metadata": {
    "execution": {
     "iopub.execute_input": "2021-09-29T18:49:15.115918Z",
     "iopub.status.busy": "2021-09-29T18:49:15.115568Z",
     "iopub.status.idle": "2021-09-29T18:49:15.654337Z",
     "shell.execute_reply": "2021-09-29T18:49:15.653341Z",
     "shell.execute_reply.started": "2021-09-29T18:49:15.115874Z"
    },
    "tags": []
   },
   "outputs": [
    {
     "name": "stdout",
     "output_type": "stream",
     "text": [
      "Merging raw with SNP summary file...\n"
     ]
    }
   ],
   "source": [
    "#Step 3: Combine these files\n",
    "print(\"Merging raw with SNP summary file...\")\n",
    "merged_summary = pd.merge(summary, raw_summary, on=\"MGB_ID\").set_index(\"INDEX\")"
   ]
  },
  {
   "cell_type": "code",
   "execution_count": 601,
   "id": "1403aa48-787c-4e8f-aae5-ed609aa93292",
   "metadata": {
    "execution": {
     "iopub.execute_input": "2021-09-29T18:49:15.656327Z",
     "iopub.status.busy": "2021-09-29T18:49:15.655972Z",
     "iopub.status.idle": "2021-09-29T18:49:16.343113Z",
     "shell.execute_reply": "2021-09-29T18:49:16.342091Z",
     "shell.execute_reply.started": "2021-09-29T18:49:15.656280Z"
    },
    "tags": []
   },
   "outputs": [
    {
     "data": {
      "text/html": [
       "<div>\n",
       "<style scoped>\n",
       "    .dataframe tbody tr th:only-of-type {\n",
       "        vertical-align: middle;\n",
       "    }\n",
       "\n",
       "    .dataframe tbody tr th {\n",
       "        vertical-align: top;\n",
       "    }\n",
       "\n",
       "    .dataframe thead th {\n",
       "        text-align: right;\n",
       "    }\n",
       "</style>\n",
       "<table border=\"1\" class=\"dataframe\">\n",
       "  <thead>\n",
       "    <tr style=\"text-align: right;\">\n",
       "      <th></th>\n",
       "      <th>UKB_ID</th>\n",
       "      <th>MGB_ID</th>\n",
       "      <th>EXPECTED_ALLELE</th>\n",
       "      <th>MEAN</th>\n",
       "      <th>STD</th>\n",
       "      <th>ACTUAL_ALLELE</th>\n",
       "    </tr>\n",
       "    <tr>\n",
       "      <th>INDEX</th>\n",
       "      <th></th>\n",
       "      <th></th>\n",
       "      <th></th>\n",
       "      <th></th>\n",
       "      <th></th>\n",
       "      <th></th>\n",
       "    </tr>\n",
       "  </thead>\n",
       "  <tbody>\n",
       "    <tr>\n",
       "      <th>1:2172917_T_C</th>\n",
       "      <td>rs1692584</td>\n",
       "      <td>1:2172917_T_C</td>\n",
       "      <td>T</td>\n",
       "      <td>1.234933</td>\n",
       "      <td>0.677531</td>\n",
       "      <td>T</td>\n",
       "    </tr>\n",
       "    <tr>\n",
       "      <th>1:2172919_T_C</th>\n",
       "      <td>rs1692585</td>\n",
       "      <td>1:2172919_T_C</td>\n",
       "      <td>T</td>\n",
       "      <td>1.247089</td>\n",
       "      <td>0.670771</td>\n",
       "      <td>T</td>\n",
       "    </tr>\n",
       "    <tr>\n",
       "      <th>1:14612626_T_C</th>\n",
       "      <td>rs76282923</td>\n",
       "      <td>1:14612626_T_C</td>\n",
       "      <td>T</td>\n",
       "      <td>1.901087</td>\n",
       "      <td>0.306297</td>\n",
       "      <td>T</td>\n",
       "    </tr>\n",
       "    <tr>\n",
       "      <th>1:14615321_T_C</th>\n",
       "      <td>rs142707962</td>\n",
       "      <td>1:14615321_T_C</td>\n",
       "      <td>T</td>\n",
       "      <td>1.901117</td>\n",
       "      <td>0.306254</td>\n",
       "      <td>T</td>\n",
       "    </tr>\n",
       "    <tr>\n",
       "      <th>1:14620817_G_C</th>\n",
       "      <td>rs74590598</td>\n",
       "      <td>1:14620817_G_C</td>\n",
       "      <td>G</td>\n",
       "      <td>1.901464</td>\n",
       "      <td>0.305765</td>\n",
       "      <td>G</td>\n",
       "    </tr>\n",
       "    <tr>\n",
       "      <th>...</th>\n",
       "      <td>...</td>\n",
       "      <td>...</td>\n",
       "      <td>...</td>\n",
       "      <td>...</td>\n",
       "      <td>...</td>\n",
       "      <td>...</td>\n",
       "    </tr>\n",
       "    <tr>\n",
       "      <th>9:136150484_A_G</th>\n",
       "      <td>rs559723</td>\n",
       "      <td>9:136150484_A_G</td>\n",
       "      <td>A</td>\n",
       "      <td>0.974722</td>\n",
       "      <td>0.703103</td>\n",
       "      <td>G</td>\n",
       "    </tr>\n",
       "    <tr>\n",
       "      <th>9:136151806_T_C</th>\n",
       "      <td>rs600038</td>\n",
       "      <td>9:136151806_T_C</td>\n",
       "      <td>T</td>\n",
       "      <td>1.573194</td>\n",
       "      <td>0.577394</td>\n",
       "      <td>T</td>\n",
       "    </tr>\n",
       "    <tr>\n",
       "      <th>9:136153981_C_T</th>\n",
       "      <td>rs11244061</td>\n",
       "      <td>9:136153981_C_T</td>\n",
       "      <td>C</td>\n",
       "      <td>1.769694</td>\n",
       "      <td>0.451291</td>\n",
       "      <td>C</td>\n",
       "    </tr>\n",
       "    <tr>\n",
       "      <th>9:136154304_C_T</th>\n",
       "      <td>rs649129</td>\n",
       "      <td>9:136154304_C_T</td>\n",
       "      <td>C</td>\n",
       "      <td>1.573252</td>\n",
       "      <td>0.577947</td>\n",
       "      <td>C</td>\n",
       "    </tr>\n",
       "    <tr>\n",
       "      <th>9:136267149_C_T</th>\n",
       "      <td>rs17474001</td>\n",
       "      <td>9:136267149_C_T</td>\n",
       "      <td>C</td>\n",
       "      <td>1.727162</td>\n",
       "      <td>0.478773</td>\n",
       "      <td>C</td>\n",
       "    </tr>\n",
       "  </tbody>\n",
       "</table>\n",
       "<p>7469 rows × 6 columns</p>\n",
       "</div>"
      ],
      "text/plain": [
       "                      UKB_ID           MGB_ID EXPECTED_ALLELE      MEAN  \\\n",
       "INDEX                                                                     \n",
       "1:2172917_T_C      rs1692584    1:2172917_T_C               T  1.234933   \n",
       "1:2172919_T_C      rs1692585    1:2172919_T_C               T  1.247089   \n",
       "1:14612626_T_C    rs76282923   1:14612626_T_C               T  1.901087   \n",
       "1:14615321_T_C   rs142707962   1:14615321_T_C               T  1.901117   \n",
       "1:14620817_G_C    rs74590598   1:14620817_G_C               G  1.901464   \n",
       "...                      ...              ...             ...       ...   \n",
       "9:136150484_A_G     rs559723  9:136150484_A_G               A  0.974722   \n",
       "9:136151806_T_C     rs600038  9:136151806_T_C               T  1.573194   \n",
       "9:136153981_C_T   rs11244061  9:136153981_C_T               C  1.769694   \n",
       "9:136154304_C_T     rs649129  9:136154304_C_T               C  1.573252   \n",
       "9:136267149_C_T   rs17474001  9:136267149_C_T               C  1.727162   \n",
       "\n",
       "                      STD ACTUAL_ALLELE  \n",
       "INDEX                                    \n",
       "1:2172917_T_C    0.677531             T  \n",
       "1:2172919_T_C    0.670771             T  \n",
       "1:14612626_T_C   0.306297             T  \n",
       "1:14615321_T_C   0.306254             T  \n",
       "1:14620817_G_C   0.305765             G  \n",
       "...                   ...           ...  \n",
       "9:136150484_A_G  0.703103             G  \n",
       "9:136151806_T_C  0.577394             T  \n",
       "9:136153981_C_T  0.451291             C  \n",
       "9:136154304_C_T  0.577947             C  \n",
       "9:136267149_C_T  0.478773             C  \n",
       "\n",
       "[7469 rows x 6 columns]"
      ]
     },
     "execution_count": 601,
     "metadata": {},
     "output_type": "execute_result"
    }
   ],
   "source": [
    "merged_summary"
   ]
  },
  {
   "cell_type": "code",
   "execution_count": 602,
   "id": "bd6de9d5-1a50-4423-94b1-520966b8d29b",
   "metadata": {
    "execution": {
     "iopub.execute_input": "2021-09-29T18:49:18.259534Z",
     "iopub.status.busy": "2021-09-29T18:49:18.259317Z",
     "iopub.status.idle": "2021-09-29T18:49:18.967769Z",
     "shell.execute_reply": "2021-09-29T18:49:18.966995Z",
     "shell.execute_reply.started": "2021-09-29T18:49:18.259506Z"
    },
    "tags": []
   },
   "outputs": [],
   "source": [
    "#Step 4: Clean and order raw\n",
    "dups = merged_summary[merged_summary[\"MGB_ID\"].duplicated()]\n",
    "add_on = pd.DataFrame(index=dups[\"MGB_ID\"], columns=raw.columns, data=np.repeat(dups[\"MEAN\"].values.reshape(len(dups),1), raw.shape[1], axis=1))\n",
    "raw = pd.concat([raw, add_on])"
   ]
  },
  {
   "cell_type": "code",
   "execution_count": 603,
   "id": "77e204cb-06f6-4a4d-878a-72589c666437",
   "metadata": {
    "execution": {
     "iopub.execute_input": "2021-09-29T18:49:18.970052Z",
     "iopub.status.busy": "2021-09-29T18:49:18.969680Z",
     "iopub.status.idle": "2021-09-29T18:49:19.466648Z",
     "shell.execute_reply": "2021-09-29T18:49:19.465776Z",
     "shell.execute_reply.started": "2021-09-29T18:49:18.970004Z"
    },
    "tags": []
   },
   "outputs": [],
   "source": [
    "ordered_raw = raw.loc[merged_summary[\"MGB_ID\"].drop_duplicates()]"
   ]
  },
  {
   "cell_type": "code",
   "execution_count": 604,
   "id": "867501e1-4bfb-40ae-b840-203480223a95",
   "metadata": {
    "execution": {
     "iopub.execute_input": "2021-09-29T18:49:20.507253Z",
     "iopub.status.busy": "2021-09-29T18:49:20.506915Z",
     "iopub.status.idle": "2021-09-29T18:49:21.093326Z",
     "shell.execute_reply": "2021-09-29T18:49:21.092391Z",
     "shell.execute_reply.started": "2021-09-29T18:49:20.507206Z"
    },
    "tags": []
   },
   "outputs": [
    {
     "data": {
      "text/plain": [
       "True"
      ]
     },
     "execution_count": 604,
     "metadata": {},
     "output_type": "execute_result"
    }
   ],
   "source": [
    "(ordered_raw.index == merged_summary.index).all()"
   ]
  },
  {
   "cell_type": "code",
   "execution_count": 605,
   "id": "a9fec31f-3b1a-4d29-8d75-f84bd1bd9b8d",
   "metadata": {
    "execution": {
     "iopub.execute_input": "2021-09-29T18:49:22.110453Z",
     "iopub.status.busy": "2021-09-29T18:49:22.110106Z",
     "iopub.status.idle": "2021-09-29T18:49:22.871146Z",
     "shell.execute_reply": "2021-09-29T18:49:22.870247Z",
     "shell.execute_reply.started": "2021-09-29T18:49:22.110409Z"
    },
    "tags": []
   },
   "outputs": [
    {
     "data": {
      "text/html": [
       "<div>\n",
       "<style scoped>\n",
       "    .dataframe tbody tr th:only-of-type {\n",
       "        vertical-align: middle;\n",
       "    }\n",
       "\n",
       "    .dataframe tbody tr th {\n",
       "        vertical-align: top;\n",
       "    }\n",
       "\n",
       "    .dataframe thead th {\n",
       "        text-align: right;\n",
       "    }\n",
       "</style>\n",
       "<table border=\"1\" class=\"dataframe\">\n",
       "  <thead>\n",
       "    <tr style=\"text-align: right;\">\n",
       "      <th></th>\n",
       "      <th>index</th>\n",
       "      <th>2390912</th>\n",
       "      <th>4497935</th>\n",
       "      <th>2439435</th>\n",
       "      <th>3156276</th>\n",
       "      <th>5595263</th>\n",
       "      <th>2365645</th>\n",
       "      <th>1541814</th>\n",
       "      <th>1940466</th>\n",
       "      <th>4445773</th>\n",
       "      <th>...</th>\n",
       "      <th>5128738</th>\n",
       "      <th>2749635</th>\n",
       "      <th>2465958</th>\n",
       "      <th>2668039</th>\n",
       "      <th>2510487</th>\n",
       "      <th>1810779</th>\n",
       "      <th>4104408</th>\n",
       "      <th>2874016</th>\n",
       "      <th>5798474</th>\n",
       "      <th>1990762</th>\n",
       "    </tr>\n",
       "  </thead>\n",
       "  <tbody>\n",
       "    <tr>\n",
       "      <th>0</th>\n",
       "      <td>rs2032562_T</td>\n",
       "      <td>2.0</td>\n",
       "      <td>0.0</td>\n",
       "      <td>0.0</td>\n",
       "      <td>2.0</td>\n",
       "      <td>0.0000</td>\n",
       "      <td>1.0</td>\n",
       "      <td>1.0</td>\n",
       "      <td>0.0000</td>\n",
       "      <td>0.0000</td>\n",
       "      <td>...</td>\n",
       "      <td>1.0</td>\n",
       "      <td>0.0</td>\n",
       "      <td>1.0</td>\n",
       "      <td>1.0</td>\n",
       "      <td>1.0000</td>\n",
       "      <td>0.0000</td>\n",
       "      <td>1.0</td>\n",
       "      <td>1.0</td>\n",
       "      <td>0.0</td>\n",
       "      <td>0.0</td>\n",
       "    </tr>\n",
       "    <tr>\n",
       "      <th>1</th>\n",
       "      <td>rs10864313_T</td>\n",
       "      <td>2.0</td>\n",
       "      <td>0.0</td>\n",
       "      <td>0.0</td>\n",
       "      <td>2.0</td>\n",
       "      <td>0.0000</td>\n",
       "      <td>1.0</td>\n",
       "      <td>1.0</td>\n",
       "      <td>0.0000</td>\n",
       "      <td>0.0000</td>\n",
       "      <td>...</td>\n",
       "      <td>1.0</td>\n",
       "      <td>0.0</td>\n",
       "      <td>1.0</td>\n",
       "      <td>1.0</td>\n",
       "      <td>1.0000</td>\n",
       "      <td>0.0000</td>\n",
       "      <td>1.0</td>\n",
       "      <td>1.0</td>\n",
       "      <td>0.0</td>\n",
       "      <td>0.0</td>\n",
       "    </tr>\n",
       "    <tr>\n",
       "      <th>2</th>\n",
       "      <td>rs4908693_C</td>\n",
       "      <td>2.0</td>\n",
       "      <td>0.0</td>\n",
       "      <td>0.0</td>\n",
       "      <td>2.0</td>\n",
       "      <td>0.0000</td>\n",
       "      <td>1.0</td>\n",
       "      <td>1.0</td>\n",
       "      <td>0.0000</td>\n",
       "      <td>0.6588</td>\n",
       "      <td>...</td>\n",
       "      <td>1.0</td>\n",
       "      <td>0.0</td>\n",
       "      <td>1.0</td>\n",
       "      <td>1.0</td>\n",
       "      <td>1.0000</td>\n",
       "      <td>0.0000</td>\n",
       "      <td>1.0</td>\n",
       "      <td>1.0</td>\n",
       "      <td>0.0</td>\n",
       "      <td>0.0</td>\n",
       "    </tr>\n",
       "    <tr>\n",
       "      <th>3</th>\n",
       "      <td>rs11121016_A</td>\n",
       "      <td>2.0</td>\n",
       "      <td>0.0</td>\n",
       "      <td>0.0</td>\n",
       "      <td>2.0</td>\n",
       "      <td>0.0000</td>\n",
       "      <td>1.0</td>\n",
       "      <td>1.0</td>\n",
       "      <td>0.0000</td>\n",
       "      <td>0.0000</td>\n",
       "      <td>...</td>\n",
       "      <td>1.0</td>\n",
       "      <td>0.0</td>\n",
       "      <td>1.0</td>\n",
       "      <td>1.0</td>\n",
       "      <td>1.0000</td>\n",
       "      <td>0.0000</td>\n",
       "      <td>1.0</td>\n",
       "      <td>1.0</td>\n",
       "      <td>0.0</td>\n",
       "      <td>0.0</td>\n",
       "    </tr>\n",
       "    <tr>\n",
       "      <th>4</th>\n",
       "      <td>rs11121018_T</td>\n",
       "      <td>2.0</td>\n",
       "      <td>0.0</td>\n",
       "      <td>0.0</td>\n",
       "      <td>2.0</td>\n",
       "      <td>0.0000</td>\n",
       "      <td>1.0</td>\n",
       "      <td>1.0</td>\n",
       "      <td>0.0000</td>\n",
       "      <td>0.0000</td>\n",
       "      <td>...</td>\n",
       "      <td>1.0</td>\n",
       "      <td>0.0</td>\n",
       "      <td>1.0</td>\n",
       "      <td>1.0</td>\n",
       "      <td>1.0000</td>\n",
       "      <td>0.0000</td>\n",
       "      <td>1.0</td>\n",
       "      <td>1.0</td>\n",
       "      <td>0.0</td>\n",
       "      <td>0.0</td>\n",
       "    </tr>\n",
       "    <tr>\n",
       "      <th>...</th>\n",
       "      <td>...</td>\n",
       "      <td>...</td>\n",
       "      <td>...</td>\n",
       "      <td>...</td>\n",
       "      <td>...</td>\n",
       "      <td>...</td>\n",
       "      <td>...</td>\n",
       "      <td>...</td>\n",
       "      <td>...</td>\n",
       "      <td>...</td>\n",
       "      <td>...</td>\n",
       "      <td>...</td>\n",
       "      <td>...</td>\n",
       "      <td>...</td>\n",
       "      <td>...</td>\n",
       "      <td>...</td>\n",
       "      <td>...</td>\n",
       "      <td>...</td>\n",
       "      <td>...</td>\n",
       "      <td>...</td>\n",
       "      <td>...</td>\n",
       "    </tr>\n",
       "    <tr>\n",
       "      <th>6281</th>\n",
       "      <td>rs8176645_T</td>\n",
       "      <td>2.0</td>\n",
       "      <td>2.0</td>\n",
       "      <td>2.0</td>\n",
       "      <td>1.0</td>\n",
       "      <td>1.0039</td>\n",
       "      <td>0.0</td>\n",
       "      <td>2.0</td>\n",
       "      <td>1.1961</td>\n",
       "      <td>2.0000</td>\n",
       "      <td>...</td>\n",
       "      <td>2.0</td>\n",
       "      <td>2.0</td>\n",
       "      <td>2.0</td>\n",
       "      <td>1.0</td>\n",
       "      <td>1.3333</td>\n",
       "      <td>1.3176</td>\n",
       "      <td>2.0</td>\n",
       "      <td>1.0</td>\n",
       "      <td>2.0</td>\n",
       "      <td>1.0</td>\n",
       "    </tr>\n",
       "    <tr>\n",
       "      <th>6282</th>\n",
       "      <td>rs529565_T</td>\n",
       "      <td>2.0</td>\n",
       "      <td>2.0</td>\n",
       "      <td>2.0</td>\n",
       "      <td>1.0</td>\n",
       "      <td>2.0000</td>\n",
       "      <td>0.0</td>\n",
       "      <td>2.0</td>\n",
       "      <td>1.0000</td>\n",
       "      <td>2.0000</td>\n",
       "      <td>...</td>\n",
       "      <td>2.0</td>\n",
       "      <td>2.0</td>\n",
       "      <td>2.0</td>\n",
       "      <td>2.0</td>\n",
       "      <td>1.0000</td>\n",
       "      <td>1.0000</td>\n",
       "      <td>2.0</td>\n",
       "      <td>2.0</td>\n",
       "      <td>2.0</td>\n",
       "      <td>1.0</td>\n",
       "    </tr>\n",
       "    <tr>\n",
       "      <th>6283</th>\n",
       "      <td>rs532436_G</td>\n",
       "      <td>2.0</td>\n",
       "      <td>2.0</td>\n",
       "      <td>2.0</td>\n",
       "      <td>1.0</td>\n",
       "      <td>2.0000</td>\n",
       "      <td>0.0</td>\n",
       "      <td>2.0</td>\n",
       "      <td>2.0000</td>\n",
       "      <td>2.0000</td>\n",
       "      <td>...</td>\n",
       "      <td>2.0</td>\n",
       "      <td>2.0</td>\n",
       "      <td>2.0</td>\n",
       "      <td>2.0</td>\n",
       "      <td>1.0000</td>\n",
       "      <td>2.0000</td>\n",
       "      <td>2.0</td>\n",
       "      <td>2.0</td>\n",
       "      <td>2.0</td>\n",
       "      <td>1.0</td>\n",
       "    </tr>\n",
       "    <tr>\n",
       "      <th>6284</th>\n",
       "      <td>rs600038_T</td>\n",
       "      <td>2.0</td>\n",
       "      <td>1.0</td>\n",
       "      <td>2.0</td>\n",
       "      <td>1.0</td>\n",
       "      <td>1.0000</td>\n",
       "      <td>0.0</td>\n",
       "      <td>2.0</td>\n",
       "      <td>2.0000</td>\n",
       "      <td>1.0000</td>\n",
       "      <td>...</td>\n",
       "      <td>2.0</td>\n",
       "      <td>2.0</td>\n",
       "      <td>2.0</td>\n",
       "      <td>1.0</td>\n",
       "      <td>1.0000</td>\n",
       "      <td>2.0000</td>\n",
       "      <td>2.0</td>\n",
       "      <td>1.0</td>\n",
       "      <td>2.0</td>\n",
       "      <td>1.0</td>\n",
       "    </tr>\n",
       "    <tr>\n",
       "      <th>6285</th>\n",
       "      <td>rs649129_C</td>\n",
       "      <td>2.0</td>\n",
       "      <td>1.0</td>\n",
       "      <td>2.0</td>\n",
       "      <td>1.0</td>\n",
       "      <td>1.0000</td>\n",
       "      <td>0.0</td>\n",
       "      <td>2.0</td>\n",
       "      <td>2.0000</td>\n",
       "      <td>1.0000</td>\n",
       "      <td>...</td>\n",
       "      <td>2.0</td>\n",
       "      <td>2.0</td>\n",
       "      <td>2.0</td>\n",
       "      <td>1.0</td>\n",
       "      <td>1.0000</td>\n",
       "      <td>2.0000</td>\n",
       "      <td>2.0</td>\n",
       "      <td>1.0</td>\n",
       "      <td>2.0</td>\n",
       "      <td>1.0</td>\n",
       "    </tr>\n",
       "  </tbody>\n",
       "</table>\n",
       "<p>6286 rows × 34311 columns</p>\n",
       "</div>"
      ],
      "text/plain": [
       "             index  2390912  4497935  2439435  3156276  5595263  2365645  \\\n",
       "0      rs2032562_T      2.0      0.0      0.0      2.0   0.0000      1.0   \n",
       "1     rs10864313_T      2.0      0.0      0.0      2.0   0.0000      1.0   \n",
       "2      rs4908693_C      2.0      0.0      0.0      2.0   0.0000      1.0   \n",
       "3     rs11121016_A      2.0      0.0      0.0      2.0   0.0000      1.0   \n",
       "4     rs11121018_T      2.0      0.0      0.0      2.0   0.0000      1.0   \n",
       "...            ...      ...      ...      ...      ...      ...      ...   \n",
       "6281   rs8176645_T      2.0      2.0      2.0      1.0   1.0039      0.0   \n",
       "6282    rs529565_T      2.0      2.0      2.0      1.0   2.0000      0.0   \n",
       "6283    rs532436_G      2.0      2.0      2.0      1.0   2.0000      0.0   \n",
       "6284    rs600038_T      2.0      1.0      2.0      1.0   1.0000      0.0   \n",
       "6285    rs649129_C      2.0      1.0      2.0      1.0   1.0000      0.0   \n",
       "\n",
       "      1541814  1940466  4445773  ...  5128738  2749635  2465958  2668039  \\\n",
       "0         1.0   0.0000   0.0000  ...      1.0      0.0      1.0      1.0   \n",
       "1         1.0   0.0000   0.0000  ...      1.0      0.0      1.0      1.0   \n",
       "2         1.0   0.0000   0.6588  ...      1.0      0.0      1.0      1.0   \n",
       "3         1.0   0.0000   0.0000  ...      1.0      0.0      1.0      1.0   \n",
       "4         1.0   0.0000   0.0000  ...      1.0      0.0      1.0      1.0   \n",
       "...       ...      ...      ...  ...      ...      ...      ...      ...   \n",
       "6281      2.0   1.1961   2.0000  ...      2.0      2.0      2.0      1.0   \n",
       "6282      2.0   1.0000   2.0000  ...      2.0      2.0      2.0      2.0   \n",
       "6283      2.0   2.0000   2.0000  ...      2.0      2.0      2.0      2.0   \n",
       "6284      2.0   2.0000   1.0000  ...      2.0      2.0      2.0      1.0   \n",
       "6285      2.0   2.0000   1.0000  ...      2.0      2.0      2.0      1.0   \n",
       "\n",
       "      2510487  1810779  4104408  2874016  5798474  1990762  \n",
       "0      1.0000   0.0000      1.0      1.0      0.0      0.0  \n",
       "1      1.0000   0.0000      1.0      1.0      0.0      0.0  \n",
       "2      1.0000   0.0000      1.0      1.0      0.0      0.0  \n",
       "3      1.0000   0.0000      1.0      1.0      0.0      0.0  \n",
       "4      1.0000   0.0000      1.0      1.0      0.0      0.0  \n",
       "...       ...      ...      ...      ...      ...      ...  \n",
       "6281   1.3333   1.3176      2.0      1.0      2.0      1.0  \n",
       "6282   1.0000   1.0000      2.0      2.0      2.0      1.0  \n",
       "6283   1.0000   2.0000      2.0      2.0      2.0      1.0  \n",
       "6284   1.0000   2.0000      2.0      1.0      2.0      1.0  \n",
       "6285   1.0000   2.0000      2.0      1.0      2.0      1.0  \n",
       "\n",
       "[6286 rows x 34311 columns]"
      ]
     },
     "execution_count": 605,
     "metadata": {},
     "output_type": "execute_result"
    }
   ],
   "source": [
    "geno"
   ]
  },
  {
   "cell_type": "code",
   "execution_count": 606,
   "id": "c88b6bed-c692-4ded-b17d-db89e8744ef2",
   "metadata": {
    "execution": {
     "iopub.execute_input": "2021-09-29T18:49:22.873014Z",
     "iopub.status.busy": "2021-09-29T18:49:22.872653Z",
     "iopub.status.idle": "2021-09-29T18:49:23.503716Z",
     "shell.execute_reply": "2021-09-29T18:49:23.502783Z",
     "shell.execute_reply.started": "2021-09-29T18:49:22.872966Z"
    },
    "tags": []
   },
   "outputs": [
    {
     "data": {
      "text/html": [
       "<div>\n",
       "<style scoped>\n",
       "    .dataframe tbody tr th:only-of-type {\n",
       "        vertical-align: middle;\n",
       "    }\n",
       "\n",
       "    .dataframe tbody tr th {\n",
       "        vertical-align: top;\n",
       "    }\n",
       "\n",
       "    .dataframe thead th {\n",
       "        text-align: right;\n",
       "    }\n",
       "</style>\n",
       "<table border=\"1\" class=\"dataframe\">\n",
       "  <thead>\n",
       "    <tr style=\"text-align: right;\">\n",
       "      <th></th>\n",
       "      <th>UKB_ID</th>\n",
       "      <th>MGB_ID</th>\n",
       "      <th>EXPECTED_ALLELE</th>\n",
       "      <th>MEAN</th>\n",
       "      <th>STD</th>\n",
       "      <th>ACTUAL_ALLELE</th>\n",
       "    </tr>\n",
       "    <tr>\n",
       "      <th>INDEX</th>\n",
       "      <th></th>\n",
       "      <th></th>\n",
       "      <th></th>\n",
       "      <th></th>\n",
       "      <th></th>\n",
       "      <th></th>\n",
       "    </tr>\n",
       "  </thead>\n",
       "  <tbody>\n",
       "    <tr>\n",
       "      <th>1:2172917_T_C</th>\n",
       "      <td>rs1692584</td>\n",
       "      <td>1:2172917_T_C</td>\n",
       "      <td>T</td>\n",
       "      <td>1.234933</td>\n",
       "      <td>0.677531</td>\n",
       "      <td>T</td>\n",
       "    </tr>\n",
       "    <tr>\n",
       "      <th>1:2172919_T_C</th>\n",
       "      <td>rs1692585</td>\n",
       "      <td>1:2172919_T_C</td>\n",
       "      <td>T</td>\n",
       "      <td>1.247089</td>\n",
       "      <td>0.670771</td>\n",
       "      <td>T</td>\n",
       "    </tr>\n",
       "    <tr>\n",
       "      <th>1:14612626_T_C</th>\n",
       "      <td>rs76282923</td>\n",
       "      <td>1:14612626_T_C</td>\n",
       "      <td>T</td>\n",
       "      <td>1.901087</td>\n",
       "      <td>0.306297</td>\n",
       "      <td>T</td>\n",
       "    </tr>\n",
       "    <tr>\n",
       "      <th>1:14615321_T_C</th>\n",
       "      <td>rs142707962</td>\n",
       "      <td>1:14615321_T_C</td>\n",
       "      <td>T</td>\n",
       "      <td>1.901117</td>\n",
       "      <td>0.306254</td>\n",
       "      <td>T</td>\n",
       "    </tr>\n",
       "    <tr>\n",
       "      <th>1:14620817_G_C</th>\n",
       "      <td>rs74590598</td>\n",
       "      <td>1:14620817_G_C</td>\n",
       "      <td>G</td>\n",
       "      <td>1.901464</td>\n",
       "      <td>0.305765</td>\n",
       "      <td>G</td>\n",
       "    </tr>\n",
       "    <tr>\n",
       "      <th>...</th>\n",
       "      <td>...</td>\n",
       "      <td>...</td>\n",
       "      <td>...</td>\n",
       "      <td>...</td>\n",
       "      <td>...</td>\n",
       "      <td>...</td>\n",
       "    </tr>\n",
       "    <tr>\n",
       "      <th>9:136150484_A_G</th>\n",
       "      <td>rs559723</td>\n",
       "      <td>9:136150484_A_G</td>\n",
       "      <td>A</td>\n",
       "      <td>0.974722</td>\n",
       "      <td>0.703103</td>\n",
       "      <td>G</td>\n",
       "    </tr>\n",
       "    <tr>\n",
       "      <th>9:136151806_T_C</th>\n",
       "      <td>rs600038</td>\n",
       "      <td>9:136151806_T_C</td>\n",
       "      <td>T</td>\n",
       "      <td>1.573194</td>\n",
       "      <td>0.577394</td>\n",
       "      <td>T</td>\n",
       "    </tr>\n",
       "    <tr>\n",
       "      <th>9:136153981_C_T</th>\n",
       "      <td>rs11244061</td>\n",
       "      <td>9:136153981_C_T</td>\n",
       "      <td>C</td>\n",
       "      <td>1.769694</td>\n",
       "      <td>0.451291</td>\n",
       "      <td>C</td>\n",
       "    </tr>\n",
       "    <tr>\n",
       "      <th>9:136154304_C_T</th>\n",
       "      <td>rs649129</td>\n",
       "      <td>9:136154304_C_T</td>\n",
       "      <td>C</td>\n",
       "      <td>1.573252</td>\n",
       "      <td>0.577947</td>\n",
       "      <td>C</td>\n",
       "    </tr>\n",
       "    <tr>\n",
       "      <th>9:136267149_C_T</th>\n",
       "      <td>rs17474001</td>\n",
       "      <td>9:136267149_C_T</td>\n",
       "      <td>C</td>\n",
       "      <td>1.727162</td>\n",
       "      <td>0.478773</td>\n",
       "      <td>C</td>\n",
       "    </tr>\n",
       "  </tbody>\n",
       "</table>\n",
       "<p>7469 rows × 6 columns</p>\n",
       "</div>"
      ],
      "text/plain": [
       "                      UKB_ID           MGB_ID EXPECTED_ALLELE      MEAN  \\\n",
       "INDEX                                                                     \n",
       "1:2172917_T_C      rs1692584    1:2172917_T_C               T  1.234933   \n",
       "1:2172919_T_C      rs1692585    1:2172919_T_C               T  1.247089   \n",
       "1:14612626_T_C    rs76282923   1:14612626_T_C               T  1.901087   \n",
       "1:14615321_T_C   rs142707962   1:14615321_T_C               T  1.901117   \n",
       "1:14620817_G_C    rs74590598   1:14620817_G_C               G  1.901464   \n",
       "...                      ...              ...             ...       ...   \n",
       "9:136150484_A_G     rs559723  9:136150484_A_G               A  0.974722   \n",
       "9:136151806_T_C     rs600038  9:136151806_T_C               T  1.573194   \n",
       "9:136153981_C_T   rs11244061  9:136153981_C_T               C  1.769694   \n",
       "9:136154304_C_T     rs649129  9:136154304_C_T               C  1.573252   \n",
       "9:136267149_C_T   rs17474001  9:136267149_C_T               C  1.727162   \n",
       "\n",
       "                      STD ACTUAL_ALLELE  \n",
       "INDEX                                    \n",
       "1:2172917_T_C    0.677531             T  \n",
       "1:2172919_T_C    0.670771             T  \n",
       "1:14612626_T_C   0.306297             T  \n",
       "1:14615321_T_C   0.306254             T  \n",
       "1:14620817_G_C   0.305765             G  \n",
       "...                   ...           ...  \n",
       "9:136150484_A_G  0.703103             G  \n",
       "9:136151806_T_C  0.577394             T  \n",
       "9:136153981_C_T  0.451291             C  \n",
       "9:136154304_C_T  0.577947             C  \n",
       "9:136267149_C_T  0.478773             C  \n",
       "\n",
       "[7469 rows x 6 columns]"
      ]
     },
     "execution_count": 606,
     "metadata": {},
     "output_type": "execute_result"
    }
   ],
   "source": [
    "merged_summary"
   ]
  },
  {
   "cell_type": "code",
   "execution_count": 607,
   "id": "3876771e-f1cb-4752-921b-aba37f3be5ec",
   "metadata": {
    "execution": {
     "iopub.execute_input": "2021-09-29T18:49:24.623772Z",
     "iopub.status.busy": "2021-09-29T18:49:24.623413Z",
     "iopub.status.idle": "2021-09-29T18:49:25.120528Z",
     "shell.execute_reply": "2021-09-29T18:49:25.119742Z",
     "shell.execute_reply.started": "2021-09-29T18:49:24.623723Z"
    },
    "tags": []
   },
   "outputs": [
    {
     "data": {
      "text/html": [
       "<div>\n",
       "<style scoped>\n",
       "    .dataframe tbody tr th:only-of-type {\n",
       "        vertical-align: middle;\n",
       "    }\n",
       "\n",
       "    .dataframe tbody tr th {\n",
       "        vertical-align: top;\n",
       "    }\n",
       "\n",
       "    .dataframe thead th {\n",
       "        text-align: right;\n",
       "    }\n",
       "</style>\n",
       "<table border=\"1\" class=\"dataframe\">\n",
       "  <thead>\n",
       "    <tr style=\"text-align: right;\">\n",
       "      <th>IID</th>\n",
       "      <th>MGB00001</th>\n",
       "      <th>MGB00002</th>\n",
       "      <th>MGB00003</th>\n",
       "      <th>MGB00004</th>\n",
       "      <th>MGB00005</th>\n",
       "      <th>MGB00006</th>\n",
       "      <th>MGB00007</th>\n",
       "      <th>MGB00008</th>\n",
       "      <th>MGB00009</th>\n",
       "      <th>MGB00010</th>\n",
       "    </tr>\n",
       "  </thead>\n",
       "  <tbody>\n",
       "    <tr>\n",
       "      <th>8:106256501_C_A</th>\n",
       "      <td>1.000000</td>\n",
       "      <td>1.000000</td>\n",
       "      <td>1.000000</td>\n",
       "      <td>1.000000</td>\n",
       "      <td>1.000000</td>\n",
       "      <td>1.000000</td>\n",
       "      <td>1.000000</td>\n",
       "      <td>1.000000</td>\n",
       "      <td>1.000000</td>\n",
       "      <td>1.000000</td>\n",
       "    </tr>\n",
       "    <tr>\n",
       "      <th>8:106256501_C_A</th>\n",
       "      <td>1.999862</td>\n",
       "      <td>1.999862</td>\n",
       "      <td>1.999862</td>\n",
       "      <td>1.999862</td>\n",
       "      <td>1.999862</td>\n",
       "      <td>1.999862</td>\n",
       "      <td>1.999862</td>\n",
       "      <td>1.999862</td>\n",
       "      <td>1.999862</td>\n",
       "      <td>1.999862</td>\n",
       "    </tr>\n",
       "  </tbody>\n",
       "</table>\n",
       "</div>"
      ],
      "text/plain": [
       "IID              MGB00001  MGB00002  MGB00003  MGB00004  MGB00005  MGB00006  \\\n",
       "8:106256501_C_A  1.000000  1.000000  1.000000  1.000000  1.000000  1.000000   \n",
       "8:106256501_C_A  1.999862  1.999862  1.999862  1.999862  1.999862  1.999862   \n",
       "\n",
       "IID              MGB00007  MGB00008  MGB00009  MGB00010  \n",
       "8:106256501_C_A  1.000000  1.000000  1.000000  1.000000  \n",
       "8:106256501_C_A  1.999862  1.999862  1.999862  1.999862  "
      ]
     },
     "execution_count": 607,
     "metadata": {},
     "output_type": "execute_result"
    }
   ],
   "source": [
    "ordered_raw[ordered_raw.index.str.contains(\"8:106256501_C_A\")]"
   ]
  },
  {
   "cell_type": "code",
   "execution_count": 608,
   "id": "77e0b15d-1f51-4c38-8fa5-4e9b5ebd2ad2",
   "metadata": {
    "execution": {
     "iopub.execute_input": "2021-09-29T18:49:25.122968Z",
     "iopub.status.busy": "2021-09-29T18:49:25.122729Z",
     "iopub.status.idle": "2021-09-29T18:49:25.824719Z",
     "shell.execute_reply": "2021-09-29T18:49:25.823966Z",
     "shell.execute_reply.started": "2021-09-29T18:49:25.122939Z"
    },
    "tags": []
   },
   "outputs": [
    {
     "data": {
      "text/html": [
       "<div>\n",
       "<style scoped>\n",
       "    .dataframe tbody tr th:only-of-type {\n",
       "        vertical-align: middle;\n",
       "    }\n",
       "\n",
       "    .dataframe tbody tr th {\n",
       "        vertical-align: top;\n",
       "    }\n",
       "\n",
       "    .dataframe thead th {\n",
       "        text-align: right;\n",
       "    }\n",
       "</style>\n",
       "<table border=\"1\" class=\"dataframe\">\n",
       "  <thead>\n",
       "    <tr style=\"text-align: right;\">\n",
       "      <th></th>\n",
       "      <th>UKB_ID</th>\n",
       "      <th>MGB_ID</th>\n",
       "      <th>EXPECTED_ALLELE</th>\n",
       "      <th>MEAN</th>\n",
       "      <th>STD</th>\n",
       "      <th>ACTUAL_ALLELE</th>\n",
       "    </tr>\n",
       "    <tr>\n",
       "      <th>INDEX</th>\n",
       "      <th></th>\n",
       "      <th></th>\n",
       "      <th></th>\n",
       "      <th></th>\n",
       "      <th></th>\n",
       "      <th></th>\n",
       "    </tr>\n",
       "  </thead>\n",
       "  <tbody>\n",
       "    <tr>\n",
       "      <th>8:106256501_C_A</th>\n",
       "      <td>rs10110132</td>\n",
       "      <td>8:106256501_C_A</td>\n",
       "      <td>C</td>\n",
       "      <td>1.409267</td>\n",
       "      <td>0.653169</td>\n",
       "      <td>C</td>\n",
       "    </tr>\n",
       "    <tr>\n",
       "      <th>8:106256501_C_A</th>\n",
       "      <td>rs10110132</td>\n",
       "      <td>8:106256501_C_A</td>\n",
       "      <td>C</td>\n",
       "      <td>1.999862</td>\n",
       "      <td>0.005697</td>\n",
       "      <td>C</td>\n",
       "    </tr>\n",
       "  </tbody>\n",
       "</table>\n",
       "</div>"
      ],
      "text/plain": [
       "                     UKB_ID           MGB_ID EXPECTED_ALLELE      MEAN  \\\n",
       "INDEX                                                                    \n",
       "8:106256501_C_A  rs10110132  8:106256501_C_A               C  1.409267   \n",
       "8:106256501_C_A  rs10110132  8:106256501_C_A               C  1.999862   \n",
       "\n",
       "                      STD ACTUAL_ALLELE  \n",
       "INDEX                                    \n",
       "8:106256501_C_A  0.653169             C  \n",
       "8:106256501_C_A  0.005697             C  "
      ]
     },
     "execution_count": 608,
     "metadata": {},
     "output_type": "execute_result"
    }
   ],
   "source": [
    "merged_summary[merged_summary[\"MGB_ID\"].str.contains(\"8:106256501_C_A\")]"
   ]
  },
  {
   "cell_type": "code",
   "execution_count": 609,
   "id": "52be7c11-c742-436d-86b4-123f4ce50fc4",
   "metadata": {
    "execution": {
     "iopub.execute_input": "2021-09-29T18:49:27.831966Z",
     "iopub.status.busy": "2021-09-29T18:49:27.831717Z",
     "iopub.status.idle": "2021-09-29T18:49:28.607348Z",
     "shell.execute_reply": "2021-09-29T18:49:28.606390Z",
     "shell.execute_reply.started": "2021-09-29T18:49:27.831936Z"
    },
    "tags": []
   },
   "outputs": [
    {
     "data": {
      "text/html": [
       "<div>\n",
       "<style scoped>\n",
       "    .dataframe tbody tr th:only-of-type {\n",
       "        vertical-align: middle;\n",
       "    }\n",
       "\n",
       "    .dataframe tbody tr th {\n",
       "        vertical-align: top;\n",
       "    }\n",
       "\n",
       "    .dataframe thead th {\n",
       "        text-align: right;\n",
       "    }\n",
       "</style>\n",
       "<table border=\"1\" class=\"dataframe\">\n",
       "  <thead>\n",
       "    <tr style=\"text-align: right;\">\n",
       "      <th></th>\n",
       "      <th>index</th>\n",
       "      <th>2390912</th>\n",
       "      <th>4497935</th>\n",
       "      <th>2439435</th>\n",
       "      <th>3156276</th>\n",
       "      <th>5595263</th>\n",
       "      <th>2365645</th>\n",
       "      <th>1541814</th>\n",
       "      <th>1940466</th>\n",
       "      <th>4445773</th>\n",
       "      <th>...</th>\n",
       "      <th>5128738</th>\n",
       "      <th>2749635</th>\n",
       "      <th>2465958</th>\n",
       "      <th>2668039</th>\n",
       "      <th>2510487</th>\n",
       "      <th>1810779</th>\n",
       "      <th>4104408</th>\n",
       "      <th>2874016</th>\n",
       "      <th>5798474</th>\n",
       "      <th>1990762</th>\n",
       "    </tr>\n",
       "  </thead>\n",
       "  <tbody>\n",
       "  </tbody>\n",
       "</table>\n",
       "<p>0 rows × 34311 columns</p>\n",
       "</div>"
      ],
      "text/plain": [
       "Empty DataFrame\n",
       "Columns: [index, 2390912, 4497935, 2439435, 3156276, 5595263, 2365645, 1541814, 1940466, 4445773, 3688299, 2092699, 3582167, 5779453, 5046353, 4625634, 3442057, 1748770, 4209561, 5666210, 3931910, 2834237, 4265817, 1306188, 5124165, 4532212, 4628379, 4310665, 5815731, 4720285, 2587025, 5974049, 1467549, 4804717, 1409485, 5142227, 3009093, 5654874, 1520995, 3241432, 4948640, 2199929, 3214678, 1986985, 5771876, 2947508, 1499808, 1135955, 2163928, 1642841, 2902692, 2826476, 1783798, 1687241, 2470253, 3484081, 4600248, 3330492, 1314844, 3817749, 2794198, 3691296, 5570031, 4850432, 5471986, 5558478, 2194762, 2750395, 5994214, 1143731, 4241325, 2605926, 2801491, 5650145, 2548370, 1605277, 1719061, 4019261, 1459402, 1212244, 5615368, 4106201, 5632794, 1057748, 3488011, 1054354, 4383106, 4771751, 3863759, 4979639, 4358179, 4327950, 5016728, 5418486, 2082028, 4816395, 3752023, 3937239, 2902864, 2453089, ...]\n",
       "Index: []\n",
       "\n",
       "[0 rows x 34311 columns]"
      ]
     },
     "execution_count": 609,
     "metadata": {},
     "output_type": "execute_result"
    }
   ],
   "source": [
    "geno[geno[\"index\"].str.contains(\"rs10110132\")]"
   ]
  },
  {
   "cell_type": "code",
   "execution_count": 610,
   "id": "dab494c8-f7d3-471d-b482-fe03e7d549d3",
   "metadata": {
    "execution": {
     "iopub.execute_input": "2021-09-29T18:49:28.608801Z",
     "iopub.status.busy": "2021-09-29T18:49:28.608571Z",
     "iopub.status.idle": "2021-09-29T18:49:29.152426Z",
     "shell.execute_reply": "2021-09-29T18:49:29.151500Z",
     "shell.execute_reply.started": "2021-09-29T18:49:28.608771Z"
    },
    "tags": []
   },
   "outputs": [
    {
     "name": "stdout",
     "output_type": "stream",
     "text": [
      "Correcting mismatched alleles...\n",
      "Z-scoring genotypes...\n"
     ]
    }
   ],
   "source": [
    "#Step 4: Correcting mismatched alleles, TODO: put number corrected\n",
    "print(\"Correcting mismatched alleles...\")\n",
    "mismatched_pos = np.where(merged_summary[\"ACTUAL_ALLELE\"] != merged_summary[\"EXPECTED_ALLELE\"])[0]\n",
    "ordered_raw.iloc[mismatched_pos, :] = 2 - ordered_raw.iloc[mismatched_pos, :]\n",
    "\n",
    "#Step5 Z-score\n",
    "print(\"Z-scoring genotypes...\")\n",
    "zraw = ordered_raw.subtract(merged_summary[\"MEAN\"].values, axis=\"index\")\n",
    "zraw = zraw.div(merged_summary[\"STD\"].values, axis=\"index\")\n"
   ]
  },
  {
   "cell_type": "code",
   "execution_count": 611,
   "id": "4fe20d6b-ae56-4b5c-a223-6b6f767a0216",
   "metadata": {
    "execution": {
     "iopub.execute_input": "2021-09-29T18:49:29.154314Z",
     "iopub.status.busy": "2021-09-29T18:49:29.153978Z",
     "iopub.status.idle": "2021-09-29T18:49:29.940189Z",
     "shell.execute_reply": "2021-09-29T18:49:29.939441Z",
     "shell.execute_reply.started": "2021-09-29T18:49:29.154266Z"
    },
    "tags": []
   },
   "outputs": [
    {
     "data": {
      "text/html": [
       "<div>\n",
       "<style scoped>\n",
       "    .dataframe tbody tr th:only-of-type {\n",
       "        vertical-align: middle;\n",
       "    }\n",
       "\n",
       "    .dataframe tbody tr th {\n",
       "        vertical-align: top;\n",
       "    }\n",
       "\n",
       "    .dataframe thead th {\n",
       "        text-align: right;\n",
       "    }\n",
       "</style>\n",
       "<table border=\"1\" class=\"dataframe\">\n",
       "  <thead>\n",
       "    <tr style=\"text-align: right;\">\n",
       "      <th>IID</th>\n",
       "      <th>MGB00001</th>\n",
       "      <th>MGB00002</th>\n",
       "      <th>MGB00003</th>\n",
       "      <th>MGB00004</th>\n",
       "      <th>MGB00005</th>\n",
       "      <th>MGB00006</th>\n",
       "      <th>MGB00007</th>\n",
       "      <th>MGB00008</th>\n",
       "      <th>MGB00009</th>\n",
       "      <th>MGB00010</th>\n",
       "    </tr>\n",
       "  </thead>\n",
       "  <tbody>\n",
       "    <tr>\n",
       "      <th>1:2172917_T_C</th>\n",
       "      <td>1.0</td>\n",
       "      <td>1.0</td>\n",
       "      <td>1.0</td>\n",
       "      <td>1.0</td>\n",
       "      <td>1.0</td>\n",
       "      <td>1.0</td>\n",
       "      <td>1.0</td>\n",
       "      <td>1.0</td>\n",
       "      <td>1.0</td>\n",
       "      <td>1.0</td>\n",
       "    </tr>\n",
       "    <tr>\n",
       "      <th>1:2172919_T_C</th>\n",
       "      <td>1.0</td>\n",
       "      <td>1.0</td>\n",
       "      <td>1.0</td>\n",
       "      <td>1.0</td>\n",
       "      <td>1.0</td>\n",
       "      <td>1.0</td>\n",
       "      <td>1.0</td>\n",
       "      <td>1.0</td>\n",
       "      <td>1.0</td>\n",
       "      <td>1.0</td>\n",
       "    </tr>\n",
       "    <tr>\n",
       "      <th>1:14612626_T_C</th>\n",
       "      <td>1.0</td>\n",
       "      <td>1.0</td>\n",
       "      <td>1.0</td>\n",
       "      <td>1.0</td>\n",
       "      <td>1.0</td>\n",
       "      <td>1.0</td>\n",
       "      <td>1.0</td>\n",
       "      <td>1.0</td>\n",
       "      <td>1.0</td>\n",
       "      <td>1.0</td>\n",
       "    </tr>\n",
       "    <tr>\n",
       "      <th>1:14615321_T_C</th>\n",
       "      <td>1.0</td>\n",
       "      <td>1.0</td>\n",
       "      <td>1.0</td>\n",
       "      <td>1.0</td>\n",
       "      <td>1.0</td>\n",
       "      <td>1.0</td>\n",
       "      <td>1.0</td>\n",
       "      <td>1.0</td>\n",
       "      <td>1.0</td>\n",
       "      <td>1.0</td>\n",
       "    </tr>\n",
       "    <tr>\n",
       "      <th>1:14620817_G_C</th>\n",
       "      <td>1.0</td>\n",
       "      <td>1.0</td>\n",
       "      <td>1.0</td>\n",
       "      <td>1.0</td>\n",
       "      <td>1.0</td>\n",
       "      <td>1.0</td>\n",
       "      <td>1.0</td>\n",
       "      <td>1.0</td>\n",
       "      <td>1.0</td>\n",
       "      <td>1.0</td>\n",
       "    </tr>\n",
       "    <tr>\n",
       "      <th>...</th>\n",
       "      <td>...</td>\n",
       "      <td>...</td>\n",
       "      <td>...</td>\n",
       "      <td>...</td>\n",
       "      <td>...</td>\n",
       "      <td>...</td>\n",
       "      <td>...</td>\n",
       "      <td>...</td>\n",
       "      <td>...</td>\n",
       "      <td>...</td>\n",
       "    </tr>\n",
       "    <tr>\n",
       "      <th>9:136150484_A_G</th>\n",
       "      <td>1.0</td>\n",
       "      <td>1.0</td>\n",
       "      <td>1.0</td>\n",
       "      <td>1.0</td>\n",
       "      <td>1.0</td>\n",
       "      <td>1.0</td>\n",
       "      <td>1.0</td>\n",
       "      <td>1.0</td>\n",
       "      <td>1.0</td>\n",
       "      <td>1.0</td>\n",
       "    </tr>\n",
       "    <tr>\n",
       "      <th>9:136151806_T_C</th>\n",
       "      <td>1.0</td>\n",
       "      <td>1.0</td>\n",
       "      <td>1.0</td>\n",
       "      <td>1.0</td>\n",
       "      <td>1.0</td>\n",
       "      <td>1.0</td>\n",
       "      <td>1.0</td>\n",
       "      <td>1.0</td>\n",
       "      <td>1.0</td>\n",
       "      <td>1.0</td>\n",
       "    </tr>\n",
       "    <tr>\n",
       "      <th>9:136153981_C_T</th>\n",
       "      <td>1.0</td>\n",
       "      <td>1.0</td>\n",
       "      <td>1.0</td>\n",
       "      <td>1.0</td>\n",
       "      <td>1.0</td>\n",
       "      <td>1.0</td>\n",
       "      <td>1.0</td>\n",
       "      <td>1.0</td>\n",
       "      <td>1.0</td>\n",
       "      <td>1.0</td>\n",
       "    </tr>\n",
       "    <tr>\n",
       "      <th>9:136154304_C_T</th>\n",
       "      <td>1.0</td>\n",
       "      <td>1.0</td>\n",
       "      <td>1.0</td>\n",
       "      <td>1.0</td>\n",
       "      <td>1.0</td>\n",
       "      <td>1.0</td>\n",
       "      <td>1.0</td>\n",
       "      <td>1.0</td>\n",
       "      <td>1.0</td>\n",
       "      <td>1.0</td>\n",
       "    </tr>\n",
       "    <tr>\n",
       "      <th>9:136267149_C_T</th>\n",
       "      <td>1.0</td>\n",
       "      <td>1.0</td>\n",
       "      <td>1.0</td>\n",
       "      <td>1.0</td>\n",
       "      <td>1.0</td>\n",
       "      <td>1.0</td>\n",
       "      <td>1.0</td>\n",
       "      <td>1.0</td>\n",
       "      <td>1.0</td>\n",
       "      <td>1.0</td>\n",
       "    </tr>\n",
       "  </tbody>\n",
       "</table>\n",
       "<p>7469 rows × 10 columns</p>\n",
       "</div>"
      ],
      "text/plain": [
       "IID              MGB00001  MGB00002  MGB00003  MGB00004  MGB00005  MGB00006  \\\n",
       "1:2172917_T_C         1.0       1.0       1.0       1.0       1.0       1.0   \n",
       "1:2172919_T_C         1.0       1.0       1.0       1.0       1.0       1.0   \n",
       "1:14612626_T_C        1.0       1.0       1.0       1.0       1.0       1.0   \n",
       "1:14615321_T_C        1.0       1.0       1.0       1.0       1.0       1.0   \n",
       "1:14620817_G_C        1.0       1.0       1.0       1.0       1.0       1.0   \n",
       "...                   ...       ...       ...       ...       ...       ...   \n",
       "9:136150484_A_G       1.0       1.0       1.0       1.0       1.0       1.0   \n",
       "9:136151806_T_C       1.0       1.0       1.0       1.0       1.0       1.0   \n",
       "9:136153981_C_T       1.0       1.0       1.0       1.0       1.0       1.0   \n",
       "9:136154304_C_T       1.0       1.0       1.0       1.0       1.0       1.0   \n",
       "9:136267149_C_T       1.0       1.0       1.0       1.0       1.0       1.0   \n",
       "\n",
       "IID              MGB00007  MGB00008  MGB00009  MGB00010  \n",
       "1:2172917_T_C         1.0       1.0       1.0       1.0  \n",
       "1:2172919_T_C         1.0       1.0       1.0       1.0  \n",
       "1:14612626_T_C        1.0       1.0       1.0       1.0  \n",
       "1:14615321_T_C        1.0       1.0       1.0       1.0  \n",
       "1:14620817_G_C        1.0       1.0       1.0       1.0  \n",
       "...                   ...       ...       ...       ...  \n",
       "9:136150484_A_G       1.0       1.0       1.0       1.0  \n",
       "9:136151806_T_C       1.0       1.0       1.0       1.0  \n",
       "9:136153981_C_T       1.0       1.0       1.0       1.0  \n",
       "9:136154304_C_T       1.0       1.0       1.0       1.0  \n",
       "9:136267149_C_T       1.0       1.0       1.0       1.0  \n",
       "\n",
       "[7469 rows x 10 columns]"
      ]
     },
     "execution_count": 611,
     "metadata": {},
     "output_type": "execute_result"
    }
   ],
   "source": [
    "ordered_raw[\"\"]"
   ]
  },
  {
   "cell_type": "code",
   "execution_count": 612,
   "id": "e493ca4b-5822-4d40-a791-eb619e7ba4ba",
   "metadata": {
    "execution": {
     "iopub.execute_input": "2021-09-29T18:49:29.941538Z",
     "iopub.status.busy": "2021-09-29T18:49:29.941290Z",
     "iopub.status.idle": "2021-09-29T18:49:30.558450Z",
     "shell.execute_reply": "2021-09-29T18:49:30.557649Z",
     "shell.execute_reply.started": "2021-09-29T18:49:29.941501Z"
    },
    "tags": []
   },
   "outputs": [
    {
     "data": {
      "text/html": [
       "<div>\n",
       "<style scoped>\n",
       "    .dataframe tbody tr th:only-of-type {\n",
       "        vertical-align: middle;\n",
       "    }\n",
       "\n",
       "    .dataframe tbody tr th {\n",
       "        vertical-align: top;\n",
       "    }\n",
       "\n",
       "    .dataframe thead th {\n",
       "        text-align: right;\n",
       "    }\n",
       "</style>\n",
       "<table border=\"1\" class=\"dataframe\">\n",
       "  <thead>\n",
       "    <tr style=\"text-align: right;\">\n",
       "      <th></th>\n",
       "      <th>UKB_ID</th>\n",
       "      <th>MGB_ID</th>\n",
       "      <th>EXPECTED_ALLELE</th>\n",
       "      <th>MEAN</th>\n",
       "      <th>STD</th>\n",
       "      <th>ACTUAL_ALLELE</th>\n",
       "    </tr>\n",
       "    <tr>\n",
       "      <th>INDEX</th>\n",
       "      <th></th>\n",
       "      <th></th>\n",
       "      <th></th>\n",
       "      <th></th>\n",
       "      <th></th>\n",
       "      <th></th>\n",
       "    </tr>\n",
       "  </thead>\n",
       "  <tbody>\n",
       "    <tr>\n",
       "      <th>1:2172917_T_C</th>\n",
       "      <td>rs1692584</td>\n",
       "      <td>1:2172917_T_C</td>\n",
       "      <td>T</td>\n",
       "      <td>1.234933</td>\n",
       "      <td>0.677531</td>\n",
       "      <td>T</td>\n",
       "    </tr>\n",
       "    <tr>\n",
       "      <th>1:2172919_T_C</th>\n",
       "      <td>rs1692585</td>\n",
       "      <td>1:2172919_T_C</td>\n",
       "      <td>T</td>\n",
       "      <td>1.247089</td>\n",
       "      <td>0.670771</td>\n",
       "      <td>T</td>\n",
       "    </tr>\n",
       "    <tr>\n",
       "      <th>1:14612626_T_C</th>\n",
       "      <td>rs76282923</td>\n",
       "      <td>1:14612626_T_C</td>\n",
       "      <td>T</td>\n",
       "      <td>1.901087</td>\n",
       "      <td>0.306297</td>\n",
       "      <td>T</td>\n",
       "    </tr>\n",
       "    <tr>\n",
       "      <th>1:14615321_T_C</th>\n",
       "      <td>rs142707962</td>\n",
       "      <td>1:14615321_T_C</td>\n",
       "      <td>T</td>\n",
       "      <td>1.901117</td>\n",
       "      <td>0.306254</td>\n",
       "      <td>T</td>\n",
       "    </tr>\n",
       "    <tr>\n",
       "      <th>1:14620817_G_C</th>\n",
       "      <td>rs74590598</td>\n",
       "      <td>1:14620817_G_C</td>\n",
       "      <td>G</td>\n",
       "      <td>1.901464</td>\n",
       "      <td>0.305765</td>\n",
       "      <td>G</td>\n",
       "    </tr>\n",
       "    <tr>\n",
       "      <th>...</th>\n",
       "      <td>...</td>\n",
       "      <td>...</td>\n",
       "      <td>...</td>\n",
       "      <td>...</td>\n",
       "      <td>...</td>\n",
       "      <td>...</td>\n",
       "    </tr>\n",
       "    <tr>\n",
       "      <th>9:136150484_A_G</th>\n",
       "      <td>rs559723</td>\n",
       "      <td>9:136150484_A_G</td>\n",
       "      <td>A</td>\n",
       "      <td>0.974722</td>\n",
       "      <td>0.703103</td>\n",
       "      <td>G</td>\n",
       "    </tr>\n",
       "    <tr>\n",
       "      <th>9:136151806_T_C</th>\n",
       "      <td>rs600038</td>\n",
       "      <td>9:136151806_T_C</td>\n",
       "      <td>T</td>\n",
       "      <td>1.573194</td>\n",
       "      <td>0.577394</td>\n",
       "      <td>T</td>\n",
       "    </tr>\n",
       "    <tr>\n",
       "      <th>9:136153981_C_T</th>\n",
       "      <td>rs11244061</td>\n",
       "      <td>9:136153981_C_T</td>\n",
       "      <td>C</td>\n",
       "      <td>1.769694</td>\n",
       "      <td>0.451291</td>\n",
       "      <td>C</td>\n",
       "    </tr>\n",
       "    <tr>\n",
       "      <th>9:136154304_C_T</th>\n",
       "      <td>rs649129</td>\n",
       "      <td>9:136154304_C_T</td>\n",
       "      <td>C</td>\n",
       "      <td>1.573252</td>\n",
       "      <td>0.577947</td>\n",
       "      <td>C</td>\n",
       "    </tr>\n",
       "    <tr>\n",
       "      <th>9:136267149_C_T</th>\n",
       "      <td>rs17474001</td>\n",
       "      <td>9:136267149_C_T</td>\n",
       "      <td>C</td>\n",
       "      <td>1.727162</td>\n",
       "      <td>0.478773</td>\n",
       "      <td>C</td>\n",
       "    </tr>\n",
       "  </tbody>\n",
       "</table>\n",
       "<p>7469 rows × 6 columns</p>\n",
       "</div>"
      ],
      "text/plain": [
       "                      UKB_ID           MGB_ID EXPECTED_ALLELE      MEAN  \\\n",
       "INDEX                                                                     \n",
       "1:2172917_T_C      rs1692584    1:2172917_T_C               T  1.234933   \n",
       "1:2172919_T_C      rs1692585    1:2172919_T_C               T  1.247089   \n",
       "1:14612626_T_C    rs76282923   1:14612626_T_C               T  1.901087   \n",
       "1:14615321_T_C   rs142707962   1:14615321_T_C               T  1.901117   \n",
       "1:14620817_G_C    rs74590598   1:14620817_G_C               G  1.901464   \n",
       "...                      ...              ...             ...       ...   \n",
       "9:136150484_A_G     rs559723  9:136150484_A_G               A  0.974722   \n",
       "9:136151806_T_C     rs600038  9:136151806_T_C               T  1.573194   \n",
       "9:136153981_C_T   rs11244061  9:136153981_C_T               C  1.769694   \n",
       "9:136154304_C_T     rs649129  9:136154304_C_T               C  1.573252   \n",
       "9:136267149_C_T   rs17474001  9:136267149_C_T               C  1.727162   \n",
       "\n",
       "                      STD ACTUAL_ALLELE  \n",
       "INDEX                                    \n",
       "1:2172917_T_C    0.677531             T  \n",
       "1:2172919_T_C    0.670771             T  \n",
       "1:14612626_T_C   0.306297             T  \n",
       "1:14615321_T_C   0.306254             T  \n",
       "1:14620817_G_C   0.305765             G  \n",
       "...                   ...           ...  \n",
       "9:136150484_A_G  0.703103             G  \n",
       "9:136151806_T_C  0.577394             T  \n",
       "9:136153981_C_T  0.451291             C  \n",
       "9:136154304_C_T  0.577947             C  \n",
       "9:136267149_C_T  0.478773             C  \n",
       "\n",
       "[7469 rows x 6 columns]"
      ]
     },
     "execution_count": 612,
     "metadata": {},
     "output_type": "execute_result"
    }
   ],
   "source": [
    "merged_summary"
   ]
  },
  {
   "cell_type": "code",
   "execution_count": 614,
   "id": "3c120dce-3666-48a9-a100-918bfc088341",
   "metadata": {
    "execution": {
     "iopub.execute_input": "2021-09-29T18:49:42.508786Z",
     "iopub.status.busy": "2021-09-29T18:49:42.508503Z",
     "iopub.status.idle": "2021-09-29T18:49:43.074331Z",
     "shell.execute_reply": "2021-09-29T18:49:43.073505Z",
     "shell.execute_reply.started": "2021-09-29T18:49:42.508755Z"
    },
    "tags": []
   },
   "outputs": [
    {
     "data": {
      "text/html": [
       "<div>\n",
       "<style scoped>\n",
       "    .dataframe tbody tr th:only-of-type {\n",
       "        vertical-align: middle;\n",
       "    }\n",
       "\n",
       "    .dataframe tbody tr th {\n",
       "        vertical-align: top;\n",
       "    }\n",
       "\n",
       "    .dataframe thead th {\n",
       "        text-align: right;\n",
       "    }\n",
       "</style>\n",
       "<table border=\"1\" class=\"dataframe\">\n",
       "  <thead>\n",
       "    <tr style=\"text-align: right;\">\n",
       "      <th>IID</th>\n",
       "      <th>MGB00001</th>\n",
       "      <th>MGB00002</th>\n",
       "      <th>MGB00003</th>\n",
       "      <th>MGB00004</th>\n",
       "      <th>MGB00005</th>\n",
       "      <th>MGB00006</th>\n",
       "      <th>MGB00007</th>\n",
       "      <th>MGB00008</th>\n",
       "      <th>MGB00009</th>\n",
       "      <th>MGB00010</th>\n",
       "    </tr>\n",
       "  </thead>\n",
       "  <tbody>\n",
       "    <tr>\n",
       "      <th>8:106256501_C_A</th>\n",
       "      <td>-0.626586</td>\n",
       "      <td>-0.626586</td>\n",
       "      <td>-0.626586</td>\n",
       "      <td>-0.626586</td>\n",
       "      <td>-0.626586</td>\n",
       "      <td>-0.626586</td>\n",
       "      <td>-0.626586</td>\n",
       "      <td>-0.626586</td>\n",
       "      <td>-0.626586</td>\n",
       "      <td>-0.626586</td>\n",
       "    </tr>\n",
       "    <tr>\n",
       "      <th>8:106256501_C_A</th>\n",
       "      <td>0.000000</td>\n",
       "      <td>0.000000</td>\n",
       "      <td>0.000000</td>\n",
       "      <td>0.000000</td>\n",
       "      <td>0.000000</td>\n",
       "      <td>0.000000</td>\n",
       "      <td>0.000000</td>\n",
       "      <td>0.000000</td>\n",
       "      <td>0.000000</td>\n",
       "      <td>0.000000</td>\n",
       "    </tr>\n",
       "  </tbody>\n",
       "</table>\n",
       "</div>"
      ],
      "text/plain": [
       "IID              MGB00001  MGB00002  MGB00003  MGB00004  MGB00005  MGB00006  \\\n",
       "8:106256501_C_A -0.626586 -0.626586 -0.626586 -0.626586 -0.626586 -0.626586   \n",
       "8:106256501_C_A  0.000000  0.000000  0.000000  0.000000  0.000000  0.000000   \n",
       "\n",
       "IID              MGB00007  MGB00008  MGB00009  MGB00010  \n",
       "8:106256501_C_A -0.626586 -0.626586 -0.626586 -0.626586  \n",
       "8:106256501_C_A  0.000000  0.000000  0.000000  0.000000  "
      ]
     },
     "execution_count": 614,
     "metadata": {},
     "output_type": "execute_result"
    }
   ],
   "source": [
    "zraw[zraw.index.str.contains(\"8:106256501_C_A\")]"
   ]
  },
  {
   "cell_type": "code",
   "execution_count": 687,
   "id": "c4f4a099-4caf-4715-8eed-4e3f92fc2f87",
   "metadata": {
    "execution": {
     "iopub.execute_input": "2021-09-29T21:41:55.119743Z",
     "iopub.status.busy": "2021-09-29T21:41:55.119453Z",
     "iopub.status.idle": "2021-09-29T21:41:55.573192Z",
     "shell.execute_reply": "2021-09-29T21:41:55.572376Z",
     "shell.execute_reply.started": "2021-09-29T21:41:55.119711Z"
    },
    "tags": []
   },
   "outputs": [
    {
     "data": {
      "text/plain": [
       "True"
      ]
     },
     "execution_count": 687,
     "metadata": {},
     "output_type": "execute_result"
    }
   ],
   "source": [
    "(zraw[\"MGB00002\"] == zraw[\"MGB00004\"]).all()"
   ]
  },
  {
   "cell_type": "code",
   "execution_count": 678,
   "id": "fac4e8ff-1618-4524-92d5-925572660345",
   "metadata": {
    "execution": {
     "iopub.execute_input": "2021-09-29T21:39:07.981534Z",
     "iopub.status.busy": "2021-09-29T21:39:07.981239Z",
     "iopub.status.idle": "2021-09-29T21:39:08.350516Z",
     "shell.execute_reply": "2021-09-29T21:39:08.349760Z",
     "shell.execute_reply.started": "2021-09-29T21:39:07.981501Z"
    }
   },
   "outputs": [
    {
     "data": {
      "text/html": [
       "<div>\n",
       "<style scoped>\n",
       "    .dataframe tbody tr th:only-of-type {\n",
       "        vertical-align: middle;\n",
       "    }\n",
       "\n",
       "    .dataframe tbody tr th {\n",
       "        vertical-align: top;\n",
       "    }\n",
       "\n",
       "    .dataframe thead th {\n",
       "        text-align: right;\n",
       "    }\n",
       "</style>\n",
       "<table border=\"1\" class=\"dataframe\">\n",
       "  <thead>\n",
       "    <tr style=\"text-align: right;\">\n",
       "      <th>IID</th>\n",
       "      <th>MGB00001</th>\n",
       "      <th>MGB00002</th>\n",
       "      <th>MGB00003</th>\n",
       "      <th>MGB00004</th>\n",
       "      <th>MGB00005</th>\n",
       "      <th>MGB00006</th>\n",
       "      <th>MGB00007</th>\n",
       "      <th>MGB00008</th>\n",
       "      <th>MGB00009</th>\n",
       "      <th>MGB00010</th>\n",
       "    </tr>\n",
       "  </thead>\n",
       "  <tbody>\n",
       "    <tr>\n",
       "      <th>1:2172917_T_C</th>\n",
       "      <td>-0.346748</td>\n",
       "      <td>-0.346748</td>\n",
       "      <td>-0.346748</td>\n",
       "      <td>-0.346748</td>\n",
       "      <td>-0.346748</td>\n",
       "      <td>-0.346748</td>\n",
       "      <td>-0.346748</td>\n",
       "      <td>-0.346748</td>\n",
       "      <td>-0.346748</td>\n",
       "      <td>-0.346748</td>\n",
       "    </tr>\n",
       "    <tr>\n",
       "      <th>1:2172919_T_C</th>\n",
       "      <td>-0.368366</td>\n",
       "      <td>-0.368366</td>\n",
       "      <td>-0.368366</td>\n",
       "      <td>-0.368366</td>\n",
       "      <td>-0.368366</td>\n",
       "      <td>-0.368366</td>\n",
       "      <td>-0.368366</td>\n",
       "      <td>-0.368366</td>\n",
       "      <td>-0.368366</td>\n",
       "      <td>-0.368366</td>\n",
       "    </tr>\n",
       "    <tr>\n",
       "      <th>1:14612626_T_C</th>\n",
       "      <td>-2.941869</td>\n",
       "      <td>-2.941869</td>\n",
       "      <td>-2.941869</td>\n",
       "      <td>-2.941869</td>\n",
       "      <td>-2.941869</td>\n",
       "      <td>-2.941869</td>\n",
       "      <td>-2.941869</td>\n",
       "      <td>-2.941869</td>\n",
       "      <td>-2.941869</td>\n",
       "      <td>-2.941869</td>\n",
       "    </tr>\n",
       "    <tr>\n",
       "      <th>1:14615321_T_C</th>\n",
       "      <td>-2.942387</td>\n",
       "      <td>-2.942387</td>\n",
       "      <td>-2.942387</td>\n",
       "      <td>-2.942387</td>\n",
       "      <td>-2.942387</td>\n",
       "      <td>-2.942387</td>\n",
       "      <td>-2.942387</td>\n",
       "      <td>-2.942387</td>\n",
       "      <td>-2.942387</td>\n",
       "      <td>-2.942387</td>\n",
       "    </tr>\n",
       "    <tr>\n",
       "      <th>1:14620817_G_C</th>\n",
       "      <td>-2.948226</td>\n",
       "      <td>-2.948226</td>\n",
       "      <td>-2.948226</td>\n",
       "      <td>-2.948226</td>\n",
       "      <td>-2.948226</td>\n",
       "      <td>-2.948226</td>\n",
       "      <td>-2.948226</td>\n",
       "      <td>-2.948226</td>\n",
       "      <td>-2.948226</td>\n",
       "      <td>-2.948226</td>\n",
       "    </tr>\n",
       "    <tr>\n",
       "      <th>...</th>\n",
       "      <td>...</td>\n",
       "      <td>...</td>\n",
       "      <td>...</td>\n",
       "      <td>...</td>\n",
       "      <td>...</td>\n",
       "      <td>...</td>\n",
       "      <td>...</td>\n",
       "      <td>...</td>\n",
       "      <td>...</td>\n",
       "      <td>...</td>\n",
       "    </tr>\n",
       "    <tr>\n",
       "      <th>9:136150484_A_G</th>\n",
       "      <td>0.035952</td>\n",
       "      <td>0.035952</td>\n",
       "      <td>0.035952</td>\n",
       "      <td>0.035952</td>\n",
       "      <td>0.035952</td>\n",
       "      <td>0.035952</td>\n",
       "      <td>0.035952</td>\n",
       "      <td>0.035952</td>\n",
       "      <td>0.035952</td>\n",
       "      <td>0.035952</td>\n",
       "    </tr>\n",
       "    <tr>\n",
       "      <th>9:136151806_T_C</th>\n",
       "      <td>-0.992726</td>\n",
       "      <td>-0.992726</td>\n",
       "      <td>-0.992726</td>\n",
       "      <td>-0.992726</td>\n",
       "      <td>-0.992726</td>\n",
       "      <td>-0.992726</td>\n",
       "      <td>-0.992726</td>\n",
       "      <td>-0.992726</td>\n",
       "      <td>-0.992726</td>\n",
       "      <td>-0.992726</td>\n",
       "    </tr>\n",
       "    <tr>\n",
       "      <th>9:136153981_C_T</th>\n",
       "      <td>-1.705538</td>\n",
       "      <td>-1.705538</td>\n",
       "      <td>-1.705538</td>\n",
       "      <td>-1.705538</td>\n",
       "      <td>-1.705538</td>\n",
       "      <td>-1.705538</td>\n",
       "      <td>-1.705538</td>\n",
       "      <td>-1.705538</td>\n",
       "      <td>-1.705538</td>\n",
       "      <td>-1.705538</td>\n",
       "    </tr>\n",
       "    <tr>\n",
       "      <th>9:136154304_C_T</th>\n",
       "      <td>-0.991877</td>\n",
       "      <td>-0.991877</td>\n",
       "      <td>-0.991877</td>\n",
       "      <td>-0.991877</td>\n",
       "      <td>-0.991877</td>\n",
       "      <td>-0.991877</td>\n",
       "      <td>-0.991877</td>\n",
       "      <td>-0.991877</td>\n",
       "      <td>-0.991877</td>\n",
       "      <td>-0.991877</td>\n",
       "    </tr>\n",
       "    <tr>\n",
       "      <th>9:136267149_C_T</th>\n",
       "      <td>-1.518801</td>\n",
       "      <td>-1.518801</td>\n",
       "      <td>-1.518801</td>\n",
       "      <td>-1.518801</td>\n",
       "      <td>-1.518801</td>\n",
       "      <td>-1.518801</td>\n",
       "      <td>-1.518801</td>\n",
       "      <td>-1.518801</td>\n",
       "      <td>-1.518801</td>\n",
       "      <td>-1.518801</td>\n",
       "    </tr>\n",
       "  </tbody>\n",
       "</table>\n",
       "<p>7469 rows × 10 columns</p>\n",
       "</div>"
      ],
      "text/plain": [
       "IID              MGB00001  MGB00002  MGB00003  MGB00004  MGB00005  MGB00006  \\\n",
       "1:2172917_T_C   -0.346748 -0.346748 -0.346748 -0.346748 -0.346748 -0.346748   \n",
       "1:2172919_T_C   -0.368366 -0.368366 -0.368366 -0.368366 -0.368366 -0.368366   \n",
       "1:14612626_T_C  -2.941869 -2.941869 -2.941869 -2.941869 -2.941869 -2.941869   \n",
       "1:14615321_T_C  -2.942387 -2.942387 -2.942387 -2.942387 -2.942387 -2.942387   \n",
       "1:14620817_G_C  -2.948226 -2.948226 -2.948226 -2.948226 -2.948226 -2.948226   \n",
       "...                   ...       ...       ...       ...       ...       ...   \n",
       "9:136150484_A_G  0.035952  0.035952  0.035952  0.035952  0.035952  0.035952   \n",
       "9:136151806_T_C -0.992726 -0.992726 -0.992726 -0.992726 -0.992726 -0.992726   \n",
       "9:136153981_C_T -1.705538 -1.705538 -1.705538 -1.705538 -1.705538 -1.705538   \n",
       "9:136154304_C_T -0.991877 -0.991877 -0.991877 -0.991877 -0.991877 -0.991877   \n",
       "9:136267149_C_T -1.518801 -1.518801 -1.518801 -1.518801 -1.518801 -1.518801   \n",
       "\n",
       "IID              MGB00007  MGB00008  MGB00009  MGB00010  \n",
       "1:2172917_T_C   -0.346748 -0.346748 -0.346748 -0.346748  \n",
       "1:2172919_T_C   -0.368366 -0.368366 -0.368366 -0.368366  \n",
       "1:14612626_T_C  -2.941869 -2.941869 -2.941869 -2.941869  \n",
       "1:14615321_T_C  -2.942387 -2.942387 -2.942387 -2.942387  \n",
       "1:14620817_G_C  -2.948226 -2.948226 -2.948226 -2.948226  \n",
       "...                   ...       ...       ...       ...  \n",
       "9:136150484_A_G  0.035952  0.035952  0.035952  0.035952  \n",
       "9:136151806_T_C -0.992726 -0.992726 -0.992726 -0.992726  \n",
       "9:136153981_C_T -1.705538 -1.705538 -1.705538 -1.705538  \n",
       "9:136154304_C_T -0.991877 -0.991877 -0.991877 -0.991877  \n",
       "9:136267149_C_T -1.518801 -1.518801 -1.518801 -1.518801  \n",
       "\n",
       "[7469 rows x 10 columns]"
      ]
     },
     "execution_count": 678,
     "metadata": {},
     "output_type": "execute_result"
    }
   ],
   "source": [
    "zraw"
   ]
  },
  {
   "cell_type": "markdown",
   "id": "ed7ffd88-94c2-45f2-ad87-9f255e8073ff",
   "metadata": {},
   "source": [
    "# References"
   ]
  }
 ],
 "metadata": {
  "kernelspec": {
   "display_name": "Python3 ml_env",
   "language": "python",
   "name": "ml_env"
  },
  "language_info": {
   "codemirror_mode": {
    "name": "ipython",
    "version": 3
   },
   "file_extension": ".py",
   "mimetype": "text/x-python",
   "name": "python",
   "nbconvert_exporter": "python",
   "pygments_lexer": "ipython3",
   "version": "3.8.8"
  }
 },
 "nbformat": 4,
 "nbformat_minor": 5
}
