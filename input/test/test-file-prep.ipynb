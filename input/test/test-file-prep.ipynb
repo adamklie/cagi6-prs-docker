{
 "cells": [
  {
   "cell_type": "markdown",
   "id": "90a88efe-ebb3-424c-8704-fb4ee189af2c",
   "metadata": {},
   "source": [
    "# Notebook Title"
   ]
  },
  {
   "cell_type": "markdown",
   "id": "2d058003-a667-4b45-9ddc-e47efe48e0e1",
   "metadata": {
    "tags": []
   },
   "source": [
    "**Authorship:**\n",
    "Author, *MM/DD/YYYY*\n",
    "***\n",
    "**Description:**\n",
    "Notebook to do some cool stuff\n",
    "***\n",
    "**TODOs:**\n",
    " - <font color='green'> Done TODO </font>\n",
    " - <font color='orange'> WIP TODO </font>\n",
    " - <font color='red'> Queued TODO </font>\n",
    "***"
   ]
  },
  {
   "cell_type": "markdown",
   "id": "a2a2c4a5-1dac-4dce-8e87-cb83f07de4c3",
   "metadata": {
    "execution": {
     "iopub.execute_input": "2021-09-05T21:21:18.602440Z",
     "iopub.status.busy": "2021-09-05T21:21:18.602151Z",
     "iopub.status.idle": "2021-09-05T21:21:18.606439Z",
     "shell.execute_reply": "2021-09-05T21:21:18.605256Z",
     "shell.execute_reply.started": "2021-09-05T21:21:18.602409Z"
    },
    "tags": []
   },
   "source": [
    "## Set-up"
   ]
  },
  {
   "cell_type": "code",
   "execution_count": 36,
   "id": "3ebaff6f",
   "metadata": {
    "execution": {
     "iopub.execute_input": "2021-09-28T18:09:45.008897Z",
     "iopub.status.busy": "2021-09-28T18:09:45.008563Z",
     "iopub.status.idle": "2021-09-28T18:09:45.454989Z",
     "shell.execute_reply": "2021-09-28T18:09:45.454190Z",
     "shell.execute_reply.started": "2021-09-28T18:09:45.008800Z"
    },
    "tags": []
   },
   "outputs": [],
   "source": [
    "# The classics\n",
    "import numpy as np\n",
    "import pandas as pd\n",
    "\n",
    "# Other guys\n",
    "import tqdm\n",
    "from pyarrow import feather\n",
    "\n",
    "# Autoreload extension\n",
    "if 'autoreload' not in get_ipython().extension_manager.loaded:\n",
    "    %load_ext autoreload\n",
    "%autoreload 2"
   ]
  },
  {
   "cell_type": "markdown",
   "id": "a2a79647-12fd-4dab-8674-23bb743565c0",
   "metadata": {
    "tags": []
   },
   "source": [
    "## Part 0 - Make dummy files for testing"
   ]
  },
  {
   "cell_type": "markdown",
   "id": "284ab16d-24ad-40a0-9c1b-673b41dc0d4d",
   "metadata": {
    "tags": [],
    "toc-hr-collapsed": true
   },
   "source": [
    "### Part 0a - Build a dummy bed file from given bim and fam"
   ]
  },
  {
   "cell_type": "code",
   "execution_count": 2,
   "id": "0a62d1a9-cdc5-4287-a87f-1da06ba9eb6d",
   "metadata": {
    "execution": {
     "iopub.execute_input": "2021-09-27T21:02:18.139777Z",
     "iopub.status.busy": "2021-09-27T21:02:18.139556Z",
     "iopub.status.idle": "2021-09-27T21:02:20.215098Z",
     "shell.execute_reply": "2021-09-27T21:02:20.214303Z",
     "shell.execute_reply.started": "2021-09-27T21:02:18.139748Z"
    },
    "tags": []
   },
   "outputs": [],
   "source": [
    "bim = pd.read_csv(\"../val/MGB.bim\", sep=\"\\t\", header=None)"
   ]
  },
  {
   "cell_type": "code",
   "execution_count": 3,
   "id": "7e01518b-535b-4312-b2d2-fcd150e5d99a",
   "metadata": {
    "execution": {
     "iopub.execute_input": "2021-09-27T21:02:20.217060Z",
     "iopub.status.busy": "2021-09-27T21:02:20.216710Z",
     "iopub.status.idle": "2021-09-27T21:02:20.613142Z",
     "shell.execute_reply": "2021-09-27T21:02:20.612321Z",
     "shell.execute_reply.started": "2021-09-27T21:02:20.217014Z"
    },
    "tags": []
   },
   "outputs": [],
   "source": [
    "fam = pd.read_csv(\"../val/MGB.fam\", delim_whitespace=True, header=None)"
   ]
  },
  {
   "cell_type": "markdown",
   "id": "e6c8eae1-db70-41a7-b34e-ac28d0674279",
   "metadata": {
    "tags": [],
    "toc-hr-collapsed": true
   },
   "source": [
    "#### 100 x 1000"
   ]
  },
  {
   "cell_type": "markdown",
   "id": "dedfefea-a4f3-440b-bbc6-84a6dcdc7bbf",
   "metadata": {
    "tags": [],
    "toc-hr-collapsed": true
   },
   "source": [
    "##### PED"
   ]
  },
  {
   "cell_type": "code",
   "execution_count": 96,
   "id": "1795e81c-413e-4a4d-b29f-95fa60ae5ae7",
   "metadata": {
    "execution": {
     "iopub.execute_input": "2021-09-24T17:58:27.498505Z",
     "iopub.status.busy": "2021-09-24T17:58:27.498300Z",
     "iopub.status.idle": "2021-09-24T17:58:34.390483Z",
     "shell.execute_reply": "2021-09-24T17:58:34.389512Z",
     "shell.execute_reply.started": "2021-09-24T17:58:27.498478Z"
    },
    "tags": []
   },
   "outputs": [
    {
     "name": "stderr",
     "output_type": "stream",
     "text": [
      "100it [00:06, 15.61it/s]\n"
     ]
    }
   ],
   "source": [
    "# Run this to generate a 100 individual by 1000 SNP simulated test set\n",
    "ped = []\n",
    "for i, (row, ind) in tqdm.tqdm(enumerate(fam.iloc[:100, :].iterrows())):\n",
    "    rand_genotype = np.concatenate(\n",
    "        np.stack(bim.iloc[:1000, :][[4, 5]].apply(np.random.choice, size=2, axis=1))\n",
    "    )\n",
    "    ped.append((list(ind.values) + list(rand_genotype)))\n",
    "ped = np.array(ped)"
   ]
  },
  {
   "cell_type": "code",
   "execution_count": 97,
   "id": "9ba1e461-39f9-4e3a-9cef-685b5f2cd887",
   "metadata": {
    "execution": {
     "iopub.execute_input": "2021-09-24T17:58:34.392729Z",
     "iopub.status.busy": "2021-09-24T17:58:34.392400Z",
     "iopub.status.idle": "2021-09-24T17:58:35.034260Z",
     "shell.execute_reply": "2021-09-24T17:58:35.033661Z",
     "shell.execute_reply.started": "2021-09-24T17:58:34.392687Z"
    },
    "tags": []
   },
   "outputs": [],
   "source": [
    "ped[:, 5] = np.random.choice([1, 2], size=100)"
   ]
  },
  {
   "cell_type": "code",
   "execution_count": 98,
   "id": "9064a756-431e-4ca4-a7a9-2de30ae8ea3d",
   "metadata": {
    "execution": {
     "iopub.execute_input": "2021-09-24T17:58:35.572791Z",
     "iopub.status.busy": "2021-09-24T17:58:35.572505Z",
     "iopub.status.idle": "2021-09-24T17:58:36.058306Z",
     "shell.execute_reply": "2021-09-24T17:58:36.057689Z",
     "shell.execute_reply.started": "2021-09-24T17:58:35.572754Z"
    },
    "tags": []
   },
   "outputs": [],
   "source": [
    "np.savetxt(\"MGB_100_1000/MGB_100_1000.ped\", ped, delimiter=\" \", fmt=\"%s\")"
   ]
  },
  {
   "cell_type": "markdown",
   "id": "f5a7155c-fc3d-45a0-ba23-5a7b679f1224",
   "metadata": {
    "tags": [],
    "toc-hr-collapsed": true
   },
   "source": [
    "##### BIM"
   ]
  },
  {
   "cell_type": "code",
   "execution_count": 99,
   "id": "a8b6e6d6-94da-4e7f-8676-74cfcc82c912",
   "metadata": {
    "execution": {
     "iopub.execute_input": "2021-09-24T17:58:36.059446Z",
     "iopub.status.busy": "2021-09-24T17:58:36.059268Z",
     "iopub.status.idle": "2021-09-24T17:58:36.723818Z",
     "shell.execute_reply": "2021-09-24T17:58:36.723118Z",
     "shell.execute_reply.started": "2021-09-24T17:58:36.059422Z"
    },
    "tags": []
   },
   "outputs": [],
   "source": [
    "bim[[0, 1, 2, 3]].iloc[:1000, :].to_csv(\n",
    "    \"MGB_100_1000/MGB_100_1000.map\", sep=\"\\t\", header=None, index=False\n",
    ")"
   ]
  },
  {
   "cell_type": "markdown",
   "id": "cbc3164b-acd8-4ab8-b0c0-5c6693e8a992",
   "metadata": {
    "tags": []
   },
   "source": [
    "#### 100 x All SNPs"
   ]
  },
  {
   "cell_type": "markdown",
   "id": "e2261536-92db-4f74-9057-8527204f7044",
   "metadata": {
    "tags": [],
    "toc-hr-collapsed": true
   },
   "source": [
    "##### PED"
   ]
  },
  {
   "cell_type": "code",
   "execution_count": 4,
   "id": "5cf270df-a754-4af2-b829-b4b731bbf3cb",
   "metadata": {
    "execution": {
     "iopub.execute_input": "2021-09-27T21:02:36.030190Z",
     "iopub.status.busy": "2021-09-27T21:02:36.029923Z",
     "iopub.status.idle": "2021-09-27T21:02:37.220464Z",
     "shell.execute_reply": "2021-09-27T21:02:37.219516Z",
     "shell.execute_reply.started": "2021-09-27T21:02:36.030160Z"
    },
    "tags": []
   },
   "outputs": [
    {
     "data": {
      "text/plain": [
       "((10, 6), (10, 3407714), (10, 3407720))"
      ]
     },
     "execution_count": 4,
     "metadata": {},
     "output_type": "execute_result"
    }
   ],
   "source": [
    "fam.values[:10].shape, np.tile(bim[[4, 5]].values.flatten(), (10, 1)).shape, np.concatenate([fam.values[:10], np.tile(bim[[4, 5]].values.flatten(), (10, 1))], axis=1).shape"
   ]
  },
  {
   "cell_type": "code",
   "execution_count": 5,
   "id": "268e8365-e1dd-48f3-bd35-32b0d05698cc",
   "metadata": {
    "execution": {
     "iopub.execute_input": "2021-09-27T21:02:37.223592Z",
     "iopub.status.busy": "2021-09-27T21:02:37.223232Z",
     "iopub.status.idle": "2021-09-27T21:02:37.508257Z",
     "shell.execute_reply": "2021-09-27T21:02:37.507413Z",
     "shell.execute_reply.started": "2021-09-27T21:02:37.223541Z"
    },
    "tags": []
   },
   "outputs": [],
   "source": [
    "sample_fam = fam.values[:10]"
   ]
  },
  {
   "cell_type": "code",
   "execution_count": 31,
   "id": "23b82e82-e9ac-43e9-b575-ad991b433a06",
   "metadata": {
    "execution": {
     "iopub.execute_input": "2021-09-24T05:46:59.548638Z",
     "iopub.status.busy": "2021-09-24T05:46:59.548325Z",
     "iopub.status.idle": "2021-09-24T05:46:59.975157Z",
     "shell.execute_reply": "2021-09-24T05:46:59.974222Z",
     "shell.execute_reply.started": "2021-09-24T05:46:59.548602Z"
    },
    "tags": []
   },
   "outputs": [],
   "source": [
    "sample_fam[:, 5] = np.random.choice([1, 2], size=10)"
   ]
  },
  {
   "cell_type": "code",
   "execution_count": 33,
   "id": "9034b9ff-b5ea-47d8-a978-d253a8a4997c",
   "metadata": {
    "execution": {
     "iopub.execute_input": "2021-09-24T05:47:14.271558Z",
     "iopub.status.busy": "2021-09-24T05:47:14.271263Z",
     "iopub.status.idle": "2021-09-24T05:47:16.752577Z",
     "shell.execute_reply": "2021-09-24T05:47:16.751897Z",
     "shell.execute_reply.started": "2021-09-24T05:47:14.271526Z"
    },
    "tags": []
   },
   "outputs": [],
   "source": [
    "np.savetxt(\"MGB_10_all/MGB_10_all.ped\", \n",
    "           np.concatenate([sample_fam, np.tile(bim[[4, 5]].values.flatten(), (10, 1))], axis=1),\n",
    "           fmt=\"%s\")"
   ]
  },
  {
   "cell_type": "markdown",
   "id": "8b0baf62-63de-4c67-8aaf-f03c20fa89ec",
   "metadata": {
    "tags": [],
    "toc-hr-collapsed": true
   },
   "source": [
    "##### MAP"
   ]
  },
  {
   "cell_type": "code",
   "execution_count": 25,
   "id": "15a9e077-94ca-46fb-b933-71e6acdfbe8b",
   "metadata": {
    "execution": {
     "iopub.execute_input": "2021-09-24T05:45:00.447054Z",
     "iopub.status.busy": "2021-09-24T05:45:00.446723Z",
     "iopub.status.idle": "2021-09-24T05:45:03.528462Z",
     "shell.execute_reply": "2021-09-24T05:45:03.527599Z",
     "shell.execute_reply.started": "2021-09-24T05:45:00.447018Z"
    }
   },
   "outputs": [],
   "source": [
    "bim[[0, 1, 2, 3]].to_csv(\n",
    "    \"MGB_10_all/MGB_10_all.map\", sep=\"\\t\", header=None, index=False\n",
    ")"
   ]
  },
  {
   "cell_type": "markdown",
   "id": "15573fbc-28c2-487d-9468-69833e757304",
   "metadata": {
    "tags": [],
    "toc-hr-collapsed": true
   },
   "source": [
    "#### Full set"
   ]
  },
  {
   "cell_type": "code",
   "execution_count": 20,
   "id": "5807ad02-ac4d-4436-aac6-577391a9e6e1",
   "metadata": {
    "execution": {
     "iopub.execute_input": "2021-09-24T05:36:37.272380Z",
     "iopub.status.busy": "2021-09-24T05:36:37.272031Z",
     "iopub.status.idle": "2021-09-24T05:37:57.852915Z",
     "shell.execute_reply": "2021-09-24T05:37:57.852036Z",
     "shell.execute_reply.started": "2021-09-24T05:36:37.272345Z"
    },
    "tags": []
   },
   "outputs": [
    {
     "name": "stdout",
     "output_type": "stream",
     "text": [
      "0 100\n",
      "100 200\n",
      "200 300\n",
      "300 400\n"
     ]
    }
   ],
   "source": [
    "num = 100\n",
    "for i in range(int(len(fam)/num)+1):\n",
    "    start = num*i\n",
    "    end = num*(i+1)\n",
    "    if end > len(fam):\n",
    "        end = len(fam)\n",
    "    print(start, end)\n",
    "    np.savetxt(\"full/MGB_{}_{}.ped\".format(start, end), np.concatenate([fam.values[start:end], np.tile(bim[[4, 5]].values.flatten(), (num, 1))], axis=1), fmt=\"%s\")\n",
    "    if i == 3:\n",
    "        break"
   ]
  },
  {
   "cell_type": "markdown",
   "id": "cce906e4-e831-4036-ad90-abc732c7e0fc",
   "metadata": {
    "tags": []
   },
   "source": [
    "### Part 0b - Make a dummy covariates.tsv file"
   ]
  },
  {
   "cell_type": "markdown",
   "id": "238b6422-9dd2-4cee-a8b6-a1cb2e9e7708",
   "metadata": {},
   "source": [
    "1. We will have the “AGE\" and ten PCs (PC1, PC2, .., PC10) in a separate covariate file. The file name is “MGB.covariates.txt\". It is a space-delimited plain text file similar to plink covariate files. The first two columns are FID and IID from the MGB.fam file. The sample order can be different between MGB.fam and MGB-covariates.txt. "
   ]
  },
  {
   "cell_type": "code",
   "execution_count": 58,
   "id": "cf35ff90-a1b6-4319-b4d3-7ba5468f6fdd",
   "metadata": {
    "execution": {
     "iopub.execute_input": "2021-09-28T18:25:09.391398Z",
     "iopub.status.busy": "2021-09-28T18:25:09.391145Z",
     "iopub.status.idle": "2021-09-28T18:25:09.833254Z",
     "shell.execute_reply": "2021-09-28T18:25:09.832444Z",
     "shell.execute_reply.started": "2021-09-28T18:25:09.391367Z"
    },
    "tags": []
   },
   "outputs": [],
   "source": [
    "pcs = np.random.normal(loc=0, scale=3, size=(10, 10))"
   ]
  },
  {
   "cell_type": "code",
   "execution_count": 59,
   "id": "c369dd8d-e4a6-498b-8cf0-a00aeb83ae20",
   "metadata": {
    "execution": {
     "iopub.execute_input": "2021-09-28T18:25:10.398224Z",
     "iopub.status.busy": "2021-09-28T18:25:10.397982Z",
     "iopub.status.idle": "2021-09-28T18:25:10.786306Z",
     "shell.execute_reply": "2021-09-28T18:25:10.785537Z",
     "shell.execute_reply.started": "2021-09-28T18:25:10.398187Z"
    },
    "tags": []
   },
   "outputs": [
    {
     "data": {
      "text/plain": [
       "((10, 10), (10, 2), (10, 1))"
      ]
     },
     "execution_count": 59,
     "metadata": {},
     "output_type": "execute_result"
    }
   ],
   "source": [
    "pcs.shape, sample_fam[:, :2].shape, ages.shape"
   ]
  },
  {
   "cell_type": "code",
   "execution_count": 60,
   "id": "4314afbd-f8f9-4df2-8788-c53f2c42bc2c",
   "metadata": {
    "execution": {
     "iopub.execute_input": "2021-09-28T18:25:11.125040Z",
     "iopub.status.busy": "2021-09-28T18:25:11.124798Z",
     "iopub.status.idle": "2021-09-28T18:25:11.496013Z",
     "shell.execute_reply": "2021-09-28T18:25:11.495177Z",
     "shell.execute_reply.started": "2021-09-28T18:25:11.125015Z"
    },
    "tags": []
   },
   "outputs": [],
   "source": [
    "ages = np.random.normal(loc=50, scale=10, size=(10, 1))"
   ]
  },
  {
   "cell_type": "code",
   "execution_count": 61,
   "id": "a0460dc3-9294-4924-8f98-26f8877ec19c",
   "metadata": {
    "execution": {
     "iopub.execute_input": "2021-09-28T18:25:12.085897Z",
     "iopub.status.busy": "2021-09-28T18:25:12.085683Z",
     "iopub.status.idle": "2021-09-28T18:25:12.447618Z",
     "shell.execute_reply": "2021-09-28T18:25:12.446929Z",
     "shell.execute_reply.started": "2021-09-28T18:25:12.085872Z"
    },
    "tags": []
   },
   "outputs": [],
   "source": [
    "sample_covar = np.concatenate([sample_fam[:, :2], ages, pcs], axis=1)"
   ]
  },
  {
   "cell_type": "code",
   "execution_count": 62,
   "id": "1e182e3e-1583-46ad-9db9-f745b49d48d4",
   "metadata": {
    "execution": {
     "iopub.execute_input": "2021-09-28T18:25:14.065999Z",
     "iopub.status.busy": "2021-09-28T18:25:14.065718Z",
     "iopub.status.idle": "2021-09-28T18:25:14.449968Z",
     "shell.execute_reply": "2021-09-28T18:25:14.448979Z",
     "shell.execute_reply.started": "2021-09-28T18:25:14.065967Z"
    },
    "tags": []
   },
   "outputs": [
    {
     "data": {
      "text/plain": [
       "array(['MGB00001', 'MGB00001', 66.66865714162273, 1.2622905687385135,\n",
       "       0.6632332986461236, -1.3031528057680857, 0.0012940779292404904,\n",
       "       5.708772427155591, -6.319302885969882, 0.45256534112375046,\n",
       "       0.28469001727733156, 3.002453648556721, -4.111321613459907],\n",
       "      dtype=object)"
      ]
     },
     "execution_count": 62,
     "metadata": {},
     "output_type": "execute_result"
    }
   ],
   "source": [
    "sample_covar[0]"
   ]
  },
  {
   "cell_type": "code",
   "execution_count": 63,
   "id": "89e4d6f2-98d4-426b-82cc-20379c3204a4",
   "metadata": {
    "execution": {
     "iopub.execute_input": "2021-09-28T18:25:17.464380Z",
     "iopub.status.busy": "2021-09-28T18:25:17.464117Z",
     "iopub.status.idle": "2021-09-28T18:25:17.842767Z",
     "shell.execute_reply": "2021-09-28T18:25:17.841734Z",
     "shell.execute_reply.started": "2021-09-28T18:25:17.464346Z"
    },
    "tags": []
   },
   "outputs": [],
   "source": [
    "sample_covar_df = pd.DataFrame(sample_covar)"
   ]
  },
  {
   "cell_type": "code",
   "execution_count": 64,
   "id": "292aec13-8080-4c2b-8249-75b4e768d4f3",
   "metadata": {
    "execution": {
     "iopub.execute_input": "2021-09-28T18:25:18.265351Z",
     "iopub.status.busy": "2021-09-28T18:25:18.265150Z",
     "iopub.status.idle": "2021-09-28T18:25:18.763839Z",
     "shell.execute_reply": "2021-09-28T18:25:18.762988Z",
     "shell.execute_reply.started": "2021-09-28T18:25:18.265326Z"
    },
    "tags": []
   },
   "outputs": [],
   "source": [
    "sample_covar_df.columns = [\"FID\", \"IID\", \"AGE\"] + [\"PC{}\".format(i+1) for i in range(10)]"
   ]
  },
  {
   "cell_type": "code",
   "execution_count": 65,
   "id": "fde63baf-3c54-4f23-8e6f-fa1e742d5339",
   "metadata": {
    "execution": {
     "iopub.execute_input": "2021-09-28T18:25:19.196458Z",
     "iopub.status.busy": "2021-09-28T18:25:19.196278Z",
     "iopub.status.idle": "2021-09-28T18:25:19.640527Z",
     "shell.execute_reply": "2021-09-28T18:25:19.639700Z",
     "shell.execute_reply.started": "2021-09-28T18:25:19.196434Z"
    },
    "tags": []
   },
   "outputs": [
    {
     "data": {
      "text/html": [
       "<div>\n",
       "<style scoped>\n",
       "    .dataframe tbody tr th:only-of-type {\n",
       "        vertical-align: middle;\n",
       "    }\n",
       "\n",
       "    .dataframe tbody tr th {\n",
       "        vertical-align: top;\n",
       "    }\n",
       "\n",
       "    .dataframe thead th {\n",
       "        text-align: right;\n",
       "    }\n",
       "</style>\n",
       "<table border=\"1\" class=\"dataframe\">\n",
       "  <thead>\n",
       "    <tr style=\"text-align: right;\">\n",
       "      <th></th>\n",
       "      <th>FID</th>\n",
       "      <th>IID</th>\n",
       "      <th>AGE</th>\n",
       "      <th>PC1</th>\n",
       "      <th>PC2</th>\n",
       "      <th>PC3</th>\n",
       "      <th>PC4</th>\n",
       "      <th>PC5</th>\n",
       "      <th>PC6</th>\n",
       "      <th>PC7</th>\n",
       "      <th>PC8</th>\n",
       "      <th>PC9</th>\n",
       "      <th>PC10</th>\n",
       "    </tr>\n",
       "  </thead>\n",
       "  <tbody>\n",
       "    <tr>\n",
       "      <th>0</th>\n",
       "      <td>MGB00001</td>\n",
       "      <td>MGB00001</td>\n",
       "      <td>66.668657</td>\n",
       "      <td>1.262291</td>\n",
       "      <td>0.663233</td>\n",
       "      <td>-1.303153</td>\n",
       "      <td>0.001294</td>\n",
       "      <td>5.708772</td>\n",
       "      <td>-6.319303</td>\n",
       "      <td>0.452565</td>\n",
       "      <td>0.28469</td>\n",
       "      <td>3.002454</td>\n",
       "      <td>-4.111322</td>\n",
       "    </tr>\n",
       "    <tr>\n",
       "      <th>1</th>\n",
       "      <td>MGB00002</td>\n",
       "      <td>MGB00002</td>\n",
       "      <td>53.190195</td>\n",
       "      <td>3.3063</td>\n",
       "      <td>-1.101641</td>\n",
       "      <td>1.97045</td>\n",
       "      <td>-0.872764</td>\n",
       "      <td>-3.840938</td>\n",
       "      <td>-0.671233</td>\n",
       "      <td>-0.165758</td>\n",
       "      <td>-0.421976</td>\n",
       "      <td>0.860991</td>\n",
       "      <td>-4.696233</td>\n",
       "    </tr>\n",
       "    <tr>\n",
       "      <th>2</th>\n",
       "      <td>MGB00003</td>\n",
       "      <td>MGB00003</td>\n",
       "      <td>38.929525</td>\n",
       "      <td>6.461285</td>\n",
       "      <td>-4.82919</td>\n",
       "      <td>0.6073</td>\n",
       "      <td>2.843771</td>\n",
       "      <td>-5.527301</td>\n",
       "      <td>-3.029981</td>\n",
       "      <td>5.825115</td>\n",
       "      <td>3.742236</td>\n",
       "      <td>6.044946</td>\n",
       "      <td>1.437086</td>\n",
       "    </tr>\n",
       "    <tr>\n",
       "      <th>3</th>\n",
       "      <td>MGB00004</td>\n",
       "      <td>MGB00004</td>\n",
       "      <td>58.494731</td>\n",
       "      <td>3.134901</td>\n",
       "      <td>-0.005092</td>\n",
       "      <td>1.167758</td>\n",
       "      <td>1.454855</td>\n",
       "      <td>3.297935</td>\n",
       "      <td>1.981656</td>\n",
       "      <td>-1.079379</td>\n",
       "      <td>1.793868</td>\n",
       "      <td>0.169963</td>\n",
       "      <td>-0.878017</td>\n",
       "    </tr>\n",
       "    <tr>\n",
       "      <th>4</th>\n",
       "      <td>MGB00005</td>\n",
       "      <td>MGB00005</td>\n",
       "      <td>60.674713</td>\n",
       "      <td>1.273421</td>\n",
       "      <td>1.723451</td>\n",
       "      <td>1.46698</td>\n",
       "      <td>2.157379</td>\n",
       "      <td>0.619361</td>\n",
       "      <td>1.180299</td>\n",
       "      <td>1.433365</td>\n",
       "      <td>4.477744</td>\n",
       "      <td>-4.105312</td>\n",
       "      <td>-0.212373</td>\n",
       "    </tr>\n",
       "  </tbody>\n",
       "</table>\n",
       "</div>"
      ],
      "text/plain": [
       "        FID       IID        AGE       PC1       PC2       PC3       PC4  \\\n",
       "0  MGB00001  MGB00001  66.668657  1.262291  0.663233 -1.303153  0.001294   \n",
       "1  MGB00002  MGB00002  53.190195    3.3063 -1.101641   1.97045 -0.872764   \n",
       "2  MGB00003  MGB00003  38.929525  6.461285  -4.82919    0.6073  2.843771   \n",
       "3  MGB00004  MGB00004  58.494731  3.134901 -0.005092  1.167758  1.454855   \n",
       "4  MGB00005  MGB00005  60.674713  1.273421  1.723451   1.46698  2.157379   \n",
       "\n",
       "        PC5       PC6       PC7       PC8       PC9      PC10  \n",
       "0  5.708772 -6.319303  0.452565   0.28469  3.002454 -4.111322  \n",
       "1 -3.840938 -0.671233 -0.165758 -0.421976  0.860991 -4.696233  \n",
       "2 -5.527301 -3.029981  5.825115  3.742236  6.044946  1.437086  \n",
       "3  3.297935  1.981656 -1.079379  1.793868  0.169963 -0.878017  \n",
       "4  0.619361  1.180299  1.433365  4.477744 -4.105312 -0.212373  "
      ]
     },
     "execution_count": 65,
     "metadata": {},
     "output_type": "execute_result"
    }
   ],
   "source": [
    "sample_covar_df.head()"
   ]
  },
  {
   "cell_type": "code",
   "execution_count": 66,
   "id": "069c4869-ead9-4479-a1b3-4678ea168fc1",
   "metadata": {
    "execution": {
     "iopub.execute_input": "2021-09-28T18:25:29.806865Z",
     "iopub.status.busy": "2021-09-28T18:25:29.806563Z",
     "iopub.status.idle": "2021-09-28T18:25:30.231979Z",
     "shell.execute_reply": "2021-09-28T18:25:30.231206Z",
     "shell.execute_reply.started": "2021-09-28T18:25:29.806831Z"
    },
    "tags": []
   },
   "outputs": [],
   "source": [
    "sample_covar_df.to_csv(\"MGB_10_all/MGB_10_all.covariates.txt\", sep=\" \", index=False)"
   ]
  },
  {
   "cell_type": "markdown",
   "id": "5a14a767-4839-476a-9e3c-af6077a83eed",
   "metadata": {},
   "source": [
    "### Part 0c - Make dummy age.summary.tsv file"
   ]
  },
  {
   "cell_type": "code",
   "execution_count": 67,
   "id": "57133e32-ccae-447f-a0c5-6efe888b6ec0",
   "metadata": {
    "execution": {
     "iopub.execute_input": "2021-09-28T18:26:36.283438Z",
     "iopub.status.busy": "2021-09-28T18:26:36.283197Z",
     "iopub.status.idle": "2021-09-28T18:26:36.782747Z",
     "shell.execute_reply": "2021-09-28T18:26:36.781880Z",
     "shell.execute_reply.started": "2021-09-28T18:26:36.283402Z"
    },
    "tags": []
   },
   "outputs": [],
   "source": [
    "age_means = np.random.normal(loc=50, scale=10, size=(4))"
   ]
  },
  {
   "cell_type": "code",
   "execution_count": 68,
   "id": "cbd1a193-5fdc-48e3-b95d-17040cc14386",
   "metadata": {
    "execution": {
     "iopub.execute_input": "2021-09-28T18:26:56.812006Z",
     "iopub.status.busy": "2021-09-28T18:26:56.811703Z",
     "iopub.status.idle": "2021-09-28T18:26:57.263474Z",
     "shell.execute_reply": "2021-09-28T18:26:57.262713Z",
     "shell.execute_reply.started": "2021-09-28T18:26:56.811972Z"
    },
    "tags": []
   },
   "outputs": [],
   "source": [
    "age_stds = np.abs(np.random.normal(loc=0, scale=10, size=(4)))"
   ]
  },
  {
   "cell_type": "code",
   "execution_count": 69,
   "id": "a93e5fe6-2fb5-4ae2-bfd1-597240808c83",
   "metadata": {
    "execution": {
     "iopub.execute_input": "2021-09-28T18:26:58.267740Z",
     "iopub.status.busy": "2021-09-28T18:26:58.267543Z",
     "iopub.status.idle": "2021-09-28T18:26:58.763236Z",
     "shell.execute_reply": "2021-09-28T18:26:58.762557Z",
     "shell.execute_reply.started": "2021-09-28T18:26:58.267715Z"
    },
    "tags": []
   },
   "outputs": [],
   "source": [
    "index = [\"BCA\", \"CAD\", \"IBD\", \"T2D\"]"
   ]
  },
  {
   "cell_type": "code",
   "execution_count": 70,
   "id": "5c0b9b38-58b3-440a-b10c-ba34002a5680",
   "metadata": {
    "execution": {
     "iopub.execute_input": "2021-09-28T18:26:59.262011Z",
     "iopub.status.busy": "2021-09-28T18:26:59.261671Z",
     "iopub.status.idle": "2021-09-28T18:26:59.607391Z",
     "shell.execute_reply": "2021-09-28T18:26:59.606691Z",
     "shell.execute_reply.started": "2021-09-28T18:26:59.261969Z"
    },
    "tags": []
   },
   "outputs": [],
   "source": [
    "pd.DataFrame(index=index, data={\"MEAN\":age_means, \"STD\": age_stds}).to_csv(\"MGB_10_all/age.summary.tsv\", sep=\"\\t\", index=True)"
   ]
  },
  {
   "cell_type": "markdown",
   "id": "234524ab-c00a-40b9-8c6c-a9469cc0ba7b",
   "metadata": {
    "tags": [],
    "toc-hr-collapsed": true
   },
   "source": [
    "## Part 1 - Make a SNP summary file"
   ]
  },
  {
   "cell_type": "markdown",
   "id": "8d2cd81b-d39b-4ee3-8e38-c225e66b1b34",
   "metadata": {
    "tags": [],
    "toc-hr-collapsed": true
   },
   "source": [
    "#### BCA"
   ]
  },
  {
   "cell_type": "code",
   "execution_count": 100,
   "id": "55cfb2a4-0cf5-4033-b5d9-79f6cc1ddb9f",
   "metadata": {
    "execution": {
     "iopub.execute_input": "2021-09-24T21:36:00.722267Z",
     "iopub.status.busy": "2021-09-24T21:36:00.722009Z",
     "iopub.status.idle": "2021-09-24T21:36:09.517402Z",
     "shell.execute_reply": "2021-09-24T21:36:09.516517Z",
     "shell.execute_reply.started": "2021-09-24T21:36:00.722238Z"
    },
    "tags": []
   },
   "outputs": [],
   "source": [
    "geno = feather.read_feather(\"../../../cagi6-prs/features/baseline_snps-baseline_plus_samples/bca_age_old/bca.age.old.feather\")"
   ]
  },
  {
   "cell_type": "code",
   "execution_count": 101,
   "id": "8c820481-64e0-4ec5-8a33-307098eda6c4",
   "metadata": {
    "execution": {
     "iopub.execute_input": "2021-09-24T21:36:48.174619Z",
     "iopub.status.busy": "2021-09-24T21:36:48.174339Z",
     "iopub.status.idle": "2021-09-24T21:36:48.652835Z",
     "shell.execute_reply": "2021-09-24T21:36:48.652114Z",
     "shell.execute_reply.started": "2021-09-24T21:36:48.174581Z"
    },
    "tags": []
   },
   "outputs": [],
   "source": [
    "snps = [\"_\".join(var.split(\"_\")[:-1]) for var in geno[\"index\"]]\n",
    "alleles = [var[-1] for var in geno[\"index\"]]\n",
    "allele_mp = dict(zip(snps, alleles))"
   ]
  },
  {
   "cell_type": "code",
   "execution_count": 102,
   "id": "bdd045a3-df1b-466b-b7db-d73ab9daa3ef",
   "metadata": {
    "execution": {
     "iopub.execute_input": "2021-09-24T21:36:49.635719Z",
     "iopub.status.busy": "2021-09-24T21:36:49.635402Z",
     "iopub.status.idle": "2021-09-24T21:36:55.684066Z",
     "shell.execute_reply": "2021-09-24T21:36:55.683196Z",
     "shell.execute_reply.started": "2021-09-24T21:36:49.635690Z"
    },
    "tags": []
   },
   "outputs": [],
   "source": [
    "snp_map = pd.read_csv(\"../../../cagi6-prs/snps/ukb.extracted.intersected.mgb.snps.tsv\", sep=\"\\t\")"
   ]
  },
  {
   "cell_type": "code",
   "execution_count": 103,
   "id": "c40960c1-c99c-4c5a-ac66-4e107dd0acf7",
   "metadata": {
    "execution": {
     "iopub.execute_input": "2021-09-24T21:36:56.679878Z",
     "iopub.status.busy": "2021-09-24T21:36:56.679505Z",
     "iopub.status.idle": "2021-09-24T21:37:00.419767Z",
     "shell.execute_reply": "2021-09-24T21:37:00.418884Z",
     "shell.execute_reply.started": "2021-09-24T21:36:56.679833Z"
    },
    "tags": []
   },
   "outputs": [],
   "source": [
    "subset_snp_map = snp_map[snp_map[\"UKB_ID\"].isin(snps)][[\"UKB_ID\", \"MGB_ID\"]]"
   ]
  },
  {
   "cell_type": "code",
   "execution_count": 104,
   "id": "08679e12-6af6-4921-bf9f-bda91a5698b7",
   "metadata": {
    "execution": {
     "iopub.execute_input": "2021-09-24T21:37:04.418613Z",
     "iopub.status.busy": "2021-09-24T21:37:04.418346Z",
     "iopub.status.idle": "2021-09-24T21:37:05.148393Z",
     "shell.execute_reply": "2021-09-24T21:37:05.147607Z",
     "shell.execute_reply.started": "2021-09-24T21:37:04.418584Z"
    },
    "tags": []
   },
   "outputs": [],
   "source": [
    "stats = pd.read_csv(\"../../../cagi6-prs/features/baseline_snps-baseline_plus_samples/bca_age_old/bca.age.old.train.stats.tsv\", sep=\"\\t\")"
   ]
  },
  {
   "cell_type": "code",
   "execution_count": 105,
   "id": "7d5e1679-e2e3-4417-8b2f-20329f927667",
   "metadata": {
    "execution": {
     "iopub.execute_input": "2021-09-24T21:37:05.894141Z",
     "iopub.status.busy": "2021-09-24T21:37:05.893929Z",
     "iopub.status.idle": "2021-09-24T21:37:06.425722Z",
     "shell.execute_reply": "2021-09-24T21:37:06.424981Z",
     "shell.execute_reply.started": "2021-09-24T21:37:05.894113Z"
    },
    "tags": []
   },
   "outputs": [],
   "source": [
    "subset_stats = stats[stats[\"0\"].isin(snps)]"
   ]
  },
  {
   "cell_type": "code",
   "execution_count": 106,
   "id": "de546110-ccd9-4827-9a47-d7dfaadaa9e0",
   "metadata": {
    "execution": {
     "iopub.execute_input": "2021-09-24T21:37:07.047869Z",
     "iopub.status.busy": "2021-09-24T21:37:07.047646Z",
     "iopub.status.idle": "2021-09-24T21:37:11.742424Z",
     "shell.execute_reply": "2021-09-24T21:37:11.741653Z",
     "shell.execute_reply.started": "2021-09-24T21:37:07.047841Z"
    },
    "tags": []
   },
   "outputs": [],
   "source": [
    "summary_df = pd.merge(subset_snp_map, subset_stats, left_on=\"UKB_ID\", right_on=\"0\")"
   ]
  },
  {
   "cell_type": "code",
   "execution_count": 107,
   "id": "43e26f50-965d-47ed-a569-8675064c5bb5",
   "metadata": {
    "execution": {
     "iopub.execute_input": "2021-09-24T21:37:12.421522Z",
     "iopub.status.busy": "2021-09-24T21:37:12.421311Z",
     "iopub.status.idle": "2021-09-24T21:37:13.137961Z",
     "shell.execute_reply": "2021-09-24T21:37:13.137136Z",
     "shell.execute_reply.started": "2021-09-24T21:37:12.421494Z"
    },
    "tags": []
   },
   "outputs": [],
   "source": [
    "summary_df[\"expected_allele\"] = summary_df[\"UKB_ID\"].map(allele_mp)"
   ]
  },
  {
   "cell_type": "code",
   "execution_count": 108,
   "id": "aa3ff3bc-2b5e-456f-97ae-173312f23272",
   "metadata": {
    "execution": {
     "iopub.execute_input": "2021-09-24T21:37:13.140234Z",
     "iopub.status.busy": "2021-09-24T21:37:13.139786Z",
     "iopub.status.idle": "2021-09-24T21:37:13.698214Z",
     "shell.execute_reply": "2021-09-24T21:37:13.697474Z",
     "shell.execute_reply.started": "2021-09-24T21:37:13.140146Z"
    },
    "tags": []
   },
   "outputs": [],
   "source": [
    "final_df = summary_df[[\"UKB_ID\", \"MGB_ID\", \"expected_allele\", \"mean\", \"std\"]]"
   ]
  },
  {
   "cell_type": "code",
   "execution_count": 109,
   "id": "1ac3d252-9c67-47df-9146-5c839960bbbb",
   "metadata": {
    "execution": {
     "iopub.execute_input": "2021-09-24T21:37:13.699787Z",
     "iopub.status.busy": "2021-09-24T21:37:13.699296Z",
     "iopub.status.idle": "2021-09-24T21:37:14.229091Z",
     "shell.execute_reply": "2021-09-24T21:37:14.228332Z",
     "shell.execute_reply.started": "2021-09-24T21:37:13.699734Z"
    },
    "tags": []
   },
   "outputs": [],
   "source": [
    "final_df.columns = [\"UKB_ID\", \"MGB_ID\", \"EXPECTED_ALLELE\", \"MEAN\", \"STD\"]"
   ]
  },
  {
   "cell_type": "code",
   "execution_count": 112,
   "id": "846616ed-b0c1-40bf-acff-ac974a6e211d",
   "metadata": {
    "execution": {
     "iopub.execute_input": "2021-09-24T21:37:54.203876Z",
     "iopub.status.busy": "2021-09-24T21:37:54.203585Z",
     "iopub.status.idle": "2021-09-24T21:37:55.222049Z",
     "shell.execute_reply": "2021-09-24T21:37:55.221359Z",
     "shell.execute_reply.started": "2021-09-24T21:37:54.203846Z"
    },
    "tags": []
   },
   "outputs": [],
   "source": [
    "final_df.to_csv(\"MGB_10_all/bca.age.old.summary.tsv\", sep=\"\\t\", index=False)"
   ]
  },
  {
   "cell_type": "code",
   "execution_count": 113,
   "id": "0777f5d7-6c94-4724-8e24-c08f125b8d92",
   "metadata": {
    "execution": {
     "iopub.execute_input": "2021-09-24T21:37:56.248753Z",
     "iopub.status.busy": "2021-09-24T21:37:56.248550Z",
     "iopub.status.idle": "2021-09-24T21:37:57.662205Z",
     "shell.execute_reply": "2021-09-24T21:37:57.661536Z",
     "shell.execute_reply.started": "2021-09-24T21:37:56.248726Z"
    },
    "tags": []
   },
   "outputs": [
    {
     "data": {
      "text/plain": [
       "True"
      ]
     },
     "execution_count": 113,
     "metadata": {},
     "output_type": "execute_result"
    }
   ],
   "source": [
    "final_df[\"MGB_ID\"].isin(bim[1]).all()"
   ]
  },
  {
   "cell_type": "code",
   "execution_count": 114,
   "id": "847391e5-3d42-4a4a-b75a-757956b94766",
   "metadata": {
    "execution": {
     "iopub.execute_input": "2021-09-24T21:37:58.362400Z",
     "iopub.status.busy": "2021-09-24T21:37:58.362073Z",
     "iopub.status.idle": "2021-09-24T21:37:59.061441Z",
     "shell.execute_reply": "2021-09-24T21:37:59.060601Z",
     "shell.execute_reply.started": "2021-09-24T21:37:58.362356Z"
    },
    "tags": []
   },
   "outputs": [],
   "source": [
    "final_df[\"MGB_ID\"].to_csv(\"MGB_10_all/bca.age.old.extract.txt\", header=None, index=False)"
   ]
  },
  {
   "cell_type": "markdown",
   "id": "ee58312b-eca8-46ce-89a9-005ace64df2b",
   "metadata": {
    "tags": [],
    "toc-hr-collapsed": true
   },
   "source": [
    "#### CAD"
   ]
  },
  {
   "cell_type": "code",
   "execution_count": 115,
   "id": "0328659b-0a07-4137-9eee-c31e5f5aa74d",
   "metadata": {
    "execution": {
     "iopub.execute_input": "2021-09-24T21:39:45.045021Z",
     "iopub.status.busy": "2021-09-24T21:39:45.044641Z",
     "iopub.status.idle": "2021-09-24T21:39:48.359162Z",
     "shell.execute_reply": "2021-09-24T21:39:48.358383Z",
     "shell.execute_reply.started": "2021-09-24T21:39:45.044990Z"
    },
    "tags": []
   },
   "outputs": [],
   "source": [
    "geno = feather.read_feather(\"../../../cagi6-prs/features/baseline_snps-baseline_plus_samples/cad_age_old/cad.age.old.feather\")"
   ]
  },
  {
   "cell_type": "code",
   "execution_count": 116,
   "id": "a26be5af-7f37-4621-94d1-91812648d790",
   "metadata": {
    "execution": {
     "iopub.execute_input": "2021-09-24T21:39:49.705713Z",
     "iopub.status.busy": "2021-09-24T21:39:49.705476Z",
     "iopub.status.idle": "2021-09-24T21:39:50.947849Z",
     "shell.execute_reply": "2021-09-24T21:39:50.946996Z",
     "shell.execute_reply.started": "2021-09-24T21:39:49.705684Z"
    },
    "tags": []
   },
   "outputs": [],
   "source": [
    "snps = [\"_\".join(var.split(\"_\")[:-1]) for var in geno[\"index\"]]\n",
    "alleles = [var[-1] for var in geno[\"index\"]]\n",
    "allele_mp = dict(zip(snps, alleles))"
   ]
  },
  {
   "cell_type": "code",
   "execution_count": 117,
   "id": "7953569a-6418-4de1-a7a0-cf46554ada1e",
   "metadata": {
    "execution": {
     "iopub.execute_input": "2021-09-24T21:39:50.949601Z",
     "iopub.status.busy": "2021-09-24T21:39:50.949354Z",
     "iopub.status.idle": "2021-09-24T21:39:56.429957Z",
     "shell.execute_reply": "2021-09-24T21:39:56.428928Z",
     "shell.execute_reply.started": "2021-09-24T21:39:50.949568Z"
    },
    "tags": []
   },
   "outputs": [],
   "source": [
    "snp_map = pd.read_csv(\"../../../cagi6-prs/snps/ukb.extracted.intersected.mgb.snps.tsv\", sep=\"\\t\")"
   ]
  },
  {
   "cell_type": "code",
   "execution_count": 118,
   "id": "28a34031-eca6-40dd-b37f-00355ee25ec4",
   "metadata": {
    "execution": {
     "iopub.execute_input": "2021-09-24T21:39:56.431830Z",
     "iopub.status.busy": "2021-09-24T21:39:56.431474Z",
     "iopub.status.idle": "2021-09-24T21:39:57.264085Z",
     "shell.execute_reply": "2021-09-24T21:39:57.263325Z",
     "shell.execute_reply.started": "2021-09-24T21:39:56.431773Z"
    },
    "tags": []
   },
   "outputs": [],
   "source": [
    "subset_snp_map = snp_map[snp_map[\"UKB_ID\"].isin(snps)][[\"UKB_ID\", \"MGB_ID\"]]"
   ]
  },
  {
   "cell_type": "code",
   "execution_count": 119,
   "id": "302c0025-a566-4984-be1a-54881f12b752",
   "metadata": {
    "execution": {
     "iopub.execute_input": "2021-09-24T21:39:57.265375Z",
     "iopub.status.busy": "2021-09-24T21:39:57.265127Z",
     "iopub.status.idle": "2021-09-24T21:39:58.642671Z",
     "shell.execute_reply": "2021-09-24T21:39:58.641931Z",
     "shell.execute_reply.started": "2021-09-24T21:39:57.265340Z"
    },
    "tags": []
   },
   "outputs": [],
   "source": [
    "stats = pd.read_csv(\"../../../cagi6-prs/features/baseline_snps-baseline_plus_samples/cad_age_old/cad.age.old.train.stats.tsv\", sep=\"\\t\")"
   ]
  },
  {
   "cell_type": "code",
   "execution_count": 120,
   "id": "ee132f1a-d867-4a5e-b3fc-b166c49a8923",
   "metadata": {
    "execution": {
     "iopub.execute_input": "2021-09-24T21:39:58.643967Z",
     "iopub.status.busy": "2021-09-24T21:39:58.643719Z",
     "iopub.status.idle": "2021-09-24T21:39:59.303050Z",
     "shell.execute_reply": "2021-09-24T21:39:59.302132Z",
     "shell.execute_reply.started": "2021-09-24T21:39:58.643937Z"
    },
    "tags": []
   },
   "outputs": [],
   "source": [
    "subset_stats = stats[stats[\"0\"].isin(snps)]"
   ]
  },
  {
   "cell_type": "code",
   "execution_count": 121,
   "id": "e45f6a7a-17bf-464d-9ce3-83ef8d5371ab",
   "metadata": {
    "execution": {
     "iopub.execute_input": "2021-09-24T21:39:59.305260Z",
     "iopub.status.busy": "2021-09-24T21:39:59.305036Z",
     "iopub.status.idle": "2021-09-24T21:40:00.021486Z",
     "shell.execute_reply": "2021-09-24T21:40:00.020704Z",
     "shell.execute_reply.started": "2021-09-24T21:39:59.305232Z"
    },
    "tags": []
   },
   "outputs": [],
   "source": [
    "summary_df = pd.merge(subset_snp_map, subset_stats, left_on=\"UKB_ID\", right_on=\"0\")"
   ]
  },
  {
   "cell_type": "code",
   "execution_count": 122,
   "id": "0702faaa-c5b4-4d65-b435-058b09e43f56",
   "metadata": {
    "execution": {
     "iopub.execute_input": "2021-09-24T21:40:00.023292Z",
     "iopub.status.busy": "2021-09-24T21:40:00.023055Z",
     "iopub.status.idle": "2021-09-24T21:40:00.622757Z",
     "shell.execute_reply": "2021-09-24T21:40:00.622024Z",
     "shell.execute_reply.started": "2021-09-24T21:40:00.023262Z"
    },
    "tags": []
   },
   "outputs": [],
   "source": [
    "summary_df[\"expected_allele\"] = summary_df[\"UKB_ID\"].map(allele_mp)"
   ]
  },
  {
   "cell_type": "code",
   "execution_count": 123,
   "id": "be3ec79a-9811-4193-867c-a7a64f0a285b",
   "metadata": {
    "execution": {
     "iopub.execute_input": "2021-09-24T21:40:00.624343Z",
     "iopub.status.busy": "2021-09-24T21:40:00.624063Z",
     "iopub.status.idle": "2021-09-24T21:40:01.326182Z",
     "shell.execute_reply": "2021-09-24T21:40:01.325358Z",
     "shell.execute_reply.started": "2021-09-24T21:40:00.624315Z"
    },
    "tags": []
   },
   "outputs": [],
   "source": [
    "final_df = summary_df[[\"UKB_ID\", \"MGB_ID\", \"expected_allele\", \"mean\", \"std\"]]"
   ]
  },
  {
   "cell_type": "code",
   "execution_count": 124,
   "id": "7a4c12de-e8f8-41bf-993a-86ba92a1cc37",
   "metadata": {
    "execution": {
     "iopub.execute_input": "2021-09-24T21:40:01.327426Z",
     "iopub.status.busy": "2021-09-24T21:40:01.327209Z",
     "iopub.status.idle": "2021-09-24T21:40:01.884608Z",
     "shell.execute_reply": "2021-09-24T21:40:01.883591Z",
     "shell.execute_reply.started": "2021-09-24T21:40:01.327399Z"
    },
    "tags": []
   },
   "outputs": [],
   "source": [
    "final_df.columns = [\"UKB_ID\", \"MGB_ID\", \"EXPECTED_ALLELE\", \"MEAN\", \"STD\"]"
   ]
  },
  {
   "cell_type": "code",
   "execution_count": 125,
   "id": "207f75d4-82a0-4f8f-8093-d55bf120943a",
   "metadata": {
    "execution": {
     "iopub.execute_input": "2021-09-24T21:40:15.028911Z",
     "iopub.status.busy": "2021-09-24T21:40:15.028577Z",
     "iopub.status.idle": "2021-09-24T21:40:15.684857Z",
     "shell.execute_reply": "2021-09-24T21:40:15.683899Z",
     "shell.execute_reply.started": "2021-09-24T21:40:15.028873Z"
    }
   },
   "outputs": [
    {
     "data": {
      "text/html": [
       "<div>\n",
       "<style scoped>\n",
       "    .dataframe tbody tr th:only-of-type {\n",
       "        vertical-align: middle;\n",
       "    }\n",
       "\n",
       "    .dataframe tbody tr th {\n",
       "        vertical-align: top;\n",
       "    }\n",
       "\n",
       "    .dataframe thead th {\n",
       "        text-align: right;\n",
       "    }\n",
       "</style>\n",
       "<table border=\"1\" class=\"dataframe\">\n",
       "  <thead>\n",
       "    <tr style=\"text-align: right;\">\n",
       "      <th></th>\n",
       "      <th>UKB_ID</th>\n",
       "      <th>MGB_ID</th>\n",
       "      <th>EXPECTED_ALLELE</th>\n",
       "      <th>MEAN</th>\n",
       "      <th>STD</th>\n",
       "    </tr>\n",
       "  </thead>\n",
       "  <tbody>\n",
       "    <tr>\n",
       "      <th>0</th>\n",
       "      <td>rs2184104</td>\n",
       "      <td>1:56912222_T_C</td>\n",
       "      <td>T</td>\n",
       "      <td>0.454777</td>\n",
       "      <td>0.584347</td>\n",
       "    </tr>\n",
       "    <tr>\n",
       "      <th>1</th>\n",
       "      <td>rs6693179</td>\n",
       "      <td>1:56914602_G_A</td>\n",
       "      <td>G</td>\n",
       "      <td>0.454400</td>\n",
       "      <td>0.584899</td>\n",
       "    </tr>\n",
       "    <tr>\n",
       "      <th>2</th>\n",
       "      <td>rs6684929</td>\n",
       "      <td>1:56914738_T_C</td>\n",
       "      <td>T</td>\n",
       "      <td>0.454394</td>\n",
       "      <td>0.584916</td>\n",
       "    </tr>\n",
       "    <tr>\n",
       "      <th>3</th>\n",
       "      <td>rs6421496</td>\n",
       "      <td>1:56915593_C_T</td>\n",
       "      <td>C</td>\n",
       "      <td>0.220789</td>\n",
       "      <td>0.434829</td>\n",
       "    </tr>\n",
       "    <tr>\n",
       "      <th>4</th>\n",
       "      <td>rs1889145</td>\n",
       "      <td>1:56915820_G_A</td>\n",
       "      <td>G</td>\n",
       "      <td>0.454426</td>\n",
       "      <td>0.584876</td>\n",
       "    </tr>\n",
       "    <tr>\n",
       "      <th>...</th>\n",
       "      <td>...</td>\n",
       "      <td>...</td>\n",
       "      <td>...</td>\n",
       "      <td>...</td>\n",
       "      <td>...</td>\n",
       "    </tr>\n",
       "    <tr>\n",
       "      <th>3959</th>\n",
       "      <td>rs2519093</td>\n",
       "      <td>9:136141870_C_T</td>\n",
       "      <td>C</td>\n",
       "      <td>1.613001</td>\n",
       "      <td>0.558514</td>\n",
       "    </tr>\n",
       "    <tr>\n",
       "      <th>3960</th>\n",
       "      <td>rs532436</td>\n",
       "      <td>9:136149830_G_A</td>\n",
       "      <td>G</td>\n",
       "      <td>1.612299</td>\n",
       "      <td>0.558720</td>\n",
       "    </tr>\n",
       "    <tr>\n",
       "      <th>3961</th>\n",
       "      <td>rs600038</td>\n",
       "      <td>9:136151806_T_C</td>\n",
       "      <td>T</td>\n",
       "      <td>1.569488</td>\n",
       "      <td>0.581841</td>\n",
       "    </tr>\n",
       "    <tr>\n",
       "      <th>3962</th>\n",
       "      <td>rs649129</td>\n",
       "      <td>9:136154304_C_T</td>\n",
       "      <td>C</td>\n",
       "      <td>1.569779</td>\n",
       "      <td>0.581575</td>\n",
       "    </tr>\n",
       "    <tr>\n",
       "      <th>3963</th>\n",
       "      <td>rs17474001</td>\n",
       "      <td>9:136267149_C_T</td>\n",
       "      <td>C</td>\n",
       "      <td>1.724079</td>\n",
       "      <td>0.488724</td>\n",
       "    </tr>\n",
       "  </tbody>\n",
       "</table>\n",
       "<p>3964 rows × 5 columns</p>\n",
       "</div>"
      ],
      "text/plain": [
       "          UKB_ID           MGB_ID EXPECTED_ALLELE      MEAN       STD\n",
       "0      rs2184104   1:56912222_T_C               T  0.454777  0.584347\n",
       "1      rs6693179   1:56914602_G_A               G  0.454400  0.584899\n",
       "2      rs6684929   1:56914738_T_C               T  0.454394  0.584916\n",
       "3      rs6421496   1:56915593_C_T               C  0.220789  0.434829\n",
       "4      rs1889145   1:56915820_G_A               G  0.454426  0.584876\n",
       "...          ...              ...             ...       ...       ...\n",
       "3959   rs2519093  9:136141870_C_T               C  1.613001  0.558514\n",
       "3960    rs532436  9:136149830_G_A               G  1.612299  0.558720\n",
       "3961    rs600038  9:136151806_T_C               T  1.569488  0.581841\n",
       "3962    rs649129  9:136154304_C_T               C  1.569779  0.581575\n",
       "3963  rs17474001  9:136267149_C_T               C  1.724079  0.488724\n",
       "\n",
       "[3964 rows x 5 columns]"
      ]
     },
     "execution_count": 125,
     "metadata": {},
     "output_type": "execute_result"
    }
   ],
   "source": [
    "final_df"
   ]
  },
  {
   "cell_type": "code",
   "execution_count": 126,
   "id": "5755b4cb-0822-4606-9dfb-d2c6a900751b",
   "metadata": {
    "execution": {
     "iopub.execute_input": "2021-09-24T21:40:31.030140Z",
     "iopub.status.busy": "2021-09-24T21:40:31.029851Z",
     "iopub.status.idle": "2021-09-24T21:40:31.610101Z",
     "shell.execute_reply": "2021-09-24T21:40:31.609419Z",
     "shell.execute_reply.started": "2021-09-24T21:40:31.030111Z"
    },
    "tags": []
   },
   "outputs": [],
   "source": [
    "final_df.to_csv(\"MGB_10_all/cad.age.old.summary.tsv\", sep=\"\\t\", index=False)"
   ]
  },
  {
   "cell_type": "code",
   "execution_count": 127,
   "id": "ef149d58-a7f7-4290-af4e-c77e191c22d5",
   "metadata": {
    "execution": {
     "iopub.execute_input": "2021-09-24T21:40:32.252359Z",
     "iopub.status.busy": "2021-09-24T21:40:32.252028Z",
     "iopub.status.idle": "2021-09-24T21:40:33.404366Z",
     "shell.execute_reply": "2021-09-24T21:40:33.403416Z",
     "shell.execute_reply.started": "2021-09-24T21:40:32.252315Z"
    },
    "tags": []
   },
   "outputs": [
    {
     "data": {
      "text/plain": [
       "True"
      ]
     },
     "execution_count": 127,
     "metadata": {},
     "output_type": "execute_result"
    }
   ],
   "source": [
    "final_df[\"MGB_ID\"].isin(bim[1]).all()"
   ]
  },
  {
   "cell_type": "code",
   "execution_count": 128,
   "id": "5c33a30c-367f-4767-9dad-ccfc4607355b",
   "metadata": {
    "execution": {
     "iopub.execute_input": "2021-09-24T21:40:33.406508Z",
     "iopub.status.busy": "2021-09-24T21:40:33.406155Z",
     "iopub.status.idle": "2021-09-24T21:40:33.984328Z",
     "shell.execute_reply": "2021-09-24T21:40:33.983576Z",
     "shell.execute_reply.started": "2021-09-24T21:40:33.406454Z"
    },
    "tags": []
   },
   "outputs": [],
   "source": [
    "final_df[\"MGB_ID\"].to_csv(\"MGB_10_all/cad.age.old.extract.txt\", header=None, index=False)"
   ]
  },
  {
   "cell_type": "markdown",
   "id": "deeff3e3-fbe2-4492-8c69-6cacc38b6cd6",
   "metadata": {
    "tags": [],
    "toc-hr-collapsed": true
   },
   "source": [
    "#### IBD"
   ]
  },
  {
   "cell_type": "code",
   "execution_count": 3,
   "id": "e0e71b65-9fa7-4ef9-8e83-5b942761e944",
   "metadata": {
    "execution": {
     "iopub.execute_input": "2021-09-24T15:41:16.114221Z",
     "iopub.status.busy": "2021-09-24T15:41:16.113965Z",
     "iopub.status.idle": "2021-09-24T15:41:17.553466Z",
     "shell.execute_reply": "2021-09-24T15:41:17.552550Z",
     "shell.execute_reply.started": "2021-09-24T15:41:16.114190Z"
    },
    "tags": []
   },
   "outputs": [],
   "source": [
    "geno = feather.read_feather(\"../../../cagi6-prs/features/baseline_snps-baseline_plus_samples/ibd_age_old/ibd.age.old.feather\")"
   ]
  },
  {
   "cell_type": "code",
   "execution_count": 4,
   "id": "e50aa4f4-e226-497a-a1aa-4e63165e1a04",
   "metadata": {
    "execution": {
     "iopub.execute_input": "2021-09-24T15:41:20.393079Z",
     "iopub.status.busy": "2021-09-24T15:41:20.392763Z",
     "iopub.status.idle": "2021-09-24T15:41:20.911920Z",
     "shell.execute_reply": "2021-09-24T15:41:20.911155Z",
     "shell.execute_reply.started": "2021-09-24T15:41:20.393045Z"
    },
    "tags": []
   },
   "outputs": [],
   "source": [
    "snps = [\"_\".join(var.split(\"_\")[:-1]) for var in geno[\"index\"]]\n",
    "alleles = [var[-1] for var in geno[\"index\"]]\n",
    "allele_mp = dict(zip(snps, alleles))"
   ]
  },
  {
   "cell_type": "code",
   "execution_count": 2,
   "id": "9e88e290-b5c1-47cf-902f-566702f3b2b4",
   "metadata": {
    "execution": {
     "iopub.execute_input": "2021-09-24T15:41:07.164336Z",
     "iopub.status.busy": "2021-09-24T15:41:07.164071Z",
     "iopub.status.idle": "2021-09-24T15:41:11.519767Z",
     "shell.execute_reply": "2021-09-24T15:41:11.519101Z",
     "shell.execute_reply.started": "2021-09-24T15:41:07.164304Z"
    },
    "tags": []
   },
   "outputs": [],
   "source": [
    "snp_map = pd.read_csv(\"../../../cagi6-prs/snps/ukb.extracted.intersected.mgb.snps.tsv\", sep=\"\\t\")"
   ]
  },
  {
   "cell_type": "code",
   "execution_count": 5,
   "id": "e528ae54-224b-4a46-a36a-73e7b356baf1",
   "metadata": {
    "execution": {
     "iopub.execute_input": "2021-09-24T15:41:30.986975Z",
     "iopub.status.busy": "2021-09-24T15:41:30.986678Z",
     "iopub.status.idle": "2021-09-24T15:41:31.573710Z",
     "shell.execute_reply": "2021-09-24T15:41:31.573017Z",
     "shell.execute_reply.started": "2021-09-24T15:41:30.986942Z"
    },
    "tags": []
   },
   "outputs": [],
   "source": [
    "subset_snp_map = snp_map[snp_map[\"UKB_ID\"].isin(snps)][[\"UKB_ID\", \"MGB_ID\"]]"
   ]
  },
  {
   "cell_type": "code",
   "execution_count": 6,
   "id": "74faaa7f-d052-4871-888a-61a1aa2e8890",
   "metadata": {
    "execution": {
     "iopub.execute_input": "2021-09-24T15:41:33.618147Z",
     "iopub.status.busy": "2021-09-24T15:41:33.617870Z",
     "iopub.status.idle": "2021-09-24T15:41:34.213995Z",
     "shell.execute_reply": "2021-09-24T15:41:34.213245Z",
     "shell.execute_reply.started": "2021-09-24T15:41:33.618113Z"
    },
    "tags": []
   },
   "outputs": [],
   "source": [
    "stats = pd.read_csv(\"../../../cagi6-prs/features/baseline_snps-baseline_plus_samples/ibd_age_old/ibd.age.old.train.stats.tsv\", sep=\"\\t\")"
   ]
  },
  {
   "cell_type": "code",
   "execution_count": 7,
   "id": "7a3d3e10-7393-49c8-b206-3d631616396c",
   "metadata": {
    "execution": {
     "iopub.execute_input": "2021-09-24T15:41:34.627059Z",
     "iopub.status.busy": "2021-09-24T15:41:34.626868Z",
     "iopub.status.idle": "2021-09-24T15:41:35.014387Z",
     "shell.execute_reply": "2021-09-24T15:41:35.013631Z",
     "shell.execute_reply.started": "2021-09-24T15:41:34.627035Z"
    },
    "tags": []
   },
   "outputs": [],
   "source": [
    "subset_stats = stats[stats[\"0\"].isin(snps)]"
   ]
  },
  {
   "cell_type": "code",
   "execution_count": 8,
   "id": "283bdd47-ee1d-4964-8f5c-50903e0a70c8",
   "metadata": {
    "execution": {
     "iopub.execute_input": "2021-09-24T15:41:35.634338Z",
     "iopub.status.busy": "2021-09-24T15:41:35.634029Z",
     "iopub.status.idle": "2021-09-24T15:41:36.078510Z",
     "shell.execute_reply": "2021-09-24T15:41:36.077958Z",
     "shell.execute_reply.started": "2021-09-24T15:41:35.634299Z"
    },
    "tags": []
   },
   "outputs": [],
   "source": [
    "summary_df = pd.merge(subset_snp_map, subset_stats, left_on=\"UKB_ID\", right_on=\"0\")"
   ]
  },
  {
   "cell_type": "code",
   "execution_count": 10,
   "id": "e774eb57-c9ea-4e71-b492-b815c9026fba",
   "metadata": {
    "execution": {
     "iopub.execute_input": "2021-09-24T15:42:45.707420Z",
     "iopub.status.busy": "2021-09-24T15:42:45.707156Z",
     "iopub.status.idle": "2021-09-24T15:42:46.136672Z",
     "shell.execute_reply": "2021-09-24T15:42:46.135950Z",
     "shell.execute_reply.started": "2021-09-24T15:42:45.707385Z"
    },
    "tags": []
   },
   "outputs": [],
   "source": [
    "summary_df[\"expected_allele\"] = summary_df[\"UKB_ID\"].map(allele_mp)"
   ]
  },
  {
   "cell_type": "code",
   "execution_count": 14,
   "id": "13f6c1fc-bc6c-471e-ab0a-57cc17bf7c91",
   "metadata": {
    "execution": {
     "iopub.execute_input": "2021-09-24T15:43:53.959441Z",
     "iopub.status.busy": "2021-09-24T15:43:53.959141Z",
     "iopub.status.idle": "2021-09-24T15:43:54.598304Z",
     "shell.execute_reply": "2021-09-24T15:43:54.597517Z",
     "shell.execute_reply.started": "2021-09-24T15:43:53.959407Z"
    },
    "tags": []
   },
   "outputs": [],
   "source": [
    "final_df = summary_df[[\"UKB_ID\", \"MGB_ID\", \"expected_allele\", \"mean\", \"std\"]]"
   ]
  },
  {
   "cell_type": "code",
   "execution_count": 15,
   "id": "851d5b52-9118-42c6-b488-e6eaca7f556b",
   "metadata": {
    "execution": {
     "iopub.execute_input": "2021-09-24T15:44:16.353470Z",
     "iopub.status.busy": "2021-09-24T15:44:16.353159Z",
     "iopub.status.idle": "2021-09-24T15:44:16.804457Z",
     "shell.execute_reply": "2021-09-24T15:44:16.803740Z",
     "shell.execute_reply.started": "2021-09-24T15:44:16.353435Z"
    }
   },
   "outputs": [],
   "source": [
    "final_df.columns = [\"UKB_ID\", \"MGB_ID\", \"EXPECTED_ALLELE\", \"MEAN\", \"STD\"]"
   ]
  },
  {
   "cell_type": "code",
   "execution_count": 18,
   "id": "0f14f7c8-935d-4b93-b2c0-a58dacc5dad6",
   "metadata": {
    "execution": {
     "iopub.execute_input": "2021-09-24T15:45:18.226092Z",
     "iopub.status.busy": "2021-09-24T15:45:18.225823Z",
     "iopub.status.idle": "2021-09-24T15:45:18.895411Z",
     "shell.execute_reply": "2021-09-24T15:45:18.894774Z",
     "shell.execute_reply.started": "2021-09-24T15:45:18.226060Z"
    },
    "tags": []
   },
   "outputs": [],
   "source": [
    "final_df.to_csv(\"MGB_10_all/ibd.age.old.summary.tsv\", sep=\"\\t\", index=False)"
   ]
  },
  {
   "cell_type": "code",
   "execution_count": 25,
   "id": "30bed729-b9fb-4a17-8d62-48a9e96aebf0",
   "metadata": {
    "execution": {
     "iopub.execute_input": "2021-09-24T15:47:22.629579Z",
     "iopub.status.busy": "2021-09-24T15:47:22.629325Z",
     "iopub.status.idle": "2021-09-24T15:47:23.847050Z",
     "shell.execute_reply": "2021-09-24T15:47:23.846317Z",
     "shell.execute_reply.started": "2021-09-24T15:47:22.629546Z"
    },
    "tags": []
   },
   "outputs": [
    {
     "data": {
      "text/plain": [
       "True"
      ]
     },
     "execution_count": 25,
     "metadata": {},
     "output_type": "execute_result"
    }
   ],
   "source": [
    "final_df[\"MGB_ID\"].isin(bim[1]).all()"
   ]
  },
  {
   "cell_type": "code",
   "execution_count": 27,
   "id": "ba0d9358-2bfd-4df0-b7bb-682ba6432505",
   "metadata": {
    "execution": {
     "iopub.execute_input": "2021-09-24T15:48:31.664027Z",
     "iopub.status.busy": "2021-09-24T15:48:31.663745Z",
     "iopub.status.idle": "2021-09-24T15:48:32.208630Z",
     "shell.execute_reply": "2021-09-24T15:48:32.208001Z",
     "shell.execute_reply.started": "2021-09-24T15:48:31.663994Z"
    },
    "tags": []
   },
   "outputs": [],
   "source": [
    "final_df[\"MGB_ID\"].to_csv(\"MGB_10_all/ibd.age.old.extract.txt\", header=None, index=False)"
   ]
  },
  {
   "cell_type": "markdown",
   "id": "5e283f51-49da-46dd-94a5-0933d5750a48",
   "metadata": {
    "tags": [],
    "toc-hr-collapsed": true
   },
   "source": [
    "#### T2D"
   ]
  },
  {
   "cell_type": "code",
   "execution_count": 129,
   "id": "db417f77-a6ce-449f-9feb-981ec0cb66c4",
   "metadata": {
    "execution": {
     "iopub.execute_input": "2021-09-24T21:40:36.611423Z",
     "iopub.status.busy": "2021-09-24T21:40:36.611138Z",
     "iopub.status.idle": "2021-09-24T21:40:47.228722Z",
     "shell.execute_reply": "2021-09-24T21:40:47.227933Z",
     "shell.execute_reply.started": "2021-09-24T21:40:36.611388Z"
    },
    "tags": []
   },
   "outputs": [],
   "source": [
    "geno = feather.read_feather(\"../../../cagi6-prs/features/baseline_snps-baseline_plus_samples/t2d_age_old/t2d.age.old.feather\")"
   ]
  },
  {
   "cell_type": "code",
   "execution_count": 130,
   "id": "9a72d01b-1ec9-4e71-9002-c09218e25c39",
   "metadata": {
    "execution": {
     "iopub.execute_input": "2021-09-24T21:40:49.873909Z",
     "iopub.status.busy": "2021-09-24T21:40:49.873690Z",
     "iopub.status.idle": "2021-09-24T21:40:50.324568Z",
     "shell.execute_reply": "2021-09-24T21:40:50.323869Z",
     "shell.execute_reply.started": "2021-09-24T21:40:49.873881Z"
    },
    "tags": []
   },
   "outputs": [],
   "source": [
    "snps = [\"_\".join(var.split(\"_\")[:-1]) for var in geno[\"index\"]]\n",
    "alleles = [var[-1] for var in geno[\"index\"]]\n",
    "allele_mp = dict(zip(snps, alleles))"
   ]
  },
  {
   "cell_type": "code",
   "execution_count": 131,
   "id": "61e41df4-16bb-48cf-a1ca-9dc3b6a08aae",
   "metadata": {
    "execution": {
     "iopub.execute_input": "2021-09-24T21:40:50.326283Z",
     "iopub.status.busy": "2021-09-24T21:40:50.326044Z",
     "iopub.status.idle": "2021-09-24T21:40:55.060729Z",
     "shell.execute_reply": "2021-09-24T21:40:55.059985Z",
     "shell.execute_reply.started": "2021-09-24T21:40:50.326254Z"
    },
    "tags": []
   },
   "outputs": [],
   "source": [
    "snp_map = pd.read_csv(\"../../../cagi6-prs/snps/ukb.extracted.intersected.mgb.snps.tsv\", sep=\"\\t\")"
   ]
  },
  {
   "cell_type": "code",
   "execution_count": 132,
   "id": "6c9665bf-edb7-4b16-952e-6afa8273d210",
   "metadata": {
    "execution": {
     "iopub.execute_input": "2021-09-24T21:40:55.061945Z",
     "iopub.status.busy": "2021-09-24T21:40:55.061724Z",
     "iopub.status.idle": "2021-09-24T21:40:56.197547Z",
     "shell.execute_reply": "2021-09-24T21:40:56.196770Z",
     "shell.execute_reply.started": "2021-09-24T21:40:55.061917Z"
    },
    "tags": []
   },
   "outputs": [],
   "source": [
    "subset_snp_map = snp_map[snp_map[\"UKB_ID\"].isin(snps)][[\"UKB_ID\", \"MGB_ID\"]]"
   ]
  },
  {
   "cell_type": "code",
   "execution_count": 133,
   "id": "50763bc4-544f-47b0-aadf-554eef6d06f3",
   "metadata": {
    "execution": {
     "iopub.execute_input": "2021-09-24T21:40:56.199002Z",
     "iopub.status.busy": "2021-09-24T21:40:56.198732Z",
     "iopub.status.idle": "2021-09-24T21:40:56.788754Z",
     "shell.execute_reply": "2021-09-24T21:40:56.787974Z",
     "shell.execute_reply.started": "2021-09-24T21:40:56.198965Z"
    },
    "tags": []
   },
   "outputs": [],
   "source": [
    "stats = pd.read_csv(\"../../../cagi6-prs/features/baseline_snps-baseline_plus_samples/t2d_age_old/t2d.age.old.train.stats.tsv\", sep=\"\\t\")"
   ]
  },
  {
   "cell_type": "code",
   "execution_count": 134,
   "id": "717fb6e7-3e42-4d36-8891-866a0b8ee854",
   "metadata": {
    "execution": {
     "iopub.execute_input": "2021-09-24T21:40:56.790049Z",
     "iopub.status.busy": "2021-09-24T21:40:56.789835Z",
     "iopub.status.idle": "2021-09-24T21:40:57.502805Z",
     "shell.execute_reply": "2021-09-24T21:40:57.502111Z",
     "shell.execute_reply.started": "2021-09-24T21:40:56.790012Z"
    },
    "tags": []
   },
   "outputs": [],
   "source": [
    "subset_stats = stats[stats[\"0\"].isin(snps)]"
   ]
  },
  {
   "cell_type": "code",
   "execution_count": 135,
   "id": "b708e1e4-84f2-416b-aa72-83bba71d9ed0",
   "metadata": {
    "execution": {
     "iopub.execute_input": "2021-09-24T21:40:57.505232Z",
     "iopub.status.busy": "2021-09-24T21:40:57.505006Z",
     "iopub.status.idle": "2021-09-24T21:40:57.978992Z",
     "shell.execute_reply": "2021-09-24T21:40:57.977963Z",
     "shell.execute_reply.started": "2021-09-24T21:40:57.505203Z"
    },
    "tags": []
   },
   "outputs": [],
   "source": [
    "summary_df = pd.merge(subset_snp_map, subset_stats, left_on=\"UKB_ID\", right_on=\"0\")"
   ]
  },
  {
   "cell_type": "code",
   "execution_count": 136,
   "id": "2efddc2a-029d-4bba-a7d4-4e97ff11b332",
   "metadata": {
    "execution": {
     "iopub.execute_input": "2021-09-24T21:40:57.981727Z",
     "iopub.status.busy": "2021-09-24T21:40:57.981352Z",
     "iopub.status.idle": "2021-09-24T21:40:58.483404Z",
     "shell.execute_reply": "2021-09-24T21:40:58.482690Z",
     "shell.execute_reply.started": "2021-09-24T21:40:57.981684Z"
    },
    "tags": []
   },
   "outputs": [],
   "source": [
    "summary_df[\"expected_allele\"] = summary_df[\"UKB_ID\"].map(allele_mp)"
   ]
  },
  {
   "cell_type": "code",
   "execution_count": 137,
   "id": "ff89c8be-37d4-4759-ac24-8ad5a65a35ef",
   "metadata": {
    "execution": {
     "iopub.execute_input": "2021-09-24T21:40:58.485153Z",
     "iopub.status.busy": "2021-09-24T21:40:58.484796Z",
     "iopub.status.idle": "2021-09-24T21:40:59.131607Z",
     "shell.execute_reply": "2021-09-24T21:40:59.130867Z",
     "shell.execute_reply.started": "2021-09-24T21:40:58.485111Z"
    },
    "tags": []
   },
   "outputs": [],
   "source": [
    "final_df = summary_df[[\"UKB_ID\", \"MGB_ID\", \"expected_allele\", \"mean\", \"std\"]]"
   ]
  },
  {
   "cell_type": "code",
   "execution_count": 138,
   "id": "88845190-1478-4776-9a15-8af7b26821aa",
   "metadata": {
    "execution": {
     "iopub.execute_input": "2021-09-24T21:40:59.132837Z",
     "iopub.status.busy": "2021-09-24T21:40:59.132612Z",
     "iopub.status.idle": "2021-09-24T21:40:59.701609Z",
     "shell.execute_reply": "2021-09-24T21:40:59.700874Z",
     "shell.execute_reply.started": "2021-09-24T21:40:59.132795Z"
    },
    "tags": []
   },
   "outputs": [],
   "source": [
    "final_df.columns = [\"UKB_ID\", \"MGB_ID\", \"EXPECTED_ALLELE\", \"MEAN\", \"STD\"]"
   ]
  },
  {
   "cell_type": "code",
   "execution_count": 139,
   "id": "969bea39-eaaa-402a-a337-18fee753833a",
   "metadata": {
    "execution": {
     "iopub.execute_input": "2021-09-24T21:40:59.703191Z",
     "iopub.status.busy": "2021-09-24T21:40:59.702868Z",
     "iopub.status.idle": "2021-09-24T21:41:00.308469Z",
     "shell.execute_reply": "2021-09-24T21:41:00.307491Z",
     "shell.execute_reply.started": "2021-09-24T21:40:59.703148Z"
    },
    "tags": []
   },
   "outputs": [],
   "source": [
    "final_df.to_csv(\"MGB_10_all/t2d.age.old.summary.tsv\", sep=\"\\t\", index=False)"
   ]
  },
  {
   "cell_type": "code",
   "execution_count": 140,
   "id": "9e6ae919-ec6a-45d8-b338-1014e5e5348d",
   "metadata": {
    "execution": {
     "iopub.execute_input": "2021-09-24T21:41:00.310398Z",
     "iopub.status.busy": "2021-09-24T21:41:00.310036Z",
     "iopub.status.idle": "2021-09-24T21:41:01.152039Z",
     "shell.execute_reply": "2021-09-24T21:41:01.151200Z",
     "shell.execute_reply.started": "2021-09-24T21:41:00.310351Z"
    }
   },
   "outputs": [
    {
     "data": {
      "text/plain": [
       "(3462, 5)"
      ]
     },
     "execution_count": 140,
     "metadata": {},
     "output_type": "execute_result"
    }
   ],
   "source": [
    "final_df.shape"
   ]
  },
  {
   "cell_type": "code",
   "execution_count": 141,
   "id": "e54c7101-a563-4e73-a771-336248d3324f",
   "metadata": {
    "execution": {
     "iopub.execute_input": "2021-09-24T21:41:01.153935Z",
     "iopub.status.busy": "2021-09-24T21:41:01.153572Z",
     "iopub.status.idle": "2021-09-24T21:41:02.330380Z",
     "shell.execute_reply": "2021-09-24T21:41:02.329550Z",
     "shell.execute_reply.started": "2021-09-24T21:41:01.153890Z"
    },
    "tags": []
   },
   "outputs": [
    {
     "data": {
      "text/plain": [
       "True"
      ]
     },
     "execution_count": 141,
     "metadata": {},
     "output_type": "execute_result"
    }
   ],
   "source": [
    "final_df[\"MGB_ID\"].isin(bim[1]).all()"
   ]
  },
  {
   "cell_type": "code",
   "execution_count": 142,
   "id": "172cb29f-1622-4bc3-8b96-3ef1df435e1e",
   "metadata": {
    "execution": {
     "iopub.execute_input": "2021-09-24T21:41:04.255945Z",
     "iopub.status.busy": "2021-09-24T21:41:04.255715Z",
     "iopub.status.idle": "2021-09-24T21:41:04.753818Z",
     "shell.execute_reply": "2021-09-24T21:41:04.753068Z",
     "shell.execute_reply.started": "2021-09-24T21:41:04.255916Z"
    },
    "tags": []
   },
   "outputs": [],
   "source": [
    "final_df[\"MGB_ID\"].to_csv(\"MGB_10_all/t2d.age.old.extract.txt\", header=None, index=False)"
   ]
  },
  {
   "cell_type": "markdown",
   "id": "945550e2-0b82-4cf9-8109-c3a614946fa7",
   "metadata": {
    "tags": [],
    "toc-hr-collapsed": true
   },
   "source": [
    "## Part 2 - Build a feather file from raw and double check it matches model allele\n",
    "Basis for `make-feather-for-loader.py` script"
   ]
  },
  {
   "cell_type": "code",
   "execution_count": 28,
   "id": "434de644-b46c-4644-b75f-cba31decbe7d",
   "metadata": {
    "execution": {
     "iopub.execute_input": "2021-09-24T15:52:55.584996Z",
     "iopub.status.busy": "2021-09-24T15:52:55.584689Z",
     "iopub.status.idle": "2021-09-24T15:52:56.323473Z",
     "shell.execute_reply": "2021-09-24T15:52:56.322761Z",
     "shell.execute_reply.started": "2021-09-24T15:52:55.584963Z"
    },
    "tags": []
   },
   "outputs": [],
   "source": [
    "raw = pd.read_csv(\"MGB_10_all/MGB_10_all.raw\", delim_whitespace=True)"
   ]
  },
  {
   "cell_type": "code",
   "execution_count": 30,
   "id": "0e310d3e-ab48-40ad-8b29-1aea8af90b47",
   "metadata": {
    "execution": {
     "iopub.execute_input": "2021-09-24T15:53:03.140198Z",
     "iopub.status.busy": "2021-09-24T15:53:03.139933Z",
     "iopub.status.idle": "2021-09-24T15:53:03.679247Z",
     "shell.execute_reply": "2021-09-24T15:53:03.678462Z",
     "shell.execute_reply.started": "2021-09-24T15:53:03.140164Z"
    },
    "tags": []
   },
   "outputs": [],
   "source": [
    "IIDs = raw[\"IID\"]"
   ]
  },
  {
   "cell_type": "code",
   "execution_count": 31,
   "id": "007a43d8-4f55-4a8d-9fad-60d4c86e8d08",
   "metadata": {
    "execution": {
     "iopub.execute_input": "2021-09-24T15:53:07.014888Z",
     "iopub.status.busy": "2021-09-24T15:53:07.014618Z",
     "iopub.status.idle": "2021-09-24T15:53:07.414614Z",
     "shell.execute_reply": "2021-09-24T15:53:07.413982Z",
     "shell.execute_reply.started": "2021-09-24T15:53:07.014854Z"
    },
    "tags": []
   },
   "outputs": [],
   "source": [
    "raw = raw.iloc[:, 6:].T\n",
    "raw.columns = IIDs\n",
    "raw.index.name = \"0\""
   ]
  },
  {
   "cell_type": "code",
   "execution_count": 33,
   "id": "dae3dfb4-b2bc-49b2-9fa0-23b8a23dccfe",
   "metadata": {
    "execution": {
     "iopub.execute_input": "2021-09-24T15:53:48.048330Z",
     "iopub.status.busy": "2021-09-24T15:53:48.048033Z",
     "iopub.status.idle": "2021-09-24T15:53:48.522898Z",
     "shell.execute_reply": "2021-09-24T15:53:48.522105Z",
     "shell.execute_reply.started": "2021-09-24T15:53:48.048297Z"
    }
   },
   "outputs": [],
   "source": [
    "summary = pd.read_csv(\"MGB_10_all/ibd.age.old.summary.tsv\", sep=\"\\t\")"
   ]
  },
  {
   "cell_type": "code",
   "execution_count": 37,
   "id": "9f7a7c56-4fd7-4304-a161-60cf937ad60f",
   "metadata": {
    "execution": {
     "iopub.execute_input": "2021-09-24T15:55:42.648498Z",
     "iopub.status.busy": "2021-09-24T15:55:42.648188Z",
     "iopub.status.idle": "2021-09-24T15:55:43.336049Z",
     "shell.execute_reply": "2021-09-24T15:55:43.335187Z",
     "shell.execute_reply.started": "2021-09-24T15:55:42.648463Z"
    },
    "tags": []
   },
   "outputs": [],
   "source": [
    "snps = [\"_\".join(var.split(\"_\")[:-1]) for var in raw.index]\n",
    "alleles = [var[-1] for var in raw.index]\n",
    "#allele_mp = dict(zip(snps, alleles))"
   ]
  },
  {
   "cell_type": "code",
   "execution_count": 46,
   "id": "e367c80b-4d19-4357-af4e-dee37d46becb",
   "metadata": {
    "execution": {
     "iopub.execute_input": "2021-09-24T15:59:58.041544Z",
     "iopub.status.busy": "2021-09-24T15:59:58.041303Z",
     "iopub.status.idle": "2021-09-24T15:59:58.651134Z",
     "shell.execute_reply": "2021-09-24T15:59:58.650162Z",
     "shell.execute_reply.started": "2021-09-24T15:59:58.041513Z"
    },
    "tags": []
   },
   "outputs": [],
   "source": [
    "raw_summary = pd.DataFrame({\"INDEX\":raw.index, \"MGB_ID\":snps, \"ACTUAL_ALLELE\":alleles})"
   ]
  },
  {
   "cell_type": "code",
   "execution_count": 53,
   "id": "4e01baed-c9ce-44f6-8f66-cad1a05c01ba",
   "metadata": {
    "execution": {
     "iopub.execute_input": "2021-09-24T17:13:24.586919Z",
     "iopub.status.busy": "2021-09-24T17:13:24.586625Z",
     "iopub.status.idle": "2021-09-24T17:13:25.113287Z",
     "shell.execute_reply": "2021-09-24T17:13:25.112174Z",
     "shell.execute_reply.started": "2021-09-24T17:13:24.586886Z"
    },
    "tags": []
   },
   "outputs": [],
   "source": [
    "merged_summary = pd.merge(raw_summary, summary, on=\"MGB_ID\").set_index(\"INDEX\")"
   ]
  },
  {
   "cell_type": "code",
   "execution_count": 58,
   "id": "b38620c2-e2f9-4f28-a4a6-363dc1e9d533",
   "metadata": {
    "execution": {
     "iopub.execute_input": "2021-09-24T17:14:08.500343Z",
     "iopub.status.busy": "2021-09-24T17:14:08.500005Z",
     "iopub.status.idle": "2021-09-24T17:14:08.941198Z",
     "shell.execute_reply": "2021-09-24T17:14:08.940398Z",
     "shell.execute_reply.started": "2021-09-24T17:14:08.500305Z"
    },
    "tags": []
   },
   "outputs": [],
   "source": [
    "ordered_merged_summary = merged_summary.loc[raw.index]"
   ]
  },
  {
   "cell_type": "code",
   "execution_count": 65,
   "id": "fc5e0a03-b034-49f0-b862-9928271996b3",
   "metadata": {
    "execution": {
     "iopub.execute_input": "2021-09-24T17:16:17.391737Z",
     "iopub.status.busy": "2021-09-24T17:16:17.391486Z",
     "iopub.status.idle": "2021-09-24T17:16:17.929456Z",
     "shell.execute_reply": "2021-09-24T17:16:17.928744Z",
     "shell.execute_reply.started": "2021-09-24T17:16:17.391705Z"
    },
    "tags": []
   },
   "outputs": [],
   "source": [
    "mismatched_pos = np.where(ordered_merged_summary[\"ACTUAL_ALLELE\"] != ordered_merged_summary[\"EXPECTED_ALLELE\"])[0]"
   ]
  },
  {
   "cell_type": "code",
   "execution_count": 70,
   "id": "f4525a28-5e45-4ff7-83da-cf0f97d8d5b8",
   "metadata": {
    "execution": {
     "iopub.execute_input": "2021-09-24T17:17:05.559422Z",
     "iopub.status.busy": "2021-09-24T17:17:05.559159Z",
     "iopub.status.idle": "2021-09-24T17:17:06.071931Z",
     "shell.execute_reply": "2021-09-24T17:17:06.071227Z",
     "shell.execute_reply.started": "2021-09-24T17:17:05.559389Z"
    },
    "tags": []
   },
   "outputs": [],
   "source": [
    "raw.iloc[mismatched_pos, :] = 2 - raw.iloc[mismatched_pos, :]"
   ]
  },
  {
   "cell_type": "code",
   "execution_count": 74,
   "id": "45e9914e-2418-4e07-bb0d-cb4262f15cdb",
   "metadata": {
    "execution": {
     "iopub.execute_input": "2021-09-24T17:18:31.797425Z",
     "iopub.status.busy": "2021-09-24T17:18:31.797192Z",
     "iopub.status.idle": "2021-09-24T17:18:32.282205Z",
     "shell.execute_reply": "2021-09-24T17:18:32.281508Z",
     "shell.execute_reply.started": "2021-09-24T17:18:31.797394Z"
    }
   },
   "outputs": [],
   "source": [
    "zraw = raw.subtract(ordered_merged_summary[\"MEAN\"].values, axis=\"index\")\n",
    "zraw = zraw.div(ordered_merged_summary[\"STD\"].values, axis=\"index\")"
   ]
  },
  {
   "cell_type": "code",
   "execution_count": 76,
   "id": "a0159b6c-43fc-43e5-b399-d12fff6d83e0",
   "metadata": {
    "execution": {
     "iopub.execute_input": "2021-09-24T17:28:26.458506Z",
     "iopub.status.busy": "2021-09-24T17:28:26.458258Z",
     "iopub.status.idle": "2021-09-24T17:28:26.914755Z",
     "shell.execute_reply": "2021-09-24T17:28:26.914050Z",
     "shell.execute_reply.started": "2021-09-24T17:28:26.458473Z"
    }
   },
   "outputs": [
    {
     "data": {
      "text/html": [
       "<div>\n",
       "<style scoped>\n",
       "    .dataframe tbody tr th:only-of-type {\n",
       "        vertical-align: middle;\n",
       "    }\n",
       "\n",
       "    .dataframe tbody tr th {\n",
       "        vertical-align: top;\n",
       "    }\n",
       "\n",
       "    .dataframe thead th {\n",
       "        text-align: right;\n",
       "    }\n",
       "</style>\n",
       "<table border=\"1\" class=\"dataframe\">\n",
       "  <thead>\n",
       "    <tr style=\"text-align: right;\">\n",
       "      <th></th>\n",
       "      <th>0</th>\n",
       "      <th>MGB00001</th>\n",
       "      <th>MGB00002</th>\n",
       "      <th>MGB00003</th>\n",
       "      <th>MGB00004</th>\n",
       "      <th>MGB00005</th>\n",
       "      <th>MGB00006</th>\n",
       "      <th>MGB00007</th>\n",
       "      <th>MGB00008</th>\n",
       "      <th>MGB00009</th>\n",
       "      <th>MGB00010</th>\n",
       "    </tr>\n",
       "  </thead>\n",
       "  <tbody>\n",
       "    <tr>\n",
       "      <th>0</th>\n",
       "      <td>1:1776269_C_A_C</td>\n",
       "      <td>-0.175405</td>\n",
       "      <td>-0.175405</td>\n",
       "      <td>-0.175405</td>\n",
       "      <td>-0.175405</td>\n",
       "      <td>-0.175405</td>\n",
       "      <td>-0.175405</td>\n",
       "      <td>-0.175405</td>\n",
       "      <td>-0.175405</td>\n",
       "      <td>-0.175405</td>\n",
       "      <td>-0.175405</td>\n",
       "    </tr>\n",
       "    <tr>\n",
       "      <th>1</th>\n",
       "      <td>1:1781220_T_C_T</td>\n",
       "      <td>-0.584103</td>\n",
       "      <td>-0.584103</td>\n",
       "      <td>-0.584103</td>\n",
       "      <td>-0.584103</td>\n",
       "      <td>-0.584103</td>\n",
       "      <td>-0.584103</td>\n",
       "      <td>-0.584103</td>\n",
       "      <td>-0.584103</td>\n",
       "      <td>-0.584103</td>\n",
       "      <td>-0.584103</td>\n",
       "    </tr>\n",
       "    <tr>\n",
       "      <th>2</th>\n",
       "      <td>1:1796616_G_A_G</td>\n",
       "      <td>-0.596522</td>\n",
       "      <td>-0.596522</td>\n",
       "      <td>-0.596522</td>\n",
       "      <td>-0.596522</td>\n",
       "      <td>-0.596522</td>\n",
       "      <td>-0.596522</td>\n",
       "      <td>-0.596522</td>\n",
       "      <td>-0.596522</td>\n",
       "      <td>-0.596522</td>\n",
       "      <td>-0.596522</td>\n",
       "    </tr>\n",
       "    <tr>\n",
       "      <th>3</th>\n",
       "      <td>1:1860087_C_T_T</td>\n",
       "      <td>0.138641</td>\n",
       "      <td>0.138641</td>\n",
       "      <td>0.138641</td>\n",
       "      <td>0.138641</td>\n",
       "      <td>0.138641</td>\n",
       "      <td>0.138641</td>\n",
       "      <td>0.138641</td>\n",
       "      <td>0.138641</td>\n",
       "      <td>0.138641</td>\n",
       "      <td>0.138641</td>\n",
       "    </tr>\n",
       "    <tr>\n",
       "      <th>4</th>\n",
       "      <td>1:1864526_C_T_T</td>\n",
       "      <td>0.144202</td>\n",
       "      <td>0.144202</td>\n",
       "      <td>0.144202</td>\n",
       "      <td>0.144202</td>\n",
       "      <td>0.144202</td>\n",
       "      <td>0.144202</td>\n",
       "      <td>0.144202</td>\n",
       "      <td>0.144202</td>\n",
       "      <td>0.144202</td>\n",
       "      <td>0.144202</td>\n",
       "    </tr>\n",
       "    <tr>\n",
       "      <th>...</th>\n",
       "      <td>...</td>\n",
       "      <td>...</td>\n",
       "      <td>...</td>\n",
       "      <td>...</td>\n",
       "      <td>...</td>\n",
       "      <td>...</td>\n",
       "      <td>...</td>\n",
       "      <td>...</td>\n",
       "      <td>...</td>\n",
       "      <td>...</td>\n",
       "      <td>...</td>\n",
       "    </tr>\n",
       "    <tr>\n",
       "      <th>5719</th>\n",
       "      <td>22:39774525_A_G_G</td>\n",
       "      <td>0.572654</td>\n",
       "      <td>0.572654</td>\n",
       "      <td>0.572654</td>\n",
       "      <td>0.572654</td>\n",
       "      <td>0.572654</td>\n",
       "      <td>0.572654</td>\n",
       "      <td>0.572654</td>\n",
       "      <td>0.572654</td>\n",
       "      <td>0.572654</td>\n",
       "      <td>0.572654</td>\n",
       "    </tr>\n",
       "    <tr>\n",
       "      <th>5720</th>\n",
       "      <td>22:43561675_T_G_G</td>\n",
       "      <td>0.463974</td>\n",
       "      <td>0.463974</td>\n",
       "      <td>0.463974</td>\n",
       "      <td>0.463974</td>\n",
       "      <td>0.463974</td>\n",
       "      <td>0.463974</td>\n",
       "      <td>0.463974</td>\n",
       "      <td>0.463974</td>\n",
       "      <td>0.463974</td>\n",
       "      <td>0.463974</td>\n",
       "    </tr>\n",
       "    <tr>\n",
       "      <th>5721</th>\n",
       "      <td>22:43561982_C_T_T</td>\n",
       "      <td>0.463861</td>\n",
       "      <td>0.463861</td>\n",
       "      <td>0.463861</td>\n",
       "      <td>0.463861</td>\n",
       "      <td>0.463861</td>\n",
       "      <td>0.463861</td>\n",
       "      <td>0.463861</td>\n",
       "      <td>0.463861</td>\n",
       "      <td>0.463861</td>\n",
       "      <td>0.463861</td>\n",
       "    </tr>\n",
       "    <tr>\n",
       "      <th>5722</th>\n",
       "      <td>22:43562306_A_G_G</td>\n",
       "      <td>0.474088</td>\n",
       "      <td>0.474088</td>\n",
       "      <td>0.474088</td>\n",
       "      <td>0.474088</td>\n",
       "      <td>0.474088</td>\n",
       "      <td>0.474088</td>\n",
       "      <td>0.474088</td>\n",
       "      <td>0.474088</td>\n",
       "      <td>0.474088</td>\n",
       "      <td>0.474088</td>\n",
       "    </tr>\n",
       "    <tr>\n",
       "      <th>5723</th>\n",
       "      <td>22:50428839_T_C_C</td>\n",
       "      <td>-0.025420</td>\n",
       "      <td>-0.025420</td>\n",
       "      <td>-0.025420</td>\n",
       "      <td>-0.025420</td>\n",
       "      <td>-0.025420</td>\n",
       "      <td>-0.025420</td>\n",
       "      <td>-0.025420</td>\n",
       "      <td>-0.025420</td>\n",
       "      <td>-0.025420</td>\n",
       "      <td>-0.025420</td>\n",
       "    </tr>\n",
       "  </tbody>\n",
       "</table>\n",
       "<p>5724 rows × 11 columns</p>\n",
       "</div>"
      ],
      "text/plain": [
       "                      0  MGB00001  MGB00002  MGB00003  MGB00004  MGB00005  \\\n",
       "0       1:1776269_C_A_C -0.175405 -0.175405 -0.175405 -0.175405 -0.175405   \n",
       "1       1:1781220_T_C_T -0.584103 -0.584103 -0.584103 -0.584103 -0.584103   \n",
       "2       1:1796616_G_A_G -0.596522 -0.596522 -0.596522 -0.596522 -0.596522   \n",
       "3       1:1860087_C_T_T  0.138641  0.138641  0.138641  0.138641  0.138641   \n",
       "4       1:1864526_C_T_T  0.144202  0.144202  0.144202  0.144202  0.144202   \n",
       "...                 ...       ...       ...       ...       ...       ...   \n",
       "5719  22:39774525_A_G_G  0.572654  0.572654  0.572654  0.572654  0.572654   \n",
       "5720  22:43561675_T_G_G  0.463974  0.463974  0.463974  0.463974  0.463974   \n",
       "5721  22:43561982_C_T_T  0.463861  0.463861  0.463861  0.463861  0.463861   \n",
       "5722  22:43562306_A_G_G  0.474088  0.474088  0.474088  0.474088  0.474088   \n",
       "5723  22:50428839_T_C_C -0.025420 -0.025420 -0.025420 -0.025420 -0.025420   \n",
       "\n",
       "      MGB00006  MGB00007  MGB00008  MGB00009  MGB00010  \n",
       "0    -0.175405 -0.175405 -0.175405 -0.175405 -0.175405  \n",
       "1    -0.584103 -0.584103 -0.584103 -0.584103 -0.584103  \n",
       "2    -0.596522 -0.596522 -0.596522 -0.596522 -0.596522  \n",
       "3     0.138641  0.138641  0.138641  0.138641  0.138641  \n",
       "4     0.144202  0.144202  0.144202  0.144202  0.144202  \n",
       "...        ...       ...       ...       ...       ...  \n",
       "5719  0.572654  0.572654  0.572654  0.572654  0.572654  \n",
       "5720  0.463974  0.463974  0.463974  0.463974  0.463974  \n",
       "5721  0.463861  0.463861  0.463861  0.463861  0.463861  \n",
       "5722  0.474088  0.474088  0.474088  0.474088  0.474088  \n",
       "5723 -0.025420 -0.025420 -0.025420 -0.025420 -0.025420  \n",
       "\n",
       "[5724 rows x 11 columns]"
      ]
     },
     "execution_count": 76,
     "metadata": {},
     "output_type": "execute_result"
    }
   ],
   "source": [
    "feather.read_feather(\"MGB_10_all/MGB_10_all.zscored.feather\")"
   ]
  },
  {
   "cell_type": "markdown",
   "id": "b2578d5c-e44d-405c-b3e7-80ef62c378fb",
   "metadata": {},
   "source": [
    "#### 100x1000"
   ]
  },
  {
   "cell_type": "code",
   "execution_count": 151,
   "id": "2e25d352-9258-439f-878d-021afe227351",
   "metadata": {
    "execution": {
     "iopub.execute_input": "2021-09-22T06:30:32.666617Z",
     "iopub.status.busy": "2021-09-22T06:30:32.666223Z",
     "iopub.status.idle": "2021-09-22T06:30:33.527765Z",
     "shell.execute_reply": "2021-09-22T06:30:33.527040Z",
     "shell.execute_reply.started": "2021-09-22T06:30:32.666570Z"
    },
    "tags": []
   },
   "outputs": [],
   "source": [
    "feather.write_feather(raw.reset_index(), \"MGB_100_1000.feather\")"
   ]
  },
  {
   "cell_type": "code",
   "execution_count": 152,
   "id": "f3d5e04b-0abd-45be-a4d2-fc30bcd4fa65",
   "metadata": {
    "execution": {
     "iopub.execute_input": "2021-09-22T06:30:34.037442Z",
     "iopub.status.busy": "2021-09-22T06:30:34.037092Z",
     "iopub.status.idle": "2021-09-22T06:30:34.959861Z",
     "shell.execute_reply": "2021-09-22T06:30:34.958973Z",
     "shell.execute_reply.started": "2021-09-22T06:30:34.037396Z"
    },
    "tags": []
   },
   "outputs": [
    {
     "data": {
      "text/html": [
       "<div>\n",
       "<style scoped>\n",
       "    .dataframe tbody tr th:only-of-type {\n",
       "        vertical-align: middle;\n",
       "    }\n",
       "\n",
       "    .dataframe tbody tr th {\n",
       "        vertical-align: top;\n",
       "    }\n",
       "\n",
       "    .dataframe thead th {\n",
       "        text-align: right;\n",
       "    }\n",
       "</style>\n",
       "<table border=\"1\" class=\"dataframe\">\n",
       "  <thead>\n",
       "    <tr style=\"text-align: right;\">\n",
       "      <th></th>\n",
       "      <th>0</th>\n",
       "      <th>MGB00001</th>\n",
       "      <th>MGB00002</th>\n",
       "      <th>MGB00003</th>\n",
       "      <th>MGB00004</th>\n",
       "      <th>MGB00005</th>\n",
       "      <th>MGB00006</th>\n",
       "      <th>MGB00007</th>\n",
       "      <th>MGB00008</th>\n",
       "      <th>MGB00009</th>\n",
       "      <th>...</th>\n",
       "      <th>MGB00091</th>\n",
       "      <th>MGB00092</th>\n",
       "      <th>MGB00093</th>\n",
       "      <th>MGB00094</th>\n",
       "      <th>MGB00095</th>\n",
       "      <th>MGB00096</th>\n",
       "      <th>MGB00097</th>\n",
       "      <th>MGB00098</th>\n",
       "      <th>MGB00099</th>\n",
       "      <th>MGB00100</th>\n",
       "    </tr>\n",
       "  </thead>\n",
       "  <tbody>\n",
       "    <tr>\n",
       "      <th>0</th>\n",
       "      <td>rs3131972_A</td>\n",
       "      <td>1</td>\n",
       "      <td>0</td>\n",
       "      <td>0</td>\n",
       "      <td>2</td>\n",
       "      <td>1</td>\n",
       "      <td>2</td>\n",
       "      <td>1</td>\n",
       "      <td>2</td>\n",
       "      <td>0</td>\n",
       "      <td>...</td>\n",
       "      <td>1</td>\n",
       "      <td>1</td>\n",
       "      <td>1</td>\n",
       "      <td>2</td>\n",
       "      <td>1</td>\n",
       "      <td>0</td>\n",
       "      <td>1</td>\n",
       "      <td>1</td>\n",
       "      <td>0</td>\n",
       "      <td>1</td>\n",
       "    </tr>\n",
       "    <tr>\n",
       "      <th>1</th>\n",
       "      <td>1:840327_G_A_A</td>\n",
       "      <td>1</td>\n",
       "      <td>1</td>\n",
       "      <td>0</td>\n",
       "      <td>1</td>\n",
       "      <td>0</td>\n",
       "      <td>0</td>\n",
       "      <td>2</td>\n",
       "      <td>2</td>\n",
       "      <td>1</td>\n",
       "      <td>...</td>\n",
       "      <td>2</td>\n",
       "      <td>1</td>\n",
       "      <td>0</td>\n",
       "      <td>0</td>\n",
       "      <td>1</td>\n",
       "      <td>2</td>\n",
       "      <td>0</td>\n",
       "      <td>2</td>\n",
       "      <td>0</td>\n",
       "      <td>2</td>\n",
       "    </tr>\n",
       "    <tr>\n",
       "      <th>2</th>\n",
       "      <td>rs4970382_T</td>\n",
       "      <td>2</td>\n",
       "      <td>1</td>\n",
       "      <td>2</td>\n",
       "      <td>1</td>\n",
       "      <td>0</td>\n",
       "      <td>1</td>\n",
       "      <td>2</td>\n",
       "      <td>1</td>\n",
       "      <td>0</td>\n",
       "      <td>...</td>\n",
       "      <td>1</td>\n",
       "      <td>1</td>\n",
       "      <td>1</td>\n",
       "      <td>2</td>\n",
       "      <td>0</td>\n",
       "      <td>1</td>\n",
       "      <td>1</td>\n",
       "      <td>1</td>\n",
       "      <td>1</td>\n",
       "      <td>1</td>\n",
       "    </tr>\n",
       "    <tr>\n",
       "      <th>3</th>\n",
       "      <td>1:846808_C_T_C</td>\n",
       "      <td>1</td>\n",
       "      <td>0</td>\n",
       "      <td>1</td>\n",
       "      <td>0</td>\n",
       "      <td>1</td>\n",
       "      <td>0</td>\n",
       "      <td>0</td>\n",
       "      <td>1</td>\n",
       "      <td>2</td>\n",
       "      <td>...</td>\n",
       "      <td>0</td>\n",
       "      <td>1</td>\n",
       "      <td>0</td>\n",
       "      <td>1</td>\n",
       "      <td>1</td>\n",
       "      <td>1</td>\n",
       "      <td>0</td>\n",
       "      <td>1</td>\n",
       "      <td>0</td>\n",
       "      <td>1</td>\n",
       "    </tr>\n",
       "    <tr>\n",
       "      <th>4</th>\n",
       "      <td>Affx-15447216_C</td>\n",
       "      <td>0</td>\n",
       "      <td>1</td>\n",
       "      <td>0</td>\n",
       "      <td>2</td>\n",
       "      <td>2</td>\n",
       "      <td>1</td>\n",
       "      <td>1</td>\n",
       "      <td>0</td>\n",
       "      <td>1</td>\n",
       "      <td>...</td>\n",
       "      <td>1</td>\n",
       "      <td>1</td>\n",
       "      <td>0</td>\n",
       "      <td>2</td>\n",
       "      <td>2</td>\n",
       "      <td>1</td>\n",
       "      <td>1</td>\n",
       "      <td>1</td>\n",
       "      <td>0</td>\n",
       "      <td>0</td>\n",
       "    </tr>\n",
       "    <tr>\n",
       "      <th>...</th>\n",
       "      <td>...</td>\n",
       "      <td>...</td>\n",
       "      <td>...</td>\n",
       "      <td>...</td>\n",
       "      <td>...</td>\n",
       "      <td>...</td>\n",
       "      <td>...</td>\n",
       "      <td>...</td>\n",
       "      <td>...</td>\n",
       "      <td>...</td>\n",
       "      <td>...</td>\n",
       "      <td>...</td>\n",
       "      <td>...</td>\n",
       "      <td>...</td>\n",
       "      <td>...</td>\n",
       "      <td>...</td>\n",
       "      <td>...</td>\n",
       "      <td>...</td>\n",
       "      <td>...</td>\n",
       "      <td>...</td>\n",
       "      <td>...</td>\n",
       "    </tr>\n",
       "    <tr>\n",
       "      <th>995</th>\n",
       "      <td>1:4496256_C_T_T</td>\n",
       "      <td>2</td>\n",
       "      <td>2</td>\n",
       "      <td>0</td>\n",
       "      <td>1</td>\n",
       "      <td>1</td>\n",
       "      <td>1</td>\n",
       "      <td>0</td>\n",
       "      <td>1</td>\n",
       "      <td>1</td>\n",
       "      <td>...</td>\n",
       "      <td>0</td>\n",
       "      <td>2</td>\n",
       "      <td>1</td>\n",
       "      <td>2</td>\n",
       "      <td>1</td>\n",
       "      <td>1</td>\n",
       "      <td>0</td>\n",
       "      <td>1</td>\n",
       "      <td>1</td>\n",
       "      <td>0</td>\n",
       "    </tr>\n",
       "    <tr>\n",
       "      <th>996</th>\n",
       "      <td>1:4496659_C_T_T</td>\n",
       "      <td>0</td>\n",
       "      <td>1</td>\n",
       "      <td>0</td>\n",
       "      <td>2</td>\n",
       "      <td>0</td>\n",
       "      <td>2</td>\n",
       "      <td>0</td>\n",
       "      <td>1</td>\n",
       "      <td>1</td>\n",
       "      <td>...</td>\n",
       "      <td>2</td>\n",
       "      <td>0</td>\n",
       "      <td>0</td>\n",
       "      <td>1</td>\n",
       "      <td>1</td>\n",
       "      <td>0</td>\n",
       "      <td>1</td>\n",
       "      <td>1</td>\n",
       "      <td>1</td>\n",
       "      <td>0</td>\n",
       "    </tr>\n",
       "    <tr>\n",
       "      <th>997</th>\n",
       "      <td>1:4497097_G_A_A</td>\n",
       "      <td>1</td>\n",
       "      <td>1</td>\n",
       "      <td>1</td>\n",
       "      <td>1</td>\n",
       "      <td>1</td>\n",
       "      <td>1</td>\n",
       "      <td>0</td>\n",
       "      <td>2</td>\n",
       "      <td>2</td>\n",
       "      <td>...</td>\n",
       "      <td>0</td>\n",
       "      <td>1</td>\n",
       "      <td>2</td>\n",
       "      <td>0</td>\n",
       "      <td>2</td>\n",
       "      <td>0</td>\n",
       "      <td>0</td>\n",
       "      <td>1</td>\n",
       "      <td>1</td>\n",
       "      <td>2</td>\n",
       "    </tr>\n",
       "    <tr>\n",
       "      <th>998</th>\n",
       "      <td>1:4497118_C_T_C</td>\n",
       "      <td>1</td>\n",
       "      <td>0</td>\n",
       "      <td>2</td>\n",
       "      <td>0</td>\n",
       "      <td>1</td>\n",
       "      <td>1</td>\n",
       "      <td>1</td>\n",
       "      <td>0</td>\n",
       "      <td>1</td>\n",
       "      <td>...</td>\n",
       "      <td>2</td>\n",
       "      <td>1</td>\n",
       "      <td>1</td>\n",
       "      <td>2</td>\n",
       "      <td>0</td>\n",
       "      <td>0</td>\n",
       "      <td>2</td>\n",
       "      <td>1</td>\n",
       "      <td>1</td>\n",
       "      <td>1</td>\n",
       "    </tr>\n",
       "    <tr>\n",
       "      <th>999</th>\n",
       "      <td>1:4497217_C_T_T</td>\n",
       "      <td>2</td>\n",
       "      <td>1</td>\n",
       "      <td>1</td>\n",
       "      <td>2</td>\n",
       "      <td>1</td>\n",
       "      <td>0</td>\n",
       "      <td>1</td>\n",
       "      <td>1</td>\n",
       "      <td>1</td>\n",
       "      <td>...</td>\n",
       "      <td>1</td>\n",
       "      <td>1</td>\n",
       "      <td>1</td>\n",
       "      <td>0</td>\n",
       "      <td>1</td>\n",
       "      <td>2</td>\n",
       "      <td>0</td>\n",
       "      <td>1</td>\n",
       "      <td>0</td>\n",
       "      <td>1</td>\n",
       "    </tr>\n",
       "  </tbody>\n",
       "</table>\n",
       "<p>1000 rows × 101 columns</p>\n",
       "</div>"
      ],
      "text/plain": [
       "                   0  MGB00001  MGB00002  MGB00003  MGB00004  MGB00005  \\\n",
       "0        rs3131972_A         1         0         0         2         1   \n",
       "1     1:840327_G_A_A         1         1         0         1         0   \n",
       "2        rs4970382_T         2         1         2         1         0   \n",
       "3     1:846808_C_T_C         1         0         1         0         1   \n",
       "4    Affx-15447216_C         0         1         0         2         2   \n",
       "..               ...       ...       ...       ...       ...       ...   \n",
       "995  1:4496256_C_T_T         2         2         0         1         1   \n",
       "996  1:4496659_C_T_T         0         1         0         2         0   \n",
       "997  1:4497097_G_A_A         1         1         1         1         1   \n",
       "998  1:4497118_C_T_C         1         0         2         0         1   \n",
       "999  1:4497217_C_T_T         2         1         1         2         1   \n",
       "\n",
       "     MGB00006  MGB00007  MGB00008  MGB00009  ...  MGB00091  MGB00092  \\\n",
       "0           2         1         2         0  ...         1         1   \n",
       "1           0         2         2         1  ...         2         1   \n",
       "2           1         2         1         0  ...         1         1   \n",
       "3           0         0         1         2  ...         0         1   \n",
       "4           1         1         0         1  ...         1         1   \n",
       "..        ...       ...       ...       ...  ...       ...       ...   \n",
       "995         1         0         1         1  ...         0         2   \n",
       "996         2         0         1         1  ...         2         0   \n",
       "997         1         0         2         2  ...         0         1   \n",
       "998         1         1         0         1  ...         2         1   \n",
       "999         0         1         1         1  ...         1         1   \n",
       "\n",
       "     MGB00093  MGB00094  MGB00095  MGB00096  MGB00097  MGB00098  MGB00099  \\\n",
       "0           1         2         1         0         1         1         0   \n",
       "1           0         0         1         2         0         2         0   \n",
       "2           1         2         0         1         1         1         1   \n",
       "3           0         1         1         1         0         1         0   \n",
       "4           0         2         2         1         1         1         0   \n",
       "..        ...       ...       ...       ...       ...       ...       ...   \n",
       "995         1         2         1         1         0         1         1   \n",
       "996         0         1         1         0         1         1         1   \n",
       "997         2         0         2         0         0         1         1   \n",
       "998         1         2         0         0         2         1         1   \n",
       "999         1         0         1         2         0         1         0   \n",
       "\n",
       "     MGB00100  \n",
       "0           1  \n",
       "1           2  \n",
       "2           1  \n",
       "3           1  \n",
       "4           0  \n",
       "..        ...  \n",
       "995         0  \n",
       "996         0  \n",
       "997         2  \n",
       "998         1  \n",
       "999         1  \n",
       "\n",
       "[1000 rows x 101 columns]"
      ]
     },
     "execution_count": 152,
     "metadata": {},
     "output_type": "execute_result"
    }
   ],
   "source": [
    "feather.read_feather(\"MGB_100_1000.feather\")"
   ]
  },
  {
   "cell_type": "code",
   "execution_count": 193,
   "id": "fee0d24c-1ca8-45d7-8aa4-fc4080ffe501",
   "metadata": {
    "execution": {
     "iopub.execute_input": "2021-09-22T17:17:25.501323Z",
     "iopub.status.busy": "2021-09-22T17:17:25.501054Z",
     "iopub.status.idle": "2021-09-22T17:17:26.173301Z",
     "shell.execute_reply": "2021-09-22T17:17:26.172617Z",
     "shell.execute_reply.started": "2021-09-22T17:17:25.501292Z"
    },
    "tags": []
   },
   "outputs": [],
   "source": [
    "stats = pd.DataFrame(data={\"0\": raw.index[:1000], \"mean\": np.random.normal(size=1000), \"std\": np.random.normal(size=1000)})"
   ]
  },
  {
   "cell_type": "code",
   "execution_count": 194,
   "id": "4a529a65-6e22-440f-b08a-fd9654c4f5f1",
   "metadata": {
    "execution": {
     "iopub.execute_input": "2021-09-22T17:18:26.872163Z",
     "iopub.status.busy": "2021-09-22T17:18:26.871754Z",
     "iopub.status.idle": "2021-09-22T17:18:27.776260Z",
     "shell.execute_reply": "2021-09-22T17:18:27.775394Z",
     "shell.execute_reply.started": "2021-09-22T17:18:26.872117Z"
    }
   },
   "outputs": [],
   "source": [
    "stats.to_csv(\"MGB_100_1000.stats.tsv\", sep=\"\\t\", index=False)"
   ]
  },
  {
   "cell_type": "code",
   "execution_count": 198,
   "id": "738b7adb-2758-4909-b1d9-0da77c5328a9",
   "metadata": {
    "execution": {
     "iopub.execute_input": "2021-09-22T17:19:46.900097Z",
     "iopub.status.busy": "2021-09-22T17:19:46.899846Z",
     "iopub.status.idle": "2021-09-22T17:19:47.580477Z",
     "shell.execute_reply": "2021-09-22T17:19:47.579891Z",
     "shell.execute_reply.started": "2021-09-22T17:19:46.900066Z"
    },
    "tags": []
   },
   "outputs": [],
   "source": [
    "raw = feather.read_feather(\"MGB_100_1000.feather\").set_index(\"0\")"
   ]
  },
  {
   "cell_type": "code",
   "execution_count": 226,
   "id": "82ba71a2-4074-4f98-a0de-bd173eea8d20",
   "metadata": {
    "execution": {
     "iopub.execute_input": "2021-09-22T17:38:10.373140Z",
     "iopub.status.busy": "2021-09-22T17:38:10.372804Z",
     "iopub.status.idle": "2021-09-22T17:38:10.976064Z",
     "shell.execute_reply": "2021-09-22T17:38:10.975401Z",
     "shell.execute_reply.started": "2021-09-22T17:38:10.373104Z"
    },
    "tags": []
   },
   "outputs": [],
   "source": [
    "zraw = raw.subtract(stats[\"mean\"].values, axis=\"index\")\n",
    "zraw = zraw.div(stats[\"std\"].values, axis=\"index\")"
   ]
  },
  {
   "cell_type": "code",
   "execution_count": 236,
   "id": "298fcb47-270a-4830-b1a4-4450c8152c7e",
   "metadata": {
    "execution": {
     "iopub.execute_input": "2021-09-22T17:40:35.403986Z",
     "iopub.status.busy": "2021-09-22T17:40:35.403671Z",
     "iopub.status.idle": "2021-09-22T17:40:36.077091Z",
     "shell.execute_reply": "2021-09-22T17:40:36.076400Z",
     "shell.execute_reply.started": "2021-09-22T17:40:35.403952Z"
    },
    "tags": []
   },
   "outputs": [],
   "source": [
    "feather.write_feather(zraw.reset_index(), \"MGB_100_1000.zscored.feather\")"
   ]
  },
  {
   "cell_type": "code",
   "execution_count": 238,
   "id": "11726af2-ad60-41fd-8530-a08017e7d544",
   "metadata": {
    "execution": {
     "iopub.execute_input": "2021-09-22T17:53:54.941372Z",
     "iopub.status.busy": "2021-09-22T17:53:54.941089Z",
     "iopub.status.idle": "2021-09-22T17:53:55.608698Z",
     "shell.execute_reply": "2021-09-22T17:53:55.607947Z",
     "shell.execute_reply.started": "2021-09-22T17:53:54.941327Z"
    }
   },
   "outputs": [
    {
     "data": {
      "text/html": [
       "<div>\n",
       "<style scoped>\n",
       "    .dataframe tbody tr th:only-of-type {\n",
       "        vertical-align: middle;\n",
       "    }\n",
       "\n",
       "    .dataframe tbody tr th {\n",
       "        vertical-align: top;\n",
       "    }\n",
       "\n",
       "    .dataframe thead th {\n",
       "        text-align: right;\n",
       "    }\n",
       "</style>\n",
       "<table border=\"1\" class=\"dataframe\">\n",
       "  <thead>\n",
       "    <tr style=\"text-align: right;\">\n",
       "      <th></th>\n",
       "      <th>MGB00001</th>\n",
       "      <th>MGB00002</th>\n",
       "      <th>MGB00003</th>\n",
       "      <th>MGB00004</th>\n",
       "      <th>MGB00005</th>\n",
       "      <th>MGB00006</th>\n",
       "      <th>MGB00007</th>\n",
       "      <th>MGB00008</th>\n",
       "      <th>MGB00009</th>\n",
       "      <th>MGB00010</th>\n",
       "      <th>...</th>\n",
       "      <th>MGB00091</th>\n",
       "      <th>MGB00092</th>\n",
       "      <th>MGB00093</th>\n",
       "      <th>MGB00094</th>\n",
       "      <th>MGB00095</th>\n",
       "      <th>MGB00096</th>\n",
       "      <th>MGB00097</th>\n",
       "      <th>MGB00098</th>\n",
       "      <th>MGB00099</th>\n",
       "      <th>MGB00100</th>\n",
       "    </tr>\n",
       "    <tr>\n",
       "      <th>0</th>\n",
       "      <th></th>\n",
       "      <th></th>\n",
       "      <th></th>\n",
       "      <th></th>\n",
       "      <th></th>\n",
       "      <th></th>\n",
       "      <th></th>\n",
       "      <th></th>\n",
       "      <th></th>\n",
       "      <th></th>\n",
       "      <th></th>\n",
       "      <th></th>\n",
       "      <th></th>\n",
       "      <th></th>\n",
       "      <th></th>\n",
       "      <th></th>\n",
       "      <th></th>\n",
       "      <th></th>\n",
       "      <th></th>\n",
       "      <th></th>\n",
       "      <th></th>\n",
       "    </tr>\n",
       "  </thead>\n",
       "  <tbody>\n",
       "    <tr>\n",
       "      <th>rs3131972_A</th>\n",
       "      <td>-0.435274</td>\n",
       "      <td>0.145781</td>\n",
       "      <td>0.145781</td>\n",
       "      <td>-1.016330</td>\n",
       "      <td>-0.435274</td>\n",
       "      <td>-1.016330</td>\n",
       "      <td>-0.435274</td>\n",
       "      <td>-1.016330</td>\n",
       "      <td>0.145781</td>\n",
       "      <td>-1.016330</td>\n",
       "      <td>...</td>\n",
       "      <td>-0.435274</td>\n",
       "      <td>-0.435274</td>\n",
       "      <td>-0.435274</td>\n",
       "      <td>-1.016330</td>\n",
       "      <td>-0.435274</td>\n",
       "      <td>0.145781</td>\n",
       "      <td>-0.435274</td>\n",
       "      <td>-0.435274</td>\n",
       "      <td>0.145781</td>\n",
       "      <td>-0.435274</td>\n",
       "    </tr>\n",
       "    <tr>\n",
       "      <th>1:840327_G_A_A</th>\n",
       "      <td>3.971477</td>\n",
       "      <td>3.971477</td>\n",
       "      <td>0.743766</td>\n",
       "      <td>3.971477</td>\n",
       "      <td>0.743766</td>\n",
       "      <td>0.743766</td>\n",
       "      <td>7.199187</td>\n",
       "      <td>7.199187</td>\n",
       "      <td>3.971477</td>\n",
       "      <td>7.199187</td>\n",
       "      <td>...</td>\n",
       "      <td>7.199187</td>\n",
       "      <td>3.971477</td>\n",
       "      <td>0.743766</td>\n",
       "      <td>0.743766</td>\n",
       "      <td>3.971477</td>\n",
       "      <td>7.199187</td>\n",
       "      <td>0.743766</td>\n",
       "      <td>7.199187</td>\n",
       "      <td>0.743766</td>\n",
       "      <td>7.199187</td>\n",
       "    </tr>\n",
       "    <tr>\n",
       "      <th>rs4970382_T</th>\n",
       "      <td>-3.526750</td>\n",
       "      <td>-2.746769</td>\n",
       "      <td>-3.526750</td>\n",
       "      <td>-2.746769</td>\n",
       "      <td>-1.966788</td>\n",
       "      <td>-2.746769</td>\n",
       "      <td>-3.526750</td>\n",
       "      <td>-2.746769</td>\n",
       "      <td>-1.966788</td>\n",
       "      <td>-3.526750</td>\n",
       "      <td>...</td>\n",
       "      <td>-2.746769</td>\n",
       "      <td>-2.746769</td>\n",
       "      <td>-2.746769</td>\n",
       "      <td>-3.526750</td>\n",
       "      <td>-1.966788</td>\n",
       "      <td>-2.746769</td>\n",
       "      <td>-2.746769</td>\n",
       "      <td>-2.746769</td>\n",
       "      <td>-2.746769</td>\n",
       "      <td>-2.746769</td>\n",
       "    </tr>\n",
       "    <tr>\n",
       "      <th>1:846808_C_T_C</th>\n",
       "      <td>2.722384</td>\n",
       "      <td>1.299216</td>\n",
       "      <td>2.722384</td>\n",
       "      <td>1.299216</td>\n",
       "      <td>2.722384</td>\n",
       "      <td>1.299216</td>\n",
       "      <td>1.299216</td>\n",
       "      <td>2.722384</td>\n",
       "      <td>4.145552</td>\n",
       "      <td>2.722384</td>\n",
       "      <td>...</td>\n",
       "      <td>1.299216</td>\n",
       "      <td>2.722384</td>\n",
       "      <td>1.299216</td>\n",
       "      <td>2.722384</td>\n",
       "      <td>2.722384</td>\n",
       "      <td>2.722384</td>\n",
       "      <td>1.299216</td>\n",
       "      <td>2.722384</td>\n",
       "      <td>1.299216</td>\n",
       "      <td>2.722384</td>\n",
       "    </tr>\n",
       "    <tr>\n",
       "      <th>Affx-15447216_C</th>\n",
       "      <td>5.412217</td>\n",
       "      <td>1.196706</td>\n",
       "      <td>5.412217</td>\n",
       "      <td>-3.018806</td>\n",
       "      <td>-3.018806</td>\n",
       "      <td>1.196706</td>\n",
       "      <td>1.196706</td>\n",
       "      <td>5.412217</td>\n",
       "      <td>1.196706</td>\n",
       "      <td>1.196706</td>\n",
       "      <td>...</td>\n",
       "      <td>1.196706</td>\n",
       "      <td>1.196706</td>\n",
       "      <td>5.412217</td>\n",
       "      <td>-3.018806</td>\n",
       "      <td>-3.018806</td>\n",
       "      <td>1.196706</td>\n",
       "      <td>1.196706</td>\n",
       "      <td>1.196706</td>\n",
       "      <td>5.412217</td>\n",
       "      <td>5.412217</td>\n",
       "    </tr>\n",
       "    <tr>\n",
       "      <th>...</th>\n",
       "      <td>...</td>\n",
       "      <td>...</td>\n",
       "      <td>...</td>\n",
       "      <td>...</td>\n",
       "      <td>...</td>\n",
       "      <td>...</td>\n",
       "      <td>...</td>\n",
       "      <td>...</td>\n",
       "      <td>...</td>\n",
       "      <td>...</td>\n",
       "      <td>...</td>\n",
       "      <td>...</td>\n",
       "      <td>...</td>\n",
       "      <td>...</td>\n",
       "      <td>...</td>\n",
       "      <td>...</td>\n",
       "      <td>...</td>\n",
       "      <td>...</td>\n",
       "      <td>...</td>\n",
       "      <td>...</td>\n",
       "      <td>...</td>\n",
       "    </tr>\n",
       "    <tr>\n",
       "      <th>1:4496256_C_T_T</th>\n",
       "      <td>-1.126842</td>\n",
       "      <td>-1.126842</td>\n",
       "      <td>0.850135</td>\n",
       "      <td>-0.138353</td>\n",
       "      <td>-0.138353</td>\n",
       "      <td>-0.138353</td>\n",
       "      <td>0.850135</td>\n",
       "      <td>-0.138353</td>\n",
       "      <td>-0.138353</td>\n",
       "      <td>-0.138353</td>\n",
       "      <td>...</td>\n",
       "      <td>0.850135</td>\n",
       "      <td>-1.126842</td>\n",
       "      <td>-0.138353</td>\n",
       "      <td>-1.126842</td>\n",
       "      <td>-0.138353</td>\n",
       "      <td>-0.138353</td>\n",
       "      <td>0.850135</td>\n",
       "      <td>-0.138353</td>\n",
       "      <td>-0.138353</td>\n",
       "      <td>0.850135</td>\n",
       "    </tr>\n",
       "    <tr>\n",
       "      <th>1:4496659_C_T_T</th>\n",
       "      <td>-2.201933</td>\n",
       "      <td>-4.277609</td>\n",
       "      <td>-2.201933</td>\n",
       "      <td>-6.353284</td>\n",
       "      <td>-2.201933</td>\n",
       "      <td>-6.353284</td>\n",
       "      <td>-2.201933</td>\n",
       "      <td>-4.277609</td>\n",
       "      <td>-4.277609</td>\n",
       "      <td>-2.201933</td>\n",
       "      <td>...</td>\n",
       "      <td>-6.353284</td>\n",
       "      <td>-2.201933</td>\n",
       "      <td>-2.201933</td>\n",
       "      <td>-4.277609</td>\n",
       "      <td>-4.277609</td>\n",
       "      <td>-2.201933</td>\n",
       "      <td>-4.277609</td>\n",
       "      <td>-4.277609</td>\n",
       "      <td>-4.277609</td>\n",
       "      <td>-2.201933</td>\n",
       "    </tr>\n",
       "    <tr>\n",
       "      <th>1:4497097_G_A_A</th>\n",
       "      <td>-0.295714</td>\n",
       "      <td>-0.295714</td>\n",
       "      <td>-0.295714</td>\n",
       "      <td>-0.295714</td>\n",
       "      <td>-0.295714</td>\n",
       "      <td>-0.295714</td>\n",
       "      <td>0.356939</td>\n",
       "      <td>-0.948368</td>\n",
       "      <td>-0.948368</td>\n",
       "      <td>0.356939</td>\n",
       "      <td>...</td>\n",
       "      <td>0.356939</td>\n",
       "      <td>-0.295714</td>\n",
       "      <td>-0.948368</td>\n",
       "      <td>0.356939</td>\n",
       "      <td>-0.948368</td>\n",
       "      <td>0.356939</td>\n",
       "      <td>0.356939</td>\n",
       "      <td>-0.295714</td>\n",
       "      <td>-0.295714</td>\n",
       "      <td>-0.948368</td>\n",
       "    </tr>\n",
       "    <tr>\n",
       "      <th>1:4497118_C_T_C</th>\n",
       "      <td>-11.307576</td>\n",
       "      <td>-20.985076</td>\n",
       "      <td>-1.630075</td>\n",
       "      <td>-20.985076</td>\n",
       "      <td>-11.307576</td>\n",
       "      <td>-11.307576</td>\n",
       "      <td>-11.307576</td>\n",
       "      <td>-20.985076</td>\n",
       "      <td>-11.307576</td>\n",
       "      <td>-20.985076</td>\n",
       "      <td>...</td>\n",
       "      <td>-1.630075</td>\n",
       "      <td>-11.307576</td>\n",
       "      <td>-11.307576</td>\n",
       "      <td>-1.630075</td>\n",
       "      <td>-20.985076</td>\n",
       "      <td>-20.985076</td>\n",
       "      <td>-1.630075</td>\n",
       "      <td>-11.307576</td>\n",
       "      <td>-11.307576</td>\n",
       "      <td>-11.307576</td>\n",
       "    </tr>\n",
       "    <tr>\n",
       "      <th>1:4497217_C_T_T</th>\n",
       "      <td>-2.608389</td>\n",
       "      <td>-1.265667</td>\n",
       "      <td>-1.265667</td>\n",
       "      <td>-2.608389</td>\n",
       "      <td>-1.265667</td>\n",
       "      <td>0.077056</td>\n",
       "      <td>-1.265667</td>\n",
       "      <td>-1.265667</td>\n",
       "      <td>-1.265667</td>\n",
       "      <td>0.077056</td>\n",
       "      <td>...</td>\n",
       "      <td>-1.265667</td>\n",
       "      <td>-1.265667</td>\n",
       "      <td>-1.265667</td>\n",
       "      <td>0.077056</td>\n",
       "      <td>-1.265667</td>\n",
       "      <td>-2.608389</td>\n",
       "      <td>0.077056</td>\n",
       "      <td>-1.265667</td>\n",
       "      <td>0.077056</td>\n",
       "      <td>-1.265667</td>\n",
       "    </tr>\n",
       "  </tbody>\n",
       "</table>\n",
       "<p>1000 rows × 100 columns</p>\n",
       "</div>"
      ],
      "text/plain": [
       "                  MGB00001   MGB00002  MGB00003   MGB00004   MGB00005  \\\n",
       "0                                                                       \n",
       "rs3131972_A      -0.435274   0.145781  0.145781  -1.016330  -0.435274   \n",
       "1:840327_G_A_A    3.971477   3.971477  0.743766   3.971477   0.743766   \n",
       "rs4970382_T      -3.526750  -2.746769 -3.526750  -2.746769  -1.966788   \n",
       "1:846808_C_T_C    2.722384   1.299216  2.722384   1.299216   2.722384   \n",
       "Affx-15447216_C   5.412217   1.196706  5.412217  -3.018806  -3.018806   \n",
       "...                    ...        ...       ...        ...        ...   \n",
       "1:4496256_C_T_T  -1.126842  -1.126842  0.850135  -0.138353  -0.138353   \n",
       "1:4496659_C_T_T  -2.201933  -4.277609 -2.201933  -6.353284  -2.201933   \n",
       "1:4497097_G_A_A  -0.295714  -0.295714 -0.295714  -0.295714  -0.295714   \n",
       "1:4497118_C_T_C -11.307576 -20.985076 -1.630075 -20.985076 -11.307576   \n",
       "1:4497217_C_T_T  -2.608389  -1.265667 -1.265667  -2.608389  -1.265667   \n",
       "\n",
       "                  MGB00006   MGB00007   MGB00008   MGB00009   MGB00010  ...  \\\n",
       "0                                                                       ...   \n",
       "rs3131972_A      -1.016330  -0.435274  -1.016330   0.145781  -1.016330  ...   \n",
       "1:840327_G_A_A    0.743766   7.199187   7.199187   3.971477   7.199187  ...   \n",
       "rs4970382_T      -2.746769  -3.526750  -2.746769  -1.966788  -3.526750  ...   \n",
       "1:846808_C_T_C    1.299216   1.299216   2.722384   4.145552   2.722384  ...   \n",
       "Affx-15447216_C   1.196706   1.196706   5.412217   1.196706   1.196706  ...   \n",
       "...                    ...        ...        ...        ...        ...  ...   \n",
       "1:4496256_C_T_T  -0.138353   0.850135  -0.138353  -0.138353  -0.138353  ...   \n",
       "1:4496659_C_T_T  -6.353284  -2.201933  -4.277609  -4.277609  -2.201933  ...   \n",
       "1:4497097_G_A_A  -0.295714   0.356939  -0.948368  -0.948368   0.356939  ...   \n",
       "1:4497118_C_T_C -11.307576 -11.307576 -20.985076 -11.307576 -20.985076  ...   \n",
       "1:4497217_C_T_T   0.077056  -1.265667  -1.265667  -1.265667   0.077056  ...   \n",
       "\n",
       "                 MGB00091   MGB00092   MGB00093  MGB00094   MGB00095  \\\n",
       "0                                                                      \n",
       "rs3131972_A     -0.435274  -0.435274  -0.435274 -1.016330  -0.435274   \n",
       "1:840327_G_A_A   7.199187   3.971477   0.743766  0.743766   3.971477   \n",
       "rs4970382_T     -2.746769  -2.746769  -2.746769 -3.526750  -1.966788   \n",
       "1:846808_C_T_C   1.299216   2.722384   1.299216  2.722384   2.722384   \n",
       "Affx-15447216_C  1.196706   1.196706   5.412217 -3.018806  -3.018806   \n",
       "...                   ...        ...        ...       ...        ...   \n",
       "1:4496256_C_T_T  0.850135  -1.126842  -0.138353 -1.126842  -0.138353   \n",
       "1:4496659_C_T_T -6.353284  -2.201933  -2.201933 -4.277609  -4.277609   \n",
       "1:4497097_G_A_A  0.356939  -0.295714  -0.948368  0.356939  -0.948368   \n",
       "1:4497118_C_T_C -1.630075 -11.307576 -11.307576 -1.630075 -20.985076   \n",
       "1:4497217_C_T_T -1.265667  -1.265667  -1.265667  0.077056  -1.265667   \n",
       "\n",
       "                  MGB00096  MGB00097   MGB00098   MGB00099   MGB00100  \n",
       "0                                                                      \n",
       "rs3131972_A       0.145781 -0.435274  -0.435274   0.145781  -0.435274  \n",
       "1:840327_G_A_A    7.199187  0.743766   7.199187   0.743766   7.199187  \n",
       "rs4970382_T      -2.746769 -2.746769  -2.746769  -2.746769  -2.746769  \n",
       "1:846808_C_T_C    2.722384  1.299216   2.722384   1.299216   2.722384  \n",
       "Affx-15447216_C   1.196706  1.196706   1.196706   5.412217   5.412217  \n",
       "...                    ...       ...        ...        ...        ...  \n",
       "1:4496256_C_T_T  -0.138353  0.850135  -0.138353  -0.138353   0.850135  \n",
       "1:4496659_C_T_T  -2.201933 -4.277609  -4.277609  -4.277609  -2.201933  \n",
       "1:4497097_G_A_A   0.356939  0.356939  -0.295714  -0.295714  -0.948368  \n",
       "1:4497118_C_T_C -20.985076 -1.630075 -11.307576 -11.307576 -11.307576  \n",
       "1:4497217_C_T_T  -2.608389  0.077056  -1.265667   0.077056  -1.265667  \n",
       "\n",
       "[1000 rows x 100 columns]"
      ]
     },
     "execution_count": 238,
     "metadata": {},
     "output_type": "execute_result"
    }
   ],
   "source": [
    "zraw"
   ]
  },
  {
   "cell_type": "code",
   "execution_count": 237,
   "id": "a22addd8-fc5e-4590-9caa-c5c58d9ce5cf",
   "metadata": {
    "execution": {
     "iopub.execute_input": "2021-09-22T17:53:44.945354Z",
     "iopub.status.busy": "2021-09-22T17:53:44.945083Z",
     "iopub.status.idle": "2021-09-22T17:53:45.865989Z",
     "shell.execute_reply": "2021-09-22T17:53:45.865233Z",
     "shell.execute_reply.started": "2021-09-22T17:53:44.945321Z"
    }
   },
   "outputs": [
    {
     "data": {
      "text/html": [
       "<div>\n",
       "<style scoped>\n",
       "    .dataframe tbody tr th:only-of-type {\n",
       "        vertical-align: middle;\n",
       "    }\n",
       "\n",
       "    .dataframe tbody tr th {\n",
       "        vertical-align: top;\n",
       "    }\n",
       "\n",
       "    .dataframe thead th {\n",
       "        text-align: right;\n",
       "    }\n",
       "</style>\n",
       "<table border=\"1\" class=\"dataframe\">\n",
       "  <thead>\n",
       "    <tr style=\"text-align: right;\">\n",
       "      <th></th>\n",
       "      <th>0</th>\n",
       "      <th>MGB00001</th>\n",
       "      <th>MGB00002</th>\n",
       "      <th>MGB00003</th>\n",
       "      <th>MGB00004</th>\n",
       "      <th>MGB00005</th>\n",
       "      <th>MGB00006</th>\n",
       "      <th>MGB00007</th>\n",
       "      <th>MGB00008</th>\n",
       "      <th>MGB00009</th>\n",
       "      <th>...</th>\n",
       "      <th>MGB00091</th>\n",
       "      <th>MGB00092</th>\n",
       "      <th>MGB00093</th>\n",
       "      <th>MGB00094</th>\n",
       "      <th>MGB00095</th>\n",
       "      <th>MGB00096</th>\n",
       "      <th>MGB00097</th>\n",
       "      <th>MGB00098</th>\n",
       "      <th>MGB00099</th>\n",
       "      <th>MGB00100</th>\n",
       "    </tr>\n",
       "  </thead>\n",
       "  <tbody>\n",
       "    <tr>\n",
       "      <th>0</th>\n",
       "      <td>rs3131972_A</td>\n",
       "      <td>-0.435274</td>\n",
       "      <td>0.145781</td>\n",
       "      <td>0.145781</td>\n",
       "      <td>-1.016330</td>\n",
       "      <td>-0.435274</td>\n",
       "      <td>-1.016330</td>\n",
       "      <td>-0.435274</td>\n",
       "      <td>-1.016330</td>\n",
       "      <td>0.145781</td>\n",
       "      <td>...</td>\n",
       "      <td>-0.435274</td>\n",
       "      <td>-0.435274</td>\n",
       "      <td>-0.435274</td>\n",
       "      <td>-1.016330</td>\n",
       "      <td>-0.435274</td>\n",
       "      <td>0.145781</td>\n",
       "      <td>-0.435274</td>\n",
       "      <td>-0.435274</td>\n",
       "      <td>0.145781</td>\n",
       "      <td>-0.435274</td>\n",
       "    </tr>\n",
       "    <tr>\n",
       "      <th>1</th>\n",
       "      <td>1:840327_G_A_A</td>\n",
       "      <td>3.971477</td>\n",
       "      <td>3.971477</td>\n",
       "      <td>0.743766</td>\n",
       "      <td>3.971477</td>\n",
       "      <td>0.743766</td>\n",
       "      <td>0.743766</td>\n",
       "      <td>7.199187</td>\n",
       "      <td>7.199187</td>\n",
       "      <td>3.971477</td>\n",
       "      <td>...</td>\n",
       "      <td>7.199187</td>\n",
       "      <td>3.971477</td>\n",
       "      <td>0.743766</td>\n",
       "      <td>0.743766</td>\n",
       "      <td>3.971477</td>\n",
       "      <td>7.199187</td>\n",
       "      <td>0.743766</td>\n",
       "      <td>7.199187</td>\n",
       "      <td>0.743766</td>\n",
       "      <td>7.199187</td>\n",
       "    </tr>\n",
       "    <tr>\n",
       "      <th>2</th>\n",
       "      <td>rs4970382_T</td>\n",
       "      <td>-3.526750</td>\n",
       "      <td>-2.746769</td>\n",
       "      <td>-3.526750</td>\n",
       "      <td>-2.746769</td>\n",
       "      <td>-1.966788</td>\n",
       "      <td>-2.746769</td>\n",
       "      <td>-3.526750</td>\n",
       "      <td>-2.746769</td>\n",
       "      <td>-1.966788</td>\n",
       "      <td>...</td>\n",
       "      <td>-2.746769</td>\n",
       "      <td>-2.746769</td>\n",
       "      <td>-2.746769</td>\n",
       "      <td>-3.526750</td>\n",
       "      <td>-1.966788</td>\n",
       "      <td>-2.746769</td>\n",
       "      <td>-2.746769</td>\n",
       "      <td>-2.746769</td>\n",
       "      <td>-2.746769</td>\n",
       "      <td>-2.746769</td>\n",
       "    </tr>\n",
       "    <tr>\n",
       "      <th>3</th>\n",
       "      <td>1:846808_C_T_C</td>\n",
       "      <td>2.722384</td>\n",
       "      <td>1.299216</td>\n",
       "      <td>2.722384</td>\n",
       "      <td>1.299216</td>\n",
       "      <td>2.722384</td>\n",
       "      <td>1.299216</td>\n",
       "      <td>1.299216</td>\n",
       "      <td>2.722384</td>\n",
       "      <td>4.145552</td>\n",
       "      <td>...</td>\n",
       "      <td>1.299216</td>\n",
       "      <td>2.722384</td>\n",
       "      <td>1.299216</td>\n",
       "      <td>2.722384</td>\n",
       "      <td>2.722384</td>\n",
       "      <td>2.722384</td>\n",
       "      <td>1.299216</td>\n",
       "      <td>2.722384</td>\n",
       "      <td>1.299216</td>\n",
       "      <td>2.722384</td>\n",
       "    </tr>\n",
       "    <tr>\n",
       "      <th>4</th>\n",
       "      <td>Affx-15447216_C</td>\n",
       "      <td>5.412217</td>\n",
       "      <td>1.196706</td>\n",
       "      <td>5.412217</td>\n",
       "      <td>-3.018806</td>\n",
       "      <td>-3.018806</td>\n",
       "      <td>1.196706</td>\n",
       "      <td>1.196706</td>\n",
       "      <td>5.412217</td>\n",
       "      <td>1.196706</td>\n",
       "      <td>...</td>\n",
       "      <td>1.196706</td>\n",
       "      <td>1.196706</td>\n",
       "      <td>5.412217</td>\n",
       "      <td>-3.018806</td>\n",
       "      <td>-3.018806</td>\n",
       "      <td>1.196706</td>\n",
       "      <td>1.196706</td>\n",
       "      <td>1.196706</td>\n",
       "      <td>5.412217</td>\n",
       "      <td>5.412217</td>\n",
       "    </tr>\n",
       "    <tr>\n",
       "      <th>...</th>\n",
       "      <td>...</td>\n",
       "      <td>...</td>\n",
       "      <td>...</td>\n",
       "      <td>...</td>\n",
       "      <td>...</td>\n",
       "      <td>...</td>\n",
       "      <td>...</td>\n",
       "      <td>...</td>\n",
       "      <td>...</td>\n",
       "      <td>...</td>\n",
       "      <td>...</td>\n",
       "      <td>...</td>\n",
       "      <td>...</td>\n",
       "      <td>...</td>\n",
       "      <td>...</td>\n",
       "      <td>...</td>\n",
       "      <td>...</td>\n",
       "      <td>...</td>\n",
       "      <td>...</td>\n",
       "      <td>...</td>\n",
       "      <td>...</td>\n",
       "    </tr>\n",
       "    <tr>\n",
       "      <th>995</th>\n",
       "      <td>1:4496256_C_T_T</td>\n",
       "      <td>-1.126842</td>\n",
       "      <td>-1.126842</td>\n",
       "      <td>0.850135</td>\n",
       "      <td>-0.138353</td>\n",
       "      <td>-0.138353</td>\n",
       "      <td>-0.138353</td>\n",
       "      <td>0.850135</td>\n",
       "      <td>-0.138353</td>\n",
       "      <td>-0.138353</td>\n",
       "      <td>...</td>\n",
       "      <td>0.850135</td>\n",
       "      <td>-1.126842</td>\n",
       "      <td>-0.138353</td>\n",
       "      <td>-1.126842</td>\n",
       "      <td>-0.138353</td>\n",
       "      <td>-0.138353</td>\n",
       "      <td>0.850135</td>\n",
       "      <td>-0.138353</td>\n",
       "      <td>-0.138353</td>\n",
       "      <td>0.850135</td>\n",
       "    </tr>\n",
       "    <tr>\n",
       "      <th>996</th>\n",
       "      <td>1:4496659_C_T_T</td>\n",
       "      <td>-2.201933</td>\n",
       "      <td>-4.277609</td>\n",
       "      <td>-2.201933</td>\n",
       "      <td>-6.353284</td>\n",
       "      <td>-2.201933</td>\n",
       "      <td>-6.353284</td>\n",
       "      <td>-2.201933</td>\n",
       "      <td>-4.277609</td>\n",
       "      <td>-4.277609</td>\n",
       "      <td>...</td>\n",
       "      <td>-6.353284</td>\n",
       "      <td>-2.201933</td>\n",
       "      <td>-2.201933</td>\n",
       "      <td>-4.277609</td>\n",
       "      <td>-4.277609</td>\n",
       "      <td>-2.201933</td>\n",
       "      <td>-4.277609</td>\n",
       "      <td>-4.277609</td>\n",
       "      <td>-4.277609</td>\n",
       "      <td>-2.201933</td>\n",
       "    </tr>\n",
       "    <tr>\n",
       "      <th>997</th>\n",
       "      <td>1:4497097_G_A_A</td>\n",
       "      <td>-0.295714</td>\n",
       "      <td>-0.295714</td>\n",
       "      <td>-0.295714</td>\n",
       "      <td>-0.295714</td>\n",
       "      <td>-0.295714</td>\n",
       "      <td>-0.295714</td>\n",
       "      <td>0.356939</td>\n",
       "      <td>-0.948368</td>\n",
       "      <td>-0.948368</td>\n",
       "      <td>...</td>\n",
       "      <td>0.356939</td>\n",
       "      <td>-0.295714</td>\n",
       "      <td>-0.948368</td>\n",
       "      <td>0.356939</td>\n",
       "      <td>-0.948368</td>\n",
       "      <td>0.356939</td>\n",
       "      <td>0.356939</td>\n",
       "      <td>-0.295714</td>\n",
       "      <td>-0.295714</td>\n",
       "      <td>-0.948368</td>\n",
       "    </tr>\n",
       "    <tr>\n",
       "      <th>998</th>\n",
       "      <td>1:4497118_C_T_C</td>\n",
       "      <td>-11.307576</td>\n",
       "      <td>-20.985076</td>\n",
       "      <td>-1.630075</td>\n",
       "      <td>-20.985076</td>\n",
       "      <td>-11.307576</td>\n",
       "      <td>-11.307576</td>\n",
       "      <td>-11.307576</td>\n",
       "      <td>-20.985076</td>\n",
       "      <td>-11.307576</td>\n",
       "      <td>...</td>\n",
       "      <td>-1.630075</td>\n",
       "      <td>-11.307576</td>\n",
       "      <td>-11.307576</td>\n",
       "      <td>-1.630075</td>\n",
       "      <td>-20.985076</td>\n",
       "      <td>-20.985076</td>\n",
       "      <td>-1.630075</td>\n",
       "      <td>-11.307576</td>\n",
       "      <td>-11.307576</td>\n",
       "      <td>-11.307576</td>\n",
       "    </tr>\n",
       "    <tr>\n",
       "      <th>999</th>\n",
       "      <td>1:4497217_C_T_T</td>\n",
       "      <td>-2.608389</td>\n",
       "      <td>-1.265667</td>\n",
       "      <td>-1.265667</td>\n",
       "      <td>-2.608389</td>\n",
       "      <td>-1.265667</td>\n",
       "      <td>0.077056</td>\n",
       "      <td>-1.265667</td>\n",
       "      <td>-1.265667</td>\n",
       "      <td>-1.265667</td>\n",
       "      <td>...</td>\n",
       "      <td>-1.265667</td>\n",
       "      <td>-1.265667</td>\n",
       "      <td>-1.265667</td>\n",
       "      <td>0.077056</td>\n",
       "      <td>-1.265667</td>\n",
       "      <td>-2.608389</td>\n",
       "      <td>0.077056</td>\n",
       "      <td>-1.265667</td>\n",
       "      <td>0.077056</td>\n",
       "      <td>-1.265667</td>\n",
       "    </tr>\n",
       "  </tbody>\n",
       "</table>\n",
       "<p>1000 rows × 101 columns</p>\n",
       "</div>"
      ],
      "text/plain": [
       "                   0   MGB00001   MGB00002  MGB00003   MGB00004   MGB00005  \\\n",
       "0        rs3131972_A  -0.435274   0.145781  0.145781  -1.016330  -0.435274   \n",
       "1     1:840327_G_A_A   3.971477   3.971477  0.743766   3.971477   0.743766   \n",
       "2        rs4970382_T  -3.526750  -2.746769 -3.526750  -2.746769  -1.966788   \n",
       "3     1:846808_C_T_C   2.722384   1.299216  2.722384   1.299216   2.722384   \n",
       "4    Affx-15447216_C   5.412217   1.196706  5.412217  -3.018806  -3.018806   \n",
       "..               ...        ...        ...       ...        ...        ...   \n",
       "995  1:4496256_C_T_T  -1.126842  -1.126842  0.850135  -0.138353  -0.138353   \n",
       "996  1:4496659_C_T_T  -2.201933  -4.277609 -2.201933  -6.353284  -2.201933   \n",
       "997  1:4497097_G_A_A  -0.295714  -0.295714 -0.295714  -0.295714  -0.295714   \n",
       "998  1:4497118_C_T_C -11.307576 -20.985076 -1.630075 -20.985076 -11.307576   \n",
       "999  1:4497217_C_T_T  -2.608389  -1.265667 -1.265667  -2.608389  -1.265667   \n",
       "\n",
       "      MGB00006   MGB00007   MGB00008   MGB00009  ...  MGB00091   MGB00092  \\\n",
       "0    -1.016330  -0.435274  -1.016330   0.145781  ... -0.435274  -0.435274   \n",
       "1     0.743766   7.199187   7.199187   3.971477  ...  7.199187   3.971477   \n",
       "2    -2.746769  -3.526750  -2.746769  -1.966788  ... -2.746769  -2.746769   \n",
       "3     1.299216   1.299216   2.722384   4.145552  ...  1.299216   2.722384   \n",
       "4     1.196706   1.196706   5.412217   1.196706  ...  1.196706   1.196706   \n",
       "..         ...        ...        ...        ...  ...       ...        ...   \n",
       "995  -0.138353   0.850135  -0.138353  -0.138353  ...  0.850135  -1.126842   \n",
       "996  -6.353284  -2.201933  -4.277609  -4.277609  ... -6.353284  -2.201933   \n",
       "997  -0.295714   0.356939  -0.948368  -0.948368  ...  0.356939  -0.295714   \n",
       "998 -11.307576 -11.307576 -20.985076 -11.307576  ... -1.630075 -11.307576   \n",
       "999   0.077056  -1.265667  -1.265667  -1.265667  ... -1.265667  -1.265667   \n",
       "\n",
       "      MGB00093  MGB00094   MGB00095   MGB00096  MGB00097   MGB00098  \\\n",
       "0    -0.435274 -1.016330  -0.435274   0.145781 -0.435274  -0.435274   \n",
       "1     0.743766  0.743766   3.971477   7.199187  0.743766   7.199187   \n",
       "2    -2.746769 -3.526750  -1.966788  -2.746769 -2.746769  -2.746769   \n",
       "3     1.299216  2.722384   2.722384   2.722384  1.299216   2.722384   \n",
       "4     5.412217 -3.018806  -3.018806   1.196706  1.196706   1.196706   \n",
       "..         ...       ...        ...        ...       ...        ...   \n",
       "995  -0.138353 -1.126842  -0.138353  -0.138353  0.850135  -0.138353   \n",
       "996  -2.201933 -4.277609  -4.277609  -2.201933 -4.277609  -4.277609   \n",
       "997  -0.948368  0.356939  -0.948368   0.356939  0.356939  -0.295714   \n",
       "998 -11.307576 -1.630075 -20.985076 -20.985076 -1.630075 -11.307576   \n",
       "999  -1.265667  0.077056  -1.265667  -2.608389  0.077056  -1.265667   \n",
       "\n",
       "      MGB00099   MGB00100  \n",
       "0     0.145781  -0.435274  \n",
       "1     0.743766   7.199187  \n",
       "2    -2.746769  -2.746769  \n",
       "3     1.299216   2.722384  \n",
       "4     5.412217   5.412217  \n",
       "..         ...        ...  \n",
       "995  -0.138353   0.850135  \n",
       "996  -4.277609  -2.201933  \n",
       "997  -0.295714  -0.948368  \n",
       "998 -11.307576 -11.307576  \n",
       "999   0.077056  -1.265667  \n",
       "\n",
       "[1000 rows x 101 columns]"
      ]
     },
     "execution_count": 237,
     "metadata": {},
     "output_type": "execute_result"
    }
   ],
   "source": [
    "feather.read_feather(\"../../test.zscored.feather\")"
   ]
  },
  {
   "cell_type": "markdown",
   "id": "6b5c0b13-8470-4df9-84cd-fa260c23dae9",
   "metadata": {
    "tags": [],
    "toc-hr-collapsed": true
   },
   "source": [
    "## Part 3 - Phenotype files for dataloading\n",
    "Build a tsv and an ids file for dataloading. Basis for `make-pheno-for-loader.py` script"
   ]
  },
  {
   "cell_type": "code",
   "execution_count": 130,
   "id": "bde712d5-246f-4e9f-8017-5b17e887bc76",
   "metadata": {
    "execution": {
     "iopub.execute_input": "2021-09-22T06:27:12.221864Z",
     "iopub.status.busy": "2021-09-22T06:27:12.221594Z",
     "iopub.status.idle": "2021-09-22T06:27:12.599016Z",
     "shell.execute_reply": "2021-09-22T06:27:12.598269Z",
     "shell.execute_reply.started": "2021-09-22T06:27:12.221834Z"
    }
   },
   "outputs": [],
   "source": [
    "tsv = fam.iloc[:100, :].copy()"
   ]
  },
  {
   "cell_type": "code",
   "execution_count": 131,
   "id": "10af867c-5469-45f3-af20-06a03e92840a",
   "metadata": {
    "execution": {
     "iopub.execute_input": "2021-09-22T06:27:13.877310Z",
     "iopub.status.busy": "2021-09-22T06:27:13.877075Z",
     "iopub.status.idle": "2021-09-22T06:27:14.345150Z",
     "shell.execute_reply": "2021-09-22T06:27:14.344465Z",
     "shell.execute_reply.started": "2021-09-22T06:27:13.877282Z"
    },
    "tags": []
   },
   "outputs": [],
   "source": [
    "tsv.columns = [\"FID\", \"IID\", \"PAT\", \"MAT\", \"SEX\", \"PHENOTYPE\"]"
   ]
  },
  {
   "cell_type": "code",
   "execution_count": 132,
   "id": "39be05c8-d7d9-48c1-a64e-ccb8d63115b1",
   "metadata": {
    "execution": {
     "iopub.execute_input": "2021-09-22T06:27:14.781508Z",
     "iopub.status.busy": "2021-09-22T06:27:14.781301Z",
     "iopub.status.idle": "2021-09-22T06:27:15.052346Z",
     "shell.execute_reply": "2021-09-22T06:27:15.051346Z",
     "shell.execute_reply.started": "2021-09-22T06:27:14.781481Z"
    },
    "tags": []
   },
   "outputs": [],
   "source": [
    "tsv[\"AGE\"] = -9"
   ]
  },
  {
   "cell_type": "code",
   "execution_count": 133,
   "id": "43fd8ced-4ec5-4cc6-8e1f-c1eb49da1f9c",
   "metadata": {
    "execution": {
     "iopub.execute_input": "2021-09-22T06:27:15.053796Z",
     "iopub.status.busy": "2021-09-22T06:27:15.053563Z",
     "iopub.status.idle": "2021-09-22T06:27:15.321518Z",
     "shell.execute_reply": "2021-09-22T06:27:15.320843Z",
     "shell.execute_reply.started": "2021-09-22T06:27:15.053768Z"
    },
    "tags": []
   },
   "outputs": [],
   "source": [
    "tsv[\"FH\"] = -9"
   ]
  },
  {
   "cell_type": "code",
   "execution_count": 134,
   "id": "8e044d54-a00c-4c29-87cb-1d769911a7f3",
   "metadata": {
    "execution": {
     "iopub.execute_input": "2021-09-22T06:27:15.790503Z",
     "iopub.status.busy": "2021-09-22T06:27:15.790297Z",
     "iopub.status.idle": "2021-09-22T06:27:16.265206Z",
     "shell.execute_reply": "2021-09-22T06:27:16.264437Z",
     "shell.execute_reply.started": "2021-09-22T06:27:15.790476Z"
    },
    "tags": []
   },
   "outputs": [],
   "source": [
    "tsv[\"ETH\"] = \"EUR\""
   ]
  },
  {
   "cell_type": "code",
   "execution_count": 161,
   "id": "53876735-8aca-4408-8761-c6433980826c",
   "metadata": {
    "execution": {
     "iopub.execute_input": "2021-09-22T06:33:51.686599Z",
     "iopub.status.busy": "2021-09-22T06:33:51.686338Z",
     "iopub.status.idle": "2021-09-22T06:33:52.368187Z",
     "shell.execute_reply": "2021-09-22T06:33:52.367364Z",
     "shell.execute_reply.started": "2021-09-22T06:33:51.686570Z"
    },
    "tags": []
   },
   "outputs": [],
   "source": [
    "tsv.to_csv(\"MGB_100_1000.tsv\", sep=\"\\t\")"
   ]
  },
  {
   "cell_type": "code",
   "execution_count": 138,
   "id": "234f5634-094a-4b2e-96b0-df5c7cd181e9",
   "metadata": {
    "execution": {
     "iopub.execute_input": "2021-09-22T06:27:47.920542Z",
     "iopub.status.busy": "2021-09-22T06:27:47.920270Z",
     "iopub.status.idle": "2021-09-22T06:27:48.225039Z",
     "shell.execute_reply": "2021-09-22T06:27:48.224031Z",
     "shell.execute_reply.started": "2021-09-22T06:27:47.920511Z"
    },
    "tags": []
   },
   "outputs": [],
   "source": [
    "ids = tsv[\"IID\"].values"
   ]
  },
  {
   "cell_type": "code",
   "execution_count": 139,
   "id": "720231e5-0932-4230-b5e9-56fa7d9b40c1",
   "metadata": {
    "execution": {
     "iopub.execute_input": "2021-09-22T06:28:12.282469Z",
     "iopub.status.busy": "2021-09-22T06:28:12.282199Z",
     "iopub.status.idle": "2021-09-22T06:28:12.583717Z",
     "shell.execute_reply": "2021-09-22T06:28:12.583056Z",
     "shell.execute_reply.started": "2021-09-22T06:28:12.282438Z"
    }
   },
   "outputs": [],
   "source": [
    "np.savetxt(\"MGB_100_1000.ids.txt\", ids, fmt=\"%s\")"
   ]
  },
  {
   "cell_type": "markdown",
   "id": "b0d3c9b3-2f1c-47df-9e52-decbf0296ab8",
   "metadata": {
    "tags": []
   },
   "source": [
    "## Part 4 - Test dataloading"
   ]
  },
  {
   "cell_type": "code",
   "execution_count": 71,
   "id": "87f19991-cd73-4020-a6af-74fa39cbd7ee",
   "metadata": {
    "execution": {
     "iopub.execute_input": "2021-09-28T18:31:51.608581Z",
     "iopub.status.busy": "2021-09-28T18:31:51.608329Z",
     "iopub.status.idle": "2021-09-28T18:31:52.281847Z",
     "shell.execute_reply": "2021-09-28T18:31:52.280908Z",
     "shell.execute_reply.started": "2021-09-28T18:31:51.608548Z"
    },
    "tags": []
   },
   "outputs": [],
   "source": [
    "import sys"
   ]
  },
  {
   "cell_type": "code",
   "execution_count": 72,
   "id": "57bd8fa5-4e7c-4d13-98e8-8236862a7ad5",
   "metadata": {
    "execution": {
     "iopub.execute_input": "2021-09-28T18:32:16.646047Z",
     "iopub.status.busy": "2021-09-28T18:32:16.645748Z",
     "iopub.status.idle": "2021-09-28T18:32:17.354104Z",
     "shell.execute_reply": "2021-09-28T18:32:17.353204Z",
     "shell.execute_reply.started": "2021-09-28T18:32:16.646013Z"
    },
    "tags": []
   },
   "outputs": [],
   "source": [
    "sys.path.append(\"/cellar/users/aklie/projects/InSNPtion/cagi6-prs-docker/ThisIsTheGoodPartPecker_ThisIsWhereTheJobGetsFun_AskAndYouShallReceive/\")"
   ]
  },
  {
   "cell_type": "code",
   "execution_count": 73,
   "id": "e93e26da-f6d6-46c5-aea0-9ae5b9ad5f80",
   "metadata": {
    "execution": {
     "iopub.execute_input": "2021-09-28T18:32:21.528560Z",
     "iopub.status.busy": "2021-09-28T18:32:21.528295Z",
     "iopub.status.idle": "2021-09-28T18:33:03.643625Z",
     "shell.execute_reply": "2021-09-28T18:33:03.642787Z",
     "shell.execute_reply.started": "2021-09-28T18:32:21.528526Z"
    },
    "tags": []
   },
   "outputs": [],
   "source": [
    "import SNPAndClinicalLoader"
   ]
  },
  {
   "cell_type": "code",
   "execution_count": 85,
   "id": "49d25a88-0ada-416d-9f5c-c7beca30e99c",
   "metadata": {
    "execution": {
     "iopub.execute_input": "2021-09-28T18:38:27.116892Z",
     "iopub.status.busy": "2021-09-28T18:38:27.116577Z",
     "iopub.status.idle": "2021-09-28T18:38:28.016317Z",
     "shell.execute_reply": "2021-09-28T18:38:28.015655Z",
     "shell.execute_reply.started": "2021-09-28T18:38:27.116856Z"
    },
    "tags": []
   },
   "outputs": [],
   "source": [
    "feath = feather.read_feather(\"MGB_10_all/MGB_10_all.bca.zscored.feather\")\n",
    "feath = feath.set_index(\"0\")"
   ]
  },
  {
   "cell_type": "code",
   "execution_count": 86,
   "id": "66c3fb19-938c-4e19-aa37-e9ab81b31b28",
   "metadata": {
    "execution": {
     "iopub.execute_input": "2021-09-28T18:38:28.672487Z",
     "iopub.status.busy": "2021-09-28T18:38:28.672258Z",
     "iopub.status.idle": "2021-09-28T18:38:29.385905Z",
     "shell.execute_reply": "2021-09-28T18:38:29.385320Z",
     "shell.execute_reply.started": "2021-09-28T18:38:28.672463Z"
    },
    "tags": []
   },
   "outputs": [],
   "source": [
    "loader = SNPAndClinicalLoader.get_loader(\n",
    "    ids_file=\"MGB_10_all/MGB_10_all.ids.txt\",\n",
    "    genotype_file=feath,\n",
    "    phenotype_file=\"MGB_10_all/MGB_10_all.bca.tsv\",\n",
    "    disease_column=\"PHENOTYPE\",\n",
    "    batch_size=10,\n",
    "    shuffle=True,\n",
    "    num_workers=2,\n",
    ")"
   ]
  },
  {
   "cell_type": "code",
   "execution_count": 90,
   "id": "e19b49e6-b8e3-4a92-b8e8-5ec9911f6377",
   "metadata": {
    "execution": {
     "iopub.execute_input": "2021-09-28T18:39:13.266516Z",
     "iopub.status.busy": "2021-09-28T18:39:13.266268Z",
     "iopub.status.idle": "2021-09-28T18:39:14.276659Z",
     "shell.execute_reply": "2021-09-28T18:39:14.275894Z",
     "shell.execute_reply.started": "2021-09-28T18:39:13.266485Z"
    },
    "tags": []
   },
   "outputs": [
    {
     "name": "stdout",
     "output_type": "stream",
     "text": [
      "0\n"
     ]
    }
   ],
   "source": [
    "for batch_num, (snp, pheno, eth, fh, sex, age) in enumerate(loader):\n",
    "    print(batch_num)"
   ]
  },
  {
   "cell_type": "code",
   "execution_count": 92,
   "id": "3074446e-101b-4e8f-ac22-c7288d80ce94",
   "metadata": {
    "execution": {
     "iopub.execute_input": "2021-09-28T18:40:31.549483Z",
     "iopub.status.busy": "2021-09-28T18:40:31.549247Z",
     "iopub.status.idle": "2021-09-28T18:40:32.288165Z",
     "shell.execute_reply": "2021-09-28T18:40:32.287485Z",
     "shell.execute_reply.started": "2021-09-28T18:40:31.549453Z"
    },
    "tags": []
   },
   "outputs": [
    {
     "data": {
      "text/plain": [
       "(torch.Size([10, 12034]),\n",
       " torch.Size([10, 1]),\n",
       " torch.Size([10, 1]),\n",
       " torch.Size([10, 1]),\n",
       " torch.Size([10, 1]),\n",
       " torch.Size([10, 1]))"
      ]
     },
     "execution_count": 92,
     "metadata": {},
     "output_type": "execute_result"
    }
   ],
   "source": [
    "snp.size(), pheno.size(), eth.size(), fh.size(), sex.size(), age.size()"
   ]
  },
  {
   "cell_type": "code",
   "execution_count": 97,
   "id": "b95ec761-63ff-43d3-8e57-c3ae2b02ae83",
   "metadata": {
    "execution": {
     "iopub.execute_input": "2021-09-28T18:43:51.113375Z",
     "iopub.status.busy": "2021-09-28T18:43:51.113095Z",
     "iopub.status.idle": "2021-09-28T18:43:51.948320Z",
     "shell.execute_reply": "2021-09-28T18:43:51.947639Z",
     "shell.execute_reply.started": "2021-09-28T18:43:51.113342Z"
    },
    "tags": []
   },
   "outputs": [
    {
     "data": {
      "text/plain": [
       "(tensor([ 0.4628,  0.4584,  0.4585,  ..., -1.2344, -1.2725, -1.8072]),\n",
       " tensor([0]),\n",
       " tensor([0.]),\n",
       " tensor([-9]),\n",
       " tensor([2]),\n",
       " tensor([1.2881], dtype=torch.float64))"
      ]
     },
     "execution_count": 97,
     "metadata": {},
     "output_type": "execute_result"
    }
   ],
   "source": [
    "snp[0], pheno[0], eth[0], fh[0], sex[0], age[0]"
   ]
  },
  {
   "cell_type": "code",
   "execution_count": 104,
   "id": "fcf7681d-d09d-4de4-902b-974f16c5335a",
   "metadata": {
    "execution": {
     "iopub.execute_input": "2021-09-28T18:44:58.114523Z",
     "iopub.status.busy": "2021-09-28T18:44:58.114246Z",
     "iopub.status.idle": "2021-09-28T18:44:58.825902Z",
     "shell.execute_reply": "2021-09-28T18:44:58.824973Z",
     "shell.execute_reply.started": "2021-09-28T18:44:58.114489Z"
    },
    "tags": []
   },
   "outputs": [
    {
     "data": {
      "text/plain": [
       "(array([0.9720436], dtype=float32), array([10]))"
      ]
     },
     "execution_count": 104,
     "metadata": {},
     "output_type": "execute_result"
    }
   ],
   "source": [
    "np.unique(snp[:, 1000], return_counts=True)"
   ]
  },
  {
   "cell_type": "markdown",
   "id": "a23a9292-9b59-462e-9f04-4667b7c1f4d6",
   "metadata": {
    "execution": {
     "iopub.execute_input": "2021-09-08T17:29:42.314098Z",
     "iopub.status.busy": "2021-09-08T17:29:42.313838Z",
     "iopub.status.idle": "2021-09-08T17:29:42.903968Z",
     "shell.execute_reply": "2021-09-08T17:29:42.903216Z",
     "shell.execute_reply.started": "2021-09-08T17:29:42.314069Z"
    },
    "tags": [],
    "toc-hr-collapsed": true
   },
   "source": [
    "# Scratch\n",
    "Place for old or testing code"
   ]
  },
  {
   "cell_type": "markdown",
   "id": "ed7ffd88-94c2-45f2-ad87-9f255e8073ff",
   "metadata": {},
   "source": [
    "# References"
   ]
  }
 ],
 "metadata": {
  "kernelspec": {
   "display_name": "Python3 ml_env",
   "language": "python",
   "name": "ml_env"
  },
  "language_info": {
   "codemirror_mode": {
    "name": "ipython",
    "version": 3
   },
   "file_extension": ".py",
   "mimetype": "text/x-python",
   "name": "python",
   "nbconvert_exporter": "python",
   "pygments_lexer": "ipython3",
   "version": "3.8.8"
  }
 },
 "nbformat": 4,
 "nbformat_minor": 5
}
