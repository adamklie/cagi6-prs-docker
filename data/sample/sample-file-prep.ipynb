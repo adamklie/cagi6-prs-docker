{
 "cells": [
  {
   "cell_type": "markdown",
   "id": "90a88efe-ebb3-424c-8704-fb4ee189af2c",
   "metadata": {},
   "source": [
    "# Notebook Title"
   ]
  },
  {
   "cell_type": "markdown",
   "id": "2d058003-a667-4b45-9ddc-e47efe48e0e1",
   "metadata": {
    "tags": []
   },
   "source": [
    "**Authorship:**\n",
    "Author, *MM/DD/YYYY*\n",
    "***\n",
    "**Description:**\n",
    "Notebook to do some cool stuff\n",
    "***\n",
    "**TODOs:**\n",
    " - <font color='green'> Done TODO </font>\n",
    " - <font color='orange'> WIP TODO </font>\n",
    " - <font color='red'> Queued TODO </font>\n",
    "***"
   ]
  },
  {
   "cell_type": "markdown",
   "id": "a2a2c4a5-1dac-4dce-8e87-cb83f07de4c3",
   "metadata": {
    "execution": {
     "iopub.execute_input": "2021-09-05T21:21:18.602440Z",
     "iopub.status.busy": "2021-09-05T21:21:18.602151Z",
     "iopub.status.idle": "2021-09-05T21:21:18.606439Z",
     "shell.execute_reply": "2021-09-05T21:21:18.605256Z",
     "shell.execute_reply.started": "2021-09-05T21:21:18.602409Z"
    },
    "tags": []
   },
   "source": [
    "## Set-up"
   ]
  },
  {
   "cell_type": "code",
   "execution_count": 178,
   "id": "3ebaff6f",
   "metadata": {
    "execution": {
     "iopub.execute_input": "2021-09-22T17:14:02.042135Z",
     "iopub.status.busy": "2021-09-22T17:14:02.041949Z",
     "iopub.status.idle": "2021-09-22T17:14:02.587934Z",
     "shell.execute_reply": "2021-09-22T17:14:02.587203Z",
     "shell.execute_reply.started": "2021-09-22T17:14:02.042111Z"
    },
    "tags": []
   },
   "outputs": [],
   "source": [
    "# The classics\n",
    "import numpy as np\n",
    "import pandas as pd\n",
    "\n",
    "# Autoreload extension\n",
    "if 'autoreload' not in get_ipython().extension_manager.loaded:\n",
    "    %load_ext autoreload\n",
    "%autoreload 2"
   ]
  },
  {
   "cell_type": "markdown",
   "id": "524af904",
   "metadata": {
    "tags": []
   },
   "source": [
    "## Part 1 - Build a dummy bed file from given bim and fam"
   ]
  },
  {
   "cell_type": "code",
   "execution_count": 128,
   "id": "92f5e811-15bf-40bf-967f-fd7ab369494a",
   "metadata": {
    "execution": {
     "iopub.execute_input": "2021-09-22T06:26:55.776792Z",
     "iopub.status.busy": "2021-09-22T06:26:55.776562Z",
     "iopub.status.idle": "2021-09-22T06:26:57.577015Z",
     "shell.execute_reply": "2021-09-22T06:26:57.576217Z",
     "shell.execute_reply.started": "2021-09-22T06:26:55.776763Z"
    },
    "tags": []
   },
   "outputs": [],
   "source": [
    "bim = pd.read_csv(\"MGB.bim\", sep=\"\\t\", header=None)"
   ]
  },
  {
   "cell_type": "code",
   "execution_count": 129,
   "id": "ff26b0bc-0e1d-457c-abbe-0970a352c4fc",
   "metadata": {
    "execution": {
     "iopub.execute_input": "2021-09-22T06:26:58.139713Z",
     "iopub.status.busy": "2021-09-22T06:26:58.139491Z",
     "iopub.status.idle": "2021-09-22T06:26:58.484771Z",
     "shell.execute_reply": "2021-09-22T06:26:58.484043Z",
     "shell.execute_reply.started": "2021-09-22T06:26:58.139683Z"
    },
    "tags": []
   },
   "outputs": [],
   "source": [
    "fam = pd.read_csv(\"MGB.fam\", delim_whitespace=True, header=None)"
   ]
  },
  {
   "cell_type": "code",
   "execution_count": 93,
   "id": "0e53ebe7-bf90-41a0-bceb-70a148e2cf7b",
   "metadata": {
    "execution": {
     "iopub.execute_input": "2021-09-22T06:07:43.909258Z",
     "iopub.status.busy": "2021-09-22T06:07:43.908993Z",
     "iopub.status.idle": "2021-09-22T06:07:50.751268Z",
     "shell.execute_reply": "2021-09-22T06:07:50.750522Z",
     "shell.execute_reply.started": "2021-09-22T06:07:43.909227Z"
    },
    "tags": []
   },
   "outputs": [],
   "source": [
    "ped = []\n",
    "for row, ind in fam.iloc[:100, :].iterrows():\n",
    "    rand_genotype = np.concatenate(\n",
    "        np.stack(bim.iloc[:1000, :][[4, 5]].apply(np.random.choice, size=2, axis=1))\n",
    "    )\n",
    "    ped.append((list(ind.values) + list(rand_genotype)))"
   ]
  },
  {
   "cell_type": "code",
   "execution_count": 94,
   "id": "911ff661-8c3f-4cf9-8c16-2540e9e6d80e",
   "metadata": {
    "execution": {
     "iopub.execute_input": "2021-09-22T06:08:01.009301Z",
     "iopub.status.busy": "2021-09-22T06:08:01.009027Z",
     "iopub.status.idle": "2021-09-22T06:08:01.339161Z",
     "shell.execute_reply": "2021-09-22T06:08:01.338466Z",
     "shell.execute_reply.started": "2021-09-22T06:08:01.009270Z"
    }
   },
   "outputs": [
    {
     "data": {
      "text/plain": [
       "(100, 2006)"
      ]
     },
     "execution_count": 94,
     "metadata": {},
     "output_type": "execute_result"
    }
   ],
   "source": [
    "np.array(ped).shape"
   ]
  },
  {
   "cell_type": "code",
   "execution_count": 96,
   "id": "569948f8-31df-441c-a7db-a5d646889af3",
   "metadata": {
    "execution": {
     "iopub.execute_input": "2021-09-22T06:08:32.664693Z",
     "iopub.status.busy": "2021-09-22T06:08:32.664421Z",
     "iopub.status.idle": "2021-09-22T06:08:33.141781Z",
     "shell.execute_reply": "2021-09-22T06:08:33.140978Z",
     "shell.execute_reply.started": "2021-09-22T06:08:32.664663Z"
    },
    "tags": []
   },
   "outputs": [],
   "source": [
    "np.savetxt(\"MGB_100_1000.ped\", np.array(ped), delimiter=\" \", fmt=\"%s\")"
   ]
  },
  {
   "cell_type": "code",
   "execution_count": 97,
   "id": "a014c9fe-a46c-4d3b-ba2f-2c68d624cf1c",
   "metadata": {
    "execution": {
     "iopub.execute_input": "2021-09-22T06:08:33.514971Z",
     "iopub.status.busy": "2021-09-22T06:08:33.514618Z",
     "iopub.status.idle": "2021-09-22T06:08:33.903219Z",
     "shell.execute_reply": "2021-09-22T06:08:33.902430Z",
     "shell.execute_reply.started": "2021-09-22T06:08:33.514926Z"
    },
    "tags": []
   },
   "outputs": [],
   "source": [
    "bim[[0, 1, 2, 3]].iloc[:1000, :].to_csv(\n",
    "    \"MGB_100_1000.map\", sep=\"\\t\", header=None, index=False\n",
    ")"
   ]
  },
  {
   "cell_type": "markdown",
   "id": "945550e2-0b82-4cf9-8109-c3a614946fa7",
   "metadata": {
    "tags": []
   },
   "source": [
    "## Part 2 - Build a feather file from raw and double check it matches model allele\n",
    "If alleles don't match, do the 2- thing"
   ]
  },
  {
   "cell_type": "code",
   "execution_count": 144,
   "id": "109579fe-8311-40fd-bef3-2552091d9bd1",
   "metadata": {
    "execution": {
     "iopub.execute_input": "2021-09-22T06:30:10.832415Z",
     "iopub.status.busy": "2021-09-22T06:30:10.832127Z",
     "iopub.status.idle": "2021-09-22T06:30:11.343816Z",
     "shell.execute_reply": "2021-09-22T06:30:11.343071Z",
     "shell.execute_reply.started": "2021-09-22T06:30:10.832384Z"
    },
    "tags": []
   },
   "outputs": [],
   "source": [
    "from pyarrow import feather"
   ]
  },
  {
   "cell_type": "code",
   "execution_count": 145,
   "id": "434de644-b46c-4644-b75f-cba31decbe7d",
   "metadata": {
    "execution": {
     "iopub.execute_input": "2021-09-22T06:30:11.345968Z",
     "iopub.status.busy": "2021-09-22T06:30:11.345565Z",
     "iopub.status.idle": "2021-09-22T06:30:11.980654Z",
     "shell.execute_reply": "2021-09-22T06:30:11.979960Z",
     "shell.execute_reply.started": "2021-09-22T06:30:11.345915Z"
    },
    "tags": []
   },
   "outputs": [],
   "source": [
    "raw = pd.read_csv(\"MGB_100_1000.raw\", delim_whitespace=True)"
   ]
  },
  {
   "cell_type": "code",
   "execution_count": 146,
   "id": "0e310d3e-ab48-40ad-8b29-1aea8af90b47",
   "metadata": {
    "execution": {
     "iopub.execute_input": "2021-09-22T06:30:11.983299Z",
     "iopub.status.busy": "2021-09-22T06:30:11.982783Z",
     "iopub.status.idle": "2021-09-22T06:30:12.631760Z",
     "shell.execute_reply": "2021-09-22T06:30:12.631063Z",
     "shell.execute_reply.started": "2021-09-22T06:30:11.983226Z"
    },
    "tags": []
   },
   "outputs": [],
   "source": [
    "IIDs = raw[\"IID\"]"
   ]
  },
  {
   "cell_type": "code",
   "execution_count": 147,
   "id": "007a43d8-4f55-4a8d-9fad-60d4c86e8d08",
   "metadata": {
    "execution": {
     "iopub.execute_input": "2021-09-22T06:30:13.206495Z",
     "iopub.status.busy": "2021-09-22T06:30:13.206283Z",
     "iopub.status.idle": "2021-09-22T06:30:13.795771Z",
     "shell.execute_reply": "2021-09-22T06:30:13.795117Z",
     "shell.execute_reply.started": "2021-09-22T06:30:13.206467Z"
    },
    "tags": []
   },
   "outputs": [],
   "source": [
    "raw = raw.iloc[:, 6:].T\n",
    "raw.columns = IIDs\n",
    "raw.index.name = \"0\""
   ]
  },
  {
   "cell_type": "code",
   "execution_count": 151,
   "id": "2e25d352-9258-439f-878d-021afe227351",
   "metadata": {
    "execution": {
     "iopub.execute_input": "2021-09-22T06:30:32.666617Z",
     "iopub.status.busy": "2021-09-22T06:30:32.666223Z",
     "iopub.status.idle": "2021-09-22T06:30:33.527765Z",
     "shell.execute_reply": "2021-09-22T06:30:33.527040Z",
     "shell.execute_reply.started": "2021-09-22T06:30:32.666570Z"
    },
    "tags": []
   },
   "outputs": [],
   "source": [
    "feather.write_feather(raw.reset_index(), \"MGB_100_1000.feather\")"
   ]
  },
  {
   "cell_type": "code",
   "execution_count": 152,
   "id": "f3d5e04b-0abd-45be-a4d2-fc30bcd4fa65",
   "metadata": {
    "execution": {
     "iopub.execute_input": "2021-09-22T06:30:34.037442Z",
     "iopub.status.busy": "2021-09-22T06:30:34.037092Z",
     "iopub.status.idle": "2021-09-22T06:30:34.959861Z",
     "shell.execute_reply": "2021-09-22T06:30:34.958973Z",
     "shell.execute_reply.started": "2021-09-22T06:30:34.037396Z"
    },
    "tags": []
   },
   "outputs": [
    {
     "data": {
      "text/html": [
       "<div>\n",
       "<style scoped>\n",
       "    .dataframe tbody tr th:only-of-type {\n",
       "        vertical-align: middle;\n",
       "    }\n",
       "\n",
       "    .dataframe tbody tr th {\n",
       "        vertical-align: top;\n",
       "    }\n",
       "\n",
       "    .dataframe thead th {\n",
       "        text-align: right;\n",
       "    }\n",
       "</style>\n",
       "<table border=\"1\" class=\"dataframe\">\n",
       "  <thead>\n",
       "    <tr style=\"text-align: right;\">\n",
       "      <th></th>\n",
       "      <th>0</th>\n",
       "      <th>MGB00001</th>\n",
       "      <th>MGB00002</th>\n",
       "      <th>MGB00003</th>\n",
       "      <th>MGB00004</th>\n",
       "      <th>MGB00005</th>\n",
       "      <th>MGB00006</th>\n",
       "      <th>MGB00007</th>\n",
       "      <th>MGB00008</th>\n",
       "      <th>MGB00009</th>\n",
       "      <th>...</th>\n",
       "      <th>MGB00091</th>\n",
       "      <th>MGB00092</th>\n",
       "      <th>MGB00093</th>\n",
       "      <th>MGB00094</th>\n",
       "      <th>MGB00095</th>\n",
       "      <th>MGB00096</th>\n",
       "      <th>MGB00097</th>\n",
       "      <th>MGB00098</th>\n",
       "      <th>MGB00099</th>\n",
       "      <th>MGB00100</th>\n",
       "    </tr>\n",
       "  </thead>\n",
       "  <tbody>\n",
       "    <tr>\n",
       "      <th>0</th>\n",
       "      <td>rs3131972_A</td>\n",
       "      <td>1</td>\n",
       "      <td>0</td>\n",
       "      <td>0</td>\n",
       "      <td>2</td>\n",
       "      <td>1</td>\n",
       "      <td>2</td>\n",
       "      <td>1</td>\n",
       "      <td>2</td>\n",
       "      <td>0</td>\n",
       "      <td>...</td>\n",
       "      <td>1</td>\n",
       "      <td>1</td>\n",
       "      <td>1</td>\n",
       "      <td>2</td>\n",
       "      <td>1</td>\n",
       "      <td>0</td>\n",
       "      <td>1</td>\n",
       "      <td>1</td>\n",
       "      <td>0</td>\n",
       "      <td>1</td>\n",
       "    </tr>\n",
       "    <tr>\n",
       "      <th>1</th>\n",
       "      <td>1:840327_G_A_A</td>\n",
       "      <td>1</td>\n",
       "      <td>1</td>\n",
       "      <td>0</td>\n",
       "      <td>1</td>\n",
       "      <td>0</td>\n",
       "      <td>0</td>\n",
       "      <td>2</td>\n",
       "      <td>2</td>\n",
       "      <td>1</td>\n",
       "      <td>...</td>\n",
       "      <td>2</td>\n",
       "      <td>1</td>\n",
       "      <td>0</td>\n",
       "      <td>0</td>\n",
       "      <td>1</td>\n",
       "      <td>2</td>\n",
       "      <td>0</td>\n",
       "      <td>2</td>\n",
       "      <td>0</td>\n",
       "      <td>2</td>\n",
       "    </tr>\n",
       "    <tr>\n",
       "      <th>2</th>\n",
       "      <td>rs4970382_T</td>\n",
       "      <td>2</td>\n",
       "      <td>1</td>\n",
       "      <td>2</td>\n",
       "      <td>1</td>\n",
       "      <td>0</td>\n",
       "      <td>1</td>\n",
       "      <td>2</td>\n",
       "      <td>1</td>\n",
       "      <td>0</td>\n",
       "      <td>...</td>\n",
       "      <td>1</td>\n",
       "      <td>1</td>\n",
       "      <td>1</td>\n",
       "      <td>2</td>\n",
       "      <td>0</td>\n",
       "      <td>1</td>\n",
       "      <td>1</td>\n",
       "      <td>1</td>\n",
       "      <td>1</td>\n",
       "      <td>1</td>\n",
       "    </tr>\n",
       "    <tr>\n",
       "      <th>3</th>\n",
       "      <td>1:846808_C_T_C</td>\n",
       "      <td>1</td>\n",
       "      <td>0</td>\n",
       "      <td>1</td>\n",
       "      <td>0</td>\n",
       "      <td>1</td>\n",
       "      <td>0</td>\n",
       "      <td>0</td>\n",
       "      <td>1</td>\n",
       "      <td>2</td>\n",
       "      <td>...</td>\n",
       "      <td>0</td>\n",
       "      <td>1</td>\n",
       "      <td>0</td>\n",
       "      <td>1</td>\n",
       "      <td>1</td>\n",
       "      <td>1</td>\n",
       "      <td>0</td>\n",
       "      <td>1</td>\n",
       "      <td>0</td>\n",
       "      <td>1</td>\n",
       "    </tr>\n",
       "    <tr>\n",
       "      <th>4</th>\n",
       "      <td>Affx-15447216_C</td>\n",
       "      <td>0</td>\n",
       "      <td>1</td>\n",
       "      <td>0</td>\n",
       "      <td>2</td>\n",
       "      <td>2</td>\n",
       "      <td>1</td>\n",
       "      <td>1</td>\n",
       "      <td>0</td>\n",
       "      <td>1</td>\n",
       "      <td>...</td>\n",
       "      <td>1</td>\n",
       "      <td>1</td>\n",
       "      <td>0</td>\n",
       "      <td>2</td>\n",
       "      <td>2</td>\n",
       "      <td>1</td>\n",
       "      <td>1</td>\n",
       "      <td>1</td>\n",
       "      <td>0</td>\n",
       "      <td>0</td>\n",
       "    </tr>\n",
       "    <tr>\n",
       "      <th>...</th>\n",
       "      <td>...</td>\n",
       "      <td>...</td>\n",
       "      <td>...</td>\n",
       "      <td>...</td>\n",
       "      <td>...</td>\n",
       "      <td>...</td>\n",
       "      <td>...</td>\n",
       "      <td>...</td>\n",
       "      <td>...</td>\n",
       "      <td>...</td>\n",
       "      <td>...</td>\n",
       "      <td>...</td>\n",
       "      <td>...</td>\n",
       "      <td>...</td>\n",
       "      <td>...</td>\n",
       "      <td>...</td>\n",
       "      <td>...</td>\n",
       "      <td>...</td>\n",
       "      <td>...</td>\n",
       "      <td>...</td>\n",
       "      <td>...</td>\n",
       "    </tr>\n",
       "    <tr>\n",
       "      <th>995</th>\n",
       "      <td>1:4496256_C_T_T</td>\n",
       "      <td>2</td>\n",
       "      <td>2</td>\n",
       "      <td>0</td>\n",
       "      <td>1</td>\n",
       "      <td>1</td>\n",
       "      <td>1</td>\n",
       "      <td>0</td>\n",
       "      <td>1</td>\n",
       "      <td>1</td>\n",
       "      <td>...</td>\n",
       "      <td>0</td>\n",
       "      <td>2</td>\n",
       "      <td>1</td>\n",
       "      <td>2</td>\n",
       "      <td>1</td>\n",
       "      <td>1</td>\n",
       "      <td>0</td>\n",
       "      <td>1</td>\n",
       "      <td>1</td>\n",
       "      <td>0</td>\n",
       "    </tr>\n",
       "    <tr>\n",
       "      <th>996</th>\n",
       "      <td>1:4496659_C_T_T</td>\n",
       "      <td>0</td>\n",
       "      <td>1</td>\n",
       "      <td>0</td>\n",
       "      <td>2</td>\n",
       "      <td>0</td>\n",
       "      <td>2</td>\n",
       "      <td>0</td>\n",
       "      <td>1</td>\n",
       "      <td>1</td>\n",
       "      <td>...</td>\n",
       "      <td>2</td>\n",
       "      <td>0</td>\n",
       "      <td>0</td>\n",
       "      <td>1</td>\n",
       "      <td>1</td>\n",
       "      <td>0</td>\n",
       "      <td>1</td>\n",
       "      <td>1</td>\n",
       "      <td>1</td>\n",
       "      <td>0</td>\n",
       "    </tr>\n",
       "    <tr>\n",
       "      <th>997</th>\n",
       "      <td>1:4497097_G_A_A</td>\n",
       "      <td>1</td>\n",
       "      <td>1</td>\n",
       "      <td>1</td>\n",
       "      <td>1</td>\n",
       "      <td>1</td>\n",
       "      <td>1</td>\n",
       "      <td>0</td>\n",
       "      <td>2</td>\n",
       "      <td>2</td>\n",
       "      <td>...</td>\n",
       "      <td>0</td>\n",
       "      <td>1</td>\n",
       "      <td>2</td>\n",
       "      <td>0</td>\n",
       "      <td>2</td>\n",
       "      <td>0</td>\n",
       "      <td>0</td>\n",
       "      <td>1</td>\n",
       "      <td>1</td>\n",
       "      <td>2</td>\n",
       "    </tr>\n",
       "    <tr>\n",
       "      <th>998</th>\n",
       "      <td>1:4497118_C_T_C</td>\n",
       "      <td>1</td>\n",
       "      <td>0</td>\n",
       "      <td>2</td>\n",
       "      <td>0</td>\n",
       "      <td>1</td>\n",
       "      <td>1</td>\n",
       "      <td>1</td>\n",
       "      <td>0</td>\n",
       "      <td>1</td>\n",
       "      <td>...</td>\n",
       "      <td>2</td>\n",
       "      <td>1</td>\n",
       "      <td>1</td>\n",
       "      <td>2</td>\n",
       "      <td>0</td>\n",
       "      <td>0</td>\n",
       "      <td>2</td>\n",
       "      <td>1</td>\n",
       "      <td>1</td>\n",
       "      <td>1</td>\n",
       "    </tr>\n",
       "    <tr>\n",
       "      <th>999</th>\n",
       "      <td>1:4497217_C_T_T</td>\n",
       "      <td>2</td>\n",
       "      <td>1</td>\n",
       "      <td>1</td>\n",
       "      <td>2</td>\n",
       "      <td>1</td>\n",
       "      <td>0</td>\n",
       "      <td>1</td>\n",
       "      <td>1</td>\n",
       "      <td>1</td>\n",
       "      <td>...</td>\n",
       "      <td>1</td>\n",
       "      <td>1</td>\n",
       "      <td>1</td>\n",
       "      <td>0</td>\n",
       "      <td>1</td>\n",
       "      <td>2</td>\n",
       "      <td>0</td>\n",
       "      <td>1</td>\n",
       "      <td>0</td>\n",
       "      <td>1</td>\n",
       "    </tr>\n",
       "  </tbody>\n",
       "</table>\n",
       "<p>1000 rows × 101 columns</p>\n",
       "</div>"
      ],
      "text/plain": [
       "                   0  MGB00001  MGB00002  MGB00003  MGB00004  MGB00005  \\\n",
       "0        rs3131972_A         1         0         0         2         1   \n",
       "1     1:840327_G_A_A         1         1         0         1         0   \n",
       "2        rs4970382_T         2         1         2         1         0   \n",
       "3     1:846808_C_T_C         1         0         1         0         1   \n",
       "4    Affx-15447216_C         0         1         0         2         2   \n",
       "..               ...       ...       ...       ...       ...       ...   \n",
       "995  1:4496256_C_T_T         2         2         0         1         1   \n",
       "996  1:4496659_C_T_T         0         1         0         2         0   \n",
       "997  1:4497097_G_A_A         1         1         1         1         1   \n",
       "998  1:4497118_C_T_C         1         0         2         0         1   \n",
       "999  1:4497217_C_T_T         2         1         1         2         1   \n",
       "\n",
       "     MGB00006  MGB00007  MGB00008  MGB00009  ...  MGB00091  MGB00092  \\\n",
       "0           2         1         2         0  ...         1         1   \n",
       "1           0         2         2         1  ...         2         1   \n",
       "2           1         2         1         0  ...         1         1   \n",
       "3           0         0         1         2  ...         0         1   \n",
       "4           1         1         0         1  ...         1         1   \n",
       "..        ...       ...       ...       ...  ...       ...       ...   \n",
       "995         1         0         1         1  ...         0         2   \n",
       "996         2         0         1         1  ...         2         0   \n",
       "997         1         0         2         2  ...         0         1   \n",
       "998         1         1         0         1  ...         2         1   \n",
       "999         0         1         1         1  ...         1         1   \n",
       "\n",
       "     MGB00093  MGB00094  MGB00095  MGB00096  MGB00097  MGB00098  MGB00099  \\\n",
       "0           1         2         1         0         1         1         0   \n",
       "1           0         0         1         2         0         2         0   \n",
       "2           1         2         0         1         1         1         1   \n",
       "3           0         1         1         1         0         1         0   \n",
       "4           0         2         2         1         1         1         0   \n",
       "..        ...       ...       ...       ...       ...       ...       ...   \n",
       "995         1         2         1         1         0         1         1   \n",
       "996         0         1         1         0         1         1         1   \n",
       "997         2         0         2         0         0         1         1   \n",
       "998         1         2         0         0         2         1         1   \n",
       "999         1         0         1         2         0         1         0   \n",
       "\n",
       "     MGB00100  \n",
       "0           1  \n",
       "1           2  \n",
       "2           1  \n",
       "3           1  \n",
       "4           0  \n",
       "..        ...  \n",
       "995         0  \n",
       "996         0  \n",
       "997         2  \n",
       "998         1  \n",
       "999         1  \n",
       "\n",
       "[1000 rows x 101 columns]"
      ]
     },
     "execution_count": 152,
     "metadata": {},
     "output_type": "execute_result"
    }
   ],
   "source": [
    "feather.read_feather(\"MGB_100_1000.feather\")"
   ]
  },
  {
   "cell_type": "markdown",
   "id": "1c512acd-ec59-40b3-bd42-2cf26e93952b",
   "metadata": {},
   "source": [
    "## Part 3 - Z-score based on training metrics"
   ]
  },
  {
   "cell_type": "code",
   "execution_count": 193,
   "id": "fee0d24c-1ca8-45d7-8aa4-fc4080ffe501",
   "metadata": {
    "execution": {
     "iopub.execute_input": "2021-09-22T17:17:25.501323Z",
     "iopub.status.busy": "2021-09-22T17:17:25.501054Z",
     "iopub.status.idle": "2021-09-22T17:17:26.173301Z",
     "shell.execute_reply": "2021-09-22T17:17:26.172617Z",
     "shell.execute_reply.started": "2021-09-22T17:17:25.501292Z"
    },
    "tags": []
   },
   "outputs": [],
   "source": [
    "stats = pd.DataFrame(data={\"0\": raw.index[:1000], \"mean\": np.random.normal(size=1000), \"std\": np.random.normal(size=1000)})"
   ]
  },
  {
   "cell_type": "code",
   "execution_count": 194,
   "id": "4a529a65-6e22-440f-b08a-fd9654c4f5f1",
   "metadata": {
    "execution": {
     "iopub.execute_input": "2021-09-22T17:18:26.872163Z",
     "iopub.status.busy": "2021-09-22T17:18:26.871754Z",
     "iopub.status.idle": "2021-09-22T17:18:27.776260Z",
     "shell.execute_reply": "2021-09-22T17:18:27.775394Z",
     "shell.execute_reply.started": "2021-09-22T17:18:26.872117Z"
    }
   },
   "outputs": [],
   "source": [
    "stats.to_csv(\"MGB_100_1000.stats.tsv\", sep=\"\\t\", index=False)"
   ]
  },
  {
   "cell_type": "code",
   "execution_count": 198,
   "id": "738b7adb-2758-4909-b1d9-0da77c5328a9",
   "metadata": {
    "execution": {
     "iopub.execute_input": "2021-09-22T17:19:46.900097Z",
     "iopub.status.busy": "2021-09-22T17:19:46.899846Z",
     "iopub.status.idle": "2021-09-22T17:19:47.580477Z",
     "shell.execute_reply": "2021-09-22T17:19:47.579891Z",
     "shell.execute_reply.started": "2021-09-22T17:19:46.900066Z"
    },
    "tags": []
   },
   "outputs": [],
   "source": [
    "raw = feather.read_feather(\"MGB_100_1000.feather\").set_index(\"0\")"
   ]
  },
  {
   "cell_type": "code",
   "execution_count": 226,
   "id": "82ba71a2-4074-4f98-a0de-bd173eea8d20",
   "metadata": {
    "execution": {
     "iopub.execute_input": "2021-09-22T17:38:10.373140Z",
     "iopub.status.busy": "2021-09-22T17:38:10.372804Z",
     "iopub.status.idle": "2021-09-22T17:38:10.976064Z",
     "shell.execute_reply": "2021-09-22T17:38:10.975401Z",
     "shell.execute_reply.started": "2021-09-22T17:38:10.373104Z"
    },
    "tags": []
   },
   "outputs": [],
   "source": [
    "zraw = raw.subtract(stats[\"mean\"].values, axis=\"index\")\n",
    "zraw = zraw.div(stats[\"std\"].values, axis=\"index\")"
   ]
  },
  {
   "cell_type": "code",
   "execution_count": 236,
   "id": "298fcb47-270a-4830-b1a4-4450c8152c7e",
   "metadata": {
    "execution": {
     "iopub.execute_input": "2021-09-22T17:40:35.403986Z",
     "iopub.status.busy": "2021-09-22T17:40:35.403671Z",
     "iopub.status.idle": "2021-09-22T17:40:36.077091Z",
     "shell.execute_reply": "2021-09-22T17:40:36.076400Z",
     "shell.execute_reply.started": "2021-09-22T17:40:35.403952Z"
    },
    "tags": []
   },
   "outputs": [],
   "source": [
    "feather.write_feather(zraw.reset_index(), \"MGB_100_1000.zscored.feather\")"
   ]
  },
  {
   "cell_type": "code",
   "execution_count": 238,
   "id": "11726af2-ad60-41fd-8530-a08017e7d544",
   "metadata": {
    "execution": {
     "iopub.execute_input": "2021-09-22T17:53:54.941372Z",
     "iopub.status.busy": "2021-09-22T17:53:54.941089Z",
     "iopub.status.idle": "2021-09-22T17:53:55.608698Z",
     "shell.execute_reply": "2021-09-22T17:53:55.607947Z",
     "shell.execute_reply.started": "2021-09-22T17:53:54.941327Z"
    }
   },
   "outputs": [
    {
     "data": {
      "text/html": [
       "<div>\n",
       "<style scoped>\n",
       "    .dataframe tbody tr th:only-of-type {\n",
       "        vertical-align: middle;\n",
       "    }\n",
       "\n",
       "    .dataframe tbody tr th {\n",
       "        vertical-align: top;\n",
       "    }\n",
       "\n",
       "    .dataframe thead th {\n",
       "        text-align: right;\n",
       "    }\n",
       "</style>\n",
       "<table border=\"1\" class=\"dataframe\">\n",
       "  <thead>\n",
       "    <tr style=\"text-align: right;\">\n",
       "      <th></th>\n",
       "      <th>MGB00001</th>\n",
       "      <th>MGB00002</th>\n",
       "      <th>MGB00003</th>\n",
       "      <th>MGB00004</th>\n",
       "      <th>MGB00005</th>\n",
       "      <th>MGB00006</th>\n",
       "      <th>MGB00007</th>\n",
       "      <th>MGB00008</th>\n",
       "      <th>MGB00009</th>\n",
       "      <th>MGB00010</th>\n",
       "      <th>...</th>\n",
       "      <th>MGB00091</th>\n",
       "      <th>MGB00092</th>\n",
       "      <th>MGB00093</th>\n",
       "      <th>MGB00094</th>\n",
       "      <th>MGB00095</th>\n",
       "      <th>MGB00096</th>\n",
       "      <th>MGB00097</th>\n",
       "      <th>MGB00098</th>\n",
       "      <th>MGB00099</th>\n",
       "      <th>MGB00100</th>\n",
       "    </tr>\n",
       "    <tr>\n",
       "      <th>0</th>\n",
       "      <th></th>\n",
       "      <th></th>\n",
       "      <th></th>\n",
       "      <th></th>\n",
       "      <th></th>\n",
       "      <th></th>\n",
       "      <th></th>\n",
       "      <th></th>\n",
       "      <th></th>\n",
       "      <th></th>\n",
       "      <th></th>\n",
       "      <th></th>\n",
       "      <th></th>\n",
       "      <th></th>\n",
       "      <th></th>\n",
       "      <th></th>\n",
       "      <th></th>\n",
       "      <th></th>\n",
       "      <th></th>\n",
       "      <th></th>\n",
       "      <th></th>\n",
       "    </tr>\n",
       "  </thead>\n",
       "  <tbody>\n",
       "    <tr>\n",
       "      <th>rs3131972_A</th>\n",
       "      <td>-0.435274</td>\n",
       "      <td>0.145781</td>\n",
       "      <td>0.145781</td>\n",
       "      <td>-1.016330</td>\n",
       "      <td>-0.435274</td>\n",
       "      <td>-1.016330</td>\n",
       "      <td>-0.435274</td>\n",
       "      <td>-1.016330</td>\n",
       "      <td>0.145781</td>\n",
       "      <td>-1.016330</td>\n",
       "      <td>...</td>\n",
       "      <td>-0.435274</td>\n",
       "      <td>-0.435274</td>\n",
       "      <td>-0.435274</td>\n",
       "      <td>-1.016330</td>\n",
       "      <td>-0.435274</td>\n",
       "      <td>0.145781</td>\n",
       "      <td>-0.435274</td>\n",
       "      <td>-0.435274</td>\n",
       "      <td>0.145781</td>\n",
       "      <td>-0.435274</td>\n",
       "    </tr>\n",
       "    <tr>\n",
       "      <th>1:840327_G_A_A</th>\n",
       "      <td>3.971477</td>\n",
       "      <td>3.971477</td>\n",
       "      <td>0.743766</td>\n",
       "      <td>3.971477</td>\n",
       "      <td>0.743766</td>\n",
       "      <td>0.743766</td>\n",
       "      <td>7.199187</td>\n",
       "      <td>7.199187</td>\n",
       "      <td>3.971477</td>\n",
       "      <td>7.199187</td>\n",
       "      <td>...</td>\n",
       "      <td>7.199187</td>\n",
       "      <td>3.971477</td>\n",
       "      <td>0.743766</td>\n",
       "      <td>0.743766</td>\n",
       "      <td>3.971477</td>\n",
       "      <td>7.199187</td>\n",
       "      <td>0.743766</td>\n",
       "      <td>7.199187</td>\n",
       "      <td>0.743766</td>\n",
       "      <td>7.199187</td>\n",
       "    </tr>\n",
       "    <tr>\n",
       "      <th>rs4970382_T</th>\n",
       "      <td>-3.526750</td>\n",
       "      <td>-2.746769</td>\n",
       "      <td>-3.526750</td>\n",
       "      <td>-2.746769</td>\n",
       "      <td>-1.966788</td>\n",
       "      <td>-2.746769</td>\n",
       "      <td>-3.526750</td>\n",
       "      <td>-2.746769</td>\n",
       "      <td>-1.966788</td>\n",
       "      <td>-3.526750</td>\n",
       "      <td>...</td>\n",
       "      <td>-2.746769</td>\n",
       "      <td>-2.746769</td>\n",
       "      <td>-2.746769</td>\n",
       "      <td>-3.526750</td>\n",
       "      <td>-1.966788</td>\n",
       "      <td>-2.746769</td>\n",
       "      <td>-2.746769</td>\n",
       "      <td>-2.746769</td>\n",
       "      <td>-2.746769</td>\n",
       "      <td>-2.746769</td>\n",
       "    </tr>\n",
       "    <tr>\n",
       "      <th>1:846808_C_T_C</th>\n",
       "      <td>2.722384</td>\n",
       "      <td>1.299216</td>\n",
       "      <td>2.722384</td>\n",
       "      <td>1.299216</td>\n",
       "      <td>2.722384</td>\n",
       "      <td>1.299216</td>\n",
       "      <td>1.299216</td>\n",
       "      <td>2.722384</td>\n",
       "      <td>4.145552</td>\n",
       "      <td>2.722384</td>\n",
       "      <td>...</td>\n",
       "      <td>1.299216</td>\n",
       "      <td>2.722384</td>\n",
       "      <td>1.299216</td>\n",
       "      <td>2.722384</td>\n",
       "      <td>2.722384</td>\n",
       "      <td>2.722384</td>\n",
       "      <td>1.299216</td>\n",
       "      <td>2.722384</td>\n",
       "      <td>1.299216</td>\n",
       "      <td>2.722384</td>\n",
       "    </tr>\n",
       "    <tr>\n",
       "      <th>Affx-15447216_C</th>\n",
       "      <td>5.412217</td>\n",
       "      <td>1.196706</td>\n",
       "      <td>5.412217</td>\n",
       "      <td>-3.018806</td>\n",
       "      <td>-3.018806</td>\n",
       "      <td>1.196706</td>\n",
       "      <td>1.196706</td>\n",
       "      <td>5.412217</td>\n",
       "      <td>1.196706</td>\n",
       "      <td>1.196706</td>\n",
       "      <td>...</td>\n",
       "      <td>1.196706</td>\n",
       "      <td>1.196706</td>\n",
       "      <td>5.412217</td>\n",
       "      <td>-3.018806</td>\n",
       "      <td>-3.018806</td>\n",
       "      <td>1.196706</td>\n",
       "      <td>1.196706</td>\n",
       "      <td>1.196706</td>\n",
       "      <td>5.412217</td>\n",
       "      <td>5.412217</td>\n",
       "    </tr>\n",
       "    <tr>\n",
       "      <th>...</th>\n",
       "      <td>...</td>\n",
       "      <td>...</td>\n",
       "      <td>...</td>\n",
       "      <td>...</td>\n",
       "      <td>...</td>\n",
       "      <td>...</td>\n",
       "      <td>...</td>\n",
       "      <td>...</td>\n",
       "      <td>...</td>\n",
       "      <td>...</td>\n",
       "      <td>...</td>\n",
       "      <td>...</td>\n",
       "      <td>...</td>\n",
       "      <td>...</td>\n",
       "      <td>...</td>\n",
       "      <td>...</td>\n",
       "      <td>...</td>\n",
       "      <td>...</td>\n",
       "      <td>...</td>\n",
       "      <td>...</td>\n",
       "      <td>...</td>\n",
       "    </tr>\n",
       "    <tr>\n",
       "      <th>1:4496256_C_T_T</th>\n",
       "      <td>-1.126842</td>\n",
       "      <td>-1.126842</td>\n",
       "      <td>0.850135</td>\n",
       "      <td>-0.138353</td>\n",
       "      <td>-0.138353</td>\n",
       "      <td>-0.138353</td>\n",
       "      <td>0.850135</td>\n",
       "      <td>-0.138353</td>\n",
       "      <td>-0.138353</td>\n",
       "      <td>-0.138353</td>\n",
       "      <td>...</td>\n",
       "      <td>0.850135</td>\n",
       "      <td>-1.126842</td>\n",
       "      <td>-0.138353</td>\n",
       "      <td>-1.126842</td>\n",
       "      <td>-0.138353</td>\n",
       "      <td>-0.138353</td>\n",
       "      <td>0.850135</td>\n",
       "      <td>-0.138353</td>\n",
       "      <td>-0.138353</td>\n",
       "      <td>0.850135</td>\n",
       "    </tr>\n",
       "    <tr>\n",
       "      <th>1:4496659_C_T_T</th>\n",
       "      <td>-2.201933</td>\n",
       "      <td>-4.277609</td>\n",
       "      <td>-2.201933</td>\n",
       "      <td>-6.353284</td>\n",
       "      <td>-2.201933</td>\n",
       "      <td>-6.353284</td>\n",
       "      <td>-2.201933</td>\n",
       "      <td>-4.277609</td>\n",
       "      <td>-4.277609</td>\n",
       "      <td>-2.201933</td>\n",
       "      <td>...</td>\n",
       "      <td>-6.353284</td>\n",
       "      <td>-2.201933</td>\n",
       "      <td>-2.201933</td>\n",
       "      <td>-4.277609</td>\n",
       "      <td>-4.277609</td>\n",
       "      <td>-2.201933</td>\n",
       "      <td>-4.277609</td>\n",
       "      <td>-4.277609</td>\n",
       "      <td>-4.277609</td>\n",
       "      <td>-2.201933</td>\n",
       "    </tr>\n",
       "    <tr>\n",
       "      <th>1:4497097_G_A_A</th>\n",
       "      <td>-0.295714</td>\n",
       "      <td>-0.295714</td>\n",
       "      <td>-0.295714</td>\n",
       "      <td>-0.295714</td>\n",
       "      <td>-0.295714</td>\n",
       "      <td>-0.295714</td>\n",
       "      <td>0.356939</td>\n",
       "      <td>-0.948368</td>\n",
       "      <td>-0.948368</td>\n",
       "      <td>0.356939</td>\n",
       "      <td>...</td>\n",
       "      <td>0.356939</td>\n",
       "      <td>-0.295714</td>\n",
       "      <td>-0.948368</td>\n",
       "      <td>0.356939</td>\n",
       "      <td>-0.948368</td>\n",
       "      <td>0.356939</td>\n",
       "      <td>0.356939</td>\n",
       "      <td>-0.295714</td>\n",
       "      <td>-0.295714</td>\n",
       "      <td>-0.948368</td>\n",
       "    </tr>\n",
       "    <tr>\n",
       "      <th>1:4497118_C_T_C</th>\n",
       "      <td>-11.307576</td>\n",
       "      <td>-20.985076</td>\n",
       "      <td>-1.630075</td>\n",
       "      <td>-20.985076</td>\n",
       "      <td>-11.307576</td>\n",
       "      <td>-11.307576</td>\n",
       "      <td>-11.307576</td>\n",
       "      <td>-20.985076</td>\n",
       "      <td>-11.307576</td>\n",
       "      <td>-20.985076</td>\n",
       "      <td>...</td>\n",
       "      <td>-1.630075</td>\n",
       "      <td>-11.307576</td>\n",
       "      <td>-11.307576</td>\n",
       "      <td>-1.630075</td>\n",
       "      <td>-20.985076</td>\n",
       "      <td>-20.985076</td>\n",
       "      <td>-1.630075</td>\n",
       "      <td>-11.307576</td>\n",
       "      <td>-11.307576</td>\n",
       "      <td>-11.307576</td>\n",
       "    </tr>\n",
       "    <tr>\n",
       "      <th>1:4497217_C_T_T</th>\n",
       "      <td>-2.608389</td>\n",
       "      <td>-1.265667</td>\n",
       "      <td>-1.265667</td>\n",
       "      <td>-2.608389</td>\n",
       "      <td>-1.265667</td>\n",
       "      <td>0.077056</td>\n",
       "      <td>-1.265667</td>\n",
       "      <td>-1.265667</td>\n",
       "      <td>-1.265667</td>\n",
       "      <td>0.077056</td>\n",
       "      <td>...</td>\n",
       "      <td>-1.265667</td>\n",
       "      <td>-1.265667</td>\n",
       "      <td>-1.265667</td>\n",
       "      <td>0.077056</td>\n",
       "      <td>-1.265667</td>\n",
       "      <td>-2.608389</td>\n",
       "      <td>0.077056</td>\n",
       "      <td>-1.265667</td>\n",
       "      <td>0.077056</td>\n",
       "      <td>-1.265667</td>\n",
       "    </tr>\n",
       "  </tbody>\n",
       "</table>\n",
       "<p>1000 rows × 100 columns</p>\n",
       "</div>"
      ],
      "text/plain": [
       "                  MGB00001   MGB00002  MGB00003   MGB00004   MGB00005  \\\n",
       "0                                                                       \n",
       "rs3131972_A      -0.435274   0.145781  0.145781  -1.016330  -0.435274   \n",
       "1:840327_G_A_A    3.971477   3.971477  0.743766   3.971477   0.743766   \n",
       "rs4970382_T      -3.526750  -2.746769 -3.526750  -2.746769  -1.966788   \n",
       "1:846808_C_T_C    2.722384   1.299216  2.722384   1.299216   2.722384   \n",
       "Affx-15447216_C   5.412217   1.196706  5.412217  -3.018806  -3.018806   \n",
       "...                    ...        ...       ...        ...        ...   \n",
       "1:4496256_C_T_T  -1.126842  -1.126842  0.850135  -0.138353  -0.138353   \n",
       "1:4496659_C_T_T  -2.201933  -4.277609 -2.201933  -6.353284  -2.201933   \n",
       "1:4497097_G_A_A  -0.295714  -0.295714 -0.295714  -0.295714  -0.295714   \n",
       "1:4497118_C_T_C -11.307576 -20.985076 -1.630075 -20.985076 -11.307576   \n",
       "1:4497217_C_T_T  -2.608389  -1.265667 -1.265667  -2.608389  -1.265667   \n",
       "\n",
       "                  MGB00006   MGB00007   MGB00008   MGB00009   MGB00010  ...  \\\n",
       "0                                                                       ...   \n",
       "rs3131972_A      -1.016330  -0.435274  -1.016330   0.145781  -1.016330  ...   \n",
       "1:840327_G_A_A    0.743766   7.199187   7.199187   3.971477   7.199187  ...   \n",
       "rs4970382_T      -2.746769  -3.526750  -2.746769  -1.966788  -3.526750  ...   \n",
       "1:846808_C_T_C    1.299216   1.299216   2.722384   4.145552   2.722384  ...   \n",
       "Affx-15447216_C   1.196706   1.196706   5.412217   1.196706   1.196706  ...   \n",
       "...                    ...        ...        ...        ...        ...  ...   \n",
       "1:4496256_C_T_T  -0.138353   0.850135  -0.138353  -0.138353  -0.138353  ...   \n",
       "1:4496659_C_T_T  -6.353284  -2.201933  -4.277609  -4.277609  -2.201933  ...   \n",
       "1:4497097_G_A_A  -0.295714   0.356939  -0.948368  -0.948368   0.356939  ...   \n",
       "1:4497118_C_T_C -11.307576 -11.307576 -20.985076 -11.307576 -20.985076  ...   \n",
       "1:4497217_C_T_T   0.077056  -1.265667  -1.265667  -1.265667   0.077056  ...   \n",
       "\n",
       "                 MGB00091   MGB00092   MGB00093  MGB00094   MGB00095  \\\n",
       "0                                                                      \n",
       "rs3131972_A     -0.435274  -0.435274  -0.435274 -1.016330  -0.435274   \n",
       "1:840327_G_A_A   7.199187   3.971477   0.743766  0.743766   3.971477   \n",
       "rs4970382_T     -2.746769  -2.746769  -2.746769 -3.526750  -1.966788   \n",
       "1:846808_C_T_C   1.299216   2.722384   1.299216  2.722384   2.722384   \n",
       "Affx-15447216_C  1.196706   1.196706   5.412217 -3.018806  -3.018806   \n",
       "...                   ...        ...        ...       ...        ...   \n",
       "1:4496256_C_T_T  0.850135  -1.126842  -0.138353 -1.126842  -0.138353   \n",
       "1:4496659_C_T_T -6.353284  -2.201933  -2.201933 -4.277609  -4.277609   \n",
       "1:4497097_G_A_A  0.356939  -0.295714  -0.948368  0.356939  -0.948368   \n",
       "1:4497118_C_T_C -1.630075 -11.307576 -11.307576 -1.630075 -20.985076   \n",
       "1:4497217_C_T_T -1.265667  -1.265667  -1.265667  0.077056  -1.265667   \n",
       "\n",
       "                  MGB00096  MGB00097   MGB00098   MGB00099   MGB00100  \n",
       "0                                                                      \n",
       "rs3131972_A       0.145781 -0.435274  -0.435274   0.145781  -0.435274  \n",
       "1:840327_G_A_A    7.199187  0.743766   7.199187   0.743766   7.199187  \n",
       "rs4970382_T      -2.746769 -2.746769  -2.746769  -2.746769  -2.746769  \n",
       "1:846808_C_T_C    2.722384  1.299216   2.722384   1.299216   2.722384  \n",
       "Affx-15447216_C   1.196706  1.196706   1.196706   5.412217   5.412217  \n",
       "...                    ...       ...        ...        ...        ...  \n",
       "1:4496256_C_T_T  -0.138353  0.850135  -0.138353  -0.138353   0.850135  \n",
       "1:4496659_C_T_T  -2.201933 -4.277609  -4.277609  -4.277609  -2.201933  \n",
       "1:4497097_G_A_A   0.356939  0.356939  -0.295714  -0.295714  -0.948368  \n",
       "1:4497118_C_T_C -20.985076 -1.630075 -11.307576 -11.307576 -11.307576  \n",
       "1:4497217_C_T_T  -2.608389  0.077056  -1.265667   0.077056  -1.265667  \n",
       "\n",
       "[1000 rows x 100 columns]"
      ]
     },
     "execution_count": 238,
     "metadata": {},
     "output_type": "execute_result"
    }
   ],
   "source": [
    "zraw"
   ]
  },
  {
   "cell_type": "code",
   "execution_count": 237,
   "id": "a22addd8-fc5e-4590-9caa-c5c58d9ce5cf",
   "metadata": {
    "execution": {
     "iopub.execute_input": "2021-09-22T17:53:44.945354Z",
     "iopub.status.busy": "2021-09-22T17:53:44.945083Z",
     "iopub.status.idle": "2021-09-22T17:53:45.865989Z",
     "shell.execute_reply": "2021-09-22T17:53:45.865233Z",
     "shell.execute_reply.started": "2021-09-22T17:53:44.945321Z"
    }
   },
   "outputs": [
    {
     "data": {
      "text/html": [
       "<div>\n",
       "<style scoped>\n",
       "    .dataframe tbody tr th:only-of-type {\n",
       "        vertical-align: middle;\n",
       "    }\n",
       "\n",
       "    .dataframe tbody tr th {\n",
       "        vertical-align: top;\n",
       "    }\n",
       "\n",
       "    .dataframe thead th {\n",
       "        text-align: right;\n",
       "    }\n",
       "</style>\n",
       "<table border=\"1\" class=\"dataframe\">\n",
       "  <thead>\n",
       "    <tr style=\"text-align: right;\">\n",
       "      <th></th>\n",
       "      <th>0</th>\n",
       "      <th>MGB00001</th>\n",
       "      <th>MGB00002</th>\n",
       "      <th>MGB00003</th>\n",
       "      <th>MGB00004</th>\n",
       "      <th>MGB00005</th>\n",
       "      <th>MGB00006</th>\n",
       "      <th>MGB00007</th>\n",
       "      <th>MGB00008</th>\n",
       "      <th>MGB00009</th>\n",
       "      <th>...</th>\n",
       "      <th>MGB00091</th>\n",
       "      <th>MGB00092</th>\n",
       "      <th>MGB00093</th>\n",
       "      <th>MGB00094</th>\n",
       "      <th>MGB00095</th>\n",
       "      <th>MGB00096</th>\n",
       "      <th>MGB00097</th>\n",
       "      <th>MGB00098</th>\n",
       "      <th>MGB00099</th>\n",
       "      <th>MGB00100</th>\n",
       "    </tr>\n",
       "  </thead>\n",
       "  <tbody>\n",
       "    <tr>\n",
       "      <th>0</th>\n",
       "      <td>rs3131972_A</td>\n",
       "      <td>-0.435274</td>\n",
       "      <td>0.145781</td>\n",
       "      <td>0.145781</td>\n",
       "      <td>-1.016330</td>\n",
       "      <td>-0.435274</td>\n",
       "      <td>-1.016330</td>\n",
       "      <td>-0.435274</td>\n",
       "      <td>-1.016330</td>\n",
       "      <td>0.145781</td>\n",
       "      <td>...</td>\n",
       "      <td>-0.435274</td>\n",
       "      <td>-0.435274</td>\n",
       "      <td>-0.435274</td>\n",
       "      <td>-1.016330</td>\n",
       "      <td>-0.435274</td>\n",
       "      <td>0.145781</td>\n",
       "      <td>-0.435274</td>\n",
       "      <td>-0.435274</td>\n",
       "      <td>0.145781</td>\n",
       "      <td>-0.435274</td>\n",
       "    </tr>\n",
       "    <tr>\n",
       "      <th>1</th>\n",
       "      <td>1:840327_G_A_A</td>\n",
       "      <td>3.971477</td>\n",
       "      <td>3.971477</td>\n",
       "      <td>0.743766</td>\n",
       "      <td>3.971477</td>\n",
       "      <td>0.743766</td>\n",
       "      <td>0.743766</td>\n",
       "      <td>7.199187</td>\n",
       "      <td>7.199187</td>\n",
       "      <td>3.971477</td>\n",
       "      <td>...</td>\n",
       "      <td>7.199187</td>\n",
       "      <td>3.971477</td>\n",
       "      <td>0.743766</td>\n",
       "      <td>0.743766</td>\n",
       "      <td>3.971477</td>\n",
       "      <td>7.199187</td>\n",
       "      <td>0.743766</td>\n",
       "      <td>7.199187</td>\n",
       "      <td>0.743766</td>\n",
       "      <td>7.199187</td>\n",
       "    </tr>\n",
       "    <tr>\n",
       "      <th>2</th>\n",
       "      <td>rs4970382_T</td>\n",
       "      <td>-3.526750</td>\n",
       "      <td>-2.746769</td>\n",
       "      <td>-3.526750</td>\n",
       "      <td>-2.746769</td>\n",
       "      <td>-1.966788</td>\n",
       "      <td>-2.746769</td>\n",
       "      <td>-3.526750</td>\n",
       "      <td>-2.746769</td>\n",
       "      <td>-1.966788</td>\n",
       "      <td>...</td>\n",
       "      <td>-2.746769</td>\n",
       "      <td>-2.746769</td>\n",
       "      <td>-2.746769</td>\n",
       "      <td>-3.526750</td>\n",
       "      <td>-1.966788</td>\n",
       "      <td>-2.746769</td>\n",
       "      <td>-2.746769</td>\n",
       "      <td>-2.746769</td>\n",
       "      <td>-2.746769</td>\n",
       "      <td>-2.746769</td>\n",
       "    </tr>\n",
       "    <tr>\n",
       "      <th>3</th>\n",
       "      <td>1:846808_C_T_C</td>\n",
       "      <td>2.722384</td>\n",
       "      <td>1.299216</td>\n",
       "      <td>2.722384</td>\n",
       "      <td>1.299216</td>\n",
       "      <td>2.722384</td>\n",
       "      <td>1.299216</td>\n",
       "      <td>1.299216</td>\n",
       "      <td>2.722384</td>\n",
       "      <td>4.145552</td>\n",
       "      <td>...</td>\n",
       "      <td>1.299216</td>\n",
       "      <td>2.722384</td>\n",
       "      <td>1.299216</td>\n",
       "      <td>2.722384</td>\n",
       "      <td>2.722384</td>\n",
       "      <td>2.722384</td>\n",
       "      <td>1.299216</td>\n",
       "      <td>2.722384</td>\n",
       "      <td>1.299216</td>\n",
       "      <td>2.722384</td>\n",
       "    </tr>\n",
       "    <tr>\n",
       "      <th>4</th>\n",
       "      <td>Affx-15447216_C</td>\n",
       "      <td>5.412217</td>\n",
       "      <td>1.196706</td>\n",
       "      <td>5.412217</td>\n",
       "      <td>-3.018806</td>\n",
       "      <td>-3.018806</td>\n",
       "      <td>1.196706</td>\n",
       "      <td>1.196706</td>\n",
       "      <td>5.412217</td>\n",
       "      <td>1.196706</td>\n",
       "      <td>...</td>\n",
       "      <td>1.196706</td>\n",
       "      <td>1.196706</td>\n",
       "      <td>5.412217</td>\n",
       "      <td>-3.018806</td>\n",
       "      <td>-3.018806</td>\n",
       "      <td>1.196706</td>\n",
       "      <td>1.196706</td>\n",
       "      <td>1.196706</td>\n",
       "      <td>5.412217</td>\n",
       "      <td>5.412217</td>\n",
       "    </tr>\n",
       "    <tr>\n",
       "      <th>...</th>\n",
       "      <td>...</td>\n",
       "      <td>...</td>\n",
       "      <td>...</td>\n",
       "      <td>...</td>\n",
       "      <td>...</td>\n",
       "      <td>...</td>\n",
       "      <td>...</td>\n",
       "      <td>...</td>\n",
       "      <td>...</td>\n",
       "      <td>...</td>\n",
       "      <td>...</td>\n",
       "      <td>...</td>\n",
       "      <td>...</td>\n",
       "      <td>...</td>\n",
       "      <td>...</td>\n",
       "      <td>...</td>\n",
       "      <td>...</td>\n",
       "      <td>...</td>\n",
       "      <td>...</td>\n",
       "      <td>...</td>\n",
       "      <td>...</td>\n",
       "    </tr>\n",
       "    <tr>\n",
       "      <th>995</th>\n",
       "      <td>1:4496256_C_T_T</td>\n",
       "      <td>-1.126842</td>\n",
       "      <td>-1.126842</td>\n",
       "      <td>0.850135</td>\n",
       "      <td>-0.138353</td>\n",
       "      <td>-0.138353</td>\n",
       "      <td>-0.138353</td>\n",
       "      <td>0.850135</td>\n",
       "      <td>-0.138353</td>\n",
       "      <td>-0.138353</td>\n",
       "      <td>...</td>\n",
       "      <td>0.850135</td>\n",
       "      <td>-1.126842</td>\n",
       "      <td>-0.138353</td>\n",
       "      <td>-1.126842</td>\n",
       "      <td>-0.138353</td>\n",
       "      <td>-0.138353</td>\n",
       "      <td>0.850135</td>\n",
       "      <td>-0.138353</td>\n",
       "      <td>-0.138353</td>\n",
       "      <td>0.850135</td>\n",
       "    </tr>\n",
       "    <tr>\n",
       "      <th>996</th>\n",
       "      <td>1:4496659_C_T_T</td>\n",
       "      <td>-2.201933</td>\n",
       "      <td>-4.277609</td>\n",
       "      <td>-2.201933</td>\n",
       "      <td>-6.353284</td>\n",
       "      <td>-2.201933</td>\n",
       "      <td>-6.353284</td>\n",
       "      <td>-2.201933</td>\n",
       "      <td>-4.277609</td>\n",
       "      <td>-4.277609</td>\n",
       "      <td>...</td>\n",
       "      <td>-6.353284</td>\n",
       "      <td>-2.201933</td>\n",
       "      <td>-2.201933</td>\n",
       "      <td>-4.277609</td>\n",
       "      <td>-4.277609</td>\n",
       "      <td>-2.201933</td>\n",
       "      <td>-4.277609</td>\n",
       "      <td>-4.277609</td>\n",
       "      <td>-4.277609</td>\n",
       "      <td>-2.201933</td>\n",
       "    </tr>\n",
       "    <tr>\n",
       "      <th>997</th>\n",
       "      <td>1:4497097_G_A_A</td>\n",
       "      <td>-0.295714</td>\n",
       "      <td>-0.295714</td>\n",
       "      <td>-0.295714</td>\n",
       "      <td>-0.295714</td>\n",
       "      <td>-0.295714</td>\n",
       "      <td>-0.295714</td>\n",
       "      <td>0.356939</td>\n",
       "      <td>-0.948368</td>\n",
       "      <td>-0.948368</td>\n",
       "      <td>...</td>\n",
       "      <td>0.356939</td>\n",
       "      <td>-0.295714</td>\n",
       "      <td>-0.948368</td>\n",
       "      <td>0.356939</td>\n",
       "      <td>-0.948368</td>\n",
       "      <td>0.356939</td>\n",
       "      <td>0.356939</td>\n",
       "      <td>-0.295714</td>\n",
       "      <td>-0.295714</td>\n",
       "      <td>-0.948368</td>\n",
       "    </tr>\n",
       "    <tr>\n",
       "      <th>998</th>\n",
       "      <td>1:4497118_C_T_C</td>\n",
       "      <td>-11.307576</td>\n",
       "      <td>-20.985076</td>\n",
       "      <td>-1.630075</td>\n",
       "      <td>-20.985076</td>\n",
       "      <td>-11.307576</td>\n",
       "      <td>-11.307576</td>\n",
       "      <td>-11.307576</td>\n",
       "      <td>-20.985076</td>\n",
       "      <td>-11.307576</td>\n",
       "      <td>...</td>\n",
       "      <td>-1.630075</td>\n",
       "      <td>-11.307576</td>\n",
       "      <td>-11.307576</td>\n",
       "      <td>-1.630075</td>\n",
       "      <td>-20.985076</td>\n",
       "      <td>-20.985076</td>\n",
       "      <td>-1.630075</td>\n",
       "      <td>-11.307576</td>\n",
       "      <td>-11.307576</td>\n",
       "      <td>-11.307576</td>\n",
       "    </tr>\n",
       "    <tr>\n",
       "      <th>999</th>\n",
       "      <td>1:4497217_C_T_T</td>\n",
       "      <td>-2.608389</td>\n",
       "      <td>-1.265667</td>\n",
       "      <td>-1.265667</td>\n",
       "      <td>-2.608389</td>\n",
       "      <td>-1.265667</td>\n",
       "      <td>0.077056</td>\n",
       "      <td>-1.265667</td>\n",
       "      <td>-1.265667</td>\n",
       "      <td>-1.265667</td>\n",
       "      <td>...</td>\n",
       "      <td>-1.265667</td>\n",
       "      <td>-1.265667</td>\n",
       "      <td>-1.265667</td>\n",
       "      <td>0.077056</td>\n",
       "      <td>-1.265667</td>\n",
       "      <td>-2.608389</td>\n",
       "      <td>0.077056</td>\n",
       "      <td>-1.265667</td>\n",
       "      <td>0.077056</td>\n",
       "      <td>-1.265667</td>\n",
       "    </tr>\n",
       "  </tbody>\n",
       "</table>\n",
       "<p>1000 rows × 101 columns</p>\n",
       "</div>"
      ],
      "text/plain": [
       "                   0   MGB00001   MGB00002  MGB00003   MGB00004   MGB00005  \\\n",
       "0        rs3131972_A  -0.435274   0.145781  0.145781  -1.016330  -0.435274   \n",
       "1     1:840327_G_A_A   3.971477   3.971477  0.743766   3.971477   0.743766   \n",
       "2        rs4970382_T  -3.526750  -2.746769 -3.526750  -2.746769  -1.966788   \n",
       "3     1:846808_C_T_C   2.722384   1.299216  2.722384   1.299216   2.722384   \n",
       "4    Affx-15447216_C   5.412217   1.196706  5.412217  -3.018806  -3.018806   \n",
       "..               ...        ...        ...       ...        ...        ...   \n",
       "995  1:4496256_C_T_T  -1.126842  -1.126842  0.850135  -0.138353  -0.138353   \n",
       "996  1:4496659_C_T_T  -2.201933  -4.277609 -2.201933  -6.353284  -2.201933   \n",
       "997  1:4497097_G_A_A  -0.295714  -0.295714 -0.295714  -0.295714  -0.295714   \n",
       "998  1:4497118_C_T_C -11.307576 -20.985076 -1.630075 -20.985076 -11.307576   \n",
       "999  1:4497217_C_T_T  -2.608389  -1.265667 -1.265667  -2.608389  -1.265667   \n",
       "\n",
       "      MGB00006   MGB00007   MGB00008   MGB00009  ...  MGB00091   MGB00092  \\\n",
       "0    -1.016330  -0.435274  -1.016330   0.145781  ... -0.435274  -0.435274   \n",
       "1     0.743766   7.199187   7.199187   3.971477  ...  7.199187   3.971477   \n",
       "2    -2.746769  -3.526750  -2.746769  -1.966788  ... -2.746769  -2.746769   \n",
       "3     1.299216   1.299216   2.722384   4.145552  ...  1.299216   2.722384   \n",
       "4     1.196706   1.196706   5.412217   1.196706  ...  1.196706   1.196706   \n",
       "..         ...        ...        ...        ...  ...       ...        ...   \n",
       "995  -0.138353   0.850135  -0.138353  -0.138353  ...  0.850135  -1.126842   \n",
       "996  -6.353284  -2.201933  -4.277609  -4.277609  ... -6.353284  -2.201933   \n",
       "997  -0.295714   0.356939  -0.948368  -0.948368  ...  0.356939  -0.295714   \n",
       "998 -11.307576 -11.307576 -20.985076 -11.307576  ... -1.630075 -11.307576   \n",
       "999   0.077056  -1.265667  -1.265667  -1.265667  ... -1.265667  -1.265667   \n",
       "\n",
       "      MGB00093  MGB00094   MGB00095   MGB00096  MGB00097   MGB00098  \\\n",
       "0    -0.435274 -1.016330  -0.435274   0.145781 -0.435274  -0.435274   \n",
       "1     0.743766  0.743766   3.971477   7.199187  0.743766   7.199187   \n",
       "2    -2.746769 -3.526750  -1.966788  -2.746769 -2.746769  -2.746769   \n",
       "3     1.299216  2.722384   2.722384   2.722384  1.299216   2.722384   \n",
       "4     5.412217 -3.018806  -3.018806   1.196706  1.196706   1.196706   \n",
       "..         ...       ...        ...        ...       ...        ...   \n",
       "995  -0.138353 -1.126842  -0.138353  -0.138353  0.850135  -0.138353   \n",
       "996  -2.201933 -4.277609  -4.277609  -2.201933 -4.277609  -4.277609   \n",
       "997  -0.948368  0.356939  -0.948368   0.356939  0.356939  -0.295714   \n",
       "998 -11.307576 -1.630075 -20.985076 -20.985076 -1.630075 -11.307576   \n",
       "999  -1.265667  0.077056  -1.265667  -2.608389  0.077056  -1.265667   \n",
       "\n",
       "      MGB00099   MGB00100  \n",
       "0     0.145781  -0.435274  \n",
       "1     0.743766   7.199187  \n",
       "2    -2.746769  -2.746769  \n",
       "3     1.299216   2.722384  \n",
       "4     5.412217   5.412217  \n",
       "..         ...        ...  \n",
       "995  -0.138353   0.850135  \n",
       "996  -4.277609  -2.201933  \n",
       "997  -0.295714  -0.948368  \n",
       "998 -11.307576 -11.307576  \n",
       "999   0.077056  -1.265667  \n",
       "\n",
       "[1000 rows x 101 columns]"
      ]
     },
     "execution_count": 237,
     "metadata": {},
     "output_type": "execute_result"
    }
   ],
   "source": [
    "feather.read_feather(\"../../test.zscored.feather\")"
   ]
  },
  {
   "cell_type": "markdown",
   "id": "6b5c0b13-8470-4df9-84cd-fa260c23dae9",
   "metadata": {},
   "source": [
    "## Part 4 - Phenotype files for dataloading\n",
    "Build a tsv and an ids file for dataloading"
   ]
  },
  {
   "cell_type": "code",
   "execution_count": 130,
   "id": "bde712d5-246f-4e9f-8017-5b17e887bc76",
   "metadata": {
    "execution": {
     "iopub.execute_input": "2021-09-22T06:27:12.221864Z",
     "iopub.status.busy": "2021-09-22T06:27:12.221594Z",
     "iopub.status.idle": "2021-09-22T06:27:12.599016Z",
     "shell.execute_reply": "2021-09-22T06:27:12.598269Z",
     "shell.execute_reply.started": "2021-09-22T06:27:12.221834Z"
    }
   },
   "outputs": [],
   "source": [
    "tsv = fam.iloc[:100, :].copy()"
   ]
  },
  {
   "cell_type": "code",
   "execution_count": 131,
   "id": "10af867c-5469-45f3-af20-06a03e92840a",
   "metadata": {
    "execution": {
     "iopub.execute_input": "2021-09-22T06:27:13.877310Z",
     "iopub.status.busy": "2021-09-22T06:27:13.877075Z",
     "iopub.status.idle": "2021-09-22T06:27:14.345150Z",
     "shell.execute_reply": "2021-09-22T06:27:14.344465Z",
     "shell.execute_reply.started": "2021-09-22T06:27:13.877282Z"
    },
    "tags": []
   },
   "outputs": [],
   "source": [
    "tsv.columns = [\"FID\", \"IID\", \"PAT\", \"MAT\", \"SEX\", \"PHENOTYPE\"]"
   ]
  },
  {
   "cell_type": "code",
   "execution_count": 132,
   "id": "39be05c8-d7d9-48c1-a64e-ccb8d63115b1",
   "metadata": {
    "execution": {
     "iopub.execute_input": "2021-09-22T06:27:14.781508Z",
     "iopub.status.busy": "2021-09-22T06:27:14.781301Z",
     "iopub.status.idle": "2021-09-22T06:27:15.052346Z",
     "shell.execute_reply": "2021-09-22T06:27:15.051346Z",
     "shell.execute_reply.started": "2021-09-22T06:27:14.781481Z"
    },
    "tags": []
   },
   "outputs": [],
   "source": [
    "tsv[\"AGE\"] = -9"
   ]
  },
  {
   "cell_type": "code",
   "execution_count": 133,
   "id": "43fd8ced-4ec5-4cc6-8e1f-c1eb49da1f9c",
   "metadata": {
    "execution": {
     "iopub.execute_input": "2021-09-22T06:27:15.053796Z",
     "iopub.status.busy": "2021-09-22T06:27:15.053563Z",
     "iopub.status.idle": "2021-09-22T06:27:15.321518Z",
     "shell.execute_reply": "2021-09-22T06:27:15.320843Z",
     "shell.execute_reply.started": "2021-09-22T06:27:15.053768Z"
    },
    "tags": []
   },
   "outputs": [],
   "source": [
    "tsv[\"FH\"] = -9"
   ]
  },
  {
   "cell_type": "code",
   "execution_count": 134,
   "id": "8e044d54-a00c-4c29-87cb-1d769911a7f3",
   "metadata": {
    "execution": {
     "iopub.execute_input": "2021-09-22T06:27:15.790503Z",
     "iopub.status.busy": "2021-09-22T06:27:15.790297Z",
     "iopub.status.idle": "2021-09-22T06:27:16.265206Z",
     "shell.execute_reply": "2021-09-22T06:27:16.264437Z",
     "shell.execute_reply.started": "2021-09-22T06:27:15.790476Z"
    },
    "tags": []
   },
   "outputs": [],
   "source": [
    "tsv[\"ETH\"] = \"EUR\""
   ]
  },
  {
   "cell_type": "code",
   "execution_count": 161,
   "id": "53876735-8aca-4408-8761-c6433980826c",
   "metadata": {
    "execution": {
     "iopub.execute_input": "2021-09-22T06:33:51.686599Z",
     "iopub.status.busy": "2021-09-22T06:33:51.686338Z",
     "iopub.status.idle": "2021-09-22T06:33:52.368187Z",
     "shell.execute_reply": "2021-09-22T06:33:52.367364Z",
     "shell.execute_reply.started": "2021-09-22T06:33:51.686570Z"
    },
    "tags": []
   },
   "outputs": [],
   "source": [
    "tsv.to_csv(\"MGB_100_1000.tsv\", sep=\"\\t\")"
   ]
  },
  {
   "cell_type": "code",
   "execution_count": 138,
   "id": "234f5634-094a-4b2e-96b0-df5c7cd181e9",
   "metadata": {
    "execution": {
     "iopub.execute_input": "2021-09-22T06:27:47.920542Z",
     "iopub.status.busy": "2021-09-22T06:27:47.920270Z",
     "iopub.status.idle": "2021-09-22T06:27:48.225039Z",
     "shell.execute_reply": "2021-09-22T06:27:48.224031Z",
     "shell.execute_reply.started": "2021-09-22T06:27:47.920511Z"
    },
    "tags": []
   },
   "outputs": [],
   "source": [
    "ids = tsv[\"IID\"].values"
   ]
  },
  {
   "cell_type": "code",
   "execution_count": 139,
   "id": "720231e5-0932-4230-b5e9-56fa7d9b40c1",
   "metadata": {
    "execution": {
     "iopub.execute_input": "2021-09-22T06:28:12.282469Z",
     "iopub.status.busy": "2021-09-22T06:28:12.282199Z",
     "iopub.status.idle": "2021-09-22T06:28:12.583717Z",
     "shell.execute_reply": "2021-09-22T06:28:12.583056Z",
     "shell.execute_reply.started": "2021-09-22T06:28:12.282438Z"
    }
   },
   "outputs": [],
   "source": [
    "np.savetxt(\"MGB_100_1000.ids.txt\", ids, fmt=\"%s\")"
   ]
  },
  {
   "cell_type": "markdown",
   "id": "b0d3c9b3-2f1c-47df-9e52-decbf0296ab8",
   "metadata": {},
   "source": [
    "## Part 5 - Test dataloading"
   ]
  },
  {
   "cell_type": "code",
   "execution_count": 239,
   "id": "87f19991-cd73-4020-a6af-74fa39cbd7ee",
   "metadata": {
    "execution": {
     "iopub.execute_input": "2021-09-22T18:17:37.003198Z",
     "iopub.status.busy": "2021-09-22T18:17:37.002897Z",
     "iopub.status.idle": "2021-09-22T18:17:37.856557Z",
     "shell.execute_reply": "2021-09-22T18:17:37.855734Z",
     "shell.execute_reply.started": "2021-09-22T18:17:37.003159Z"
    },
    "tags": []
   },
   "outputs": [],
   "source": [
    "import sys"
   ]
  },
  {
   "cell_type": "code",
   "execution_count": 240,
   "id": "57bd8fa5-4e7c-4d13-98e8-8236862a7ad5",
   "metadata": {
    "execution": {
     "iopub.execute_input": "2021-09-22T18:17:38.535567Z",
     "iopub.status.busy": "2021-09-22T18:17:38.535379Z",
     "iopub.status.idle": "2021-09-22T18:17:39.158987Z",
     "shell.execute_reply": "2021-09-22T18:17:39.158241Z",
     "shell.execute_reply.started": "2021-09-22T18:17:38.535542Z"
    },
    "tags": []
   },
   "outputs": [],
   "source": [
    "sys.path.append(\"/cellar/users/aklie/cagi6-prs-docker\")"
   ]
  },
  {
   "cell_type": "code",
   "execution_count": 241,
   "id": "e93e26da-f6d6-46c5-aea0-9ae5b9ad5f80",
   "metadata": {
    "execution": {
     "iopub.execute_input": "2021-09-22T18:17:39.160105Z",
     "iopub.status.busy": "2021-09-22T18:17:39.159918Z",
     "iopub.status.idle": "2021-09-22T18:17:39.815502Z",
     "shell.execute_reply": "2021-09-22T18:17:39.814773Z",
     "shell.execute_reply.started": "2021-09-22T18:17:39.160081Z"
    },
    "tags": []
   },
   "outputs": [],
   "source": [
    "import SNPLoader"
   ]
  },
  {
   "cell_type": "code",
   "execution_count": 243,
   "id": "66c3fb19-938c-4e19-aa37-e9ab81b31b28",
   "metadata": {
    "execution": {
     "iopub.execute_input": "2021-09-22T18:18:08.380468Z",
     "iopub.status.busy": "2021-09-22T18:18:08.380212Z",
     "iopub.status.idle": "2021-09-22T18:18:08.983759Z",
     "shell.execute_reply": "2021-09-22T18:18:08.983074Z",
     "shell.execute_reply.started": "2021-09-22T18:18:08.380435Z"
    },
    "tags": []
   },
   "outputs": [],
   "source": [
    "loader = SNPLoader.get_loader(\n",
    "    ids_file=\"../test/MGB_100_1000.ids.txt\",\n",
    "    genotype_file=\"../test/MGB_100_1000.zscored.feather\",\n",
    "    phenotype_file=\"../test/MGB_100_1000.tsv\",\n",
    "    disease_column=\"PHENOTYPE\",\n",
    "    batch_size=100,\n",
    "    shuffle=True,\n",
    "    num_workers=2,\n",
    ")"
   ]
  },
  {
   "cell_type": "code",
   "execution_count": 244,
   "id": "e19b49e6-b8e3-4a92-b8e8-5ec9911f6377",
   "metadata": {
    "execution": {
     "iopub.execute_input": "2021-09-22T18:18:09.832435Z",
     "iopub.status.busy": "2021-09-22T18:18:09.832135Z",
     "iopub.status.idle": "2021-09-22T18:18:10.876399Z",
     "shell.execute_reply": "2021-09-22T18:18:10.875565Z",
     "shell.execute_reply.started": "2021-09-22T18:18:09.832396Z"
    },
    "tags": []
   },
   "outputs": [
    {
     "name": "stdout",
     "output_type": "stream",
     "text": [
      "0\n"
     ]
    }
   ],
   "source": [
    "for batch_num, (snp, pheno, eth, fh) in enumerate(loader):\n",
    "    print(batch_num)"
   ]
  },
  {
   "cell_type": "code",
   "execution_count": 245,
   "id": "3074446e-101b-4e8f-ac22-c7288d80ce94",
   "metadata": {
    "execution": {
     "iopub.execute_input": "2021-09-22T18:18:11.652973Z",
     "iopub.status.busy": "2021-09-22T18:18:11.652748Z",
     "iopub.status.idle": "2021-09-22T18:18:12.296185Z",
     "shell.execute_reply": "2021-09-22T18:18:12.295179Z",
     "shell.execute_reply.started": "2021-09-22T18:18:11.652945Z"
    },
    "tags": []
   },
   "outputs": [
    {
     "data": {
      "text/plain": [
       "(torch.Size([100, 1000]),\n",
       " torch.Size([100, 1]),\n",
       " torch.Size([100, 1]),\n",
       " torch.Size([100, 1]))"
      ]
     },
     "execution_count": 245,
     "metadata": {},
     "output_type": "execute_result"
    }
   ],
   "source": [
    "snp.size(), pheno.size(), eth.size(), fh.size()"
   ]
  },
  {
   "cell_type": "code",
   "execution_count": 251,
   "id": "fcf7681d-d09d-4de4-902b-974f16c5335a",
   "metadata": {
    "execution": {
     "iopub.execute_input": "2021-09-22T18:18:54.856620Z",
     "iopub.status.busy": "2021-09-22T18:18:54.856378Z",
     "iopub.status.idle": "2021-09-22T18:18:55.474231Z",
     "shell.execute_reply": "2021-09-22T18:18:55.473452Z",
     "shell.execute_reply.started": "2021-09-22T18:18:54.856588Z"
    },
    "tags": []
   },
   "outputs": [
    {
     "data": {
      "text/plain": [
       "(array([-1.0163296 , -0.43527448,  0.14578073], dtype=float32),\n",
       " array([15, 65, 20]))"
      ]
     },
     "execution_count": 251,
     "metadata": {},
     "output_type": "execute_result"
    }
   ],
   "source": [
    "np.unique(snp[:, 0], return_counts=True)"
   ]
  },
  {
   "cell_type": "markdown",
   "id": "a23a9292-9b59-462e-9f04-4667b7c1f4d6",
   "metadata": {
    "execution": {
     "iopub.execute_input": "2021-09-08T17:29:42.314098Z",
     "iopub.status.busy": "2021-09-08T17:29:42.313838Z",
     "iopub.status.idle": "2021-09-08T17:29:42.903968Z",
     "shell.execute_reply": "2021-09-08T17:29:42.903216Z",
     "shell.execute_reply.started": "2021-09-08T17:29:42.314069Z"
    },
    "tags": []
   },
   "source": [
    "# Scratch\n",
    "Place for old or testing code"
   ]
  },
  {
   "cell_type": "markdown",
   "id": "ed7ffd88-94c2-45f2-ad87-9f255e8073ff",
   "metadata": {},
   "source": [
    "# References"
   ]
  }
 ],
 "metadata": {
  "kernelspec": {
   "display_name": "Python3 ml_env",
   "language": "python",
   "name": "ml_env"
  },
  "language_info": {
   "codemirror_mode": {
    "name": "ipython",
    "version": 3
   },
   "file_extension": ".py",
   "mimetype": "text/x-python",
   "name": "python",
   "nbconvert_exporter": "python",
   "pygments_lexer": "ipython3",
   "version": "3.8.8"
  }
 },
 "nbformat": 4,
 "nbformat_minor": 5
}
