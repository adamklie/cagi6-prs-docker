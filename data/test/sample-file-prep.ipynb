{
 "cells": [
  {
   "cell_type": "markdown",
   "id": "90a88efe-ebb3-424c-8704-fb4ee189af2c",
   "metadata": {},
   "source": [
    "# Notebook Title"
   ]
  },
  {
   "cell_type": "markdown",
   "id": "2d058003-a667-4b45-9ddc-e47efe48e0e1",
   "metadata": {
    "tags": []
   },
   "source": [
    "**Authorship:**\n",
    "Author, *MM/DD/YYYY*\n",
    "***\n",
    "**Description:**\n",
    "Notebook to do some cool stuff\n",
    "***\n",
    "**TODOs:**\n",
    " - <font color='green'> Done TODO </font>\n",
    " - <font color='orange'> WIP TODO </font>\n",
    " - <font color='red'> Queued TODO </font>\n",
    "***"
   ]
  },
  {
   "cell_type": "markdown",
   "id": "a2a2c4a5-1dac-4dce-8e87-cb83f07de4c3",
   "metadata": {
    "execution": {
     "iopub.execute_input": "2021-09-05T21:21:18.602440Z",
     "iopub.status.busy": "2021-09-05T21:21:18.602151Z",
     "iopub.status.idle": "2021-09-05T21:21:18.606439Z",
     "shell.execute_reply": "2021-09-05T21:21:18.605256Z",
     "shell.execute_reply.started": "2021-09-05T21:21:18.602409Z"
    },
    "tags": []
   },
   "source": [
    "## Set-up"
   ]
  },
  {
   "cell_type": "code",
   "execution_count": 77,
   "id": "3ebaff6f",
   "metadata": {
    "execution": {
     "iopub.execute_input": "2021-09-24T17:54:10.380532Z",
     "iopub.status.busy": "2021-09-24T17:54:10.380240Z",
     "iopub.status.idle": "2021-09-24T17:54:10.838037Z",
     "shell.execute_reply": "2021-09-24T17:54:10.837030Z",
     "shell.execute_reply.started": "2021-09-24T17:54:10.380500Z"
    },
    "tags": []
   },
   "outputs": [],
   "source": [
    "# The classics\n",
    "import numpy as np\n",
    "import pandas as pd\n",
    "\n",
    "# Other guys\n",
    "import tqdm\n",
    "from pyarrow import feather\n",
    "\n",
    "# Autoreload extension\n",
    "if 'autoreload' not in get_ipython().extension_manager.loaded:\n",
    "    %load_ext autoreload\n",
    "%autoreload 2"
   ]
  },
  {
   "cell_type": "markdown",
   "id": "1d300d96-ec54-4b57-bc99-19fe5ff3a1ef",
   "metadata": {
    "tags": []
   },
   "source": [
    "## Part 0 - Build a dummy bed file from given bim and fam"
   ]
  },
  {
   "cell_type": "code",
   "execution_count": 78,
   "id": "0a62d1a9-cdc5-4287-a87f-1da06ba9eb6d",
   "metadata": {
    "execution": {
     "iopub.execute_input": "2021-09-24T17:54:11.510938Z",
     "iopub.status.busy": "2021-09-24T17:54:11.510734Z",
     "iopub.status.idle": "2021-09-24T17:54:13.259595Z",
     "shell.execute_reply": "2021-09-24T17:54:13.258933Z",
     "shell.execute_reply.started": "2021-09-24T17:54:11.510913Z"
    },
    "tags": []
   },
   "outputs": [],
   "source": [
    "bim = pd.read_csv(\"../val/MGB.bim\", sep=\"\\t\", header=None)"
   ]
  },
  {
   "cell_type": "code",
   "execution_count": 79,
   "id": "7e01518b-535b-4312-b2d2-fcd150e5d99a",
   "metadata": {
    "execution": {
     "iopub.execute_input": "2021-09-24T17:54:13.261347Z",
     "iopub.status.busy": "2021-09-24T17:54:13.261018Z",
     "iopub.status.idle": "2021-09-24T17:54:13.662482Z",
     "shell.execute_reply": "2021-09-24T17:54:13.661908Z",
     "shell.execute_reply.started": "2021-09-24T17:54:13.261303Z"
    },
    "tags": []
   },
   "outputs": [],
   "source": [
    "fam = pd.read_csv(\"../val/MGB.fam\", delim_whitespace=True, header=None)"
   ]
  },
  {
   "cell_type": "markdown",
   "id": "e6c8eae1-db70-41a7-b34e-ac28d0674279",
   "metadata": {
    "tags": []
   },
   "source": [
    "### 100 x 1000"
   ]
  },
  {
   "cell_type": "markdown",
   "id": "dedfefea-a4f3-440b-bbc6-84a6dcdc7bbf",
   "metadata": {},
   "source": [
    "#### PED"
   ]
  },
  {
   "cell_type": "code",
   "execution_count": 96,
   "id": "1795e81c-413e-4a4d-b29f-95fa60ae5ae7",
   "metadata": {
    "execution": {
     "iopub.execute_input": "2021-09-24T17:58:27.498505Z",
     "iopub.status.busy": "2021-09-24T17:58:27.498300Z",
     "iopub.status.idle": "2021-09-24T17:58:34.390483Z",
     "shell.execute_reply": "2021-09-24T17:58:34.389512Z",
     "shell.execute_reply.started": "2021-09-24T17:58:27.498478Z"
    },
    "tags": []
   },
   "outputs": [
    {
     "name": "stderr",
     "output_type": "stream",
     "text": [
      "100it [00:06, 15.61it/s]\n"
     ]
    }
   ],
   "source": [
    "# Run this to generate a 100 individual by 1000 SNP simulated test set\n",
    "ped = []\n",
    "for i, (row, ind) in tqdm.tqdm(enumerate(fam.iloc[:100, :].iterrows())):\n",
    "    rand_genotype = np.concatenate(\n",
    "        np.stack(bim.iloc[:1000, :][[4, 5]].apply(np.random.choice, size=2, axis=1))\n",
    "    )\n",
    "    ped.append((list(ind.values) + list(rand_genotype)))\n",
    "ped = np.array(ped)"
   ]
  },
  {
   "cell_type": "code",
   "execution_count": 97,
   "id": "9ba1e461-39f9-4e3a-9cef-685b5f2cd887",
   "metadata": {
    "execution": {
     "iopub.execute_input": "2021-09-24T17:58:34.392729Z",
     "iopub.status.busy": "2021-09-24T17:58:34.392400Z",
     "iopub.status.idle": "2021-09-24T17:58:35.034260Z",
     "shell.execute_reply": "2021-09-24T17:58:35.033661Z",
     "shell.execute_reply.started": "2021-09-24T17:58:34.392687Z"
    },
    "tags": []
   },
   "outputs": [],
   "source": [
    "ped[:, 5] = np.random.choice([1, 2], size=100)"
   ]
  },
  {
   "cell_type": "code",
   "execution_count": 98,
   "id": "9064a756-431e-4ca4-a7a9-2de30ae8ea3d",
   "metadata": {
    "execution": {
     "iopub.execute_input": "2021-09-24T17:58:35.572791Z",
     "iopub.status.busy": "2021-09-24T17:58:35.572505Z",
     "iopub.status.idle": "2021-09-24T17:58:36.058306Z",
     "shell.execute_reply": "2021-09-24T17:58:36.057689Z",
     "shell.execute_reply.started": "2021-09-24T17:58:35.572754Z"
    },
    "tags": []
   },
   "outputs": [],
   "source": [
    "np.savetxt(\"MGB_100_1000/MGB_100_1000.ped\", ped, delimiter=\" \", fmt=\"%s\")"
   ]
  },
  {
   "cell_type": "markdown",
   "id": "f5a7155c-fc3d-45a0-ba23-5a7b679f1224",
   "metadata": {
    "tags": []
   },
   "source": [
    "#### BIM"
   ]
  },
  {
   "cell_type": "code",
   "execution_count": 99,
   "id": "a8b6e6d6-94da-4e7f-8676-74cfcc82c912",
   "metadata": {
    "execution": {
     "iopub.execute_input": "2021-09-24T17:58:36.059446Z",
     "iopub.status.busy": "2021-09-24T17:58:36.059268Z",
     "iopub.status.idle": "2021-09-24T17:58:36.723818Z",
     "shell.execute_reply": "2021-09-24T17:58:36.723118Z",
     "shell.execute_reply.started": "2021-09-24T17:58:36.059422Z"
    },
    "tags": []
   },
   "outputs": [],
   "source": [
    "bim[[0, 1, 2, 3]].iloc[:1000, :].to_csv(\n",
    "    \"MGB_100_1000/MGB_100_1000.map\", sep=\"\\t\", header=None, index=False\n",
    ")"
   ]
  },
  {
   "cell_type": "markdown",
   "id": "cbc3164b-acd8-4ab8-b0c0-5c6693e8a992",
   "metadata": {
    "tags": []
   },
   "source": [
    "### 100 x All SNPs"
   ]
  },
  {
   "cell_type": "markdown",
   "id": "e2261536-92db-4f74-9057-8527204f7044",
   "metadata": {
    "tags": []
   },
   "source": [
    "#### PED"
   ]
  },
  {
   "cell_type": "code",
   "execution_count": 23,
   "id": "5cf270df-a754-4af2-b829-b4b731bbf3cb",
   "metadata": {
    "execution": {
     "iopub.execute_input": "2021-09-24T05:43:43.272534Z",
     "iopub.status.busy": "2021-09-24T05:43:43.272129Z",
     "iopub.status.idle": "2021-09-24T05:43:44.337261Z",
     "shell.execute_reply": "2021-09-24T05:43:44.336409Z",
     "shell.execute_reply.started": "2021-09-24T05:43:43.272489Z"
    },
    "tags": []
   },
   "outputs": [
    {
     "data": {
      "text/plain": [
       "((10, 6), (10, 3407714), (10, 3407720))"
      ]
     },
     "execution_count": 23,
     "metadata": {},
     "output_type": "execute_result"
    }
   ],
   "source": [
    "fam.values[:10].shape, np.tile(bim[[4, 5]].values.flatten(), (10, 1)).shape, np.concatenate([fam.values[:10], np.tile(bim[[4, 5]].values.flatten(), (10, 1))], axis=1).shape"
   ]
  },
  {
   "cell_type": "code",
   "execution_count": 27,
   "id": "268e8365-e1dd-48f3-bd35-32b0d05698cc",
   "metadata": {
    "execution": {
     "iopub.execute_input": "2021-09-24T05:46:24.550230Z",
     "iopub.status.busy": "2021-09-24T05:46:24.549967Z",
     "iopub.status.idle": "2021-09-24T05:46:24.919993Z",
     "shell.execute_reply": "2021-09-24T05:46:24.919285Z",
     "shell.execute_reply.started": "2021-09-24T05:46:24.550198Z"
    },
    "tags": []
   },
   "outputs": [],
   "source": [
    "sample_fam = fam.values[:10]"
   ]
  },
  {
   "cell_type": "code",
   "execution_count": 31,
   "id": "23b82e82-e9ac-43e9-b575-ad991b433a06",
   "metadata": {
    "execution": {
     "iopub.execute_input": "2021-09-24T05:46:59.548638Z",
     "iopub.status.busy": "2021-09-24T05:46:59.548325Z",
     "iopub.status.idle": "2021-09-24T05:46:59.975157Z",
     "shell.execute_reply": "2021-09-24T05:46:59.974222Z",
     "shell.execute_reply.started": "2021-09-24T05:46:59.548602Z"
    },
    "tags": []
   },
   "outputs": [],
   "source": [
    "sample_fam[:, 5] = np.random.choice([1, 2], size=10)"
   ]
  },
  {
   "cell_type": "code",
   "execution_count": 33,
   "id": "9034b9ff-b5ea-47d8-a978-d253a8a4997c",
   "metadata": {
    "execution": {
     "iopub.execute_input": "2021-09-24T05:47:14.271558Z",
     "iopub.status.busy": "2021-09-24T05:47:14.271263Z",
     "iopub.status.idle": "2021-09-24T05:47:16.752577Z",
     "shell.execute_reply": "2021-09-24T05:47:16.751897Z",
     "shell.execute_reply.started": "2021-09-24T05:47:14.271526Z"
    },
    "tags": []
   },
   "outputs": [],
   "source": [
    "np.savetxt(\"MGB_10_all/MGB_10_all.ped\", \n",
    "           np.concatenate([sample_fam, np.tile(bim[[4, 5]].values.flatten(), (10, 1))], axis=1),\n",
    "           fmt=\"%s\")"
   ]
  },
  {
   "cell_type": "markdown",
   "id": "8b0baf62-63de-4c67-8aaf-f03c20fa89ec",
   "metadata": {},
   "source": [
    "#### MAP"
   ]
  },
  {
   "cell_type": "code",
   "execution_count": 25,
   "id": "15a9e077-94ca-46fb-b933-71e6acdfbe8b",
   "metadata": {
    "execution": {
     "iopub.execute_input": "2021-09-24T05:45:00.447054Z",
     "iopub.status.busy": "2021-09-24T05:45:00.446723Z",
     "iopub.status.idle": "2021-09-24T05:45:03.528462Z",
     "shell.execute_reply": "2021-09-24T05:45:03.527599Z",
     "shell.execute_reply.started": "2021-09-24T05:45:00.447018Z"
    }
   },
   "outputs": [],
   "source": [
    "bim[[0, 1, 2, 3]].to_csv(\n",
    "    \"MGB_10_all/MGB_10_all.map\", sep=\"\\t\", header=None, index=False\n",
    ")"
   ]
  },
  {
   "cell_type": "markdown",
   "id": "15573fbc-28c2-487d-9468-69833e757304",
   "metadata": {
    "tags": []
   },
   "source": [
    "### Full set"
   ]
  },
  {
   "cell_type": "code",
   "execution_count": 20,
   "id": "5807ad02-ac4d-4436-aac6-577391a9e6e1",
   "metadata": {
    "execution": {
     "iopub.execute_input": "2021-09-24T05:36:37.272380Z",
     "iopub.status.busy": "2021-09-24T05:36:37.272031Z",
     "iopub.status.idle": "2021-09-24T05:37:57.852915Z",
     "shell.execute_reply": "2021-09-24T05:37:57.852036Z",
     "shell.execute_reply.started": "2021-09-24T05:36:37.272345Z"
    },
    "tags": []
   },
   "outputs": [
    {
     "name": "stdout",
     "output_type": "stream",
     "text": [
      "0 100\n",
      "100 200\n",
      "200 300\n",
      "300 400\n"
     ]
    }
   ],
   "source": [
    "num = 100\n",
    "for i in range(int(len(fam)/num)+1):\n",
    "    start = num*i\n",
    "    end = num*(i+1)\n",
    "    if end > len(fam):\n",
    "        end = len(fam)\n",
    "    print(start, end)\n",
    "    np.savetxt(\"full/MGB_{}_{}.ped\".format(start, end), np.concatenate([fam.values[start:end], np.tile(bim[[4, 5]].values.flatten(), (num, 1))], axis=1), fmt=\"%s\")\n",
    "    if i == 3:\n",
    "        break"
   ]
  },
  {
   "cell_type": "code",
   "execution_count": null,
   "id": "60453a3a-f884-48b7-85bf-366836b533b5",
   "metadata": {},
   "outputs": [],
   "source": []
  },
  {
   "cell_type": "markdown",
   "id": "234524ab-c00a-40b9-8c6c-a9469cc0ba7b",
   "metadata": {
    "tags": []
   },
   "source": [
    "## Part 1 - Make a SNP summary file"
   ]
  },
  {
   "cell_type": "code",
   "execution_count": 3,
   "id": "e0e71b65-9fa7-4ef9-8e83-5b942761e944",
   "metadata": {
    "execution": {
     "iopub.execute_input": "2021-09-24T15:41:16.114221Z",
     "iopub.status.busy": "2021-09-24T15:41:16.113965Z",
     "iopub.status.idle": "2021-09-24T15:41:17.553466Z",
     "shell.execute_reply": "2021-09-24T15:41:17.552550Z",
     "shell.execute_reply.started": "2021-09-24T15:41:16.114190Z"
    },
    "tags": []
   },
   "outputs": [],
   "source": [
    "geno = feather.read_feather(\"../../../cagi6-prs/features/baseline_snps-baseline_plus_samples/ibd_age_old/ibd.age.old.feather\")"
   ]
  },
  {
   "cell_type": "code",
   "execution_count": 4,
   "id": "e50aa4f4-e226-497a-a1aa-4e63165e1a04",
   "metadata": {
    "execution": {
     "iopub.execute_input": "2021-09-24T15:41:20.393079Z",
     "iopub.status.busy": "2021-09-24T15:41:20.392763Z",
     "iopub.status.idle": "2021-09-24T15:41:20.911920Z",
     "shell.execute_reply": "2021-09-24T15:41:20.911155Z",
     "shell.execute_reply.started": "2021-09-24T15:41:20.393045Z"
    },
    "tags": []
   },
   "outputs": [],
   "source": [
    "snps = [\"_\".join(var.split(\"_\")[:-1]) for var in geno[\"index\"]]\n",
    "alleles = [var[-1] for var in geno[\"index\"]]\n",
    "allele_mp = dict(zip(snps, alleles))"
   ]
  },
  {
   "cell_type": "code",
   "execution_count": 2,
   "id": "9e88e290-b5c1-47cf-902f-566702f3b2b4",
   "metadata": {
    "execution": {
     "iopub.execute_input": "2021-09-24T15:41:07.164336Z",
     "iopub.status.busy": "2021-09-24T15:41:07.164071Z",
     "iopub.status.idle": "2021-09-24T15:41:11.519767Z",
     "shell.execute_reply": "2021-09-24T15:41:11.519101Z",
     "shell.execute_reply.started": "2021-09-24T15:41:07.164304Z"
    },
    "tags": []
   },
   "outputs": [],
   "source": [
    "snp_map = pd.read_csv(\"../../../cagi6-prs/snps/ukb.extracted.intersected.mgb.snps.tsv\", sep=\"\\t\")"
   ]
  },
  {
   "cell_type": "code",
   "execution_count": 5,
   "id": "e528ae54-224b-4a46-a36a-73e7b356baf1",
   "metadata": {
    "execution": {
     "iopub.execute_input": "2021-09-24T15:41:30.986975Z",
     "iopub.status.busy": "2021-09-24T15:41:30.986678Z",
     "iopub.status.idle": "2021-09-24T15:41:31.573710Z",
     "shell.execute_reply": "2021-09-24T15:41:31.573017Z",
     "shell.execute_reply.started": "2021-09-24T15:41:30.986942Z"
    },
    "tags": []
   },
   "outputs": [],
   "source": [
    "subset_snp_map = snp_map[snp_map[\"UKB_ID\"].isin(snps)][[\"UKB_ID\", \"MGB_ID\"]]"
   ]
  },
  {
   "cell_type": "code",
   "execution_count": 6,
   "id": "74faaa7f-d052-4871-888a-61a1aa2e8890",
   "metadata": {
    "execution": {
     "iopub.execute_input": "2021-09-24T15:41:33.618147Z",
     "iopub.status.busy": "2021-09-24T15:41:33.617870Z",
     "iopub.status.idle": "2021-09-24T15:41:34.213995Z",
     "shell.execute_reply": "2021-09-24T15:41:34.213245Z",
     "shell.execute_reply.started": "2021-09-24T15:41:33.618113Z"
    },
    "tags": []
   },
   "outputs": [],
   "source": [
    "stats = pd.read_csv(\"../../../cagi6-prs/features/baseline_snps-baseline_plus_samples/ibd_age_old/ibd.age.old.train.stats.tsv\", sep=\"\\t\")"
   ]
  },
  {
   "cell_type": "code",
   "execution_count": 7,
   "id": "7a3d3e10-7393-49c8-b206-3d631616396c",
   "metadata": {
    "execution": {
     "iopub.execute_input": "2021-09-24T15:41:34.627059Z",
     "iopub.status.busy": "2021-09-24T15:41:34.626868Z",
     "iopub.status.idle": "2021-09-24T15:41:35.014387Z",
     "shell.execute_reply": "2021-09-24T15:41:35.013631Z",
     "shell.execute_reply.started": "2021-09-24T15:41:34.627035Z"
    },
    "tags": []
   },
   "outputs": [],
   "source": [
    "subset_stats = stats[stats[\"0\"].isin(snps)]"
   ]
  },
  {
   "cell_type": "code",
   "execution_count": 8,
   "id": "283bdd47-ee1d-4964-8f5c-50903e0a70c8",
   "metadata": {
    "execution": {
     "iopub.execute_input": "2021-09-24T15:41:35.634338Z",
     "iopub.status.busy": "2021-09-24T15:41:35.634029Z",
     "iopub.status.idle": "2021-09-24T15:41:36.078510Z",
     "shell.execute_reply": "2021-09-24T15:41:36.077958Z",
     "shell.execute_reply.started": "2021-09-24T15:41:35.634299Z"
    },
    "tags": []
   },
   "outputs": [],
   "source": [
    "summary_df = pd.merge(subset_snp_map, subset_stats, left_on=\"UKB_ID\", right_on=\"0\")"
   ]
  },
  {
   "cell_type": "code",
   "execution_count": 10,
   "id": "e774eb57-c9ea-4e71-b492-b815c9026fba",
   "metadata": {
    "execution": {
     "iopub.execute_input": "2021-09-24T15:42:45.707420Z",
     "iopub.status.busy": "2021-09-24T15:42:45.707156Z",
     "iopub.status.idle": "2021-09-24T15:42:46.136672Z",
     "shell.execute_reply": "2021-09-24T15:42:46.135950Z",
     "shell.execute_reply.started": "2021-09-24T15:42:45.707385Z"
    },
    "tags": []
   },
   "outputs": [],
   "source": [
    "summary_df[\"expected_allele\"] = summary_df[\"UKB_ID\"].map(allele_mp)"
   ]
  },
  {
   "cell_type": "code",
   "execution_count": 14,
   "id": "13f6c1fc-bc6c-471e-ab0a-57cc17bf7c91",
   "metadata": {
    "execution": {
     "iopub.execute_input": "2021-09-24T15:43:53.959441Z",
     "iopub.status.busy": "2021-09-24T15:43:53.959141Z",
     "iopub.status.idle": "2021-09-24T15:43:54.598304Z",
     "shell.execute_reply": "2021-09-24T15:43:54.597517Z",
     "shell.execute_reply.started": "2021-09-24T15:43:53.959407Z"
    },
    "tags": []
   },
   "outputs": [],
   "source": [
    "final_df = summary_df[[\"UKB_ID\", \"MGB_ID\", \"expected_allele\", \"mean\", \"std\"]]"
   ]
  },
  {
   "cell_type": "code",
   "execution_count": 15,
   "id": "851d5b52-9118-42c6-b488-e6eaca7f556b",
   "metadata": {
    "execution": {
     "iopub.execute_input": "2021-09-24T15:44:16.353470Z",
     "iopub.status.busy": "2021-09-24T15:44:16.353159Z",
     "iopub.status.idle": "2021-09-24T15:44:16.804457Z",
     "shell.execute_reply": "2021-09-24T15:44:16.803740Z",
     "shell.execute_reply.started": "2021-09-24T15:44:16.353435Z"
    }
   },
   "outputs": [],
   "source": [
    "final_df.columns = [\"UKB_ID\", \"MGB_ID\", \"EXPECTED_ALLELE\", \"MEAN\", \"STD\"]"
   ]
  },
  {
   "cell_type": "code",
   "execution_count": 18,
   "id": "0f14f7c8-935d-4b93-b2c0-a58dacc5dad6",
   "metadata": {
    "execution": {
     "iopub.execute_input": "2021-09-24T15:45:18.226092Z",
     "iopub.status.busy": "2021-09-24T15:45:18.225823Z",
     "iopub.status.idle": "2021-09-24T15:45:18.895411Z",
     "shell.execute_reply": "2021-09-24T15:45:18.894774Z",
     "shell.execute_reply.started": "2021-09-24T15:45:18.226060Z"
    },
    "tags": []
   },
   "outputs": [],
   "source": [
    "final_df.to_csv(\"MGB_10_all/ibd.age.old.summary.tsv\", sep=\"\\t\", index=False)"
   ]
  },
  {
   "cell_type": "code",
   "execution_count": 25,
   "id": "30bed729-b9fb-4a17-8d62-48a9e96aebf0",
   "metadata": {
    "execution": {
     "iopub.execute_input": "2021-09-24T15:47:22.629579Z",
     "iopub.status.busy": "2021-09-24T15:47:22.629325Z",
     "iopub.status.idle": "2021-09-24T15:47:23.847050Z",
     "shell.execute_reply": "2021-09-24T15:47:23.846317Z",
     "shell.execute_reply.started": "2021-09-24T15:47:22.629546Z"
    },
    "tags": []
   },
   "outputs": [
    {
     "data": {
      "text/plain": [
       "True"
      ]
     },
     "execution_count": 25,
     "metadata": {},
     "output_type": "execute_result"
    }
   ],
   "source": [
    "final_df[\"MGB_ID\"].isin(bim[1]).all()"
   ]
  },
  {
   "cell_type": "code",
   "execution_count": 27,
   "id": "ba0d9358-2bfd-4df0-b7bb-682ba6432505",
   "metadata": {
    "execution": {
     "iopub.execute_input": "2021-09-24T15:48:31.664027Z",
     "iopub.status.busy": "2021-09-24T15:48:31.663745Z",
     "iopub.status.idle": "2021-09-24T15:48:32.208630Z",
     "shell.execute_reply": "2021-09-24T15:48:32.208001Z",
     "shell.execute_reply.started": "2021-09-24T15:48:31.663994Z"
    },
    "tags": []
   },
   "outputs": [],
   "source": [
    "final_df[\"MGB_ID\"].to_csv(\"MGB_10_all/ibd.age.old.extract.txt\", header=None, index=False)"
   ]
  },
  {
   "cell_type": "markdown",
   "id": "945550e2-0b82-4cf9-8109-c3a614946fa7",
   "metadata": {
    "tags": []
   },
   "source": [
    "## Part 2 - Build a feather file from raw and double check it matches model allele\n",
    "If alleles don't match, do the 2- thing"
   ]
  },
  {
   "cell_type": "code",
   "execution_count": 28,
   "id": "434de644-b46c-4644-b75f-cba31decbe7d",
   "metadata": {
    "execution": {
     "iopub.execute_input": "2021-09-24T15:52:55.584996Z",
     "iopub.status.busy": "2021-09-24T15:52:55.584689Z",
     "iopub.status.idle": "2021-09-24T15:52:56.323473Z",
     "shell.execute_reply": "2021-09-24T15:52:56.322761Z",
     "shell.execute_reply.started": "2021-09-24T15:52:55.584963Z"
    },
    "tags": []
   },
   "outputs": [],
   "source": [
    "raw = pd.read_csv(\"MGB_10_all/MGB_10_all.raw\", delim_whitespace=True)"
   ]
  },
  {
   "cell_type": "code",
   "execution_count": 30,
   "id": "0e310d3e-ab48-40ad-8b29-1aea8af90b47",
   "metadata": {
    "execution": {
     "iopub.execute_input": "2021-09-24T15:53:03.140198Z",
     "iopub.status.busy": "2021-09-24T15:53:03.139933Z",
     "iopub.status.idle": "2021-09-24T15:53:03.679247Z",
     "shell.execute_reply": "2021-09-24T15:53:03.678462Z",
     "shell.execute_reply.started": "2021-09-24T15:53:03.140164Z"
    },
    "tags": []
   },
   "outputs": [],
   "source": [
    "IIDs = raw[\"IID\"]"
   ]
  },
  {
   "cell_type": "code",
   "execution_count": 31,
   "id": "007a43d8-4f55-4a8d-9fad-60d4c86e8d08",
   "metadata": {
    "execution": {
     "iopub.execute_input": "2021-09-24T15:53:07.014888Z",
     "iopub.status.busy": "2021-09-24T15:53:07.014618Z",
     "iopub.status.idle": "2021-09-24T15:53:07.414614Z",
     "shell.execute_reply": "2021-09-24T15:53:07.413982Z",
     "shell.execute_reply.started": "2021-09-24T15:53:07.014854Z"
    },
    "tags": []
   },
   "outputs": [],
   "source": [
    "raw = raw.iloc[:, 6:].T\n",
    "raw.columns = IIDs\n",
    "raw.index.name = \"0\""
   ]
  },
  {
   "cell_type": "code",
   "execution_count": 33,
   "id": "dae3dfb4-b2bc-49b2-9fa0-23b8a23dccfe",
   "metadata": {
    "execution": {
     "iopub.execute_input": "2021-09-24T15:53:48.048330Z",
     "iopub.status.busy": "2021-09-24T15:53:48.048033Z",
     "iopub.status.idle": "2021-09-24T15:53:48.522898Z",
     "shell.execute_reply": "2021-09-24T15:53:48.522105Z",
     "shell.execute_reply.started": "2021-09-24T15:53:48.048297Z"
    }
   },
   "outputs": [],
   "source": [
    "summary = pd.read_csv(\"MGB_10_all/ibd.age.old.summary.tsv\", sep=\"\\t\")"
   ]
  },
  {
   "cell_type": "code",
   "execution_count": 37,
   "id": "9f7a7c56-4fd7-4304-a161-60cf937ad60f",
   "metadata": {
    "execution": {
     "iopub.execute_input": "2021-09-24T15:55:42.648498Z",
     "iopub.status.busy": "2021-09-24T15:55:42.648188Z",
     "iopub.status.idle": "2021-09-24T15:55:43.336049Z",
     "shell.execute_reply": "2021-09-24T15:55:43.335187Z",
     "shell.execute_reply.started": "2021-09-24T15:55:42.648463Z"
    },
    "tags": []
   },
   "outputs": [],
   "source": [
    "snps = [\"_\".join(var.split(\"_\")[:-1]) for var in raw.index]\n",
    "alleles = [var[-1] for var in raw.index]\n",
    "#allele_mp = dict(zip(snps, alleles))"
   ]
  },
  {
   "cell_type": "code",
   "execution_count": 46,
   "id": "e367c80b-4d19-4357-af4e-dee37d46becb",
   "metadata": {
    "execution": {
     "iopub.execute_input": "2021-09-24T15:59:58.041544Z",
     "iopub.status.busy": "2021-09-24T15:59:58.041303Z",
     "iopub.status.idle": "2021-09-24T15:59:58.651134Z",
     "shell.execute_reply": "2021-09-24T15:59:58.650162Z",
     "shell.execute_reply.started": "2021-09-24T15:59:58.041513Z"
    },
    "tags": []
   },
   "outputs": [],
   "source": [
    "raw_summary = pd.DataFrame({\"INDEX\":raw.index, \"MGB_ID\":snps, \"ACTUAL_ALLELE\":alleles})"
   ]
  },
  {
   "cell_type": "code",
   "execution_count": 53,
   "id": "4e01baed-c9ce-44f6-8f66-cad1a05c01ba",
   "metadata": {
    "execution": {
     "iopub.execute_input": "2021-09-24T17:13:24.586919Z",
     "iopub.status.busy": "2021-09-24T17:13:24.586625Z",
     "iopub.status.idle": "2021-09-24T17:13:25.113287Z",
     "shell.execute_reply": "2021-09-24T17:13:25.112174Z",
     "shell.execute_reply.started": "2021-09-24T17:13:24.586886Z"
    },
    "tags": []
   },
   "outputs": [],
   "source": [
    "merged_summary = pd.merge(raw_summary, summary, on=\"MGB_ID\").set_index(\"INDEX\")"
   ]
  },
  {
   "cell_type": "code",
   "execution_count": 58,
   "id": "b38620c2-e2f9-4f28-a4a6-363dc1e9d533",
   "metadata": {
    "execution": {
     "iopub.execute_input": "2021-09-24T17:14:08.500343Z",
     "iopub.status.busy": "2021-09-24T17:14:08.500005Z",
     "iopub.status.idle": "2021-09-24T17:14:08.941198Z",
     "shell.execute_reply": "2021-09-24T17:14:08.940398Z",
     "shell.execute_reply.started": "2021-09-24T17:14:08.500305Z"
    },
    "tags": []
   },
   "outputs": [],
   "source": [
    "ordered_merged_summary = merged_summary.loc[raw.index]"
   ]
  },
  {
   "cell_type": "code",
   "execution_count": 65,
   "id": "fc5e0a03-b034-49f0-b862-9928271996b3",
   "metadata": {
    "execution": {
     "iopub.execute_input": "2021-09-24T17:16:17.391737Z",
     "iopub.status.busy": "2021-09-24T17:16:17.391486Z",
     "iopub.status.idle": "2021-09-24T17:16:17.929456Z",
     "shell.execute_reply": "2021-09-24T17:16:17.928744Z",
     "shell.execute_reply.started": "2021-09-24T17:16:17.391705Z"
    },
    "tags": []
   },
   "outputs": [],
   "source": [
    "mismatched_pos = np.where(ordered_merged_summary[\"ACTUAL_ALLELE\"] != ordered_merged_summary[\"EXPECTED_ALLELE\"])[0]"
   ]
  },
  {
   "cell_type": "code",
   "execution_count": 70,
   "id": "f4525a28-5e45-4ff7-83da-cf0f97d8d5b8",
   "metadata": {
    "execution": {
     "iopub.execute_input": "2021-09-24T17:17:05.559422Z",
     "iopub.status.busy": "2021-09-24T17:17:05.559159Z",
     "iopub.status.idle": "2021-09-24T17:17:06.071931Z",
     "shell.execute_reply": "2021-09-24T17:17:06.071227Z",
     "shell.execute_reply.started": "2021-09-24T17:17:05.559389Z"
    },
    "tags": []
   },
   "outputs": [],
   "source": [
    "raw.iloc[mismatched_pos, :] = 2 - raw.iloc[mismatched_pos, :]"
   ]
  },
  {
   "cell_type": "code",
   "execution_count": 74,
   "id": "45e9914e-2418-4e07-bb0d-cb4262f15cdb",
   "metadata": {
    "execution": {
     "iopub.execute_input": "2021-09-24T17:18:31.797425Z",
     "iopub.status.busy": "2021-09-24T17:18:31.797192Z",
     "iopub.status.idle": "2021-09-24T17:18:32.282205Z",
     "shell.execute_reply": "2021-09-24T17:18:32.281508Z",
     "shell.execute_reply.started": "2021-09-24T17:18:31.797394Z"
    }
   },
   "outputs": [],
   "source": [
    "zraw = raw.subtract(ordered_merged_summary[\"MEAN\"].values, axis=\"index\")\n",
    "zraw = zraw.div(ordered_merged_summary[\"STD\"].values, axis=\"index\")"
   ]
  },
  {
   "cell_type": "code",
   "execution_count": 76,
   "id": "a0159b6c-43fc-43e5-b399-d12fff6d83e0",
   "metadata": {
    "execution": {
     "iopub.execute_input": "2021-09-24T17:28:26.458506Z",
     "iopub.status.busy": "2021-09-24T17:28:26.458258Z",
     "iopub.status.idle": "2021-09-24T17:28:26.914755Z",
     "shell.execute_reply": "2021-09-24T17:28:26.914050Z",
     "shell.execute_reply.started": "2021-09-24T17:28:26.458473Z"
    }
   },
   "outputs": [
    {
     "data": {
      "text/html": [
       "<div>\n",
       "<style scoped>\n",
       "    .dataframe tbody tr th:only-of-type {\n",
       "        vertical-align: middle;\n",
       "    }\n",
       "\n",
       "    .dataframe tbody tr th {\n",
       "        vertical-align: top;\n",
       "    }\n",
       "\n",
       "    .dataframe thead th {\n",
       "        text-align: right;\n",
       "    }\n",
       "</style>\n",
       "<table border=\"1\" class=\"dataframe\">\n",
       "  <thead>\n",
       "    <tr style=\"text-align: right;\">\n",
       "      <th></th>\n",
       "      <th>0</th>\n",
       "      <th>MGB00001</th>\n",
       "      <th>MGB00002</th>\n",
       "      <th>MGB00003</th>\n",
       "      <th>MGB00004</th>\n",
       "      <th>MGB00005</th>\n",
       "      <th>MGB00006</th>\n",
       "      <th>MGB00007</th>\n",
       "      <th>MGB00008</th>\n",
       "      <th>MGB00009</th>\n",
       "      <th>MGB00010</th>\n",
       "    </tr>\n",
       "  </thead>\n",
       "  <tbody>\n",
       "    <tr>\n",
       "      <th>0</th>\n",
       "      <td>1:1776269_C_A_C</td>\n",
       "      <td>-0.175405</td>\n",
       "      <td>-0.175405</td>\n",
       "      <td>-0.175405</td>\n",
       "      <td>-0.175405</td>\n",
       "      <td>-0.175405</td>\n",
       "      <td>-0.175405</td>\n",
       "      <td>-0.175405</td>\n",
       "      <td>-0.175405</td>\n",
       "      <td>-0.175405</td>\n",
       "      <td>-0.175405</td>\n",
       "    </tr>\n",
       "    <tr>\n",
       "      <th>1</th>\n",
       "      <td>1:1781220_T_C_T</td>\n",
       "      <td>-0.584103</td>\n",
       "      <td>-0.584103</td>\n",
       "      <td>-0.584103</td>\n",
       "      <td>-0.584103</td>\n",
       "      <td>-0.584103</td>\n",
       "      <td>-0.584103</td>\n",
       "      <td>-0.584103</td>\n",
       "      <td>-0.584103</td>\n",
       "      <td>-0.584103</td>\n",
       "      <td>-0.584103</td>\n",
       "    </tr>\n",
       "    <tr>\n",
       "      <th>2</th>\n",
       "      <td>1:1796616_G_A_G</td>\n",
       "      <td>-0.596522</td>\n",
       "      <td>-0.596522</td>\n",
       "      <td>-0.596522</td>\n",
       "      <td>-0.596522</td>\n",
       "      <td>-0.596522</td>\n",
       "      <td>-0.596522</td>\n",
       "      <td>-0.596522</td>\n",
       "      <td>-0.596522</td>\n",
       "      <td>-0.596522</td>\n",
       "      <td>-0.596522</td>\n",
       "    </tr>\n",
       "    <tr>\n",
       "      <th>3</th>\n",
       "      <td>1:1860087_C_T_T</td>\n",
       "      <td>0.138641</td>\n",
       "      <td>0.138641</td>\n",
       "      <td>0.138641</td>\n",
       "      <td>0.138641</td>\n",
       "      <td>0.138641</td>\n",
       "      <td>0.138641</td>\n",
       "      <td>0.138641</td>\n",
       "      <td>0.138641</td>\n",
       "      <td>0.138641</td>\n",
       "      <td>0.138641</td>\n",
       "    </tr>\n",
       "    <tr>\n",
       "      <th>4</th>\n",
       "      <td>1:1864526_C_T_T</td>\n",
       "      <td>0.144202</td>\n",
       "      <td>0.144202</td>\n",
       "      <td>0.144202</td>\n",
       "      <td>0.144202</td>\n",
       "      <td>0.144202</td>\n",
       "      <td>0.144202</td>\n",
       "      <td>0.144202</td>\n",
       "      <td>0.144202</td>\n",
       "      <td>0.144202</td>\n",
       "      <td>0.144202</td>\n",
       "    </tr>\n",
       "    <tr>\n",
       "      <th>...</th>\n",
       "      <td>...</td>\n",
       "      <td>...</td>\n",
       "      <td>...</td>\n",
       "      <td>...</td>\n",
       "      <td>...</td>\n",
       "      <td>...</td>\n",
       "      <td>...</td>\n",
       "      <td>...</td>\n",
       "      <td>...</td>\n",
       "      <td>...</td>\n",
       "      <td>...</td>\n",
       "    </tr>\n",
       "    <tr>\n",
       "      <th>5719</th>\n",
       "      <td>22:39774525_A_G_G</td>\n",
       "      <td>0.572654</td>\n",
       "      <td>0.572654</td>\n",
       "      <td>0.572654</td>\n",
       "      <td>0.572654</td>\n",
       "      <td>0.572654</td>\n",
       "      <td>0.572654</td>\n",
       "      <td>0.572654</td>\n",
       "      <td>0.572654</td>\n",
       "      <td>0.572654</td>\n",
       "      <td>0.572654</td>\n",
       "    </tr>\n",
       "    <tr>\n",
       "      <th>5720</th>\n",
       "      <td>22:43561675_T_G_G</td>\n",
       "      <td>0.463974</td>\n",
       "      <td>0.463974</td>\n",
       "      <td>0.463974</td>\n",
       "      <td>0.463974</td>\n",
       "      <td>0.463974</td>\n",
       "      <td>0.463974</td>\n",
       "      <td>0.463974</td>\n",
       "      <td>0.463974</td>\n",
       "      <td>0.463974</td>\n",
       "      <td>0.463974</td>\n",
       "    </tr>\n",
       "    <tr>\n",
       "      <th>5721</th>\n",
       "      <td>22:43561982_C_T_T</td>\n",
       "      <td>0.463861</td>\n",
       "      <td>0.463861</td>\n",
       "      <td>0.463861</td>\n",
       "      <td>0.463861</td>\n",
       "      <td>0.463861</td>\n",
       "      <td>0.463861</td>\n",
       "      <td>0.463861</td>\n",
       "      <td>0.463861</td>\n",
       "      <td>0.463861</td>\n",
       "      <td>0.463861</td>\n",
       "    </tr>\n",
       "    <tr>\n",
       "      <th>5722</th>\n",
       "      <td>22:43562306_A_G_G</td>\n",
       "      <td>0.474088</td>\n",
       "      <td>0.474088</td>\n",
       "      <td>0.474088</td>\n",
       "      <td>0.474088</td>\n",
       "      <td>0.474088</td>\n",
       "      <td>0.474088</td>\n",
       "      <td>0.474088</td>\n",
       "      <td>0.474088</td>\n",
       "      <td>0.474088</td>\n",
       "      <td>0.474088</td>\n",
       "    </tr>\n",
       "    <tr>\n",
       "      <th>5723</th>\n",
       "      <td>22:50428839_T_C_C</td>\n",
       "      <td>-0.025420</td>\n",
       "      <td>-0.025420</td>\n",
       "      <td>-0.025420</td>\n",
       "      <td>-0.025420</td>\n",
       "      <td>-0.025420</td>\n",
       "      <td>-0.025420</td>\n",
       "      <td>-0.025420</td>\n",
       "      <td>-0.025420</td>\n",
       "      <td>-0.025420</td>\n",
       "      <td>-0.025420</td>\n",
       "    </tr>\n",
       "  </tbody>\n",
       "</table>\n",
       "<p>5724 rows × 11 columns</p>\n",
       "</div>"
      ],
      "text/plain": [
       "                      0  MGB00001  MGB00002  MGB00003  MGB00004  MGB00005  \\\n",
       "0       1:1776269_C_A_C -0.175405 -0.175405 -0.175405 -0.175405 -0.175405   \n",
       "1       1:1781220_T_C_T -0.584103 -0.584103 -0.584103 -0.584103 -0.584103   \n",
       "2       1:1796616_G_A_G -0.596522 -0.596522 -0.596522 -0.596522 -0.596522   \n",
       "3       1:1860087_C_T_T  0.138641  0.138641  0.138641  0.138641  0.138641   \n",
       "4       1:1864526_C_T_T  0.144202  0.144202  0.144202  0.144202  0.144202   \n",
       "...                 ...       ...       ...       ...       ...       ...   \n",
       "5719  22:39774525_A_G_G  0.572654  0.572654  0.572654  0.572654  0.572654   \n",
       "5720  22:43561675_T_G_G  0.463974  0.463974  0.463974  0.463974  0.463974   \n",
       "5721  22:43561982_C_T_T  0.463861  0.463861  0.463861  0.463861  0.463861   \n",
       "5722  22:43562306_A_G_G  0.474088  0.474088  0.474088  0.474088  0.474088   \n",
       "5723  22:50428839_T_C_C -0.025420 -0.025420 -0.025420 -0.025420 -0.025420   \n",
       "\n",
       "      MGB00006  MGB00007  MGB00008  MGB00009  MGB00010  \n",
       "0    -0.175405 -0.175405 -0.175405 -0.175405 -0.175405  \n",
       "1    -0.584103 -0.584103 -0.584103 -0.584103 -0.584103  \n",
       "2    -0.596522 -0.596522 -0.596522 -0.596522 -0.596522  \n",
       "3     0.138641  0.138641  0.138641  0.138641  0.138641  \n",
       "4     0.144202  0.144202  0.144202  0.144202  0.144202  \n",
       "...        ...       ...       ...       ...       ...  \n",
       "5719  0.572654  0.572654  0.572654  0.572654  0.572654  \n",
       "5720  0.463974  0.463974  0.463974  0.463974  0.463974  \n",
       "5721  0.463861  0.463861  0.463861  0.463861  0.463861  \n",
       "5722  0.474088  0.474088  0.474088  0.474088  0.474088  \n",
       "5723 -0.025420 -0.025420 -0.025420 -0.025420 -0.025420  \n",
       "\n",
       "[5724 rows x 11 columns]"
      ]
     },
     "execution_count": 76,
     "metadata": {},
     "output_type": "execute_result"
    }
   ],
   "source": [
    "feather.read_feather(\"MGB_10_all/MGB_10_all.zscored.feather\")"
   ]
  },
  {
   "cell_type": "markdown",
   "id": "b2578d5c-e44d-405c-b3e7-80ef62c378fb",
   "metadata": {},
   "source": [
    "#### 100x1000"
   ]
  },
  {
   "cell_type": "code",
   "execution_count": 151,
   "id": "2e25d352-9258-439f-878d-021afe227351",
   "metadata": {
    "execution": {
     "iopub.execute_input": "2021-09-22T06:30:32.666617Z",
     "iopub.status.busy": "2021-09-22T06:30:32.666223Z",
     "iopub.status.idle": "2021-09-22T06:30:33.527765Z",
     "shell.execute_reply": "2021-09-22T06:30:33.527040Z",
     "shell.execute_reply.started": "2021-09-22T06:30:32.666570Z"
    },
    "tags": []
   },
   "outputs": [],
   "source": [
    "feather.write_feather(raw.reset_index(), \"MGB_100_1000.feather\")"
   ]
  },
  {
   "cell_type": "code",
   "execution_count": 152,
   "id": "f3d5e04b-0abd-45be-a4d2-fc30bcd4fa65",
   "metadata": {
    "execution": {
     "iopub.execute_input": "2021-09-22T06:30:34.037442Z",
     "iopub.status.busy": "2021-09-22T06:30:34.037092Z",
     "iopub.status.idle": "2021-09-22T06:30:34.959861Z",
     "shell.execute_reply": "2021-09-22T06:30:34.958973Z",
     "shell.execute_reply.started": "2021-09-22T06:30:34.037396Z"
    },
    "tags": []
   },
   "outputs": [
    {
     "data": {
      "text/html": [
       "<div>\n",
       "<style scoped>\n",
       "    .dataframe tbody tr th:only-of-type {\n",
       "        vertical-align: middle;\n",
       "    }\n",
       "\n",
       "    .dataframe tbody tr th {\n",
       "        vertical-align: top;\n",
       "    }\n",
       "\n",
       "    .dataframe thead th {\n",
       "        text-align: right;\n",
       "    }\n",
       "</style>\n",
       "<table border=\"1\" class=\"dataframe\">\n",
       "  <thead>\n",
       "    <tr style=\"text-align: right;\">\n",
       "      <th></th>\n",
       "      <th>0</th>\n",
       "      <th>MGB00001</th>\n",
       "      <th>MGB00002</th>\n",
       "      <th>MGB00003</th>\n",
       "      <th>MGB00004</th>\n",
       "      <th>MGB00005</th>\n",
       "      <th>MGB00006</th>\n",
       "      <th>MGB00007</th>\n",
       "      <th>MGB00008</th>\n",
       "      <th>MGB00009</th>\n",
       "      <th>...</th>\n",
       "      <th>MGB00091</th>\n",
       "      <th>MGB00092</th>\n",
       "      <th>MGB00093</th>\n",
       "      <th>MGB00094</th>\n",
       "      <th>MGB00095</th>\n",
       "      <th>MGB00096</th>\n",
       "      <th>MGB00097</th>\n",
       "      <th>MGB00098</th>\n",
       "      <th>MGB00099</th>\n",
       "      <th>MGB00100</th>\n",
       "    </tr>\n",
       "  </thead>\n",
       "  <tbody>\n",
       "    <tr>\n",
       "      <th>0</th>\n",
       "      <td>rs3131972_A</td>\n",
       "      <td>1</td>\n",
       "      <td>0</td>\n",
       "      <td>0</td>\n",
       "      <td>2</td>\n",
       "      <td>1</td>\n",
       "      <td>2</td>\n",
       "      <td>1</td>\n",
       "      <td>2</td>\n",
       "      <td>0</td>\n",
       "      <td>...</td>\n",
       "      <td>1</td>\n",
       "      <td>1</td>\n",
       "      <td>1</td>\n",
       "      <td>2</td>\n",
       "      <td>1</td>\n",
       "      <td>0</td>\n",
       "      <td>1</td>\n",
       "      <td>1</td>\n",
       "      <td>0</td>\n",
       "      <td>1</td>\n",
       "    </tr>\n",
       "    <tr>\n",
       "      <th>1</th>\n",
       "      <td>1:840327_G_A_A</td>\n",
       "      <td>1</td>\n",
       "      <td>1</td>\n",
       "      <td>0</td>\n",
       "      <td>1</td>\n",
       "      <td>0</td>\n",
       "      <td>0</td>\n",
       "      <td>2</td>\n",
       "      <td>2</td>\n",
       "      <td>1</td>\n",
       "      <td>...</td>\n",
       "      <td>2</td>\n",
       "      <td>1</td>\n",
       "      <td>0</td>\n",
       "      <td>0</td>\n",
       "      <td>1</td>\n",
       "      <td>2</td>\n",
       "      <td>0</td>\n",
       "      <td>2</td>\n",
       "      <td>0</td>\n",
       "      <td>2</td>\n",
       "    </tr>\n",
       "    <tr>\n",
       "      <th>2</th>\n",
       "      <td>rs4970382_T</td>\n",
       "      <td>2</td>\n",
       "      <td>1</td>\n",
       "      <td>2</td>\n",
       "      <td>1</td>\n",
       "      <td>0</td>\n",
       "      <td>1</td>\n",
       "      <td>2</td>\n",
       "      <td>1</td>\n",
       "      <td>0</td>\n",
       "      <td>...</td>\n",
       "      <td>1</td>\n",
       "      <td>1</td>\n",
       "      <td>1</td>\n",
       "      <td>2</td>\n",
       "      <td>0</td>\n",
       "      <td>1</td>\n",
       "      <td>1</td>\n",
       "      <td>1</td>\n",
       "      <td>1</td>\n",
       "      <td>1</td>\n",
       "    </tr>\n",
       "    <tr>\n",
       "      <th>3</th>\n",
       "      <td>1:846808_C_T_C</td>\n",
       "      <td>1</td>\n",
       "      <td>0</td>\n",
       "      <td>1</td>\n",
       "      <td>0</td>\n",
       "      <td>1</td>\n",
       "      <td>0</td>\n",
       "      <td>0</td>\n",
       "      <td>1</td>\n",
       "      <td>2</td>\n",
       "      <td>...</td>\n",
       "      <td>0</td>\n",
       "      <td>1</td>\n",
       "      <td>0</td>\n",
       "      <td>1</td>\n",
       "      <td>1</td>\n",
       "      <td>1</td>\n",
       "      <td>0</td>\n",
       "      <td>1</td>\n",
       "      <td>0</td>\n",
       "      <td>1</td>\n",
       "    </tr>\n",
       "    <tr>\n",
       "      <th>4</th>\n",
       "      <td>Affx-15447216_C</td>\n",
       "      <td>0</td>\n",
       "      <td>1</td>\n",
       "      <td>0</td>\n",
       "      <td>2</td>\n",
       "      <td>2</td>\n",
       "      <td>1</td>\n",
       "      <td>1</td>\n",
       "      <td>0</td>\n",
       "      <td>1</td>\n",
       "      <td>...</td>\n",
       "      <td>1</td>\n",
       "      <td>1</td>\n",
       "      <td>0</td>\n",
       "      <td>2</td>\n",
       "      <td>2</td>\n",
       "      <td>1</td>\n",
       "      <td>1</td>\n",
       "      <td>1</td>\n",
       "      <td>0</td>\n",
       "      <td>0</td>\n",
       "    </tr>\n",
       "    <tr>\n",
       "      <th>...</th>\n",
       "      <td>...</td>\n",
       "      <td>...</td>\n",
       "      <td>...</td>\n",
       "      <td>...</td>\n",
       "      <td>...</td>\n",
       "      <td>...</td>\n",
       "      <td>...</td>\n",
       "      <td>...</td>\n",
       "      <td>...</td>\n",
       "      <td>...</td>\n",
       "      <td>...</td>\n",
       "      <td>...</td>\n",
       "      <td>...</td>\n",
       "      <td>...</td>\n",
       "      <td>...</td>\n",
       "      <td>...</td>\n",
       "      <td>...</td>\n",
       "      <td>...</td>\n",
       "      <td>...</td>\n",
       "      <td>...</td>\n",
       "      <td>...</td>\n",
       "    </tr>\n",
       "    <tr>\n",
       "      <th>995</th>\n",
       "      <td>1:4496256_C_T_T</td>\n",
       "      <td>2</td>\n",
       "      <td>2</td>\n",
       "      <td>0</td>\n",
       "      <td>1</td>\n",
       "      <td>1</td>\n",
       "      <td>1</td>\n",
       "      <td>0</td>\n",
       "      <td>1</td>\n",
       "      <td>1</td>\n",
       "      <td>...</td>\n",
       "      <td>0</td>\n",
       "      <td>2</td>\n",
       "      <td>1</td>\n",
       "      <td>2</td>\n",
       "      <td>1</td>\n",
       "      <td>1</td>\n",
       "      <td>0</td>\n",
       "      <td>1</td>\n",
       "      <td>1</td>\n",
       "      <td>0</td>\n",
       "    </tr>\n",
       "    <tr>\n",
       "      <th>996</th>\n",
       "      <td>1:4496659_C_T_T</td>\n",
       "      <td>0</td>\n",
       "      <td>1</td>\n",
       "      <td>0</td>\n",
       "      <td>2</td>\n",
       "      <td>0</td>\n",
       "      <td>2</td>\n",
       "      <td>0</td>\n",
       "      <td>1</td>\n",
       "      <td>1</td>\n",
       "      <td>...</td>\n",
       "      <td>2</td>\n",
       "      <td>0</td>\n",
       "      <td>0</td>\n",
       "      <td>1</td>\n",
       "      <td>1</td>\n",
       "      <td>0</td>\n",
       "      <td>1</td>\n",
       "      <td>1</td>\n",
       "      <td>1</td>\n",
       "      <td>0</td>\n",
       "    </tr>\n",
       "    <tr>\n",
       "      <th>997</th>\n",
       "      <td>1:4497097_G_A_A</td>\n",
       "      <td>1</td>\n",
       "      <td>1</td>\n",
       "      <td>1</td>\n",
       "      <td>1</td>\n",
       "      <td>1</td>\n",
       "      <td>1</td>\n",
       "      <td>0</td>\n",
       "      <td>2</td>\n",
       "      <td>2</td>\n",
       "      <td>...</td>\n",
       "      <td>0</td>\n",
       "      <td>1</td>\n",
       "      <td>2</td>\n",
       "      <td>0</td>\n",
       "      <td>2</td>\n",
       "      <td>0</td>\n",
       "      <td>0</td>\n",
       "      <td>1</td>\n",
       "      <td>1</td>\n",
       "      <td>2</td>\n",
       "    </tr>\n",
       "    <tr>\n",
       "      <th>998</th>\n",
       "      <td>1:4497118_C_T_C</td>\n",
       "      <td>1</td>\n",
       "      <td>0</td>\n",
       "      <td>2</td>\n",
       "      <td>0</td>\n",
       "      <td>1</td>\n",
       "      <td>1</td>\n",
       "      <td>1</td>\n",
       "      <td>0</td>\n",
       "      <td>1</td>\n",
       "      <td>...</td>\n",
       "      <td>2</td>\n",
       "      <td>1</td>\n",
       "      <td>1</td>\n",
       "      <td>2</td>\n",
       "      <td>0</td>\n",
       "      <td>0</td>\n",
       "      <td>2</td>\n",
       "      <td>1</td>\n",
       "      <td>1</td>\n",
       "      <td>1</td>\n",
       "    </tr>\n",
       "    <tr>\n",
       "      <th>999</th>\n",
       "      <td>1:4497217_C_T_T</td>\n",
       "      <td>2</td>\n",
       "      <td>1</td>\n",
       "      <td>1</td>\n",
       "      <td>2</td>\n",
       "      <td>1</td>\n",
       "      <td>0</td>\n",
       "      <td>1</td>\n",
       "      <td>1</td>\n",
       "      <td>1</td>\n",
       "      <td>...</td>\n",
       "      <td>1</td>\n",
       "      <td>1</td>\n",
       "      <td>1</td>\n",
       "      <td>0</td>\n",
       "      <td>1</td>\n",
       "      <td>2</td>\n",
       "      <td>0</td>\n",
       "      <td>1</td>\n",
       "      <td>0</td>\n",
       "      <td>1</td>\n",
       "    </tr>\n",
       "  </tbody>\n",
       "</table>\n",
       "<p>1000 rows × 101 columns</p>\n",
       "</div>"
      ],
      "text/plain": [
       "                   0  MGB00001  MGB00002  MGB00003  MGB00004  MGB00005  \\\n",
       "0        rs3131972_A         1         0         0         2         1   \n",
       "1     1:840327_G_A_A         1         1         0         1         0   \n",
       "2        rs4970382_T         2         1         2         1         0   \n",
       "3     1:846808_C_T_C         1         0         1         0         1   \n",
       "4    Affx-15447216_C         0         1         0         2         2   \n",
       "..               ...       ...       ...       ...       ...       ...   \n",
       "995  1:4496256_C_T_T         2         2         0         1         1   \n",
       "996  1:4496659_C_T_T         0         1         0         2         0   \n",
       "997  1:4497097_G_A_A         1         1         1         1         1   \n",
       "998  1:4497118_C_T_C         1         0         2         0         1   \n",
       "999  1:4497217_C_T_T         2         1         1         2         1   \n",
       "\n",
       "     MGB00006  MGB00007  MGB00008  MGB00009  ...  MGB00091  MGB00092  \\\n",
       "0           2         1         2         0  ...         1         1   \n",
       "1           0         2         2         1  ...         2         1   \n",
       "2           1         2         1         0  ...         1         1   \n",
       "3           0         0         1         2  ...         0         1   \n",
       "4           1         1         0         1  ...         1         1   \n",
       "..        ...       ...       ...       ...  ...       ...       ...   \n",
       "995         1         0         1         1  ...         0         2   \n",
       "996         2         0         1         1  ...         2         0   \n",
       "997         1         0         2         2  ...         0         1   \n",
       "998         1         1         0         1  ...         2         1   \n",
       "999         0         1         1         1  ...         1         1   \n",
       "\n",
       "     MGB00093  MGB00094  MGB00095  MGB00096  MGB00097  MGB00098  MGB00099  \\\n",
       "0           1         2         1         0         1         1         0   \n",
       "1           0         0         1         2         0         2         0   \n",
       "2           1         2         0         1         1         1         1   \n",
       "3           0         1         1         1         0         1         0   \n",
       "4           0         2         2         1         1         1         0   \n",
       "..        ...       ...       ...       ...       ...       ...       ...   \n",
       "995         1         2         1         1         0         1         1   \n",
       "996         0         1         1         0         1         1         1   \n",
       "997         2         0         2         0         0         1         1   \n",
       "998         1         2         0         0         2         1         1   \n",
       "999         1         0         1         2         0         1         0   \n",
       "\n",
       "     MGB00100  \n",
       "0           1  \n",
       "1           2  \n",
       "2           1  \n",
       "3           1  \n",
       "4           0  \n",
       "..        ...  \n",
       "995         0  \n",
       "996         0  \n",
       "997         2  \n",
       "998         1  \n",
       "999         1  \n",
       "\n",
       "[1000 rows x 101 columns]"
      ]
     },
     "execution_count": 152,
     "metadata": {},
     "output_type": "execute_result"
    }
   ],
   "source": [
    "feather.read_feather(\"MGB_100_1000.feather\")"
   ]
  },
  {
   "cell_type": "code",
   "execution_count": 193,
   "id": "fee0d24c-1ca8-45d7-8aa4-fc4080ffe501",
   "metadata": {
    "execution": {
     "iopub.execute_input": "2021-09-22T17:17:25.501323Z",
     "iopub.status.busy": "2021-09-22T17:17:25.501054Z",
     "iopub.status.idle": "2021-09-22T17:17:26.173301Z",
     "shell.execute_reply": "2021-09-22T17:17:26.172617Z",
     "shell.execute_reply.started": "2021-09-22T17:17:25.501292Z"
    },
    "tags": []
   },
   "outputs": [],
   "source": [
    "stats = pd.DataFrame(data={\"0\": raw.index[:1000], \"mean\": np.random.normal(size=1000), \"std\": np.random.normal(size=1000)})"
   ]
  },
  {
   "cell_type": "code",
   "execution_count": 194,
   "id": "4a529a65-6e22-440f-b08a-fd9654c4f5f1",
   "metadata": {
    "execution": {
     "iopub.execute_input": "2021-09-22T17:18:26.872163Z",
     "iopub.status.busy": "2021-09-22T17:18:26.871754Z",
     "iopub.status.idle": "2021-09-22T17:18:27.776260Z",
     "shell.execute_reply": "2021-09-22T17:18:27.775394Z",
     "shell.execute_reply.started": "2021-09-22T17:18:26.872117Z"
    }
   },
   "outputs": [],
   "source": [
    "stats.to_csv(\"MGB_100_1000.stats.tsv\", sep=\"\\t\", index=False)"
   ]
  },
  {
   "cell_type": "code",
   "execution_count": 198,
   "id": "738b7adb-2758-4909-b1d9-0da77c5328a9",
   "metadata": {
    "execution": {
     "iopub.execute_input": "2021-09-22T17:19:46.900097Z",
     "iopub.status.busy": "2021-09-22T17:19:46.899846Z",
     "iopub.status.idle": "2021-09-22T17:19:47.580477Z",
     "shell.execute_reply": "2021-09-22T17:19:47.579891Z",
     "shell.execute_reply.started": "2021-09-22T17:19:46.900066Z"
    },
    "tags": []
   },
   "outputs": [],
   "source": [
    "raw = feather.read_feather(\"MGB_100_1000.feather\").set_index(\"0\")"
   ]
  },
  {
   "cell_type": "code",
   "execution_count": 226,
   "id": "82ba71a2-4074-4f98-a0de-bd173eea8d20",
   "metadata": {
    "execution": {
     "iopub.execute_input": "2021-09-22T17:38:10.373140Z",
     "iopub.status.busy": "2021-09-22T17:38:10.372804Z",
     "iopub.status.idle": "2021-09-22T17:38:10.976064Z",
     "shell.execute_reply": "2021-09-22T17:38:10.975401Z",
     "shell.execute_reply.started": "2021-09-22T17:38:10.373104Z"
    },
    "tags": []
   },
   "outputs": [],
   "source": [
    "zraw = raw.subtract(stats[\"mean\"].values, axis=\"index\")\n",
    "zraw = zraw.div(stats[\"std\"].values, axis=\"index\")"
   ]
  },
  {
   "cell_type": "code",
   "execution_count": 236,
   "id": "298fcb47-270a-4830-b1a4-4450c8152c7e",
   "metadata": {
    "execution": {
     "iopub.execute_input": "2021-09-22T17:40:35.403986Z",
     "iopub.status.busy": "2021-09-22T17:40:35.403671Z",
     "iopub.status.idle": "2021-09-22T17:40:36.077091Z",
     "shell.execute_reply": "2021-09-22T17:40:36.076400Z",
     "shell.execute_reply.started": "2021-09-22T17:40:35.403952Z"
    },
    "tags": []
   },
   "outputs": [],
   "source": [
    "feather.write_feather(zraw.reset_index(), \"MGB_100_1000.zscored.feather\")"
   ]
  },
  {
   "cell_type": "code",
   "execution_count": 238,
   "id": "11726af2-ad60-41fd-8530-a08017e7d544",
   "metadata": {
    "execution": {
     "iopub.execute_input": "2021-09-22T17:53:54.941372Z",
     "iopub.status.busy": "2021-09-22T17:53:54.941089Z",
     "iopub.status.idle": "2021-09-22T17:53:55.608698Z",
     "shell.execute_reply": "2021-09-22T17:53:55.607947Z",
     "shell.execute_reply.started": "2021-09-22T17:53:54.941327Z"
    }
   },
   "outputs": [
    {
     "data": {
      "text/html": [
       "<div>\n",
       "<style scoped>\n",
       "    .dataframe tbody tr th:only-of-type {\n",
       "        vertical-align: middle;\n",
       "    }\n",
       "\n",
       "    .dataframe tbody tr th {\n",
       "        vertical-align: top;\n",
       "    }\n",
       "\n",
       "    .dataframe thead th {\n",
       "        text-align: right;\n",
       "    }\n",
       "</style>\n",
       "<table border=\"1\" class=\"dataframe\">\n",
       "  <thead>\n",
       "    <tr style=\"text-align: right;\">\n",
       "      <th></th>\n",
       "      <th>MGB00001</th>\n",
       "      <th>MGB00002</th>\n",
       "      <th>MGB00003</th>\n",
       "      <th>MGB00004</th>\n",
       "      <th>MGB00005</th>\n",
       "      <th>MGB00006</th>\n",
       "      <th>MGB00007</th>\n",
       "      <th>MGB00008</th>\n",
       "      <th>MGB00009</th>\n",
       "      <th>MGB00010</th>\n",
       "      <th>...</th>\n",
       "      <th>MGB00091</th>\n",
       "      <th>MGB00092</th>\n",
       "      <th>MGB00093</th>\n",
       "      <th>MGB00094</th>\n",
       "      <th>MGB00095</th>\n",
       "      <th>MGB00096</th>\n",
       "      <th>MGB00097</th>\n",
       "      <th>MGB00098</th>\n",
       "      <th>MGB00099</th>\n",
       "      <th>MGB00100</th>\n",
       "    </tr>\n",
       "    <tr>\n",
       "      <th>0</th>\n",
       "      <th></th>\n",
       "      <th></th>\n",
       "      <th></th>\n",
       "      <th></th>\n",
       "      <th></th>\n",
       "      <th></th>\n",
       "      <th></th>\n",
       "      <th></th>\n",
       "      <th></th>\n",
       "      <th></th>\n",
       "      <th></th>\n",
       "      <th></th>\n",
       "      <th></th>\n",
       "      <th></th>\n",
       "      <th></th>\n",
       "      <th></th>\n",
       "      <th></th>\n",
       "      <th></th>\n",
       "      <th></th>\n",
       "      <th></th>\n",
       "      <th></th>\n",
       "    </tr>\n",
       "  </thead>\n",
       "  <tbody>\n",
       "    <tr>\n",
       "      <th>rs3131972_A</th>\n",
       "      <td>-0.435274</td>\n",
       "      <td>0.145781</td>\n",
       "      <td>0.145781</td>\n",
       "      <td>-1.016330</td>\n",
       "      <td>-0.435274</td>\n",
       "      <td>-1.016330</td>\n",
       "      <td>-0.435274</td>\n",
       "      <td>-1.016330</td>\n",
       "      <td>0.145781</td>\n",
       "      <td>-1.016330</td>\n",
       "      <td>...</td>\n",
       "      <td>-0.435274</td>\n",
       "      <td>-0.435274</td>\n",
       "      <td>-0.435274</td>\n",
       "      <td>-1.016330</td>\n",
       "      <td>-0.435274</td>\n",
       "      <td>0.145781</td>\n",
       "      <td>-0.435274</td>\n",
       "      <td>-0.435274</td>\n",
       "      <td>0.145781</td>\n",
       "      <td>-0.435274</td>\n",
       "    </tr>\n",
       "    <tr>\n",
       "      <th>1:840327_G_A_A</th>\n",
       "      <td>3.971477</td>\n",
       "      <td>3.971477</td>\n",
       "      <td>0.743766</td>\n",
       "      <td>3.971477</td>\n",
       "      <td>0.743766</td>\n",
       "      <td>0.743766</td>\n",
       "      <td>7.199187</td>\n",
       "      <td>7.199187</td>\n",
       "      <td>3.971477</td>\n",
       "      <td>7.199187</td>\n",
       "      <td>...</td>\n",
       "      <td>7.199187</td>\n",
       "      <td>3.971477</td>\n",
       "      <td>0.743766</td>\n",
       "      <td>0.743766</td>\n",
       "      <td>3.971477</td>\n",
       "      <td>7.199187</td>\n",
       "      <td>0.743766</td>\n",
       "      <td>7.199187</td>\n",
       "      <td>0.743766</td>\n",
       "      <td>7.199187</td>\n",
       "    </tr>\n",
       "    <tr>\n",
       "      <th>rs4970382_T</th>\n",
       "      <td>-3.526750</td>\n",
       "      <td>-2.746769</td>\n",
       "      <td>-3.526750</td>\n",
       "      <td>-2.746769</td>\n",
       "      <td>-1.966788</td>\n",
       "      <td>-2.746769</td>\n",
       "      <td>-3.526750</td>\n",
       "      <td>-2.746769</td>\n",
       "      <td>-1.966788</td>\n",
       "      <td>-3.526750</td>\n",
       "      <td>...</td>\n",
       "      <td>-2.746769</td>\n",
       "      <td>-2.746769</td>\n",
       "      <td>-2.746769</td>\n",
       "      <td>-3.526750</td>\n",
       "      <td>-1.966788</td>\n",
       "      <td>-2.746769</td>\n",
       "      <td>-2.746769</td>\n",
       "      <td>-2.746769</td>\n",
       "      <td>-2.746769</td>\n",
       "      <td>-2.746769</td>\n",
       "    </tr>\n",
       "    <tr>\n",
       "      <th>1:846808_C_T_C</th>\n",
       "      <td>2.722384</td>\n",
       "      <td>1.299216</td>\n",
       "      <td>2.722384</td>\n",
       "      <td>1.299216</td>\n",
       "      <td>2.722384</td>\n",
       "      <td>1.299216</td>\n",
       "      <td>1.299216</td>\n",
       "      <td>2.722384</td>\n",
       "      <td>4.145552</td>\n",
       "      <td>2.722384</td>\n",
       "      <td>...</td>\n",
       "      <td>1.299216</td>\n",
       "      <td>2.722384</td>\n",
       "      <td>1.299216</td>\n",
       "      <td>2.722384</td>\n",
       "      <td>2.722384</td>\n",
       "      <td>2.722384</td>\n",
       "      <td>1.299216</td>\n",
       "      <td>2.722384</td>\n",
       "      <td>1.299216</td>\n",
       "      <td>2.722384</td>\n",
       "    </tr>\n",
       "    <tr>\n",
       "      <th>Affx-15447216_C</th>\n",
       "      <td>5.412217</td>\n",
       "      <td>1.196706</td>\n",
       "      <td>5.412217</td>\n",
       "      <td>-3.018806</td>\n",
       "      <td>-3.018806</td>\n",
       "      <td>1.196706</td>\n",
       "      <td>1.196706</td>\n",
       "      <td>5.412217</td>\n",
       "      <td>1.196706</td>\n",
       "      <td>1.196706</td>\n",
       "      <td>...</td>\n",
       "      <td>1.196706</td>\n",
       "      <td>1.196706</td>\n",
       "      <td>5.412217</td>\n",
       "      <td>-3.018806</td>\n",
       "      <td>-3.018806</td>\n",
       "      <td>1.196706</td>\n",
       "      <td>1.196706</td>\n",
       "      <td>1.196706</td>\n",
       "      <td>5.412217</td>\n",
       "      <td>5.412217</td>\n",
       "    </tr>\n",
       "    <tr>\n",
       "      <th>...</th>\n",
       "      <td>...</td>\n",
       "      <td>...</td>\n",
       "      <td>...</td>\n",
       "      <td>...</td>\n",
       "      <td>...</td>\n",
       "      <td>...</td>\n",
       "      <td>...</td>\n",
       "      <td>...</td>\n",
       "      <td>...</td>\n",
       "      <td>...</td>\n",
       "      <td>...</td>\n",
       "      <td>...</td>\n",
       "      <td>...</td>\n",
       "      <td>...</td>\n",
       "      <td>...</td>\n",
       "      <td>...</td>\n",
       "      <td>...</td>\n",
       "      <td>...</td>\n",
       "      <td>...</td>\n",
       "      <td>...</td>\n",
       "      <td>...</td>\n",
       "    </tr>\n",
       "    <tr>\n",
       "      <th>1:4496256_C_T_T</th>\n",
       "      <td>-1.126842</td>\n",
       "      <td>-1.126842</td>\n",
       "      <td>0.850135</td>\n",
       "      <td>-0.138353</td>\n",
       "      <td>-0.138353</td>\n",
       "      <td>-0.138353</td>\n",
       "      <td>0.850135</td>\n",
       "      <td>-0.138353</td>\n",
       "      <td>-0.138353</td>\n",
       "      <td>-0.138353</td>\n",
       "      <td>...</td>\n",
       "      <td>0.850135</td>\n",
       "      <td>-1.126842</td>\n",
       "      <td>-0.138353</td>\n",
       "      <td>-1.126842</td>\n",
       "      <td>-0.138353</td>\n",
       "      <td>-0.138353</td>\n",
       "      <td>0.850135</td>\n",
       "      <td>-0.138353</td>\n",
       "      <td>-0.138353</td>\n",
       "      <td>0.850135</td>\n",
       "    </tr>\n",
       "    <tr>\n",
       "      <th>1:4496659_C_T_T</th>\n",
       "      <td>-2.201933</td>\n",
       "      <td>-4.277609</td>\n",
       "      <td>-2.201933</td>\n",
       "      <td>-6.353284</td>\n",
       "      <td>-2.201933</td>\n",
       "      <td>-6.353284</td>\n",
       "      <td>-2.201933</td>\n",
       "      <td>-4.277609</td>\n",
       "      <td>-4.277609</td>\n",
       "      <td>-2.201933</td>\n",
       "      <td>...</td>\n",
       "      <td>-6.353284</td>\n",
       "      <td>-2.201933</td>\n",
       "      <td>-2.201933</td>\n",
       "      <td>-4.277609</td>\n",
       "      <td>-4.277609</td>\n",
       "      <td>-2.201933</td>\n",
       "      <td>-4.277609</td>\n",
       "      <td>-4.277609</td>\n",
       "      <td>-4.277609</td>\n",
       "      <td>-2.201933</td>\n",
       "    </tr>\n",
       "    <tr>\n",
       "      <th>1:4497097_G_A_A</th>\n",
       "      <td>-0.295714</td>\n",
       "      <td>-0.295714</td>\n",
       "      <td>-0.295714</td>\n",
       "      <td>-0.295714</td>\n",
       "      <td>-0.295714</td>\n",
       "      <td>-0.295714</td>\n",
       "      <td>0.356939</td>\n",
       "      <td>-0.948368</td>\n",
       "      <td>-0.948368</td>\n",
       "      <td>0.356939</td>\n",
       "      <td>...</td>\n",
       "      <td>0.356939</td>\n",
       "      <td>-0.295714</td>\n",
       "      <td>-0.948368</td>\n",
       "      <td>0.356939</td>\n",
       "      <td>-0.948368</td>\n",
       "      <td>0.356939</td>\n",
       "      <td>0.356939</td>\n",
       "      <td>-0.295714</td>\n",
       "      <td>-0.295714</td>\n",
       "      <td>-0.948368</td>\n",
       "    </tr>\n",
       "    <tr>\n",
       "      <th>1:4497118_C_T_C</th>\n",
       "      <td>-11.307576</td>\n",
       "      <td>-20.985076</td>\n",
       "      <td>-1.630075</td>\n",
       "      <td>-20.985076</td>\n",
       "      <td>-11.307576</td>\n",
       "      <td>-11.307576</td>\n",
       "      <td>-11.307576</td>\n",
       "      <td>-20.985076</td>\n",
       "      <td>-11.307576</td>\n",
       "      <td>-20.985076</td>\n",
       "      <td>...</td>\n",
       "      <td>-1.630075</td>\n",
       "      <td>-11.307576</td>\n",
       "      <td>-11.307576</td>\n",
       "      <td>-1.630075</td>\n",
       "      <td>-20.985076</td>\n",
       "      <td>-20.985076</td>\n",
       "      <td>-1.630075</td>\n",
       "      <td>-11.307576</td>\n",
       "      <td>-11.307576</td>\n",
       "      <td>-11.307576</td>\n",
       "    </tr>\n",
       "    <tr>\n",
       "      <th>1:4497217_C_T_T</th>\n",
       "      <td>-2.608389</td>\n",
       "      <td>-1.265667</td>\n",
       "      <td>-1.265667</td>\n",
       "      <td>-2.608389</td>\n",
       "      <td>-1.265667</td>\n",
       "      <td>0.077056</td>\n",
       "      <td>-1.265667</td>\n",
       "      <td>-1.265667</td>\n",
       "      <td>-1.265667</td>\n",
       "      <td>0.077056</td>\n",
       "      <td>...</td>\n",
       "      <td>-1.265667</td>\n",
       "      <td>-1.265667</td>\n",
       "      <td>-1.265667</td>\n",
       "      <td>0.077056</td>\n",
       "      <td>-1.265667</td>\n",
       "      <td>-2.608389</td>\n",
       "      <td>0.077056</td>\n",
       "      <td>-1.265667</td>\n",
       "      <td>0.077056</td>\n",
       "      <td>-1.265667</td>\n",
       "    </tr>\n",
       "  </tbody>\n",
       "</table>\n",
       "<p>1000 rows × 100 columns</p>\n",
       "</div>"
      ],
      "text/plain": [
       "                  MGB00001   MGB00002  MGB00003   MGB00004   MGB00005  \\\n",
       "0                                                                       \n",
       "rs3131972_A      -0.435274   0.145781  0.145781  -1.016330  -0.435274   \n",
       "1:840327_G_A_A    3.971477   3.971477  0.743766   3.971477   0.743766   \n",
       "rs4970382_T      -3.526750  -2.746769 -3.526750  -2.746769  -1.966788   \n",
       "1:846808_C_T_C    2.722384   1.299216  2.722384   1.299216   2.722384   \n",
       "Affx-15447216_C   5.412217   1.196706  5.412217  -3.018806  -3.018806   \n",
       "...                    ...        ...       ...        ...        ...   \n",
       "1:4496256_C_T_T  -1.126842  -1.126842  0.850135  -0.138353  -0.138353   \n",
       "1:4496659_C_T_T  -2.201933  -4.277609 -2.201933  -6.353284  -2.201933   \n",
       "1:4497097_G_A_A  -0.295714  -0.295714 -0.295714  -0.295714  -0.295714   \n",
       "1:4497118_C_T_C -11.307576 -20.985076 -1.630075 -20.985076 -11.307576   \n",
       "1:4497217_C_T_T  -2.608389  -1.265667 -1.265667  -2.608389  -1.265667   \n",
       "\n",
       "                  MGB00006   MGB00007   MGB00008   MGB00009   MGB00010  ...  \\\n",
       "0                                                                       ...   \n",
       "rs3131972_A      -1.016330  -0.435274  -1.016330   0.145781  -1.016330  ...   \n",
       "1:840327_G_A_A    0.743766   7.199187   7.199187   3.971477   7.199187  ...   \n",
       "rs4970382_T      -2.746769  -3.526750  -2.746769  -1.966788  -3.526750  ...   \n",
       "1:846808_C_T_C    1.299216   1.299216   2.722384   4.145552   2.722384  ...   \n",
       "Affx-15447216_C   1.196706   1.196706   5.412217   1.196706   1.196706  ...   \n",
       "...                    ...        ...        ...        ...        ...  ...   \n",
       "1:4496256_C_T_T  -0.138353   0.850135  -0.138353  -0.138353  -0.138353  ...   \n",
       "1:4496659_C_T_T  -6.353284  -2.201933  -4.277609  -4.277609  -2.201933  ...   \n",
       "1:4497097_G_A_A  -0.295714   0.356939  -0.948368  -0.948368   0.356939  ...   \n",
       "1:4497118_C_T_C -11.307576 -11.307576 -20.985076 -11.307576 -20.985076  ...   \n",
       "1:4497217_C_T_T   0.077056  -1.265667  -1.265667  -1.265667   0.077056  ...   \n",
       "\n",
       "                 MGB00091   MGB00092   MGB00093  MGB00094   MGB00095  \\\n",
       "0                                                                      \n",
       "rs3131972_A     -0.435274  -0.435274  -0.435274 -1.016330  -0.435274   \n",
       "1:840327_G_A_A   7.199187   3.971477   0.743766  0.743766   3.971477   \n",
       "rs4970382_T     -2.746769  -2.746769  -2.746769 -3.526750  -1.966788   \n",
       "1:846808_C_T_C   1.299216   2.722384   1.299216  2.722384   2.722384   \n",
       "Affx-15447216_C  1.196706   1.196706   5.412217 -3.018806  -3.018806   \n",
       "...                   ...        ...        ...       ...        ...   \n",
       "1:4496256_C_T_T  0.850135  -1.126842  -0.138353 -1.126842  -0.138353   \n",
       "1:4496659_C_T_T -6.353284  -2.201933  -2.201933 -4.277609  -4.277609   \n",
       "1:4497097_G_A_A  0.356939  -0.295714  -0.948368  0.356939  -0.948368   \n",
       "1:4497118_C_T_C -1.630075 -11.307576 -11.307576 -1.630075 -20.985076   \n",
       "1:4497217_C_T_T -1.265667  -1.265667  -1.265667  0.077056  -1.265667   \n",
       "\n",
       "                  MGB00096  MGB00097   MGB00098   MGB00099   MGB00100  \n",
       "0                                                                      \n",
       "rs3131972_A       0.145781 -0.435274  -0.435274   0.145781  -0.435274  \n",
       "1:840327_G_A_A    7.199187  0.743766   7.199187   0.743766   7.199187  \n",
       "rs4970382_T      -2.746769 -2.746769  -2.746769  -2.746769  -2.746769  \n",
       "1:846808_C_T_C    2.722384  1.299216   2.722384   1.299216   2.722384  \n",
       "Affx-15447216_C   1.196706  1.196706   1.196706   5.412217   5.412217  \n",
       "...                    ...       ...        ...        ...        ...  \n",
       "1:4496256_C_T_T  -0.138353  0.850135  -0.138353  -0.138353   0.850135  \n",
       "1:4496659_C_T_T  -2.201933 -4.277609  -4.277609  -4.277609  -2.201933  \n",
       "1:4497097_G_A_A   0.356939  0.356939  -0.295714  -0.295714  -0.948368  \n",
       "1:4497118_C_T_C -20.985076 -1.630075 -11.307576 -11.307576 -11.307576  \n",
       "1:4497217_C_T_T  -2.608389  0.077056  -1.265667   0.077056  -1.265667  \n",
       "\n",
       "[1000 rows x 100 columns]"
      ]
     },
     "execution_count": 238,
     "metadata": {},
     "output_type": "execute_result"
    }
   ],
   "source": [
    "zraw"
   ]
  },
  {
   "cell_type": "code",
   "execution_count": 237,
   "id": "a22addd8-fc5e-4590-9caa-c5c58d9ce5cf",
   "metadata": {
    "execution": {
     "iopub.execute_input": "2021-09-22T17:53:44.945354Z",
     "iopub.status.busy": "2021-09-22T17:53:44.945083Z",
     "iopub.status.idle": "2021-09-22T17:53:45.865989Z",
     "shell.execute_reply": "2021-09-22T17:53:45.865233Z",
     "shell.execute_reply.started": "2021-09-22T17:53:44.945321Z"
    }
   },
   "outputs": [
    {
     "data": {
      "text/html": [
       "<div>\n",
       "<style scoped>\n",
       "    .dataframe tbody tr th:only-of-type {\n",
       "        vertical-align: middle;\n",
       "    }\n",
       "\n",
       "    .dataframe tbody tr th {\n",
       "        vertical-align: top;\n",
       "    }\n",
       "\n",
       "    .dataframe thead th {\n",
       "        text-align: right;\n",
       "    }\n",
       "</style>\n",
       "<table border=\"1\" class=\"dataframe\">\n",
       "  <thead>\n",
       "    <tr style=\"text-align: right;\">\n",
       "      <th></th>\n",
       "      <th>0</th>\n",
       "      <th>MGB00001</th>\n",
       "      <th>MGB00002</th>\n",
       "      <th>MGB00003</th>\n",
       "      <th>MGB00004</th>\n",
       "      <th>MGB00005</th>\n",
       "      <th>MGB00006</th>\n",
       "      <th>MGB00007</th>\n",
       "      <th>MGB00008</th>\n",
       "      <th>MGB00009</th>\n",
       "      <th>...</th>\n",
       "      <th>MGB00091</th>\n",
       "      <th>MGB00092</th>\n",
       "      <th>MGB00093</th>\n",
       "      <th>MGB00094</th>\n",
       "      <th>MGB00095</th>\n",
       "      <th>MGB00096</th>\n",
       "      <th>MGB00097</th>\n",
       "      <th>MGB00098</th>\n",
       "      <th>MGB00099</th>\n",
       "      <th>MGB00100</th>\n",
       "    </tr>\n",
       "  </thead>\n",
       "  <tbody>\n",
       "    <tr>\n",
       "      <th>0</th>\n",
       "      <td>rs3131972_A</td>\n",
       "      <td>-0.435274</td>\n",
       "      <td>0.145781</td>\n",
       "      <td>0.145781</td>\n",
       "      <td>-1.016330</td>\n",
       "      <td>-0.435274</td>\n",
       "      <td>-1.016330</td>\n",
       "      <td>-0.435274</td>\n",
       "      <td>-1.016330</td>\n",
       "      <td>0.145781</td>\n",
       "      <td>...</td>\n",
       "      <td>-0.435274</td>\n",
       "      <td>-0.435274</td>\n",
       "      <td>-0.435274</td>\n",
       "      <td>-1.016330</td>\n",
       "      <td>-0.435274</td>\n",
       "      <td>0.145781</td>\n",
       "      <td>-0.435274</td>\n",
       "      <td>-0.435274</td>\n",
       "      <td>0.145781</td>\n",
       "      <td>-0.435274</td>\n",
       "    </tr>\n",
       "    <tr>\n",
       "      <th>1</th>\n",
       "      <td>1:840327_G_A_A</td>\n",
       "      <td>3.971477</td>\n",
       "      <td>3.971477</td>\n",
       "      <td>0.743766</td>\n",
       "      <td>3.971477</td>\n",
       "      <td>0.743766</td>\n",
       "      <td>0.743766</td>\n",
       "      <td>7.199187</td>\n",
       "      <td>7.199187</td>\n",
       "      <td>3.971477</td>\n",
       "      <td>...</td>\n",
       "      <td>7.199187</td>\n",
       "      <td>3.971477</td>\n",
       "      <td>0.743766</td>\n",
       "      <td>0.743766</td>\n",
       "      <td>3.971477</td>\n",
       "      <td>7.199187</td>\n",
       "      <td>0.743766</td>\n",
       "      <td>7.199187</td>\n",
       "      <td>0.743766</td>\n",
       "      <td>7.199187</td>\n",
       "    </tr>\n",
       "    <tr>\n",
       "      <th>2</th>\n",
       "      <td>rs4970382_T</td>\n",
       "      <td>-3.526750</td>\n",
       "      <td>-2.746769</td>\n",
       "      <td>-3.526750</td>\n",
       "      <td>-2.746769</td>\n",
       "      <td>-1.966788</td>\n",
       "      <td>-2.746769</td>\n",
       "      <td>-3.526750</td>\n",
       "      <td>-2.746769</td>\n",
       "      <td>-1.966788</td>\n",
       "      <td>...</td>\n",
       "      <td>-2.746769</td>\n",
       "      <td>-2.746769</td>\n",
       "      <td>-2.746769</td>\n",
       "      <td>-3.526750</td>\n",
       "      <td>-1.966788</td>\n",
       "      <td>-2.746769</td>\n",
       "      <td>-2.746769</td>\n",
       "      <td>-2.746769</td>\n",
       "      <td>-2.746769</td>\n",
       "      <td>-2.746769</td>\n",
       "    </tr>\n",
       "    <tr>\n",
       "      <th>3</th>\n",
       "      <td>1:846808_C_T_C</td>\n",
       "      <td>2.722384</td>\n",
       "      <td>1.299216</td>\n",
       "      <td>2.722384</td>\n",
       "      <td>1.299216</td>\n",
       "      <td>2.722384</td>\n",
       "      <td>1.299216</td>\n",
       "      <td>1.299216</td>\n",
       "      <td>2.722384</td>\n",
       "      <td>4.145552</td>\n",
       "      <td>...</td>\n",
       "      <td>1.299216</td>\n",
       "      <td>2.722384</td>\n",
       "      <td>1.299216</td>\n",
       "      <td>2.722384</td>\n",
       "      <td>2.722384</td>\n",
       "      <td>2.722384</td>\n",
       "      <td>1.299216</td>\n",
       "      <td>2.722384</td>\n",
       "      <td>1.299216</td>\n",
       "      <td>2.722384</td>\n",
       "    </tr>\n",
       "    <tr>\n",
       "      <th>4</th>\n",
       "      <td>Affx-15447216_C</td>\n",
       "      <td>5.412217</td>\n",
       "      <td>1.196706</td>\n",
       "      <td>5.412217</td>\n",
       "      <td>-3.018806</td>\n",
       "      <td>-3.018806</td>\n",
       "      <td>1.196706</td>\n",
       "      <td>1.196706</td>\n",
       "      <td>5.412217</td>\n",
       "      <td>1.196706</td>\n",
       "      <td>...</td>\n",
       "      <td>1.196706</td>\n",
       "      <td>1.196706</td>\n",
       "      <td>5.412217</td>\n",
       "      <td>-3.018806</td>\n",
       "      <td>-3.018806</td>\n",
       "      <td>1.196706</td>\n",
       "      <td>1.196706</td>\n",
       "      <td>1.196706</td>\n",
       "      <td>5.412217</td>\n",
       "      <td>5.412217</td>\n",
       "    </tr>\n",
       "    <tr>\n",
       "      <th>...</th>\n",
       "      <td>...</td>\n",
       "      <td>...</td>\n",
       "      <td>...</td>\n",
       "      <td>...</td>\n",
       "      <td>...</td>\n",
       "      <td>...</td>\n",
       "      <td>...</td>\n",
       "      <td>...</td>\n",
       "      <td>...</td>\n",
       "      <td>...</td>\n",
       "      <td>...</td>\n",
       "      <td>...</td>\n",
       "      <td>...</td>\n",
       "      <td>...</td>\n",
       "      <td>...</td>\n",
       "      <td>...</td>\n",
       "      <td>...</td>\n",
       "      <td>...</td>\n",
       "      <td>...</td>\n",
       "      <td>...</td>\n",
       "      <td>...</td>\n",
       "    </tr>\n",
       "    <tr>\n",
       "      <th>995</th>\n",
       "      <td>1:4496256_C_T_T</td>\n",
       "      <td>-1.126842</td>\n",
       "      <td>-1.126842</td>\n",
       "      <td>0.850135</td>\n",
       "      <td>-0.138353</td>\n",
       "      <td>-0.138353</td>\n",
       "      <td>-0.138353</td>\n",
       "      <td>0.850135</td>\n",
       "      <td>-0.138353</td>\n",
       "      <td>-0.138353</td>\n",
       "      <td>...</td>\n",
       "      <td>0.850135</td>\n",
       "      <td>-1.126842</td>\n",
       "      <td>-0.138353</td>\n",
       "      <td>-1.126842</td>\n",
       "      <td>-0.138353</td>\n",
       "      <td>-0.138353</td>\n",
       "      <td>0.850135</td>\n",
       "      <td>-0.138353</td>\n",
       "      <td>-0.138353</td>\n",
       "      <td>0.850135</td>\n",
       "    </tr>\n",
       "    <tr>\n",
       "      <th>996</th>\n",
       "      <td>1:4496659_C_T_T</td>\n",
       "      <td>-2.201933</td>\n",
       "      <td>-4.277609</td>\n",
       "      <td>-2.201933</td>\n",
       "      <td>-6.353284</td>\n",
       "      <td>-2.201933</td>\n",
       "      <td>-6.353284</td>\n",
       "      <td>-2.201933</td>\n",
       "      <td>-4.277609</td>\n",
       "      <td>-4.277609</td>\n",
       "      <td>...</td>\n",
       "      <td>-6.353284</td>\n",
       "      <td>-2.201933</td>\n",
       "      <td>-2.201933</td>\n",
       "      <td>-4.277609</td>\n",
       "      <td>-4.277609</td>\n",
       "      <td>-2.201933</td>\n",
       "      <td>-4.277609</td>\n",
       "      <td>-4.277609</td>\n",
       "      <td>-4.277609</td>\n",
       "      <td>-2.201933</td>\n",
       "    </tr>\n",
       "    <tr>\n",
       "      <th>997</th>\n",
       "      <td>1:4497097_G_A_A</td>\n",
       "      <td>-0.295714</td>\n",
       "      <td>-0.295714</td>\n",
       "      <td>-0.295714</td>\n",
       "      <td>-0.295714</td>\n",
       "      <td>-0.295714</td>\n",
       "      <td>-0.295714</td>\n",
       "      <td>0.356939</td>\n",
       "      <td>-0.948368</td>\n",
       "      <td>-0.948368</td>\n",
       "      <td>...</td>\n",
       "      <td>0.356939</td>\n",
       "      <td>-0.295714</td>\n",
       "      <td>-0.948368</td>\n",
       "      <td>0.356939</td>\n",
       "      <td>-0.948368</td>\n",
       "      <td>0.356939</td>\n",
       "      <td>0.356939</td>\n",
       "      <td>-0.295714</td>\n",
       "      <td>-0.295714</td>\n",
       "      <td>-0.948368</td>\n",
       "    </tr>\n",
       "    <tr>\n",
       "      <th>998</th>\n",
       "      <td>1:4497118_C_T_C</td>\n",
       "      <td>-11.307576</td>\n",
       "      <td>-20.985076</td>\n",
       "      <td>-1.630075</td>\n",
       "      <td>-20.985076</td>\n",
       "      <td>-11.307576</td>\n",
       "      <td>-11.307576</td>\n",
       "      <td>-11.307576</td>\n",
       "      <td>-20.985076</td>\n",
       "      <td>-11.307576</td>\n",
       "      <td>...</td>\n",
       "      <td>-1.630075</td>\n",
       "      <td>-11.307576</td>\n",
       "      <td>-11.307576</td>\n",
       "      <td>-1.630075</td>\n",
       "      <td>-20.985076</td>\n",
       "      <td>-20.985076</td>\n",
       "      <td>-1.630075</td>\n",
       "      <td>-11.307576</td>\n",
       "      <td>-11.307576</td>\n",
       "      <td>-11.307576</td>\n",
       "    </tr>\n",
       "    <tr>\n",
       "      <th>999</th>\n",
       "      <td>1:4497217_C_T_T</td>\n",
       "      <td>-2.608389</td>\n",
       "      <td>-1.265667</td>\n",
       "      <td>-1.265667</td>\n",
       "      <td>-2.608389</td>\n",
       "      <td>-1.265667</td>\n",
       "      <td>0.077056</td>\n",
       "      <td>-1.265667</td>\n",
       "      <td>-1.265667</td>\n",
       "      <td>-1.265667</td>\n",
       "      <td>...</td>\n",
       "      <td>-1.265667</td>\n",
       "      <td>-1.265667</td>\n",
       "      <td>-1.265667</td>\n",
       "      <td>0.077056</td>\n",
       "      <td>-1.265667</td>\n",
       "      <td>-2.608389</td>\n",
       "      <td>0.077056</td>\n",
       "      <td>-1.265667</td>\n",
       "      <td>0.077056</td>\n",
       "      <td>-1.265667</td>\n",
       "    </tr>\n",
       "  </tbody>\n",
       "</table>\n",
       "<p>1000 rows × 101 columns</p>\n",
       "</div>"
      ],
      "text/plain": [
       "                   0   MGB00001   MGB00002  MGB00003   MGB00004   MGB00005  \\\n",
       "0        rs3131972_A  -0.435274   0.145781  0.145781  -1.016330  -0.435274   \n",
       "1     1:840327_G_A_A   3.971477   3.971477  0.743766   3.971477   0.743766   \n",
       "2        rs4970382_T  -3.526750  -2.746769 -3.526750  -2.746769  -1.966788   \n",
       "3     1:846808_C_T_C   2.722384   1.299216  2.722384   1.299216   2.722384   \n",
       "4    Affx-15447216_C   5.412217   1.196706  5.412217  -3.018806  -3.018806   \n",
       "..               ...        ...        ...       ...        ...        ...   \n",
       "995  1:4496256_C_T_T  -1.126842  -1.126842  0.850135  -0.138353  -0.138353   \n",
       "996  1:4496659_C_T_T  -2.201933  -4.277609 -2.201933  -6.353284  -2.201933   \n",
       "997  1:4497097_G_A_A  -0.295714  -0.295714 -0.295714  -0.295714  -0.295714   \n",
       "998  1:4497118_C_T_C -11.307576 -20.985076 -1.630075 -20.985076 -11.307576   \n",
       "999  1:4497217_C_T_T  -2.608389  -1.265667 -1.265667  -2.608389  -1.265667   \n",
       "\n",
       "      MGB00006   MGB00007   MGB00008   MGB00009  ...  MGB00091   MGB00092  \\\n",
       "0    -1.016330  -0.435274  -1.016330   0.145781  ... -0.435274  -0.435274   \n",
       "1     0.743766   7.199187   7.199187   3.971477  ...  7.199187   3.971477   \n",
       "2    -2.746769  -3.526750  -2.746769  -1.966788  ... -2.746769  -2.746769   \n",
       "3     1.299216   1.299216   2.722384   4.145552  ...  1.299216   2.722384   \n",
       "4     1.196706   1.196706   5.412217   1.196706  ...  1.196706   1.196706   \n",
       "..         ...        ...        ...        ...  ...       ...        ...   \n",
       "995  -0.138353   0.850135  -0.138353  -0.138353  ...  0.850135  -1.126842   \n",
       "996  -6.353284  -2.201933  -4.277609  -4.277609  ... -6.353284  -2.201933   \n",
       "997  -0.295714   0.356939  -0.948368  -0.948368  ...  0.356939  -0.295714   \n",
       "998 -11.307576 -11.307576 -20.985076 -11.307576  ... -1.630075 -11.307576   \n",
       "999   0.077056  -1.265667  -1.265667  -1.265667  ... -1.265667  -1.265667   \n",
       "\n",
       "      MGB00093  MGB00094   MGB00095   MGB00096  MGB00097   MGB00098  \\\n",
       "0    -0.435274 -1.016330  -0.435274   0.145781 -0.435274  -0.435274   \n",
       "1     0.743766  0.743766   3.971477   7.199187  0.743766   7.199187   \n",
       "2    -2.746769 -3.526750  -1.966788  -2.746769 -2.746769  -2.746769   \n",
       "3     1.299216  2.722384   2.722384   2.722384  1.299216   2.722384   \n",
       "4     5.412217 -3.018806  -3.018806   1.196706  1.196706   1.196706   \n",
       "..         ...       ...        ...        ...       ...        ...   \n",
       "995  -0.138353 -1.126842  -0.138353  -0.138353  0.850135  -0.138353   \n",
       "996  -2.201933 -4.277609  -4.277609  -2.201933 -4.277609  -4.277609   \n",
       "997  -0.948368  0.356939  -0.948368   0.356939  0.356939  -0.295714   \n",
       "998 -11.307576 -1.630075 -20.985076 -20.985076 -1.630075 -11.307576   \n",
       "999  -1.265667  0.077056  -1.265667  -2.608389  0.077056  -1.265667   \n",
       "\n",
       "      MGB00099   MGB00100  \n",
       "0     0.145781  -0.435274  \n",
       "1     0.743766   7.199187  \n",
       "2    -2.746769  -2.746769  \n",
       "3     1.299216   2.722384  \n",
       "4     5.412217   5.412217  \n",
       "..         ...        ...  \n",
       "995  -0.138353   0.850135  \n",
       "996  -4.277609  -2.201933  \n",
       "997  -0.295714  -0.948368  \n",
       "998 -11.307576 -11.307576  \n",
       "999   0.077056  -1.265667  \n",
       "\n",
       "[1000 rows x 101 columns]"
      ]
     },
     "execution_count": 237,
     "metadata": {},
     "output_type": "execute_result"
    }
   ],
   "source": [
    "feather.read_feather(\"../../test.zscored.feather\")"
   ]
  },
  {
   "cell_type": "markdown",
   "id": "6b5c0b13-8470-4df9-84cd-fa260c23dae9",
   "metadata": {
    "tags": []
   },
   "source": [
    "## Part 3 - Phenotype files for dataloading\n",
    "Build a tsv and an ids file for dataloading"
   ]
  },
  {
   "cell_type": "code",
   "execution_count": 130,
   "id": "bde712d5-246f-4e9f-8017-5b17e887bc76",
   "metadata": {
    "execution": {
     "iopub.execute_input": "2021-09-22T06:27:12.221864Z",
     "iopub.status.busy": "2021-09-22T06:27:12.221594Z",
     "iopub.status.idle": "2021-09-22T06:27:12.599016Z",
     "shell.execute_reply": "2021-09-22T06:27:12.598269Z",
     "shell.execute_reply.started": "2021-09-22T06:27:12.221834Z"
    }
   },
   "outputs": [],
   "source": [
    "tsv = fam.iloc[:100, :].copy()"
   ]
  },
  {
   "cell_type": "code",
   "execution_count": 131,
   "id": "10af867c-5469-45f3-af20-06a03e92840a",
   "metadata": {
    "execution": {
     "iopub.execute_input": "2021-09-22T06:27:13.877310Z",
     "iopub.status.busy": "2021-09-22T06:27:13.877075Z",
     "iopub.status.idle": "2021-09-22T06:27:14.345150Z",
     "shell.execute_reply": "2021-09-22T06:27:14.344465Z",
     "shell.execute_reply.started": "2021-09-22T06:27:13.877282Z"
    },
    "tags": []
   },
   "outputs": [],
   "source": [
    "tsv.columns = [\"FID\", \"IID\", \"PAT\", \"MAT\", \"SEX\", \"PHENOTYPE\"]"
   ]
  },
  {
   "cell_type": "code",
   "execution_count": 132,
   "id": "39be05c8-d7d9-48c1-a64e-ccb8d63115b1",
   "metadata": {
    "execution": {
     "iopub.execute_input": "2021-09-22T06:27:14.781508Z",
     "iopub.status.busy": "2021-09-22T06:27:14.781301Z",
     "iopub.status.idle": "2021-09-22T06:27:15.052346Z",
     "shell.execute_reply": "2021-09-22T06:27:15.051346Z",
     "shell.execute_reply.started": "2021-09-22T06:27:14.781481Z"
    },
    "tags": []
   },
   "outputs": [],
   "source": [
    "tsv[\"AGE\"] = -9"
   ]
  },
  {
   "cell_type": "code",
   "execution_count": 133,
   "id": "43fd8ced-4ec5-4cc6-8e1f-c1eb49da1f9c",
   "metadata": {
    "execution": {
     "iopub.execute_input": "2021-09-22T06:27:15.053796Z",
     "iopub.status.busy": "2021-09-22T06:27:15.053563Z",
     "iopub.status.idle": "2021-09-22T06:27:15.321518Z",
     "shell.execute_reply": "2021-09-22T06:27:15.320843Z",
     "shell.execute_reply.started": "2021-09-22T06:27:15.053768Z"
    },
    "tags": []
   },
   "outputs": [],
   "source": [
    "tsv[\"FH\"] = -9"
   ]
  },
  {
   "cell_type": "code",
   "execution_count": 134,
   "id": "8e044d54-a00c-4c29-87cb-1d769911a7f3",
   "metadata": {
    "execution": {
     "iopub.execute_input": "2021-09-22T06:27:15.790503Z",
     "iopub.status.busy": "2021-09-22T06:27:15.790297Z",
     "iopub.status.idle": "2021-09-22T06:27:16.265206Z",
     "shell.execute_reply": "2021-09-22T06:27:16.264437Z",
     "shell.execute_reply.started": "2021-09-22T06:27:15.790476Z"
    },
    "tags": []
   },
   "outputs": [],
   "source": [
    "tsv[\"ETH\"] = \"EUR\""
   ]
  },
  {
   "cell_type": "code",
   "execution_count": 161,
   "id": "53876735-8aca-4408-8761-c6433980826c",
   "metadata": {
    "execution": {
     "iopub.execute_input": "2021-09-22T06:33:51.686599Z",
     "iopub.status.busy": "2021-09-22T06:33:51.686338Z",
     "iopub.status.idle": "2021-09-22T06:33:52.368187Z",
     "shell.execute_reply": "2021-09-22T06:33:52.367364Z",
     "shell.execute_reply.started": "2021-09-22T06:33:51.686570Z"
    },
    "tags": []
   },
   "outputs": [],
   "source": [
    "tsv.to_csv(\"MGB_100_1000.tsv\", sep=\"\\t\")"
   ]
  },
  {
   "cell_type": "code",
   "execution_count": 138,
   "id": "234f5634-094a-4b2e-96b0-df5c7cd181e9",
   "metadata": {
    "execution": {
     "iopub.execute_input": "2021-09-22T06:27:47.920542Z",
     "iopub.status.busy": "2021-09-22T06:27:47.920270Z",
     "iopub.status.idle": "2021-09-22T06:27:48.225039Z",
     "shell.execute_reply": "2021-09-22T06:27:48.224031Z",
     "shell.execute_reply.started": "2021-09-22T06:27:47.920511Z"
    },
    "tags": []
   },
   "outputs": [],
   "source": [
    "ids = tsv[\"IID\"].values"
   ]
  },
  {
   "cell_type": "code",
   "execution_count": 139,
   "id": "720231e5-0932-4230-b5e9-56fa7d9b40c1",
   "metadata": {
    "execution": {
     "iopub.execute_input": "2021-09-22T06:28:12.282469Z",
     "iopub.status.busy": "2021-09-22T06:28:12.282199Z",
     "iopub.status.idle": "2021-09-22T06:28:12.583717Z",
     "shell.execute_reply": "2021-09-22T06:28:12.583056Z",
     "shell.execute_reply.started": "2021-09-22T06:28:12.282438Z"
    }
   },
   "outputs": [],
   "source": [
    "np.savetxt(\"MGB_100_1000.ids.txt\", ids, fmt=\"%s\")"
   ]
  },
  {
   "cell_type": "markdown",
   "id": "b0d3c9b3-2f1c-47df-9e52-decbf0296ab8",
   "metadata": {
    "tags": [],
    "toc-hr-collapsed": true
   },
   "source": [
    "## Part 5 - Test dataloading"
   ]
  },
  {
   "cell_type": "code",
   "execution_count": 239,
   "id": "87f19991-cd73-4020-a6af-74fa39cbd7ee",
   "metadata": {
    "execution": {
     "iopub.execute_input": "2021-09-22T18:17:37.003198Z",
     "iopub.status.busy": "2021-09-22T18:17:37.002897Z",
     "iopub.status.idle": "2021-09-22T18:17:37.856557Z",
     "shell.execute_reply": "2021-09-22T18:17:37.855734Z",
     "shell.execute_reply.started": "2021-09-22T18:17:37.003159Z"
    },
    "tags": []
   },
   "outputs": [],
   "source": [
    "import sys"
   ]
  },
  {
   "cell_type": "code",
   "execution_count": 240,
   "id": "57bd8fa5-4e7c-4d13-98e8-8236862a7ad5",
   "metadata": {
    "execution": {
     "iopub.execute_input": "2021-09-22T18:17:38.535567Z",
     "iopub.status.busy": "2021-09-22T18:17:38.535379Z",
     "iopub.status.idle": "2021-09-22T18:17:39.158987Z",
     "shell.execute_reply": "2021-09-22T18:17:39.158241Z",
     "shell.execute_reply.started": "2021-09-22T18:17:38.535542Z"
    },
    "tags": []
   },
   "outputs": [],
   "source": [
    "sys.path.append(\"/cellar/users/aklie/cagi6-prs-docker\")"
   ]
  },
  {
   "cell_type": "code",
   "execution_count": 241,
   "id": "e93e26da-f6d6-46c5-aea0-9ae5b9ad5f80",
   "metadata": {
    "execution": {
     "iopub.execute_input": "2021-09-22T18:17:39.160105Z",
     "iopub.status.busy": "2021-09-22T18:17:39.159918Z",
     "iopub.status.idle": "2021-09-22T18:17:39.815502Z",
     "shell.execute_reply": "2021-09-22T18:17:39.814773Z",
     "shell.execute_reply.started": "2021-09-22T18:17:39.160081Z"
    },
    "tags": []
   },
   "outputs": [],
   "source": [
    "import SNPLoader"
   ]
  },
  {
   "cell_type": "code",
   "execution_count": 243,
   "id": "66c3fb19-938c-4e19-aa37-e9ab81b31b28",
   "metadata": {
    "execution": {
     "iopub.execute_input": "2021-09-22T18:18:08.380468Z",
     "iopub.status.busy": "2021-09-22T18:18:08.380212Z",
     "iopub.status.idle": "2021-09-22T18:18:08.983759Z",
     "shell.execute_reply": "2021-09-22T18:18:08.983074Z",
     "shell.execute_reply.started": "2021-09-22T18:18:08.380435Z"
    },
    "tags": []
   },
   "outputs": [],
   "source": [
    "loader = SNPLoader.get_loader(\n",
    "    ids_file=\"../test/MGB_100_1000.ids.txt\",\n",
    "    genotype_file=\"../test/MGB_100_1000.zscored.feather\",\n",
    "    phenotype_file=\"../test/MGB_100_1000.tsv\",\n",
    "    disease_column=\"PHENOTYPE\",\n",
    "    batch_size=100,\n",
    "    shuffle=True,\n",
    "    num_workers=2,\n",
    ")"
   ]
  },
  {
   "cell_type": "code",
   "execution_count": 244,
   "id": "e19b49e6-b8e3-4a92-b8e8-5ec9911f6377",
   "metadata": {
    "execution": {
     "iopub.execute_input": "2021-09-22T18:18:09.832435Z",
     "iopub.status.busy": "2021-09-22T18:18:09.832135Z",
     "iopub.status.idle": "2021-09-22T18:18:10.876399Z",
     "shell.execute_reply": "2021-09-22T18:18:10.875565Z",
     "shell.execute_reply.started": "2021-09-22T18:18:09.832396Z"
    },
    "tags": []
   },
   "outputs": [
    {
     "name": "stdout",
     "output_type": "stream",
     "text": [
      "0\n"
     ]
    }
   ],
   "source": [
    "for batch_num, (snp, pheno, eth, fh) in enumerate(loader):\n",
    "    print(batch_num)"
   ]
  },
  {
   "cell_type": "code",
   "execution_count": 245,
   "id": "3074446e-101b-4e8f-ac22-c7288d80ce94",
   "metadata": {
    "execution": {
     "iopub.execute_input": "2021-09-22T18:18:11.652973Z",
     "iopub.status.busy": "2021-09-22T18:18:11.652748Z",
     "iopub.status.idle": "2021-09-22T18:18:12.296185Z",
     "shell.execute_reply": "2021-09-22T18:18:12.295179Z",
     "shell.execute_reply.started": "2021-09-22T18:18:11.652945Z"
    },
    "tags": []
   },
   "outputs": [
    {
     "data": {
      "text/plain": [
       "(torch.Size([100, 1000]),\n",
       " torch.Size([100, 1]),\n",
       " torch.Size([100, 1]),\n",
       " torch.Size([100, 1]))"
      ]
     },
     "execution_count": 245,
     "metadata": {},
     "output_type": "execute_result"
    }
   ],
   "source": [
    "snp.size(), pheno.size(), eth.size(), fh.size()"
   ]
  },
  {
   "cell_type": "code",
   "execution_count": 251,
   "id": "fcf7681d-d09d-4de4-902b-974f16c5335a",
   "metadata": {
    "execution": {
     "iopub.execute_input": "2021-09-22T18:18:54.856620Z",
     "iopub.status.busy": "2021-09-22T18:18:54.856378Z",
     "iopub.status.idle": "2021-09-22T18:18:55.474231Z",
     "shell.execute_reply": "2021-09-22T18:18:55.473452Z",
     "shell.execute_reply.started": "2021-09-22T18:18:54.856588Z"
    },
    "tags": []
   },
   "outputs": [
    {
     "data": {
      "text/plain": [
       "(array([-1.0163296 , -0.43527448,  0.14578073], dtype=float32),\n",
       " array([15, 65, 20]))"
      ]
     },
     "execution_count": 251,
     "metadata": {},
     "output_type": "execute_result"
    }
   ],
   "source": [
    "np.unique(snp[:, 0], return_counts=True)"
   ]
  },
  {
   "cell_type": "markdown",
   "id": "a23a9292-9b59-462e-9f04-4667b7c1f4d6",
   "metadata": {
    "execution": {
     "iopub.execute_input": "2021-09-08T17:29:42.314098Z",
     "iopub.status.busy": "2021-09-08T17:29:42.313838Z",
     "iopub.status.idle": "2021-09-08T17:29:42.903968Z",
     "shell.execute_reply": "2021-09-08T17:29:42.903216Z",
     "shell.execute_reply.started": "2021-09-08T17:29:42.314069Z"
    },
    "tags": []
   },
   "source": [
    "# Scratch\n",
    "Place for old or testing code"
   ]
  },
  {
   "cell_type": "markdown",
   "id": "ed7ffd88-94c2-45f2-ad87-9f255e8073ff",
   "metadata": {},
   "source": [
    "# References"
   ]
  }
 ],
 "metadata": {
  "kernelspec": {
   "display_name": "Python3 ml_env",
   "language": "python",
   "name": "ml_env"
  },
  "language_info": {
   "codemirror_mode": {
    "name": "ipython",
    "version": 3
   },
   "file_extension": ".py",
   "mimetype": "text/x-python",
   "name": "python",
   "nbconvert_exporter": "python",
   "pygments_lexer": "ipython3",
   "version": "3.8.8"
  }
 },
 "nbformat": 4,
 "nbformat_minor": 5
}
